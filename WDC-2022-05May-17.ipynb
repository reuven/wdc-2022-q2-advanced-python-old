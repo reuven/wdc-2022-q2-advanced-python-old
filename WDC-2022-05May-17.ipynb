{
 "cells": [
  {
   "cell_type": "markdown",
   "metadata": {},
   "source": [
    "# Syllabus\n",
    "\n",
    "1. Data structures\n",
    "    - Basic data structures\n",
    "    - `namedtuple`\n",
    "    - Dictionaries variations: `OrderDict`, `defaultdict`, `Counter`\n",
    "2. Functions\n",
    "    - What happens when we define a function?\n",
    "    - Byte codes and function objects\n",
    "    - Scoping\n",
    "    - Enclosing/nested functions\n",
    "    - Dispatch tables\n",
    "3. Functional programming\n",
    "    - Comprehensions\n",
    "    - Passing functions as arguments to other functions\n",
    "    - `lambda`\n",
    "4. Modules\n",
    "5. Objects\n",
    "    - Classes\n",
    "    - Instances\n",
    "    - Methods\n",
    "    - Attributes (attribute search with ICPO)\n",
    "    - Inheritance\n",
    "    - Operator overloading\n",
    "    - Properties\n",
    "    - Descriptors\n",
    "6. Iterators and generators\n",
    "    - Making classes iterable\n",
    "    - Generator functions\n",
    "    - Generator expressions\n",
    "7. Decorators\n",
    "8. Concurrency\n",
    "    - Threading\n",
    "    - Multiprocessing"
   ]
  },
  {
   "cell_type": "markdown",
   "metadata": {},
   "source": [
    "# Data structures"
   ]
  },
  {
   "cell_type": "code",
   "execution_count": 1,
   "metadata": {},
   "outputs": [
    {
     "data": {
      "text/plain": [
       "int"
      ]
     },
     "execution_count": 1,
     "metadata": {},
     "output_type": "execute_result"
    }
   ],
   "source": [
    "x = 100\n",
    "y = 200\n",
    "\n",
    "type(x)"
   ]
  },
  {
   "cell_type": "code",
   "execution_count": 2,
   "metadata": {},
   "outputs": [
    {
     "data": {
      "text/plain": [
       "int"
      ]
     },
     "execution_count": 2,
     "metadata": {},
     "output_type": "execute_result"
    }
   ],
   "source": [
    "type(y)"
   ]
  },
  {
   "cell_type": "code",
   "execution_count": 3,
   "metadata": {},
   "outputs": [
    {
     "data": {
      "text/plain": [
       "NoneType"
      ]
     },
     "execution_count": 3,
     "metadata": {},
     "output_type": "execute_result"
    }
   ],
   "source": [
    "x = None\n",
    "type(x)"
   ]
  },
  {
   "cell_type": "code",
   "execution_count": 5,
   "metadata": {},
   "outputs": [
    {
     "data": {
      "text/plain": [
       "True"
      ]
     },
     "execution_count": 5,
     "metadata": {},
     "output_type": "execute_result"
    }
   ],
   "source": [
    "x = None\n",
    "y = None\n",
    "\n",
    "# I want to know if x and y are the same\n",
    "\n",
    "x == y     # not Pythonic"
   ]
  },
  {
   "cell_type": "code",
   "execution_count": 7,
   "metadata": {},
   "outputs": [
    {
     "data": {
      "text/plain": [
       "True"
      ]
     },
     "execution_count": 7,
     "metadata": {},
     "output_type": "execute_result"
    }
   ],
   "source": [
    "x is None   # Pythonic "
   ]
  },
  {
   "cell_type": "code",
   "execution_count": 8,
   "metadata": {},
   "outputs": [
    {
     "data": {
      "text/plain": [
       "True"
      ]
     },
     "execution_count": 8,
     "metadata": {},
     "output_type": "execute_result"
    }
   ],
   "source": [
    "y is None"
   ]
  },
  {
   "cell_type": "code",
   "execution_count": 9,
   "metadata": {},
   "outputs": [],
   "source": [
    "# None is a singleton -- how can I know?"
   ]
  },
  {
   "cell_type": "code",
   "execution_count": 10,
   "metadata": {},
   "outputs": [
    {
     "data": {
      "text/plain": [
       "4452465200"
      ]
     },
     "execution_count": 10,
     "metadata": {},
     "output_type": "execute_result"
    }
   ],
   "source": [
    "# every object has an ID number, which we can get by calling id\n",
    "id(None)"
   ]
  },
  {
   "cell_type": "code",
   "execution_count": 11,
   "metadata": {},
   "outputs": [
    {
     "data": {
      "text/plain": [
       "True"
      ]
     },
     "execution_count": 11,
     "metadata": {},
     "output_type": "execute_result"
    }
   ],
   "source": [
    "id(x) == id(y)"
   ]
  },
  {
   "cell_type": "code",
   "execution_count": 12,
   "metadata": {},
   "outputs": [
    {
     "data": {
      "text/plain": [
       "True"
      ]
     },
     "execution_count": 12,
     "metadata": {},
     "output_type": "execute_result"
    }
   ],
   "source": [
    "id(x) == id(None)"
   ]
  },
  {
   "cell_type": "code",
   "execution_count": 13,
   "metadata": {},
   "outputs": [
    {
     "data": {
      "text/plain": [
       "True"
      ]
     },
     "execution_count": 13,
     "metadata": {},
     "output_type": "execute_result"
    }
   ],
   "source": [
    "x is None   # same as id(x) == id(None)"
   ]
  },
  {
   "cell_type": "code",
   "execution_count": 14,
   "metadata": {},
   "outputs": [
    {
     "data": {
      "text/plain": [
       "'0x109633a30'"
      ]
     },
     "execution_count": 14,
     "metadata": {},
     "output_type": "execute_result"
    }
   ],
   "source": [
    "hex(id(x))"
   ]
  },
  {
   "cell_type": "code",
   "execution_count": 15,
   "metadata": {},
   "outputs": [
    {
     "data": {
      "text/plain": [
       "True"
      ]
     },
     "execution_count": 15,
     "metadata": {},
     "output_type": "execute_result"
    }
   ],
   "source": [
    "x = 100\n",
    "y = 100\n",
    "\n",
    "x == y"
   ]
  },
  {
   "cell_type": "code",
   "execution_count": 16,
   "metadata": {},
   "outputs": [
    {
     "data": {
      "text/plain": [
       "True"
      ]
     },
     "execution_count": 16,
     "metadata": {},
     "output_type": "execute_result"
    }
   ],
   "source": [
    "x is y"
   ]
  },
  {
   "cell_type": "code",
   "execution_count": 17,
   "metadata": {},
   "outputs": [
    {
     "data": {
      "text/plain": [
       "True"
      ]
     },
     "execution_count": 17,
     "metadata": {},
     "output_type": "execute_result"
    }
   ],
   "source": [
    "x = 1000\n",
    "y = 1000\n",
    "\n",
    "x == y"
   ]
  },
  {
   "cell_type": "code",
   "execution_count": 18,
   "metadata": {},
   "outputs": [
    {
     "data": {
      "text/plain": [
       "False"
      ]
     },
     "execution_count": 18,
     "metadata": {},
     "output_type": "execute_result"
    }
   ],
   "source": [
    "x is y"
   ]
  },
  {
   "cell_type": "code",
   "execution_count": 19,
   "metadata": {},
   "outputs": [
    {
     "data": {
      "text/plain": [
       "True"
      ]
     },
     "execution_count": 19,
     "metadata": {},
     "output_type": "execute_result"
    }
   ],
   "source": [
    "x = 'abcd'\n",
    "y = 'abcd'\n",
    "\n",
    "x == y"
   ]
  },
  {
   "cell_type": "code",
   "execution_count": 20,
   "metadata": {},
   "outputs": [
    {
     "data": {
      "text/plain": [
       "True"
      ]
     },
     "execution_count": 20,
     "metadata": {},
     "output_type": "execute_result"
    }
   ],
   "source": [
    "x is y"
   ]
  },
  {
   "cell_type": "code",
   "execution_count": 21,
   "metadata": {},
   "outputs": [
    {
     "data": {
      "text/plain": [
       "True"
      ]
     },
     "execution_count": 21,
     "metadata": {},
     "output_type": "execute_result"
    }
   ],
   "source": [
    "x = 'abcd' * 100_000\n",
    "y = 'abcd' * 100_000\n",
    "\n",
    "x == y"
   ]
  },
  {
   "cell_type": "code",
   "execution_count": 22,
   "metadata": {},
   "outputs": [
    {
     "data": {
      "text/plain": [
       "False"
      ]
     },
     "execution_count": 22,
     "metadata": {},
     "output_type": "execute_result"
    }
   ],
   "source": [
    "x is y"
   ]
  },
  {
   "cell_type": "code",
   "execution_count": 23,
   "metadata": {},
   "outputs": [
    {
     "data": {
      "text/plain": [
       "True"
      ]
     },
     "execution_count": 23,
     "metadata": {},
     "output_type": "execute_result"
    }
   ],
   "source": [
    "x = 'a.b'\n",
    "y = 'a.b'\n",
    "\n",
    "x == y"
   ]
  },
  {
   "cell_type": "code",
   "execution_count": 24,
   "metadata": {},
   "outputs": [
    {
     "data": {
      "text/plain": [
       "False"
      ]
     },
     "execution_count": 24,
     "metadata": {},
     "output_type": "execute_result"
    }
   ],
   "source": [
    "x is y"
   ]
  },
  {
   "cell_type": "code",
   "execution_count": 25,
   "metadata": {
    "collapsed": true
   },
   "outputs": [
    {
     "data": {
      "text/plain": [
       "{'__name__': '__main__',\n",
       " '__doc__': 'Automatically created module for IPython interactive environment',\n",
       " '__package__': None,\n",
       " '__loader__': None,\n",
       " '__spec__': None,\n",
       " '__builtin__': <module 'builtins' (built-in)>,\n",
       " '__builtins__': <module 'builtins' (built-in)>,\n",
       " '_ih': ['',\n",
       "  'x = 100\\ny = 200\\n\\ntype(x)',\n",
       "  'type(y)',\n",
       "  'x = None\\ntype(x)',\n",
       "  'x = None\\ny = None\\n\\n# I want to know if x and y are the same\\n\\nx == y',\n",
       "  'x = None\\ny = None\\n\\n# I want to know if x and y are the same\\n\\nx == y     # not Pythonic',\n",
       "  'x is y    # Pythonic ',\n",
       "  'x is None   # Pythonic ',\n",
       "  'y is None',\n",
       "  '# None is a singleton -- how can I know?',\n",
       "  '# every object has an ID number, which we can get by calling id\\nid(None)',\n",
       "  'id(x) == id(y)',\n",
       "  'id(x) == id(None)',\n",
       "  'x is None   # same as id(x) == id(None)',\n",
       "  'hex(id(x))',\n",
       "  'x = 100\\ny = 100\\n\\nx == y',\n",
       "  'x is y',\n",
       "  'x = 1000\\ny = 1000\\n\\nx == y',\n",
       "  'x is y',\n",
       "  \"x = 'abcd'\\ny = 'abcd'\\n\\nx == y\",\n",
       "  'x is y',\n",
       "  \"x = 'abcd' * 100_000\\ny = 'abcd' * 100_000\\n\\nx == y\",\n",
       "  'x is y',\n",
       "  \"x = 'a.b'\\ny = 'a.b'\\n\\nx == y\",\n",
       "  'x is y',\n",
       "  'globals()'],\n",
       " '_oh': {1: int,\n",
       "  2: int,\n",
       "  3: NoneType,\n",
       "  4: True,\n",
       "  5: True,\n",
       "  6: True,\n",
       "  7: True,\n",
       "  8: True,\n",
       "  10: 4452465200,\n",
       "  11: True,\n",
       "  12: True,\n",
       "  13: True,\n",
       "  14: '0x109633a30',\n",
       "  15: True,\n",
       "  16: True,\n",
       "  17: True,\n",
       "  18: False,\n",
       "  19: True,\n",
       "  20: True,\n",
       "  21: True,\n",
       "  22: False,\n",
       "  23: True,\n",
       "  24: False},\n",
       " '_dh': ['/Users/reuven/Courses/Current/WDC-2022-q2-advanced-python'],\n",
       " 'In': ['',\n",
       "  'x = 100\\ny = 200\\n\\ntype(x)',\n",
       "  'type(y)',\n",
       "  'x = None\\ntype(x)',\n",
       "  'x = None\\ny = None\\n\\n# I want to know if x and y are the same\\n\\nx == y',\n",
       "  'x = None\\ny = None\\n\\n# I want to know if x and y are the same\\n\\nx == y     # not Pythonic',\n",
       "  'x is y    # Pythonic ',\n",
       "  'x is None   # Pythonic ',\n",
       "  'y is None',\n",
       "  '# None is a singleton -- how can I know?',\n",
       "  '# every object has an ID number, which we can get by calling id\\nid(None)',\n",
       "  'id(x) == id(y)',\n",
       "  'id(x) == id(None)',\n",
       "  'x is None   # same as id(x) == id(None)',\n",
       "  'hex(id(x))',\n",
       "  'x = 100\\ny = 100\\n\\nx == y',\n",
       "  'x is y',\n",
       "  'x = 1000\\ny = 1000\\n\\nx == y',\n",
       "  'x is y',\n",
       "  \"x = 'abcd'\\ny = 'abcd'\\n\\nx == y\",\n",
       "  'x is y',\n",
       "  \"x = 'abcd' * 100_000\\ny = 'abcd' * 100_000\\n\\nx == y\",\n",
       "  'x is y',\n",
       "  \"x = 'a.b'\\ny = 'a.b'\\n\\nx == y\",\n",
       "  'x is y',\n",
       "  'globals()'],\n",
       " 'Out': {1: int,\n",
       "  2: int,\n",
       "  3: NoneType,\n",
       "  4: True,\n",
       "  5: True,\n",
       "  6: True,\n",
       "  7: True,\n",
       "  8: True,\n",
       "  10: 4452465200,\n",
       "  11: True,\n",
       "  12: True,\n",
       "  13: True,\n",
       "  14: '0x109633a30',\n",
       "  15: True,\n",
       "  16: True,\n",
       "  17: True,\n",
       "  18: False,\n",
       "  19: True,\n",
       "  20: True,\n",
       "  21: True,\n",
       "  22: False,\n",
       "  23: True,\n",
       "  24: False},\n",
       " 'get_ipython': <bound method InteractiveShell.get_ipython of <ipykernel.zmqshell.ZMQInteractiveShell object at 0x10bb0f070>>,\n",
       " 'exit': <IPython.core.autocall.ZMQExitAutocall at 0x10bb0fa30>,\n",
       " 'quit': <IPython.core.autocall.ZMQExitAutocall at 0x10bb0fa30>,\n",
       " '_': False,\n",
       " '__': True,\n",
       " '___': False,\n",
       " '_i': 'x is y',\n",
       " '_ii': \"x = 'a.b'\\ny = 'a.b'\\n\\nx == y\",\n",
       " '_iii': 'x is y',\n",
       " '_i1': 'x = 100\\ny = 200\\n\\ntype(x)',\n",
       " 'x': 'a.b',\n",
       " 'y': 'a.b',\n",
       " '_1': int,\n",
       " '_i2': 'type(y)',\n",
       " '_2': int,\n",
       " '_i3': 'x = None\\ntype(x)',\n",
       " '_3': NoneType,\n",
       " '_i4': 'x = None\\ny = None\\n\\n# I want to know if x and y are the same\\n\\nx == y',\n",
       " '_4': True,\n",
       " '_i5': 'x = None\\ny = None\\n\\n# I want to know if x and y are the same\\n\\nx == y     # not Pythonic',\n",
       " '_5': True,\n",
       " '_i6': 'x is y    # Pythonic ',\n",
       " '_6': True,\n",
       " '_i7': 'x is None   # Pythonic ',\n",
       " '_7': True,\n",
       " '_i8': 'y is None',\n",
       " '_8': True,\n",
       " '_i9': '# None is a singleton -- how can I know?',\n",
       " '_i10': '# every object has an ID number, which we can get by calling id\\nid(None)',\n",
       " '_10': 4452465200,\n",
       " '_i11': 'id(x) == id(y)',\n",
       " '_11': True,\n",
       " '_i12': 'id(x) == id(None)',\n",
       " '_12': True,\n",
       " '_i13': 'x is None   # same as id(x) == id(None)',\n",
       " '_13': True,\n",
       " '_i14': 'hex(id(x))',\n",
       " '_14': '0x109633a30',\n",
       " '_i15': 'x = 100\\ny = 100\\n\\nx == y',\n",
       " '_15': True,\n",
       " '_i16': 'x is y',\n",
       " '_16': True,\n",
       " '_i17': 'x = 1000\\ny = 1000\\n\\nx == y',\n",
       " '_17': True,\n",
       " '_i18': 'x is y',\n",
       " '_18': False,\n",
       " '_i19': \"x = 'abcd'\\ny = 'abcd'\\n\\nx == y\",\n",
       " '_19': True,\n",
       " '_i20': 'x is y',\n",
       " '_20': True,\n",
       " '_i21': \"x = 'abcd' * 100_000\\ny = 'abcd' * 100_000\\n\\nx == y\",\n",
       " '_21': True,\n",
       " '_i22': 'x is y',\n",
       " '_22': False,\n",
       " '_i23': \"x = 'a.b'\\ny = 'a.b'\\n\\nx == y\",\n",
       " '_23': True,\n",
       " '_i24': 'x is y',\n",
       " '_24': False,\n",
       " '_i25': 'globals()'}"
      ]
     },
     "execution_count": 25,
     "metadata": {},
     "output_type": "execute_result"
    }
   ],
   "source": [
    "globals()"
   ]
  },
  {
   "cell_type": "code",
   "execution_count": 26,
   "metadata": {},
   "outputs": [
    {
     "data": {
      "text/plain": [
       "24"
      ]
     },
     "execution_count": 26,
     "metadata": {},
     "output_type": "execute_result"
    }
   ],
   "source": [
    "# how big is 0?\n",
    "\n",
    "import sys\n",
    "\n",
    "x = 0\n",
    "sys.getsizeof(x)"
   ]
  },
  {
   "cell_type": "code",
   "execution_count": null,
   "metadata": {},
   "outputs": [],
   "source": []
  }
 ],
 "metadata": {
  "kernelspec": {
   "display_name": "Python 3 (ipykernel)",
   "language": "python",
   "name": "python3"
  },
  "language_info": {
   "codemirror_mode": {
    "name": "ipython",
    "version": 3
   },
   "file_extension": ".py",
   "mimetype": "text/x-python",
   "name": "python",
   "nbconvert_exporter": "python",
   "pygments_lexer": "ipython3",
   "version": "3.10.4"
  }
 },
 "nbformat": 4,
 "nbformat_minor": 4
}
