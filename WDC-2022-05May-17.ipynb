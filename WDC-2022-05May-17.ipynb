{
 "cells": [
  {
   "cell_type": "markdown",
   "metadata": {},
   "source": [
    "# Syllabus\n",
    "\n",
    "1. Data structures\n",
    "    - Basic data structures\n",
    "    - `namedtuple`\n",
    "    - Dictionaries variations: `OrderDict`, `defaultdict`, `Counter`\n",
    "2. Functions\n",
    "    - What happens when we define a function?\n",
    "    - Byte codes and function objects\n",
    "    - Scoping\n",
    "    - Enclosing/nested functions\n",
    "    - Dispatch tables\n",
    "3. Functional programming\n",
    "    - Comprehensions\n",
    "    - Passing functions as arguments to other functions\n",
    "    - `lambda`\n",
    "4. Modules\n",
    "5. Objects\n",
    "    - Classes\n",
    "    - Instances\n",
    "    - Methods\n",
    "    - Attributes (attribute search with ICPO)\n",
    "    - Inheritance\n",
    "    - Operator overloading\n",
    "    - Properties\n",
    "    - Descriptors\n",
    "6. Iterators and generators\n",
    "    - Making classes iterable\n",
    "    - Generator functions\n",
    "    - Generator expressions\n",
    "7. Decorators\n",
    "8. Concurrency\n",
    "    - Threading\n",
    "    - Multiprocessing"
   ]
  },
  {
   "cell_type": "markdown",
   "metadata": {},
   "source": [
    "# Data structures"
   ]
  },
  {
   "cell_type": "code",
   "execution_count": 1,
   "metadata": {},
   "outputs": [
    {
     "data": {
      "text/plain": [
       "int"
      ]
     },
     "execution_count": 1,
     "metadata": {},
     "output_type": "execute_result"
    }
   ],
   "source": [
    "x = 100\n",
    "y = 200\n",
    "\n",
    "type(x)"
   ]
  },
  {
   "cell_type": "code",
   "execution_count": 2,
   "metadata": {},
   "outputs": [
    {
     "data": {
      "text/plain": [
       "int"
      ]
     },
     "execution_count": 2,
     "metadata": {},
     "output_type": "execute_result"
    }
   ],
   "source": [
    "type(y)"
   ]
  },
  {
   "cell_type": "code",
   "execution_count": 3,
   "metadata": {},
   "outputs": [
    {
     "data": {
      "text/plain": [
       "NoneType"
      ]
     },
     "execution_count": 3,
     "metadata": {},
     "output_type": "execute_result"
    }
   ],
   "source": [
    "x = None\n",
    "type(x)"
   ]
  },
  {
   "cell_type": "code",
   "execution_count": 5,
   "metadata": {},
   "outputs": [
    {
     "data": {
      "text/plain": [
       "True"
      ]
     },
     "execution_count": 5,
     "metadata": {},
     "output_type": "execute_result"
    }
   ],
   "source": [
    "x = None\n",
    "y = None\n",
    "\n",
    "# I want to know if x and y are the same\n",
    "\n",
    "x == y     # not Pythonic"
   ]
  },
  {
   "cell_type": "code",
   "execution_count": null,
   "metadata": {},
   "outputs": [],
   "source": []
  }
 ],
 "metadata": {
  "kernelspec": {
   "display_name": "Python 3 (ipykernel)",
   "language": "python",
   "name": "python3"
  },
  "language_info": {
   "codemirror_mode": {
    "name": "ipython",
    "version": 3
   },
   "file_extension": ".py",
   "mimetype": "text/x-python",
   "name": "python",
   "nbconvert_exporter": "python",
   "pygments_lexer": "ipython3",
   "version": "3.10.4"
  }
 },
 "nbformat": 4,
 "nbformat_minor": 4
}
