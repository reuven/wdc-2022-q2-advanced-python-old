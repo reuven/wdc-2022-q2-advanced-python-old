{
 "cells": [
  {
   "cell_type": "markdown",
   "id": "f840feab",
   "metadata": {},
   "source": [
    "# Agenda\n",
    "\n",
    "1. End of functional programming\n",
    "2. Modules + packages\n",
    "3. Start of objects"
   ]
  },
  {
   "cell_type": "code",
   "execution_count": 1,
   "id": "90589e31",
   "metadata": {},
   "outputs": [
    {
     "data": {
      "text/plain": [
       "['abcd', 'efgh', 'ijkl', 'mnop']"
      ]
     },
     "execution_count": 1,
     "metadata": {},
     "output_type": "execute_result"
    }
   ],
   "source": [
    "s = 'abcd efgh ijkl mnop'\n",
    "\n",
    "s.split(' ')"
   ]
  },
  {
   "cell_type": "code",
   "execution_count": 2,
   "id": "02f1d4fb",
   "metadata": {},
   "outputs": [
    {
     "data": {
      "text/plain": [
       "['ab:cd', 'ef:gh', 'ij:kl', 'mn:op']"
      ]
     },
     "execution_count": 2,
     "metadata": {},
     "output_type": "execute_result"
    }
   ],
   "source": [
    "s = 'ab:cd ef:gh ij:kl mn:op'\n",
    "\n",
    "s.split(' ')"
   ]
  },
  {
   "cell_type": "code",
   "execution_count": 3,
   "id": "3c58bd81",
   "metadata": {},
   "outputs": [
    {
     "data": {
      "text/plain": [
       "['ab', 'cd ef', 'gh ij', 'kl mn', 'op']"
      ]
     },
     "execution_count": 3,
     "metadata": {},
     "output_type": "execute_result"
    }
   ],
   "source": [
    "s.split(':')"
   ]
  },
  {
   "cell_type": "code",
   "execution_count": 5,
   "id": "1fbc9704",
   "metadata": {},
   "outputs": [
    {
     "data": {
      "text/plain": [
       "['ab:cd e', 'gh ij:kl mn:op']"
      ]
     },
     "execution_count": 5,
     "metadata": {},
     "output_type": "execute_result"
    }
   ],
   "source": [
    "# can I split on either space or : ?\n",
    "\n",
    "s.split('f:')"
   ]
  },
  {
   "cell_type": "code",
   "execution_count": 7,
   "id": "9210f10b",
   "metadata": {},
   "outputs": [
    {
     "data": {
      "text/plain": [
       "['ab', 'cd', 'ef', 'gh', 'ij', 'kl', 'mn', 'op']"
      ]
     },
     "execution_count": 7,
     "metadata": {},
     "output_type": "execute_result"
    }
   ],
   "source": [
    "import re\n",
    "re.split('[\\s:]', s)   # here, we tell re.split to use either \\s (any whitespace) or : "
   ]
  },
  {
   "cell_type": "code",
   "execution_count": 8,
   "id": "2d008d95",
   "metadata": {},
   "outputs": [],
   "source": [
    "# RegexpCrashCourse.com "
   ]
  },
  {
   "cell_type": "code",
   "execution_count": 10,
   "id": "9bf62012",
   "metadata": {},
   "outputs": [],
   "source": [
    "def line_to_dict(s):\n",
    "    brand, color, size = s.strip().split('\\t')\n",
    "    \n",
    "    return {'brand':brand,\n",
    "           'color':color,\n",
    "           'size':size}\n",
    "\n",
    "shoes = [line_to_dict(one_line)\n",
    "         for one_line in open('shoe-data.txt')]"
   ]
  },
  {
   "cell_type": "code",
   "execution_count": 11,
   "id": "cb176a3b",
   "metadata": {
    "scrolled": true
   },
   "outputs": [
    {
     "data": {
      "text/plain": [
       "[{'brand': 'Adidas', 'color': 'orange', 'size': '43'},\n",
       " {'brand': 'Nike', 'color': 'black', 'size': '41'},\n",
       " {'brand': 'Adidas', 'color': 'black', 'size': '39'},\n",
       " {'brand': 'New Balance', 'color': 'pink', 'size': '41'},\n",
       " {'brand': 'Nike', 'color': 'white', 'size': '44'},\n",
       " {'brand': 'New Balance', 'color': 'orange', 'size': '38'},\n",
       " {'brand': 'Nike', 'color': 'pink', 'size': '44'},\n",
       " {'brand': 'Adidas', 'color': 'pink', 'size': '44'},\n",
       " {'brand': 'New Balance', 'color': 'orange', 'size': '39'},\n",
       " {'brand': 'New Balance', 'color': 'black', 'size': '43'},\n",
       " {'brand': 'New Balance', 'color': 'orange', 'size': '44'},\n",
       " {'brand': 'Nike', 'color': 'black', 'size': '41'},\n",
       " {'brand': 'Adidas', 'color': 'orange', 'size': '37'},\n",
       " {'brand': 'Adidas', 'color': 'black', 'size': '38'},\n",
       " {'brand': 'Adidas', 'color': 'pink', 'size': '41'},\n",
       " {'brand': 'Adidas', 'color': 'white', 'size': '36'},\n",
       " {'brand': 'Adidas', 'color': 'orange', 'size': '36'},\n",
       " {'brand': 'Nike', 'color': 'pink', 'size': '41'},\n",
       " {'brand': 'Adidas', 'color': 'pink', 'size': '35'},\n",
       " {'brand': 'New Balance', 'color': 'orange', 'size': '37'},\n",
       " {'brand': 'Nike', 'color': 'pink', 'size': '43'},\n",
       " {'brand': 'Nike', 'color': 'black', 'size': '43'},\n",
       " {'brand': 'Nike', 'color': 'black', 'size': '42'},\n",
       " {'brand': 'Nike', 'color': 'black', 'size': '35'},\n",
       " {'brand': 'Adidas', 'color': 'black', 'size': '41'},\n",
       " {'brand': 'New Balance', 'color': 'pink', 'size': '40'},\n",
       " {'brand': 'Adidas', 'color': 'white', 'size': '35'},\n",
       " {'brand': 'New Balance', 'color': 'pink', 'size': '41'},\n",
       " {'brand': 'New Balance', 'color': 'orange', 'size': '41'},\n",
       " {'brand': 'Adidas', 'color': 'orange', 'size': '40'},\n",
       " {'brand': 'New Balance', 'color': 'orange', 'size': '40'},\n",
       " {'brand': 'New Balance', 'color': 'white', 'size': '44'},\n",
       " {'brand': 'New Balance', 'color': 'pink', 'size': '40'},\n",
       " {'brand': 'Nike', 'color': 'black', 'size': '43'},\n",
       " {'brand': 'Nike', 'color': 'pink', 'size': '36'},\n",
       " {'brand': 'New Balance', 'color': 'white', 'size': '39'},\n",
       " {'brand': 'Nike', 'color': 'black', 'size': '42'},\n",
       " {'brand': 'Adidas', 'color': 'black', 'size': '41'},\n",
       " {'brand': 'New Balance', 'color': 'orange', 'size': '40'},\n",
       " {'brand': 'New Balance', 'color': 'black', 'size': '40'},\n",
       " {'brand': 'Nike', 'color': 'white', 'size': '37'},\n",
       " {'brand': 'Adidas', 'color': 'black', 'size': '39'},\n",
       " {'brand': 'Adidas', 'color': 'black', 'size': '40'},\n",
       " {'brand': 'Adidas', 'color': 'orange', 'size': '38'},\n",
       " {'brand': 'New Balance', 'color': 'orange', 'size': '39'},\n",
       " {'brand': 'Nike', 'color': 'black', 'size': '35'},\n",
       " {'brand': 'Adidas', 'color': 'white', 'size': '39'},\n",
       " {'brand': 'Nike', 'color': 'white', 'size': '37'},\n",
       " {'brand': 'Adidas', 'color': 'orange', 'size': '37'},\n",
       " {'brand': 'Adidas', 'color': 'pink', 'size': '35'},\n",
       " {'brand': 'New Balance', 'color': 'orange', 'size': '41'},\n",
       " {'brand': 'Nike', 'color': 'pink', 'size': '44'},\n",
       " {'brand': 'Nike', 'color': 'pink', 'size': '38'},\n",
       " {'brand': 'Adidas', 'color': 'black', 'size': '39'},\n",
       " {'brand': 'New Balance', 'color': 'white', 'size': '35'},\n",
       " {'brand': 'Nike', 'color': 'pink', 'size': '40'},\n",
       " {'brand': 'Nike', 'color': 'white', 'size': '44'},\n",
       " {'brand': 'Nike', 'color': 'orange', 'size': '38'},\n",
       " {'brand': 'Adidas', 'color': 'orange', 'size': '42'},\n",
       " {'brand': 'New Balance', 'color': 'orange', 'size': '43'},\n",
       " {'brand': 'Adidas', 'color': 'pink', 'size': '39'},\n",
       " {'brand': 'Adidas', 'color': 'pink', 'size': '41'},\n",
       " {'brand': 'Adidas', 'color': 'pink', 'size': '39'},\n",
       " {'brand': 'Nike', 'color': 'white', 'size': '37'},\n",
       " {'brand': 'Nike', 'color': 'orange', 'size': '38'},\n",
       " {'brand': 'Adidas', 'color': 'orange', 'size': '39'},\n",
       " {'brand': 'Nike', 'color': 'pink', 'size': '40'},\n",
       " {'brand': 'Adidas', 'color': 'white', 'size': '36'},\n",
       " {'brand': 'Nike', 'color': 'orange', 'size': '40'},\n",
       " {'brand': 'New Balance', 'color': 'pink', 'size': '40'},\n",
       " {'brand': 'New Balance', 'color': 'black', 'size': '40'},\n",
       " {'brand': 'New Balance', 'color': 'pink', 'size': '40'},\n",
       " {'brand': 'Adidas', 'color': 'pink', 'size': '41'},\n",
       " {'brand': 'Nike', 'color': 'pink', 'size': '40'},\n",
       " {'brand': 'Nike', 'color': 'black', 'size': '41'},\n",
       " {'brand': 'Nike', 'color': 'black', 'size': '39'},\n",
       " {'brand': 'New Balance', 'color': 'white', 'size': '38'},\n",
       " {'brand': 'Adidas', 'color': 'black', 'size': '41'},\n",
       " {'brand': 'Nike', 'color': 'orange', 'size': '36'},\n",
       " {'brand': 'Nike', 'color': 'black', 'size': '38'},\n",
       " {'brand': 'New Balance', 'color': 'black', 'size': '40'},\n",
       " {'brand': 'New Balance', 'color': 'pink', 'size': '40'},\n",
       " {'brand': 'Adidas', 'color': 'black', 'size': '42'},\n",
       " {'brand': 'Adidas', 'color': 'white', 'size': '40'},\n",
       " {'brand': 'New Balance', 'color': 'orange', 'size': '38'},\n",
       " {'brand': 'Nike', 'color': 'pink', 'size': '41'},\n",
       " {'brand': 'Adidas', 'color': 'orange', 'size': '37'},\n",
       " {'brand': 'Nike', 'color': 'black', 'size': '44'},\n",
       " {'brand': 'Adidas', 'color': 'pink', 'size': '36'},\n",
       " {'brand': 'Adidas', 'color': 'white', 'size': '35'},\n",
       " {'brand': 'Nike', 'color': 'black', 'size': '38'},\n",
       " {'brand': 'Nike', 'color': 'pink', 'size': '42'},\n",
       " {'brand': 'New Balance', 'color': 'black', 'size': '43'},\n",
       " {'brand': 'Nike', 'color': 'white', 'size': '38'},\n",
       " {'brand': 'New Balance', 'color': 'pink', 'size': '39'},\n",
       " {'brand': 'Nike', 'color': 'orange', 'size': '39'},\n",
       " {'brand': 'New Balance', 'color': 'orange', 'size': '40'},\n",
       " {'brand': 'New Balance', 'color': 'white', 'size': '44'},\n",
       " {'brand': 'Adidas', 'color': 'black', 'size': '42'},\n",
       " {'brand': 'Nike', 'color': 'black', 'size': '35'}]"
      ]
     },
     "execution_count": 11,
     "metadata": {},
     "output_type": "execute_result"
    }
   ],
   "source": [
    "shoes"
   ]
  },
  {
   "cell_type": "code",
   "execution_count": 12,
   "id": "61f39172",
   "metadata": {},
   "outputs": [
    {
     "data": {
      "text/plain": [
       "'Adidas'"
      ]
     },
     "execution_count": 12,
     "metadata": {},
     "output_type": "execute_result"
    }
   ],
   "source": [
    "def by_brand(shoe_dict):\n",
    "    return shoe_dict['brand']\n",
    "\n",
    "by_brand(shoes[0])"
   ]
  },
  {
   "cell_type": "code",
   "execution_count": 13,
   "id": "adee620b",
   "metadata": {
    "scrolled": true
   },
   "outputs": [
    {
     "data": {
      "text/plain": [
       "[{'brand': 'Adidas', 'color': 'orange', 'size': '43'},\n",
       " {'brand': 'Adidas', 'color': 'black', 'size': '39'},\n",
       " {'brand': 'Adidas', 'color': 'pink', 'size': '44'},\n",
       " {'brand': 'Adidas', 'color': 'orange', 'size': '37'},\n",
       " {'brand': 'Adidas', 'color': 'black', 'size': '38'},\n",
       " {'brand': 'Adidas', 'color': 'pink', 'size': '41'},\n",
       " {'brand': 'Adidas', 'color': 'white', 'size': '36'},\n",
       " {'brand': 'Adidas', 'color': 'orange', 'size': '36'},\n",
       " {'brand': 'Adidas', 'color': 'pink', 'size': '35'},\n",
       " {'brand': 'Adidas', 'color': 'black', 'size': '41'},\n",
       " {'brand': 'Adidas', 'color': 'white', 'size': '35'},\n",
       " {'brand': 'Adidas', 'color': 'orange', 'size': '40'},\n",
       " {'brand': 'Adidas', 'color': 'black', 'size': '41'},\n",
       " {'brand': 'Adidas', 'color': 'black', 'size': '39'},\n",
       " {'brand': 'Adidas', 'color': 'black', 'size': '40'},\n",
       " {'brand': 'Adidas', 'color': 'orange', 'size': '38'},\n",
       " {'brand': 'Adidas', 'color': 'white', 'size': '39'},\n",
       " {'brand': 'Adidas', 'color': 'orange', 'size': '37'},\n",
       " {'brand': 'Adidas', 'color': 'pink', 'size': '35'},\n",
       " {'brand': 'Adidas', 'color': 'black', 'size': '39'},\n",
       " {'brand': 'Adidas', 'color': 'orange', 'size': '42'},\n",
       " {'brand': 'Adidas', 'color': 'pink', 'size': '39'},\n",
       " {'brand': 'Adidas', 'color': 'pink', 'size': '41'},\n",
       " {'brand': 'Adidas', 'color': 'pink', 'size': '39'},\n",
       " {'brand': 'Adidas', 'color': 'orange', 'size': '39'},\n",
       " {'brand': 'Adidas', 'color': 'white', 'size': '36'},\n",
       " {'brand': 'Adidas', 'color': 'pink', 'size': '41'},\n",
       " {'brand': 'Adidas', 'color': 'black', 'size': '41'},\n",
       " {'brand': 'Adidas', 'color': 'black', 'size': '42'},\n",
       " {'brand': 'Adidas', 'color': 'white', 'size': '40'},\n",
       " {'brand': 'Adidas', 'color': 'orange', 'size': '37'},\n",
       " {'brand': 'Adidas', 'color': 'pink', 'size': '36'},\n",
       " {'brand': 'Adidas', 'color': 'white', 'size': '35'},\n",
       " {'brand': 'Adidas', 'color': 'black', 'size': '42'},\n",
       " {'brand': 'New Balance', 'color': 'pink', 'size': '41'},\n",
       " {'brand': 'New Balance', 'color': 'orange', 'size': '38'},\n",
       " {'brand': 'New Balance', 'color': 'orange', 'size': '39'},\n",
       " {'brand': 'New Balance', 'color': 'black', 'size': '43'},\n",
       " {'brand': 'New Balance', 'color': 'orange', 'size': '44'},\n",
       " {'brand': 'New Balance', 'color': 'orange', 'size': '37'},\n",
       " {'brand': 'New Balance', 'color': 'pink', 'size': '40'},\n",
       " {'brand': 'New Balance', 'color': 'pink', 'size': '41'},\n",
       " {'brand': 'New Balance', 'color': 'orange', 'size': '41'},\n",
       " {'brand': 'New Balance', 'color': 'orange', 'size': '40'},\n",
       " {'brand': 'New Balance', 'color': 'white', 'size': '44'},\n",
       " {'brand': 'New Balance', 'color': 'pink', 'size': '40'},\n",
       " {'brand': 'New Balance', 'color': 'white', 'size': '39'},\n",
       " {'brand': 'New Balance', 'color': 'orange', 'size': '40'},\n",
       " {'brand': 'New Balance', 'color': 'black', 'size': '40'},\n",
       " {'brand': 'New Balance', 'color': 'orange', 'size': '39'},\n",
       " {'brand': 'New Balance', 'color': 'orange', 'size': '41'},\n",
       " {'brand': 'New Balance', 'color': 'white', 'size': '35'},\n",
       " {'brand': 'New Balance', 'color': 'orange', 'size': '43'},\n",
       " {'brand': 'New Balance', 'color': 'pink', 'size': '40'},\n",
       " {'brand': 'New Balance', 'color': 'black', 'size': '40'},\n",
       " {'brand': 'New Balance', 'color': 'pink', 'size': '40'},\n",
       " {'brand': 'New Balance', 'color': 'white', 'size': '38'},\n",
       " {'brand': 'New Balance', 'color': 'black', 'size': '40'},\n",
       " {'brand': 'New Balance', 'color': 'pink', 'size': '40'},\n",
       " {'brand': 'New Balance', 'color': 'orange', 'size': '38'},\n",
       " {'brand': 'New Balance', 'color': 'black', 'size': '43'},\n",
       " {'brand': 'New Balance', 'color': 'pink', 'size': '39'},\n",
       " {'brand': 'New Balance', 'color': 'orange', 'size': '40'},\n",
       " {'brand': 'New Balance', 'color': 'white', 'size': '44'},\n",
       " {'brand': 'Nike', 'color': 'black', 'size': '41'},\n",
       " {'brand': 'Nike', 'color': 'white', 'size': '44'},\n",
       " {'brand': 'Nike', 'color': 'pink', 'size': '44'},\n",
       " {'brand': 'Nike', 'color': 'black', 'size': '41'},\n",
       " {'brand': 'Nike', 'color': 'pink', 'size': '41'},\n",
       " {'brand': 'Nike', 'color': 'pink', 'size': '43'},\n",
       " {'brand': 'Nike', 'color': 'black', 'size': '43'},\n",
       " {'brand': 'Nike', 'color': 'black', 'size': '42'},\n",
       " {'brand': 'Nike', 'color': 'black', 'size': '35'},\n",
       " {'brand': 'Nike', 'color': 'black', 'size': '43'},\n",
       " {'brand': 'Nike', 'color': 'pink', 'size': '36'},\n",
       " {'brand': 'Nike', 'color': 'black', 'size': '42'},\n",
       " {'brand': 'Nike', 'color': 'white', 'size': '37'},\n",
       " {'brand': 'Nike', 'color': 'black', 'size': '35'},\n",
       " {'brand': 'Nike', 'color': 'white', 'size': '37'},\n",
       " {'brand': 'Nike', 'color': 'pink', 'size': '44'},\n",
       " {'brand': 'Nike', 'color': 'pink', 'size': '38'},\n",
       " {'brand': 'Nike', 'color': 'pink', 'size': '40'},\n",
       " {'brand': 'Nike', 'color': 'white', 'size': '44'},\n",
       " {'brand': 'Nike', 'color': 'orange', 'size': '38'},\n",
       " {'brand': 'Nike', 'color': 'white', 'size': '37'},\n",
       " {'brand': 'Nike', 'color': 'orange', 'size': '38'},\n",
       " {'brand': 'Nike', 'color': 'pink', 'size': '40'},\n",
       " {'brand': 'Nike', 'color': 'orange', 'size': '40'},\n",
       " {'brand': 'Nike', 'color': 'pink', 'size': '40'},\n",
       " {'brand': 'Nike', 'color': 'black', 'size': '41'},\n",
       " {'brand': 'Nike', 'color': 'black', 'size': '39'},\n",
       " {'brand': 'Nike', 'color': 'orange', 'size': '36'},\n",
       " {'brand': 'Nike', 'color': 'black', 'size': '38'},\n",
       " {'brand': 'Nike', 'color': 'pink', 'size': '41'},\n",
       " {'brand': 'Nike', 'color': 'black', 'size': '44'},\n",
       " {'brand': 'Nike', 'color': 'black', 'size': '38'},\n",
       " {'brand': 'Nike', 'color': 'pink', 'size': '42'},\n",
       " {'brand': 'Nike', 'color': 'white', 'size': '38'},\n",
       " {'brand': 'Nike', 'color': 'orange', 'size': '39'},\n",
       " {'brand': 'Nike', 'color': 'black', 'size': '35'}]"
      ]
     },
     "execution_count": 13,
     "metadata": {},
     "output_type": "execute_result"
    }
   ],
   "source": [
    "sorted(shoes, key=by_brand)"
   ]
  },
  {
   "cell_type": "code",
   "execution_count": 19,
   "id": "1cf77028",
   "metadata": {
    "scrolled": true
   },
   "outputs": [
    {
     "data": {
      "text/plain": [
       "[{'brand': 'Adidas', 'color': 'pink', 'size': '35'},\n",
       " {'brand': 'Adidas', 'color': 'white', 'size': '35'},\n",
       " {'brand': 'Adidas', 'color': 'pink', 'size': '35'},\n",
       " {'brand': 'Adidas', 'color': 'white', 'size': '35'},\n",
       " {'brand': 'Adidas', 'color': 'white', 'size': '36'},\n",
       " {'brand': 'Adidas', 'color': 'orange', 'size': '36'},\n",
       " {'brand': 'Adidas', 'color': 'white', 'size': '36'},\n",
       " {'brand': 'Adidas', 'color': 'pink', 'size': '36'},\n",
       " {'brand': 'Adidas', 'color': 'orange', 'size': '37'},\n",
       " {'brand': 'Adidas', 'color': 'orange', 'size': '37'},\n",
       " {'brand': 'Adidas', 'color': 'orange', 'size': '37'},\n",
       " {'brand': 'Adidas', 'color': 'black', 'size': '38'},\n",
       " {'brand': 'Adidas', 'color': 'orange', 'size': '38'},\n",
       " {'brand': 'Adidas', 'color': 'black', 'size': '39'},\n",
       " {'brand': 'Adidas', 'color': 'black', 'size': '39'},\n",
       " {'brand': 'Adidas', 'color': 'white', 'size': '39'},\n",
       " {'brand': 'Adidas', 'color': 'black', 'size': '39'},\n",
       " {'brand': 'Adidas', 'color': 'pink', 'size': '39'},\n",
       " {'brand': 'Adidas', 'color': 'pink', 'size': '39'},\n",
       " {'brand': 'Adidas', 'color': 'orange', 'size': '39'},\n",
       " {'brand': 'Adidas', 'color': 'orange', 'size': '40'},\n",
       " {'brand': 'Adidas', 'color': 'black', 'size': '40'},\n",
       " {'brand': 'Adidas', 'color': 'white', 'size': '40'},\n",
       " {'brand': 'Adidas', 'color': 'pink', 'size': '41'},\n",
       " {'brand': 'Adidas', 'color': 'black', 'size': '41'},\n",
       " {'brand': 'Adidas', 'color': 'black', 'size': '41'},\n",
       " {'brand': 'Adidas', 'color': 'pink', 'size': '41'},\n",
       " {'brand': 'Adidas', 'color': 'pink', 'size': '41'},\n",
       " {'brand': 'Adidas', 'color': 'black', 'size': '41'},\n",
       " {'brand': 'Adidas', 'color': 'orange', 'size': '42'},\n",
       " {'brand': 'Adidas', 'color': 'black', 'size': '42'},\n",
       " {'brand': 'Adidas', 'color': 'black', 'size': '42'},\n",
       " {'brand': 'Adidas', 'color': 'orange', 'size': '43'},\n",
       " {'brand': 'Adidas', 'color': 'pink', 'size': '44'},\n",
       " {'brand': 'New Balance', 'color': 'white', 'size': '35'},\n",
       " {'brand': 'New Balance', 'color': 'orange', 'size': '37'},\n",
       " {'brand': 'New Balance', 'color': 'orange', 'size': '38'},\n",
       " {'brand': 'New Balance', 'color': 'white', 'size': '38'},\n",
       " {'brand': 'New Balance', 'color': 'orange', 'size': '38'},\n",
       " {'brand': 'New Balance', 'color': 'orange', 'size': '39'},\n",
       " {'brand': 'New Balance', 'color': 'white', 'size': '39'},\n",
       " {'brand': 'New Balance', 'color': 'orange', 'size': '39'},\n",
       " {'brand': 'New Balance', 'color': 'pink', 'size': '39'},\n",
       " {'brand': 'New Balance', 'color': 'pink', 'size': '40'},\n",
       " {'brand': 'New Balance', 'color': 'orange', 'size': '40'},\n",
       " {'brand': 'New Balance', 'color': 'pink', 'size': '40'},\n",
       " {'brand': 'New Balance', 'color': 'orange', 'size': '40'},\n",
       " {'brand': 'New Balance', 'color': 'black', 'size': '40'},\n",
       " {'brand': 'New Balance', 'color': 'pink', 'size': '40'},\n",
       " {'brand': 'New Balance', 'color': 'black', 'size': '40'},\n",
       " {'brand': 'New Balance', 'color': 'pink', 'size': '40'},\n",
       " {'brand': 'New Balance', 'color': 'black', 'size': '40'},\n",
       " {'brand': 'New Balance', 'color': 'pink', 'size': '40'},\n",
       " {'brand': 'New Balance', 'color': 'orange', 'size': '40'},\n",
       " {'brand': 'New Balance', 'color': 'pink', 'size': '41'},\n",
       " {'brand': 'New Balance', 'color': 'pink', 'size': '41'},\n",
       " {'brand': 'New Balance', 'color': 'orange', 'size': '41'},\n",
       " {'brand': 'New Balance', 'color': 'orange', 'size': '41'},\n",
       " {'brand': 'New Balance', 'color': 'black', 'size': '43'},\n",
       " {'brand': 'New Balance', 'color': 'orange', 'size': '43'},\n",
       " {'brand': 'New Balance', 'color': 'black', 'size': '43'},\n",
       " {'brand': 'New Balance', 'color': 'orange', 'size': '44'},\n",
       " {'brand': 'New Balance', 'color': 'white', 'size': '44'},\n",
       " {'brand': 'New Balance', 'color': 'white', 'size': '44'},\n",
       " {'brand': 'Nike', 'color': 'black', 'size': '35'},\n",
       " {'brand': 'Nike', 'color': 'black', 'size': '35'},\n",
       " {'brand': 'Nike', 'color': 'black', 'size': '35'},\n",
       " {'brand': 'Nike', 'color': 'pink', 'size': '36'},\n",
       " {'brand': 'Nike', 'color': 'orange', 'size': '36'},\n",
       " {'brand': 'Nike', 'color': 'white', 'size': '37'},\n",
       " {'brand': 'Nike', 'color': 'white', 'size': '37'},\n",
       " {'brand': 'Nike', 'color': 'white', 'size': '37'},\n",
       " {'brand': 'Nike', 'color': 'pink', 'size': '38'},\n",
       " {'brand': 'Nike', 'color': 'orange', 'size': '38'},\n",
       " {'brand': 'Nike', 'color': 'orange', 'size': '38'},\n",
       " {'brand': 'Nike', 'color': 'black', 'size': '38'},\n",
       " {'brand': 'Nike', 'color': 'black', 'size': '38'},\n",
       " {'brand': 'Nike', 'color': 'white', 'size': '38'},\n",
       " {'brand': 'Nike', 'color': 'black', 'size': '39'},\n",
       " {'brand': 'Nike', 'color': 'orange', 'size': '39'},\n",
       " {'brand': 'Nike', 'color': 'pink', 'size': '40'},\n",
       " {'brand': 'Nike', 'color': 'pink', 'size': '40'},\n",
       " {'brand': 'Nike', 'color': 'orange', 'size': '40'},\n",
       " {'brand': 'Nike', 'color': 'pink', 'size': '40'},\n",
       " {'brand': 'Nike', 'color': 'black', 'size': '41'},\n",
       " {'brand': 'Nike', 'color': 'black', 'size': '41'},\n",
       " {'brand': 'Nike', 'color': 'pink', 'size': '41'},\n",
       " {'brand': 'Nike', 'color': 'black', 'size': '41'},\n",
       " {'brand': 'Nike', 'color': 'pink', 'size': '41'},\n",
       " {'brand': 'Nike', 'color': 'black', 'size': '42'},\n",
       " {'brand': 'Nike', 'color': 'black', 'size': '42'},\n",
       " {'brand': 'Nike', 'color': 'pink', 'size': '42'},\n",
       " {'brand': 'Nike', 'color': 'pink', 'size': '43'},\n",
       " {'brand': 'Nike', 'color': 'black', 'size': '43'},\n",
       " {'brand': 'Nike', 'color': 'black', 'size': '43'},\n",
       " {'brand': 'Nike', 'color': 'white', 'size': '44'},\n",
       " {'brand': 'Nike', 'color': 'pink', 'size': '44'},\n",
       " {'brand': 'Nike', 'color': 'pink', 'size': '44'},\n",
       " {'brand': 'Nike', 'color': 'white', 'size': '44'},\n",
       " {'brand': 'Nike', 'color': 'black', 'size': '44'}]"
      ]
     },
     "execution_count": 19,
     "metadata": {},
     "output_type": "execute_result"
    }
   ],
   "source": [
    "def by_brand_and_size(shoe_dict):\n",
    "    return shoe_dict['brand'], shoe_dict['size']\n",
    "\n",
    "sorted(shoes, key=by_brand_and_size)"
   ]
  },
  {
   "cell_type": "code",
   "execution_count": 17,
   "id": "f060e32b",
   "metadata": {},
   "outputs": [],
   "source": [
    "mylist = [[10, 20, 30], [10, 5, 20], [10, 20, 15], [6, 7, 20]]"
   ]
  },
  {
   "cell_type": "code",
   "execution_count": 18,
   "id": "f86e649d",
   "metadata": {},
   "outputs": [
    {
     "data": {
      "text/plain": [
       "[[6, 7, 20], [10, 5, 20], [10, 20, 15], [10, 20, 30]]"
      ]
     },
     "execution_count": 18,
     "metadata": {},
     "output_type": "execute_result"
    }
   ],
   "source": [
    "sorted(mylist)"
   ]
  },
  {
   "cell_type": "code",
   "execution_count": 21,
   "id": "30086179",
   "metadata": {},
   "outputs": [
    {
     "name": "stdout",
     "output_type": "stream",
     "text": [
      "Enter sort field: brand\n"
     ]
    },
    {
     "data": {
      "text/plain": [
       "[{'brand': 'Adidas', 'color': 'orange', 'size': '43'},\n",
       " {'brand': 'Adidas', 'color': 'black', 'size': '39'},\n",
       " {'brand': 'Adidas', 'color': 'pink', 'size': '44'},\n",
       " {'brand': 'Adidas', 'color': 'orange', 'size': '37'},\n",
       " {'brand': 'Adidas', 'color': 'black', 'size': '38'},\n",
       " {'brand': 'Adidas', 'color': 'pink', 'size': '41'},\n",
       " {'brand': 'Adidas', 'color': 'white', 'size': '36'},\n",
       " {'brand': 'Adidas', 'color': 'orange', 'size': '36'},\n",
       " {'brand': 'Adidas', 'color': 'pink', 'size': '35'},\n",
       " {'brand': 'Adidas', 'color': 'black', 'size': '41'},\n",
       " {'brand': 'Adidas', 'color': 'white', 'size': '35'},\n",
       " {'brand': 'Adidas', 'color': 'orange', 'size': '40'},\n",
       " {'brand': 'Adidas', 'color': 'black', 'size': '41'},\n",
       " {'brand': 'Adidas', 'color': 'black', 'size': '39'},\n",
       " {'brand': 'Adidas', 'color': 'black', 'size': '40'},\n",
       " {'brand': 'Adidas', 'color': 'orange', 'size': '38'},\n",
       " {'brand': 'Adidas', 'color': 'white', 'size': '39'},\n",
       " {'brand': 'Adidas', 'color': 'orange', 'size': '37'},\n",
       " {'brand': 'Adidas', 'color': 'pink', 'size': '35'},\n",
       " {'brand': 'Adidas', 'color': 'black', 'size': '39'},\n",
       " {'brand': 'Adidas', 'color': 'orange', 'size': '42'},\n",
       " {'brand': 'Adidas', 'color': 'pink', 'size': '39'},\n",
       " {'brand': 'Adidas', 'color': 'pink', 'size': '41'},\n",
       " {'brand': 'Adidas', 'color': 'pink', 'size': '39'},\n",
       " {'brand': 'Adidas', 'color': 'orange', 'size': '39'},\n",
       " {'brand': 'Adidas', 'color': 'white', 'size': '36'},\n",
       " {'brand': 'Adidas', 'color': 'pink', 'size': '41'},\n",
       " {'brand': 'Adidas', 'color': 'black', 'size': '41'},\n",
       " {'brand': 'Adidas', 'color': 'black', 'size': '42'},\n",
       " {'brand': 'Adidas', 'color': 'white', 'size': '40'},\n",
       " {'brand': 'Adidas', 'color': 'orange', 'size': '37'},\n",
       " {'brand': 'Adidas', 'color': 'pink', 'size': '36'},\n",
       " {'brand': 'Adidas', 'color': 'white', 'size': '35'},\n",
       " {'brand': 'Adidas', 'color': 'black', 'size': '42'},\n",
       " {'brand': 'New Balance', 'color': 'pink', 'size': '41'},\n",
       " {'brand': 'New Balance', 'color': 'orange', 'size': '38'},\n",
       " {'brand': 'New Balance', 'color': 'orange', 'size': '39'},\n",
       " {'brand': 'New Balance', 'color': 'black', 'size': '43'},\n",
       " {'brand': 'New Balance', 'color': 'orange', 'size': '44'},\n",
       " {'brand': 'New Balance', 'color': 'orange', 'size': '37'},\n",
       " {'brand': 'New Balance', 'color': 'pink', 'size': '40'},\n",
       " {'brand': 'New Balance', 'color': 'pink', 'size': '41'},\n",
       " {'brand': 'New Balance', 'color': 'orange', 'size': '41'},\n",
       " {'brand': 'New Balance', 'color': 'orange', 'size': '40'},\n",
       " {'brand': 'New Balance', 'color': 'white', 'size': '44'},\n",
       " {'brand': 'New Balance', 'color': 'pink', 'size': '40'},\n",
       " {'brand': 'New Balance', 'color': 'white', 'size': '39'},\n",
       " {'brand': 'New Balance', 'color': 'orange', 'size': '40'},\n",
       " {'brand': 'New Balance', 'color': 'black', 'size': '40'},\n",
       " {'brand': 'New Balance', 'color': 'orange', 'size': '39'},\n",
       " {'brand': 'New Balance', 'color': 'orange', 'size': '41'},\n",
       " {'brand': 'New Balance', 'color': 'white', 'size': '35'},\n",
       " {'brand': 'New Balance', 'color': 'orange', 'size': '43'},\n",
       " {'brand': 'New Balance', 'color': 'pink', 'size': '40'},\n",
       " {'brand': 'New Balance', 'color': 'black', 'size': '40'},\n",
       " {'brand': 'New Balance', 'color': 'pink', 'size': '40'},\n",
       " {'brand': 'New Balance', 'color': 'white', 'size': '38'},\n",
       " {'brand': 'New Balance', 'color': 'black', 'size': '40'},\n",
       " {'brand': 'New Balance', 'color': 'pink', 'size': '40'},\n",
       " {'brand': 'New Balance', 'color': 'orange', 'size': '38'},\n",
       " {'brand': 'New Balance', 'color': 'black', 'size': '43'},\n",
       " {'brand': 'New Balance', 'color': 'pink', 'size': '39'},\n",
       " {'brand': 'New Balance', 'color': 'orange', 'size': '40'},\n",
       " {'brand': 'New Balance', 'color': 'white', 'size': '44'},\n",
       " {'brand': 'Nike', 'color': 'black', 'size': '41'},\n",
       " {'brand': 'Nike', 'color': 'white', 'size': '44'},\n",
       " {'brand': 'Nike', 'color': 'pink', 'size': '44'},\n",
       " {'brand': 'Nike', 'color': 'black', 'size': '41'},\n",
       " {'brand': 'Nike', 'color': 'pink', 'size': '41'},\n",
       " {'brand': 'Nike', 'color': 'pink', 'size': '43'},\n",
       " {'brand': 'Nike', 'color': 'black', 'size': '43'},\n",
       " {'brand': 'Nike', 'color': 'black', 'size': '42'},\n",
       " {'brand': 'Nike', 'color': 'black', 'size': '35'},\n",
       " {'brand': 'Nike', 'color': 'black', 'size': '43'},\n",
       " {'brand': 'Nike', 'color': 'pink', 'size': '36'},\n",
       " {'brand': 'Nike', 'color': 'black', 'size': '42'},\n",
       " {'brand': 'Nike', 'color': 'white', 'size': '37'},\n",
       " {'brand': 'Nike', 'color': 'black', 'size': '35'},\n",
       " {'brand': 'Nike', 'color': 'white', 'size': '37'},\n",
       " {'brand': 'Nike', 'color': 'pink', 'size': '44'},\n",
       " {'brand': 'Nike', 'color': 'pink', 'size': '38'},\n",
       " {'brand': 'Nike', 'color': 'pink', 'size': '40'},\n",
       " {'brand': 'Nike', 'color': 'white', 'size': '44'},\n",
       " {'brand': 'Nike', 'color': 'orange', 'size': '38'},\n",
       " {'brand': 'Nike', 'color': 'white', 'size': '37'},\n",
       " {'brand': 'Nike', 'color': 'orange', 'size': '38'},\n",
       " {'brand': 'Nike', 'color': 'pink', 'size': '40'},\n",
       " {'brand': 'Nike', 'color': 'orange', 'size': '40'},\n",
       " {'brand': 'Nike', 'color': 'pink', 'size': '40'},\n",
       " {'brand': 'Nike', 'color': 'black', 'size': '41'},\n",
       " {'brand': 'Nike', 'color': 'black', 'size': '39'},\n",
       " {'brand': 'Nike', 'color': 'orange', 'size': '36'},\n",
       " {'brand': 'Nike', 'color': 'black', 'size': '38'},\n",
       " {'brand': 'Nike', 'color': 'pink', 'size': '41'},\n",
       " {'brand': 'Nike', 'color': 'black', 'size': '44'},\n",
       " {'brand': 'Nike', 'color': 'black', 'size': '38'},\n",
       " {'brand': 'Nike', 'color': 'pink', 'size': '42'},\n",
       " {'brand': 'Nike', 'color': 'white', 'size': '38'},\n",
       " {'brand': 'Nike', 'color': 'orange', 'size': '39'},\n",
       " {'brand': 'Nike', 'color': 'black', 'size': '35'}]"
      ]
     },
     "execution_count": 21,
     "metadata": {},
     "output_type": "execute_result"
    }
   ],
   "source": [
    "user_sort_field = input('Enter sort field: ')\n",
    "\n",
    "def by_field(user_sort_field):\n",
    "    def wrapper(shoe_dict):\n",
    "        return shoe_dict[user_sort_field]\n",
    "    return wrapper\n",
    "\n",
    "sorted(shoes, key=by_field(user_sort_field))"
   ]
  },
  {
   "cell_type": "code",
   "execution_count": 22,
   "id": "3a8eccbc",
   "metadata": {},
   "outputs": [
    {
     "name": "stdout",
     "output_type": "stream",
     "text": [
      "Enter sort field: brand\n"
     ]
    },
    {
     "data": {
      "text/plain": [
       "[{'brand': 'Adidas', 'color': 'orange', 'size': '43'},\n",
       " {'brand': 'Adidas', 'color': 'black', 'size': '39'},\n",
       " {'brand': 'Adidas', 'color': 'pink', 'size': '44'},\n",
       " {'brand': 'Adidas', 'color': 'orange', 'size': '37'},\n",
       " {'brand': 'Adidas', 'color': 'black', 'size': '38'},\n",
       " {'brand': 'Adidas', 'color': 'pink', 'size': '41'},\n",
       " {'brand': 'Adidas', 'color': 'white', 'size': '36'},\n",
       " {'brand': 'Adidas', 'color': 'orange', 'size': '36'},\n",
       " {'brand': 'Adidas', 'color': 'pink', 'size': '35'},\n",
       " {'brand': 'Adidas', 'color': 'black', 'size': '41'},\n",
       " {'brand': 'Adidas', 'color': 'white', 'size': '35'},\n",
       " {'brand': 'Adidas', 'color': 'orange', 'size': '40'},\n",
       " {'brand': 'Adidas', 'color': 'black', 'size': '41'},\n",
       " {'brand': 'Adidas', 'color': 'black', 'size': '39'},\n",
       " {'brand': 'Adidas', 'color': 'black', 'size': '40'},\n",
       " {'brand': 'Adidas', 'color': 'orange', 'size': '38'},\n",
       " {'brand': 'Adidas', 'color': 'white', 'size': '39'},\n",
       " {'brand': 'Adidas', 'color': 'orange', 'size': '37'},\n",
       " {'brand': 'Adidas', 'color': 'pink', 'size': '35'},\n",
       " {'brand': 'Adidas', 'color': 'black', 'size': '39'},\n",
       " {'brand': 'Adidas', 'color': 'orange', 'size': '42'},\n",
       " {'brand': 'Adidas', 'color': 'pink', 'size': '39'},\n",
       " {'brand': 'Adidas', 'color': 'pink', 'size': '41'},\n",
       " {'brand': 'Adidas', 'color': 'pink', 'size': '39'},\n",
       " {'brand': 'Adidas', 'color': 'orange', 'size': '39'},\n",
       " {'brand': 'Adidas', 'color': 'white', 'size': '36'},\n",
       " {'brand': 'Adidas', 'color': 'pink', 'size': '41'},\n",
       " {'brand': 'Adidas', 'color': 'black', 'size': '41'},\n",
       " {'brand': 'Adidas', 'color': 'black', 'size': '42'},\n",
       " {'brand': 'Adidas', 'color': 'white', 'size': '40'},\n",
       " {'brand': 'Adidas', 'color': 'orange', 'size': '37'},\n",
       " {'brand': 'Adidas', 'color': 'pink', 'size': '36'},\n",
       " {'brand': 'Adidas', 'color': 'white', 'size': '35'},\n",
       " {'brand': 'Adidas', 'color': 'black', 'size': '42'},\n",
       " {'brand': 'New Balance', 'color': 'pink', 'size': '41'},\n",
       " {'brand': 'New Balance', 'color': 'orange', 'size': '38'},\n",
       " {'brand': 'New Balance', 'color': 'orange', 'size': '39'},\n",
       " {'brand': 'New Balance', 'color': 'black', 'size': '43'},\n",
       " {'brand': 'New Balance', 'color': 'orange', 'size': '44'},\n",
       " {'brand': 'New Balance', 'color': 'orange', 'size': '37'},\n",
       " {'brand': 'New Balance', 'color': 'pink', 'size': '40'},\n",
       " {'brand': 'New Balance', 'color': 'pink', 'size': '41'},\n",
       " {'brand': 'New Balance', 'color': 'orange', 'size': '41'},\n",
       " {'brand': 'New Balance', 'color': 'orange', 'size': '40'},\n",
       " {'brand': 'New Balance', 'color': 'white', 'size': '44'},\n",
       " {'brand': 'New Balance', 'color': 'pink', 'size': '40'},\n",
       " {'brand': 'New Balance', 'color': 'white', 'size': '39'},\n",
       " {'brand': 'New Balance', 'color': 'orange', 'size': '40'},\n",
       " {'brand': 'New Balance', 'color': 'black', 'size': '40'},\n",
       " {'brand': 'New Balance', 'color': 'orange', 'size': '39'},\n",
       " {'brand': 'New Balance', 'color': 'orange', 'size': '41'},\n",
       " {'brand': 'New Balance', 'color': 'white', 'size': '35'},\n",
       " {'brand': 'New Balance', 'color': 'orange', 'size': '43'},\n",
       " {'brand': 'New Balance', 'color': 'pink', 'size': '40'},\n",
       " {'brand': 'New Balance', 'color': 'black', 'size': '40'},\n",
       " {'brand': 'New Balance', 'color': 'pink', 'size': '40'},\n",
       " {'brand': 'New Balance', 'color': 'white', 'size': '38'},\n",
       " {'brand': 'New Balance', 'color': 'black', 'size': '40'},\n",
       " {'brand': 'New Balance', 'color': 'pink', 'size': '40'},\n",
       " {'brand': 'New Balance', 'color': 'orange', 'size': '38'},\n",
       " {'brand': 'New Balance', 'color': 'black', 'size': '43'},\n",
       " {'brand': 'New Balance', 'color': 'pink', 'size': '39'},\n",
       " {'brand': 'New Balance', 'color': 'orange', 'size': '40'},\n",
       " {'brand': 'New Balance', 'color': 'white', 'size': '44'},\n",
       " {'brand': 'Nike', 'color': 'black', 'size': '41'},\n",
       " {'brand': 'Nike', 'color': 'white', 'size': '44'},\n",
       " {'brand': 'Nike', 'color': 'pink', 'size': '44'},\n",
       " {'brand': 'Nike', 'color': 'black', 'size': '41'},\n",
       " {'brand': 'Nike', 'color': 'pink', 'size': '41'},\n",
       " {'brand': 'Nike', 'color': 'pink', 'size': '43'},\n",
       " {'brand': 'Nike', 'color': 'black', 'size': '43'},\n",
       " {'brand': 'Nike', 'color': 'black', 'size': '42'},\n",
       " {'brand': 'Nike', 'color': 'black', 'size': '35'},\n",
       " {'brand': 'Nike', 'color': 'black', 'size': '43'},\n",
       " {'brand': 'Nike', 'color': 'pink', 'size': '36'},\n",
       " {'brand': 'Nike', 'color': 'black', 'size': '42'},\n",
       " {'brand': 'Nike', 'color': 'white', 'size': '37'},\n",
       " {'brand': 'Nike', 'color': 'black', 'size': '35'},\n",
       " {'brand': 'Nike', 'color': 'white', 'size': '37'},\n",
       " {'brand': 'Nike', 'color': 'pink', 'size': '44'},\n",
       " {'brand': 'Nike', 'color': 'pink', 'size': '38'},\n",
       " {'brand': 'Nike', 'color': 'pink', 'size': '40'},\n",
       " {'brand': 'Nike', 'color': 'white', 'size': '44'},\n",
       " {'brand': 'Nike', 'color': 'orange', 'size': '38'},\n",
       " {'brand': 'Nike', 'color': 'white', 'size': '37'},\n",
       " {'brand': 'Nike', 'color': 'orange', 'size': '38'},\n",
       " {'brand': 'Nike', 'color': 'pink', 'size': '40'},\n",
       " {'brand': 'Nike', 'color': 'orange', 'size': '40'},\n",
       " {'brand': 'Nike', 'color': 'pink', 'size': '40'},\n",
       " {'brand': 'Nike', 'color': 'black', 'size': '41'},\n",
       " {'brand': 'Nike', 'color': 'black', 'size': '39'},\n",
       " {'brand': 'Nike', 'color': 'orange', 'size': '36'},\n",
       " {'brand': 'Nike', 'color': 'black', 'size': '38'},\n",
       " {'brand': 'Nike', 'color': 'pink', 'size': '41'},\n",
       " {'brand': 'Nike', 'color': 'black', 'size': '44'},\n",
       " {'brand': 'Nike', 'color': 'black', 'size': '38'},\n",
       " {'brand': 'Nike', 'color': 'pink', 'size': '42'},\n",
       " {'brand': 'Nike', 'color': 'white', 'size': '38'},\n",
       " {'brand': 'Nike', 'color': 'orange', 'size': '39'},\n",
       " {'brand': 'Nike', 'color': 'black', 'size': '35'}]"
      ]
     },
     "execution_count": 22,
     "metadata": {},
     "output_type": "execute_result"
    }
   ],
   "source": [
    "user_sort_field = input('Enter sort field: ')\n",
    "\n",
    "def by_user_field(shoe_dict):\n",
    "    return shoe_dict[user_sort_field]\n",
    "\n",
    "sorted(shoes, key=by_user_field)"
   ]
  },
  {
   "cell_type": "code",
   "execution_count": null,
   "id": "27b81187",
   "metadata": {},
   "outputs": [],
   "source": []
  }
 ],
 "metadata": {
  "kernelspec": {
   "display_name": "Python 3 (ipykernel)",
   "language": "python",
   "name": "python3"
  },
  "language_info": {
   "codemirror_mode": {
    "name": "ipython",
    "version": 3
   },
   "file_extension": ".py",
   "mimetype": "text/x-python",
   "name": "python",
   "nbconvert_exporter": "python",
   "pygments_lexer": "ipython3",
   "version": "3.10.4"
  }
 },
 "nbformat": 4,
 "nbformat_minor": 5
}
