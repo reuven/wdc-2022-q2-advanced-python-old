{
 "cells": [
  {
   "cell_type": "markdown",
   "id": "f840feab",
   "metadata": {},
   "source": [
    "# Agenda\n",
    "\n",
    "1. End of functional programming\n",
    "2. Modules + packages\n",
    "3. Start of objects"
   ]
  },
  {
   "cell_type": "code",
   "execution_count": 1,
   "id": "754779d0",
   "metadata": {},
   "outputs": [
    {
     "data": {
      "text/plain": [
       "['abcd', 'efgh', 'ijkl', 'mnop']"
      ]
     },
     "execution_count": 1,
     "metadata": {},
     "output_type": "execute_result"
    }
   ],
   "source": [
    "s = 'abcd efgh ijkl mnop'\n",
    "\n",
    "s.split(' ')"
   ]
  },
  {
   "cell_type": "code",
   "execution_count": 2,
   "id": "02d7de53",
   "metadata": {},
   "outputs": [
    {
     "data": {
      "text/plain": [
       "['ab:cd', 'ef:gh', 'ij:kl', 'mn:op']"
      ]
     },
     "execution_count": 2,
     "metadata": {},
     "output_type": "execute_result"
    }
   ],
   "source": [
    "s = 'ab:cd ef:gh ij:kl mn:op'\n",
    "\n",
    "s.split(' ')"
   ]
  },
  {
   "cell_type": "code",
   "execution_count": 3,
   "id": "be6c4b9d",
   "metadata": {},
   "outputs": [
    {
     "data": {
      "text/plain": [
       "['ab', 'cd ef', 'gh ij', 'kl mn', 'op']"
      ]
     },
     "execution_count": 3,
     "metadata": {},
     "output_type": "execute_result"
    }
   ],
   "source": [
    "s.split(':')"
   ]
  },
  {
   "cell_type": "code",
   "execution_count": 5,
   "id": "91974805",
   "metadata": {},
   "outputs": [
    {
     "data": {
      "text/plain": [
       "['ab:cd e', 'gh ij:kl mn:op']"
      ]
     },
     "execution_count": 5,
     "metadata": {},
     "output_type": "execute_result"
    }
   ],
   "source": [
    "# can I split on either space or : ?\n",
    "\n",
    "s.split('f:')"
   ]
  },
  {
   "cell_type": "code",
   "execution_count": 7,
   "id": "74dadced",
   "metadata": {},
   "outputs": [
    {
     "data": {
      "text/plain": [
       "['ab', 'cd', 'ef', 'gh', 'ij', 'kl', 'mn', 'op']"
      ]
     },
     "execution_count": 7,
     "metadata": {},
     "output_type": "execute_result"
    }
   ],
   "source": [
    "import re\n",
    "re.split('[\\s:]', s)   # here, we tell re.split to use either \\s (any whitespace) or : "
   ]
  },
  {
   "cell_type": "code",
   "execution_count": 8,
   "id": "71feb6a0",
   "metadata": {},
   "outputs": [],
   "source": [
    "# RegexpCrashCourse.com "
   ]
  },
  {
   "cell_type": "code",
   "execution_count": 10,
   "id": "b1d27fe5",
   "metadata": {},
   "outputs": [],
   "source": [
    "def line_to_dict(s):\n",
    "    brand, color, size = s.strip().split('\\t')\n",
    "    \n",
    "    return {'brand':brand,\n",
    "           'color':color,\n",
    "           'size':size}\n",
    "\n",
    "shoes = [line_to_dict(one_line)\n",
    "         for one_line in open('shoe-data.txt')]"
   ]
  },
  {
   "cell_type": "code",
   "execution_count": 11,
   "id": "85736013",
   "metadata": {
    "scrolled": true
   },
   "outputs": [
    {
     "data": {
      "text/plain": [
       "[{'brand': 'Adidas', 'color': 'orange', 'size': '43'},\n",
       " {'brand': 'Nike', 'color': 'black', 'size': '41'},\n",
       " {'brand': 'Adidas', 'color': 'black', 'size': '39'},\n",
       " {'brand': 'New Balance', 'color': 'pink', 'size': '41'},\n",
       " {'brand': 'Nike', 'color': 'white', 'size': '44'},\n",
       " {'brand': 'New Balance', 'color': 'orange', 'size': '38'},\n",
       " {'brand': 'Nike', 'color': 'pink', 'size': '44'},\n",
       " {'brand': 'Adidas', 'color': 'pink', 'size': '44'},\n",
       " {'brand': 'New Balance', 'color': 'orange', 'size': '39'},\n",
       " {'brand': 'New Balance', 'color': 'black', 'size': '43'},\n",
       " {'brand': 'New Balance', 'color': 'orange', 'size': '44'},\n",
       " {'brand': 'Nike', 'color': 'black', 'size': '41'},\n",
       " {'brand': 'Adidas', 'color': 'orange', 'size': '37'},\n",
       " {'brand': 'Adidas', 'color': 'black', 'size': '38'},\n",
       " {'brand': 'Adidas', 'color': 'pink', 'size': '41'},\n",
       " {'brand': 'Adidas', 'color': 'white', 'size': '36'},\n",
       " {'brand': 'Adidas', 'color': 'orange', 'size': '36'},\n",
       " {'brand': 'Nike', 'color': 'pink', 'size': '41'},\n",
       " {'brand': 'Adidas', 'color': 'pink', 'size': '35'},\n",
       " {'brand': 'New Balance', 'color': 'orange', 'size': '37'},\n",
       " {'brand': 'Nike', 'color': 'pink', 'size': '43'},\n",
       " {'brand': 'Nike', 'color': 'black', 'size': '43'},\n",
       " {'brand': 'Nike', 'color': 'black', 'size': '42'},\n",
       " {'brand': 'Nike', 'color': 'black', 'size': '35'},\n",
       " {'brand': 'Adidas', 'color': 'black', 'size': '41'},\n",
       " {'brand': 'New Balance', 'color': 'pink', 'size': '40'},\n",
       " {'brand': 'Adidas', 'color': 'white', 'size': '35'},\n",
       " {'brand': 'New Balance', 'color': 'pink', 'size': '41'},\n",
       " {'brand': 'New Balance', 'color': 'orange', 'size': '41'},\n",
       " {'brand': 'Adidas', 'color': 'orange', 'size': '40'},\n",
       " {'brand': 'New Balance', 'color': 'orange', 'size': '40'},\n",
       " {'brand': 'New Balance', 'color': 'white', 'size': '44'},\n",
       " {'brand': 'New Balance', 'color': 'pink', 'size': '40'},\n",
       " {'brand': 'Nike', 'color': 'black', 'size': '43'},\n",
       " {'brand': 'Nike', 'color': 'pink', 'size': '36'},\n",
       " {'brand': 'New Balance', 'color': 'white', 'size': '39'},\n",
       " {'brand': 'Nike', 'color': 'black', 'size': '42'},\n",
       " {'brand': 'Adidas', 'color': 'black', 'size': '41'},\n",
       " {'brand': 'New Balance', 'color': 'orange', 'size': '40'},\n",
       " {'brand': 'New Balance', 'color': 'black', 'size': '40'},\n",
       " {'brand': 'Nike', 'color': 'white', 'size': '37'},\n",
       " {'brand': 'Adidas', 'color': 'black', 'size': '39'},\n",
       " {'brand': 'Adidas', 'color': 'black', 'size': '40'},\n",
       " {'brand': 'Adidas', 'color': 'orange', 'size': '38'},\n",
       " {'brand': 'New Balance', 'color': 'orange', 'size': '39'},\n",
       " {'brand': 'Nike', 'color': 'black', 'size': '35'},\n",
       " {'brand': 'Adidas', 'color': 'white', 'size': '39'},\n",
       " {'brand': 'Nike', 'color': 'white', 'size': '37'},\n",
       " {'brand': 'Adidas', 'color': 'orange', 'size': '37'},\n",
       " {'brand': 'Adidas', 'color': 'pink', 'size': '35'},\n",
       " {'brand': 'New Balance', 'color': 'orange', 'size': '41'},\n",
       " {'brand': 'Nike', 'color': 'pink', 'size': '44'},\n",
       " {'brand': 'Nike', 'color': 'pink', 'size': '38'},\n",
       " {'brand': 'Adidas', 'color': 'black', 'size': '39'},\n",
       " {'brand': 'New Balance', 'color': 'white', 'size': '35'},\n",
       " {'brand': 'Nike', 'color': 'pink', 'size': '40'},\n",
       " {'brand': 'Nike', 'color': 'white', 'size': '44'},\n",
       " {'brand': 'Nike', 'color': 'orange', 'size': '38'},\n",
       " {'brand': 'Adidas', 'color': 'orange', 'size': '42'},\n",
       " {'brand': 'New Balance', 'color': 'orange', 'size': '43'},\n",
       " {'brand': 'Adidas', 'color': 'pink', 'size': '39'},\n",
       " {'brand': 'Adidas', 'color': 'pink', 'size': '41'},\n",
       " {'brand': 'Adidas', 'color': 'pink', 'size': '39'},\n",
       " {'brand': 'Nike', 'color': 'white', 'size': '37'},\n",
       " {'brand': 'Nike', 'color': 'orange', 'size': '38'},\n",
       " {'brand': 'Adidas', 'color': 'orange', 'size': '39'},\n",
       " {'brand': 'Nike', 'color': 'pink', 'size': '40'},\n",
       " {'brand': 'Adidas', 'color': 'white', 'size': '36'},\n",
       " {'brand': 'Nike', 'color': 'orange', 'size': '40'},\n",
       " {'brand': 'New Balance', 'color': 'pink', 'size': '40'},\n",
       " {'brand': 'New Balance', 'color': 'black', 'size': '40'},\n",
       " {'brand': 'New Balance', 'color': 'pink', 'size': '40'},\n",
       " {'brand': 'Adidas', 'color': 'pink', 'size': '41'},\n",
       " {'brand': 'Nike', 'color': 'pink', 'size': '40'},\n",
       " {'brand': 'Nike', 'color': 'black', 'size': '41'},\n",
       " {'brand': 'Nike', 'color': 'black', 'size': '39'},\n",
       " {'brand': 'New Balance', 'color': 'white', 'size': '38'},\n",
       " {'brand': 'Adidas', 'color': 'black', 'size': '41'},\n",
       " {'brand': 'Nike', 'color': 'orange', 'size': '36'},\n",
       " {'brand': 'Nike', 'color': 'black', 'size': '38'},\n",
       " {'brand': 'New Balance', 'color': 'black', 'size': '40'},\n",
       " {'brand': 'New Balance', 'color': 'pink', 'size': '40'},\n",
       " {'brand': 'Adidas', 'color': 'black', 'size': '42'},\n",
       " {'brand': 'Adidas', 'color': 'white', 'size': '40'},\n",
       " {'brand': 'New Balance', 'color': 'orange', 'size': '38'},\n",
       " {'brand': 'Nike', 'color': 'pink', 'size': '41'},\n",
       " {'brand': 'Adidas', 'color': 'orange', 'size': '37'},\n",
       " {'brand': 'Nike', 'color': 'black', 'size': '44'},\n",
       " {'brand': 'Adidas', 'color': 'pink', 'size': '36'},\n",
       " {'brand': 'Adidas', 'color': 'white', 'size': '35'},\n",
       " {'brand': 'Nike', 'color': 'black', 'size': '38'},\n",
       " {'brand': 'Nike', 'color': 'pink', 'size': '42'},\n",
       " {'brand': 'New Balance', 'color': 'black', 'size': '43'},\n",
       " {'brand': 'Nike', 'color': 'white', 'size': '38'},\n",
       " {'brand': 'New Balance', 'color': 'pink', 'size': '39'},\n",
       " {'brand': 'Nike', 'color': 'orange', 'size': '39'},\n",
       " {'brand': 'New Balance', 'color': 'orange', 'size': '40'},\n",
       " {'brand': 'New Balance', 'color': 'white', 'size': '44'},\n",
       " {'brand': 'Adidas', 'color': 'black', 'size': '42'},\n",
       " {'brand': 'Nike', 'color': 'black', 'size': '35'}]"
      ]
     },
     "execution_count": 11,
     "metadata": {},
     "output_type": "execute_result"
    }
   ],
   "source": [
    "shoes"
   ]
  },
  {
   "cell_type": "code",
   "execution_count": 12,
   "id": "15b81191",
   "metadata": {},
   "outputs": [
    {
     "data": {
      "text/plain": [
       "'Adidas'"
      ]
     },
     "execution_count": 12,
     "metadata": {},
     "output_type": "execute_result"
    }
   ],
   "source": [
    "def by_brand(shoe_dict):\n",
    "    return shoe_dict['brand']\n",
    "\n",
    "by_brand(shoes[0])"
   ]
  },
  {
   "cell_type": "code",
   "execution_count": 13,
   "id": "46fea087",
   "metadata": {
    "scrolled": true
   },
   "outputs": [
    {
     "data": {
      "text/plain": [
       "[{'brand': 'Adidas', 'color': 'orange', 'size': '43'},\n",
       " {'brand': 'Adidas', 'color': 'black', 'size': '39'},\n",
       " {'brand': 'Adidas', 'color': 'pink', 'size': '44'},\n",
       " {'brand': 'Adidas', 'color': 'orange', 'size': '37'},\n",
       " {'brand': 'Adidas', 'color': 'black', 'size': '38'},\n",
       " {'brand': 'Adidas', 'color': 'pink', 'size': '41'},\n",
       " {'brand': 'Adidas', 'color': 'white', 'size': '36'},\n",
       " {'brand': 'Adidas', 'color': 'orange', 'size': '36'},\n",
       " {'brand': 'Adidas', 'color': 'pink', 'size': '35'},\n",
       " {'brand': 'Adidas', 'color': 'black', 'size': '41'},\n",
       " {'brand': 'Adidas', 'color': 'white', 'size': '35'},\n",
       " {'brand': 'Adidas', 'color': 'orange', 'size': '40'},\n",
       " {'brand': 'Adidas', 'color': 'black', 'size': '41'},\n",
       " {'brand': 'Adidas', 'color': 'black', 'size': '39'},\n",
       " {'brand': 'Adidas', 'color': 'black', 'size': '40'},\n",
       " {'brand': 'Adidas', 'color': 'orange', 'size': '38'},\n",
       " {'brand': 'Adidas', 'color': 'white', 'size': '39'},\n",
       " {'brand': 'Adidas', 'color': 'orange', 'size': '37'},\n",
       " {'brand': 'Adidas', 'color': 'pink', 'size': '35'},\n",
       " {'brand': 'Adidas', 'color': 'black', 'size': '39'},\n",
       " {'brand': 'Adidas', 'color': 'orange', 'size': '42'},\n",
       " {'brand': 'Adidas', 'color': 'pink', 'size': '39'},\n",
       " {'brand': 'Adidas', 'color': 'pink', 'size': '41'},\n",
       " {'brand': 'Adidas', 'color': 'pink', 'size': '39'},\n",
       " {'brand': 'Adidas', 'color': 'orange', 'size': '39'},\n",
       " {'brand': 'Adidas', 'color': 'white', 'size': '36'},\n",
       " {'brand': 'Adidas', 'color': 'pink', 'size': '41'},\n",
       " {'brand': 'Adidas', 'color': 'black', 'size': '41'},\n",
       " {'brand': 'Adidas', 'color': 'black', 'size': '42'},\n",
       " {'brand': 'Adidas', 'color': 'white', 'size': '40'},\n",
       " {'brand': 'Adidas', 'color': 'orange', 'size': '37'},\n",
       " {'brand': 'Adidas', 'color': 'pink', 'size': '36'},\n",
       " {'brand': 'Adidas', 'color': 'white', 'size': '35'},\n",
       " {'brand': 'Adidas', 'color': 'black', 'size': '42'},\n",
       " {'brand': 'New Balance', 'color': 'pink', 'size': '41'},\n",
       " {'brand': 'New Balance', 'color': 'orange', 'size': '38'},\n",
       " {'brand': 'New Balance', 'color': 'orange', 'size': '39'},\n",
       " {'brand': 'New Balance', 'color': 'black', 'size': '43'},\n",
       " {'brand': 'New Balance', 'color': 'orange', 'size': '44'},\n",
       " {'brand': 'New Balance', 'color': 'orange', 'size': '37'},\n",
       " {'brand': 'New Balance', 'color': 'pink', 'size': '40'},\n",
       " {'brand': 'New Balance', 'color': 'pink', 'size': '41'},\n",
       " {'brand': 'New Balance', 'color': 'orange', 'size': '41'},\n",
       " {'brand': 'New Balance', 'color': 'orange', 'size': '40'},\n",
       " {'brand': 'New Balance', 'color': 'white', 'size': '44'},\n",
       " {'brand': 'New Balance', 'color': 'pink', 'size': '40'},\n",
       " {'brand': 'New Balance', 'color': 'white', 'size': '39'},\n",
       " {'brand': 'New Balance', 'color': 'orange', 'size': '40'},\n",
       " {'brand': 'New Balance', 'color': 'black', 'size': '40'},\n",
       " {'brand': 'New Balance', 'color': 'orange', 'size': '39'},\n",
       " {'brand': 'New Balance', 'color': 'orange', 'size': '41'},\n",
       " {'brand': 'New Balance', 'color': 'white', 'size': '35'},\n",
       " {'brand': 'New Balance', 'color': 'orange', 'size': '43'},\n",
       " {'brand': 'New Balance', 'color': 'pink', 'size': '40'},\n",
       " {'brand': 'New Balance', 'color': 'black', 'size': '40'},\n",
       " {'brand': 'New Balance', 'color': 'pink', 'size': '40'},\n",
       " {'brand': 'New Balance', 'color': 'white', 'size': '38'},\n",
       " {'brand': 'New Balance', 'color': 'black', 'size': '40'},\n",
       " {'brand': 'New Balance', 'color': 'pink', 'size': '40'},\n",
       " {'brand': 'New Balance', 'color': 'orange', 'size': '38'},\n",
       " {'brand': 'New Balance', 'color': 'black', 'size': '43'},\n",
       " {'brand': 'New Balance', 'color': 'pink', 'size': '39'},\n",
       " {'brand': 'New Balance', 'color': 'orange', 'size': '40'},\n",
       " {'brand': 'New Balance', 'color': 'white', 'size': '44'},\n",
       " {'brand': 'Nike', 'color': 'black', 'size': '41'},\n",
       " {'brand': 'Nike', 'color': 'white', 'size': '44'},\n",
       " {'brand': 'Nike', 'color': 'pink', 'size': '44'},\n",
       " {'brand': 'Nike', 'color': 'black', 'size': '41'},\n",
       " {'brand': 'Nike', 'color': 'pink', 'size': '41'},\n",
       " {'brand': 'Nike', 'color': 'pink', 'size': '43'},\n",
       " {'brand': 'Nike', 'color': 'black', 'size': '43'},\n",
       " {'brand': 'Nike', 'color': 'black', 'size': '42'},\n",
       " {'brand': 'Nike', 'color': 'black', 'size': '35'},\n",
       " {'brand': 'Nike', 'color': 'black', 'size': '43'},\n",
       " {'brand': 'Nike', 'color': 'pink', 'size': '36'},\n",
       " {'brand': 'Nike', 'color': 'black', 'size': '42'},\n",
       " {'brand': 'Nike', 'color': 'white', 'size': '37'},\n",
       " {'brand': 'Nike', 'color': 'black', 'size': '35'},\n",
       " {'brand': 'Nike', 'color': 'white', 'size': '37'},\n",
       " {'brand': 'Nike', 'color': 'pink', 'size': '44'},\n",
       " {'brand': 'Nike', 'color': 'pink', 'size': '38'},\n",
       " {'brand': 'Nike', 'color': 'pink', 'size': '40'},\n",
       " {'brand': 'Nike', 'color': 'white', 'size': '44'},\n",
       " {'brand': 'Nike', 'color': 'orange', 'size': '38'},\n",
       " {'brand': 'Nike', 'color': 'white', 'size': '37'},\n",
       " {'brand': 'Nike', 'color': 'orange', 'size': '38'},\n",
       " {'brand': 'Nike', 'color': 'pink', 'size': '40'},\n",
       " {'brand': 'Nike', 'color': 'orange', 'size': '40'},\n",
       " {'brand': 'Nike', 'color': 'pink', 'size': '40'},\n",
       " {'brand': 'Nike', 'color': 'black', 'size': '41'},\n",
       " {'brand': 'Nike', 'color': 'black', 'size': '39'},\n",
       " {'brand': 'Nike', 'color': 'orange', 'size': '36'},\n",
       " {'brand': 'Nike', 'color': 'black', 'size': '38'},\n",
       " {'brand': 'Nike', 'color': 'pink', 'size': '41'},\n",
       " {'brand': 'Nike', 'color': 'black', 'size': '44'},\n",
       " {'brand': 'Nike', 'color': 'black', 'size': '38'},\n",
       " {'brand': 'Nike', 'color': 'pink', 'size': '42'},\n",
       " {'brand': 'Nike', 'color': 'white', 'size': '38'},\n",
       " {'brand': 'Nike', 'color': 'orange', 'size': '39'},\n",
       " {'brand': 'Nike', 'color': 'black', 'size': '35'}]"
      ]
     },
     "execution_count": 13,
     "metadata": {},
     "output_type": "execute_result"
    }
   ],
   "source": [
    "sorted(shoes, key=by_brand)"
   ]
  },
  {
   "cell_type": "code",
   "execution_count": 19,
   "id": "daad01e5",
   "metadata": {
    "scrolled": true
   },
   "outputs": [
    {
     "data": {
      "text/plain": [
       "[{'brand': 'Adidas', 'color': 'pink', 'size': '35'},\n",
       " {'brand': 'Adidas', 'color': 'white', 'size': '35'},\n",
       " {'brand': 'Adidas', 'color': 'pink', 'size': '35'},\n",
       " {'brand': 'Adidas', 'color': 'white', 'size': '35'},\n",
       " {'brand': 'Adidas', 'color': 'white', 'size': '36'},\n",
       " {'brand': 'Adidas', 'color': 'orange', 'size': '36'},\n",
       " {'brand': 'Adidas', 'color': 'white', 'size': '36'},\n",
       " {'brand': 'Adidas', 'color': 'pink', 'size': '36'},\n",
       " {'brand': 'Adidas', 'color': 'orange', 'size': '37'},\n",
       " {'brand': 'Adidas', 'color': 'orange', 'size': '37'},\n",
       " {'brand': 'Adidas', 'color': 'orange', 'size': '37'},\n",
       " {'brand': 'Adidas', 'color': 'black', 'size': '38'},\n",
       " {'brand': 'Adidas', 'color': 'orange', 'size': '38'},\n",
       " {'brand': 'Adidas', 'color': 'black', 'size': '39'},\n",
       " {'brand': 'Adidas', 'color': 'black', 'size': '39'},\n",
       " {'brand': 'Adidas', 'color': 'white', 'size': '39'},\n",
       " {'brand': 'Adidas', 'color': 'black', 'size': '39'},\n",
       " {'brand': 'Adidas', 'color': 'pink', 'size': '39'},\n",
       " {'brand': 'Adidas', 'color': 'pink', 'size': '39'},\n",
       " {'brand': 'Adidas', 'color': 'orange', 'size': '39'},\n",
       " {'brand': 'Adidas', 'color': 'orange', 'size': '40'},\n",
       " {'brand': 'Adidas', 'color': 'black', 'size': '40'},\n",
       " {'brand': 'Adidas', 'color': 'white', 'size': '40'},\n",
       " {'brand': 'Adidas', 'color': 'pink', 'size': '41'},\n",
       " {'brand': 'Adidas', 'color': 'black', 'size': '41'},\n",
       " {'brand': 'Adidas', 'color': 'black', 'size': '41'},\n",
       " {'brand': 'Adidas', 'color': 'pink', 'size': '41'},\n",
       " {'brand': 'Adidas', 'color': 'pink', 'size': '41'},\n",
       " {'brand': 'Adidas', 'color': 'black', 'size': '41'},\n",
       " {'brand': 'Adidas', 'color': 'orange', 'size': '42'},\n",
       " {'brand': 'Adidas', 'color': 'black', 'size': '42'},\n",
       " {'brand': 'Adidas', 'color': 'black', 'size': '42'},\n",
       " {'brand': 'Adidas', 'color': 'orange', 'size': '43'},\n",
       " {'brand': 'Adidas', 'color': 'pink', 'size': '44'},\n",
       " {'brand': 'New Balance', 'color': 'white', 'size': '35'},\n",
       " {'brand': 'New Balance', 'color': 'orange', 'size': '37'},\n",
       " {'brand': 'New Balance', 'color': 'orange', 'size': '38'},\n",
       " {'brand': 'New Balance', 'color': 'white', 'size': '38'},\n",
       " {'brand': 'New Balance', 'color': 'orange', 'size': '38'},\n",
       " {'brand': 'New Balance', 'color': 'orange', 'size': '39'},\n",
       " {'brand': 'New Balance', 'color': 'white', 'size': '39'},\n",
       " {'brand': 'New Balance', 'color': 'orange', 'size': '39'},\n",
       " {'brand': 'New Balance', 'color': 'pink', 'size': '39'},\n",
       " {'brand': 'New Balance', 'color': 'pink', 'size': '40'},\n",
       " {'brand': 'New Balance', 'color': 'orange', 'size': '40'},\n",
       " {'brand': 'New Balance', 'color': 'pink', 'size': '40'},\n",
       " {'brand': 'New Balance', 'color': 'orange', 'size': '40'},\n",
       " {'brand': 'New Balance', 'color': 'black', 'size': '40'},\n",
       " {'brand': 'New Balance', 'color': 'pink', 'size': '40'},\n",
       " {'brand': 'New Balance', 'color': 'black', 'size': '40'},\n",
       " {'brand': 'New Balance', 'color': 'pink', 'size': '40'},\n",
       " {'brand': 'New Balance', 'color': 'black', 'size': '40'},\n",
       " {'brand': 'New Balance', 'color': 'pink', 'size': '40'},\n",
       " {'brand': 'New Balance', 'color': 'orange', 'size': '40'},\n",
       " {'brand': 'New Balance', 'color': 'pink', 'size': '41'},\n",
       " {'brand': 'New Balance', 'color': 'pink', 'size': '41'},\n",
       " {'brand': 'New Balance', 'color': 'orange', 'size': '41'},\n",
       " {'brand': 'New Balance', 'color': 'orange', 'size': '41'},\n",
       " {'brand': 'New Balance', 'color': 'black', 'size': '43'},\n",
       " {'brand': 'New Balance', 'color': 'orange', 'size': '43'},\n",
       " {'brand': 'New Balance', 'color': 'black', 'size': '43'},\n",
       " {'brand': 'New Balance', 'color': 'orange', 'size': '44'},\n",
       " {'brand': 'New Balance', 'color': 'white', 'size': '44'},\n",
       " {'brand': 'New Balance', 'color': 'white', 'size': '44'},\n",
       " {'brand': 'Nike', 'color': 'black', 'size': '35'},\n",
       " {'brand': 'Nike', 'color': 'black', 'size': '35'},\n",
       " {'brand': 'Nike', 'color': 'black', 'size': '35'},\n",
       " {'brand': 'Nike', 'color': 'pink', 'size': '36'},\n",
       " {'brand': 'Nike', 'color': 'orange', 'size': '36'},\n",
       " {'brand': 'Nike', 'color': 'white', 'size': '37'},\n",
       " {'brand': 'Nike', 'color': 'white', 'size': '37'},\n",
       " {'brand': 'Nike', 'color': 'white', 'size': '37'},\n",
       " {'brand': 'Nike', 'color': 'pink', 'size': '38'},\n",
       " {'brand': 'Nike', 'color': 'orange', 'size': '38'},\n",
       " {'brand': 'Nike', 'color': 'orange', 'size': '38'},\n",
       " {'brand': 'Nike', 'color': 'black', 'size': '38'},\n",
       " {'brand': 'Nike', 'color': 'black', 'size': '38'},\n",
       " {'brand': 'Nike', 'color': 'white', 'size': '38'},\n",
       " {'brand': 'Nike', 'color': 'black', 'size': '39'},\n",
       " {'brand': 'Nike', 'color': 'orange', 'size': '39'},\n",
       " {'brand': 'Nike', 'color': 'pink', 'size': '40'},\n",
       " {'brand': 'Nike', 'color': 'pink', 'size': '40'},\n",
       " {'brand': 'Nike', 'color': 'orange', 'size': '40'},\n",
       " {'brand': 'Nike', 'color': 'pink', 'size': '40'},\n",
       " {'brand': 'Nike', 'color': 'black', 'size': '41'},\n",
       " {'brand': 'Nike', 'color': 'black', 'size': '41'},\n",
       " {'brand': 'Nike', 'color': 'pink', 'size': '41'},\n",
       " {'brand': 'Nike', 'color': 'black', 'size': '41'},\n",
       " {'brand': 'Nike', 'color': 'pink', 'size': '41'},\n",
       " {'brand': 'Nike', 'color': 'black', 'size': '42'},\n",
       " {'brand': 'Nike', 'color': 'black', 'size': '42'},\n",
       " {'brand': 'Nike', 'color': 'pink', 'size': '42'},\n",
       " {'brand': 'Nike', 'color': 'pink', 'size': '43'},\n",
       " {'brand': 'Nike', 'color': 'black', 'size': '43'},\n",
       " {'brand': 'Nike', 'color': 'black', 'size': '43'},\n",
       " {'brand': 'Nike', 'color': 'white', 'size': '44'},\n",
       " {'brand': 'Nike', 'color': 'pink', 'size': '44'},\n",
       " {'brand': 'Nike', 'color': 'pink', 'size': '44'},\n",
       " {'brand': 'Nike', 'color': 'white', 'size': '44'},\n",
       " {'brand': 'Nike', 'color': 'black', 'size': '44'}]"
      ]
     },
     "execution_count": 19,
     "metadata": {},
     "output_type": "execute_result"
    }
   ],
   "source": [
    "def by_brand_and_size(shoe_dict):\n",
    "    return shoe_dict['brand'], shoe_dict['size']\n",
    "\n",
    "sorted(shoes, key=by_brand_and_size)"
   ]
  },
  {
   "cell_type": "code",
   "execution_count": 17,
   "id": "23f3b63b",
   "metadata": {},
   "outputs": [],
   "source": [
    "mylist = [[10, 20, 30], [10, 5, 20], [10, 20, 15], [6, 7, 20]]"
   ]
  },
  {
   "cell_type": "code",
   "execution_count": 18,
   "id": "87f0990b",
   "metadata": {},
   "outputs": [
    {
     "data": {
      "text/plain": [
       "[[6, 7, 20], [10, 5, 20], [10, 20, 15], [10, 20, 30]]"
      ]
     },
     "execution_count": 18,
     "metadata": {},
     "output_type": "execute_result"
    }
   ],
   "source": [
    "sorted(mylist)"
   ]
  },
  {
   "cell_type": "code",
   "execution_count": 21,
   "id": "7bc628d9",
   "metadata": {},
   "outputs": [
    {
     "name": "stdout",
     "output_type": "stream",
     "text": [
      "Enter sort field: brand\n"
     ]
    },
    {
     "data": {
      "text/plain": [
       "[{'brand': 'Adidas', 'color': 'orange', 'size': '43'},\n",
       " {'brand': 'Adidas', 'color': 'black', 'size': '39'},\n",
       " {'brand': 'Adidas', 'color': 'pink', 'size': '44'},\n",
       " {'brand': 'Adidas', 'color': 'orange', 'size': '37'},\n",
       " {'brand': 'Adidas', 'color': 'black', 'size': '38'},\n",
       " {'brand': 'Adidas', 'color': 'pink', 'size': '41'},\n",
       " {'brand': 'Adidas', 'color': 'white', 'size': '36'},\n",
       " {'brand': 'Adidas', 'color': 'orange', 'size': '36'},\n",
       " {'brand': 'Adidas', 'color': 'pink', 'size': '35'},\n",
       " {'brand': 'Adidas', 'color': 'black', 'size': '41'},\n",
       " {'brand': 'Adidas', 'color': 'white', 'size': '35'},\n",
       " {'brand': 'Adidas', 'color': 'orange', 'size': '40'},\n",
       " {'brand': 'Adidas', 'color': 'black', 'size': '41'},\n",
       " {'brand': 'Adidas', 'color': 'black', 'size': '39'},\n",
       " {'brand': 'Adidas', 'color': 'black', 'size': '40'},\n",
       " {'brand': 'Adidas', 'color': 'orange', 'size': '38'},\n",
       " {'brand': 'Adidas', 'color': 'white', 'size': '39'},\n",
       " {'brand': 'Adidas', 'color': 'orange', 'size': '37'},\n",
       " {'brand': 'Adidas', 'color': 'pink', 'size': '35'},\n",
       " {'brand': 'Adidas', 'color': 'black', 'size': '39'},\n",
       " {'brand': 'Adidas', 'color': 'orange', 'size': '42'},\n",
       " {'brand': 'Adidas', 'color': 'pink', 'size': '39'},\n",
       " {'brand': 'Adidas', 'color': 'pink', 'size': '41'},\n",
       " {'brand': 'Adidas', 'color': 'pink', 'size': '39'},\n",
       " {'brand': 'Adidas', 'color': 'orange', 'size': '39'},\n",
       " {'brand': 'Adidas', 'color': 'white', 'size': '36'},\n",
       " {'brand': 'Adidas', 'color': 'pink', 'size': '41'},\n",
       " {'brand': 'Adidas', 'color': 'black', 'size': '41'},\n",
       " {'brand': 'Adidas', 'color': 'black', 'size': '42'},\n",
       " {'brand': 'Adidas', 'color': 'white', 'size': '40'},\n",
       " {'brand': 'Adidas', 'color': 'orange', 'size': '37'},\n",
       " {'brand': 'Adidas', 'color': 'pink', 'size': '36'},\n",
       " {'brand': 'Adidas', 'color': 'white', 'size': '35'},\n",
       " {'brand': 'Adidas', 'color': 'black', 'size': '42'},\n",
       " {'brand': 'New Balance', 'color': 'pink', 'size': '41'},\n",
       " {'brand': 'New Balance', 'color': 'orange', 'size': '38'},\n",
       " {'brand': 'New Balance', 'color': 'orange', 'size': '39'},\n",
       " {'brand': 'New Balance', 'color': 'black', 'size': '43'},\n",
       " {'brand': 'New Balance', 'color': 'orange', 'size': '44'},\n",
       " {'brand': 'New Balance', 'color': 'orange', 'size': '37'},\n",
       " {'brand': 'New Balance', 'color': 'pink', 'size': '40'},\n",
       " {'brand': 'New Balance', 'color': 'pink', 'size': '41'},\n",
       " {'brand': 'New Balance', 'color': 'orange', 'size': '41'},\n",
       " {'brand': 'New Balance', 'color': 'orange', 'size': '40'},\n",
       " {'brand': 'New Balance', 'color': 'white', 'size': '44'},\n",
       " {'brand': 'New Balance', 'color': 'pink', 'size': '40'},\n",
       " {'brand': 'New Balance', 'color': 'white', 'size': '39'},\n",
       " {'brand': 'New Balance', 'color': 'orange', 'size': '40'},\n",
       " {'brand': 'New Balance', 'color': 'black', 'size': '40'},\n",
       " {'brand': 'New Balance', 'color': 'orange', 'size': '39'},\n",
       " {'brand': 'New Balance', 'color': 'orange', 'size': '41'},\n",
       " {'brand': 'New Balance', 'color': 'white', 'size': '35'},\n",
       " {'brand': 'New Balance', 'color': 'orange', 'size': '43'},\n",
       " {'brand': 'New Balance', 'color': 'pink', 'size': '40'},\n",
       " {'brand': 'New Balance', 'color': 'black', 'size': '40'},\n",
       " {'brand': 'New Balance', 'color': 'pink', 'size': '40'},\n",
       " {'brand': 'New Balance', 'color': 'white', 'size': '38'},\n",
       " {'brand': 'New Balance', 'color': 'black', 'size': '40'},\n",
       " {'brand': 'New Balance', 'color': 'pink', 'size': '40'},\n",
       " {'brand': 'New Balance', 'color': 'orange', 'size': '38'},\n",
       " {'brand': 'New Balance', 'color': 'black', 'size': '43'},\n",
       " {'brand': 'New Balance', 'color': 'pink', 'size': '39'},\n",
       " {'brand': 'New Balance', 'color': 'orange', 'size': '40'},\n",
       " {'brand': 'New Balance', 'color': 'white', 'size': '44'},\n",
       " {'brand': 'Nike', 'color': 'black', 'size': '41'},\n",
       " {'brand': 'Nike', 'color': 'white', 'size': '44'},\n",
       " {'brand': 'Nike', 'color': 'pink', 'size': '44'},\n",
       " {'brand': 'Nike', 'color': 'black', 'size': '41'},\n",
       " {'brand': 'Nike', 'color': 'pink', 'size': '41'},\n",
       " {'brand': 'Nike', 'color': 'pink', 'size': '43'},\n",
       " {'brand': 'Nike', 'color': 'black', 'size': '43'},\n",
       " {'brand': 'Nike', 'color': 'black', 'size': '42'},\n",
       " {'brand': 'Nike', 'color': 'black', 'size': '35'},\n",
       " {'brand': 'Nike', 'color': 'black', 'size': '43'},\n",
       " {'brand': 'Nike', 'color': 'pink', 'size': '36'},\n",
       " {'brand': 'Nike', 'color': 'black', 'size': '42'},\n",
       " {'brand': 'Nike', 'color': 'white', 'size': '37'},\n",
       " {'brand': 'Nike', 'color': 'black', 'size': '35'},\n",
       " {'brand': 'Nike', 'color': 'white', 'size': '37'},\n",
       " {'brand': 'Nike', 'color': 'pink', 'size': '44'},\n",
       " {'brand': 'Nike', 'color': 'pink', 'size': '38'},\n",
       " {'brand': 'Nike', 'color': 'pink', 'size': '40'},\n",
       " {'brand': 'Nike', 'color': 'white', 'size': '44'},\n",
       " {'brand': 'Nike', 'color': 'orange', 'size': '38'},\n",
       " {'brand': 'Nike', 'color': 'white', 'size': '37'},\n",
       " {'brand': 'Nike', 'color': 'orange', 'size': '38'},\n",
       " {'brand': 'Nike', 'color': 'pink', 'size': '40'},\n",
       " {'brand': 'Nike', 'color': 'orange', 'size': '40'},\n",
       " {'brand': 'Nike', 'color': 'pink', 'size': '40'},\n",
       " {'brand': 'Nike', 'color': 'black', 'size': '41'},\n",
       " {'brand': 'Nike', 'color': 'black', 'size': '39'},\n",
       " {'brand': 'Nike', 'color': 'orange', 'size': '36'},\n",
       " {'brand': 'Nike', 'color': 'black', 'size': '38'},\n",
       " {'brand': 'Nike', 'color': 'pink', 'size': '41'},\n",
       " {'brand': 'Nike', 'color': 'black', 'size': '44'},\n",
       " {'brand': 'Nike', 'color': 'black', 'size': '38'},\n",
       " {'brand': 'Nike', 'color': 'pink', 'size': '42'},\n",
       " {'brand': 'Nike', 'color': 'white', 'size': '38'},\n",
       " {'brand': 'Nike', 'color': 'orange', 'size': '39'},\n",
       " {'brand': 'Nike', 'color': 'black', 'size': '35'}]"
      ]
     },
     "execution_count": 21,
     "metadata": {},
     "output_type": "execute_result"
    }
   ],
   "source": [
    "user_sort_field = input('Enter sort field: ')\n",
    "\n",
    "def by_field(user_sort_field):\n",
    "    def wrapper(shoe_dict):\n",
    "        return shoe_dict[user_sort_field]\n",
    "    return wrapper\n",
    "\n",
    "sorted(shoes, key=by_field(user_sort_field))"
   ]
  },
  {
   "cell_type": "code",
   "execution_count": 22,
   "id": "2195e2c7",
   "metadata": {},
   "outputs": [
    {
     "name": "stdout",
     "output_type": "stream",
     "text": [
      "Enter sort field: brand\n"
     ]
    },
    {
     "data": {
      "text/plain": [
       "[{'brand': 'Adidas', 'color': 'orange', 'size': '43'},\n",
       " {'brand': 'Adidas', 'color': 'black', 'size': '39'},\n",
       " {'brand': 'Adidas', 'color': 'pink', 'size': '44'},\n",
       " {'brand': 'Adidas', 'color': 'orange', 'size': '37'},\n",
       " {'brand': 'Adidas', 'color': 'black', 'size': '38'},\n",
       " {'brand': 'Adidas', 'color': 'pink', 'size': '41'},\n",
       " {'brand': 'Adidas', 'color': 'white', 'size': '36'},\n",
       " {'brand': 'Adidas', 'color': 'orange', 'size': '36'},\n",
       " {'brand': 'Adidas', 'color': 'pink', 'size': '35'},\n",
       " {'brand': 'Adidas', 'color': 'black', 'size': '41'},\n",
       " {'brand': 'Adidas', 'color': 'white', 'size': '35'},\n",
       " {'brand': 'Adidas', 'color': 'orange', 'size': '40'},\n",
       " {'brand': 'Adidas', 'color': 'black', 'size': '41'},\n",
       " {'brand': 'Adidas', 'color': 'black', 'size': '39'},\n",
       " {'brand': 'Adidas', 'color': 'black', 'size': '40'},\n",
       " {'brand': 'Adidas', 'color': 'orange', 'size': '38'},\n",
       " {'brand': 'Adidas', 'color': 'white', 'size': '39'},\n",
       " {'brand': 'Adidas', 'color': 'orange', 'size': '37'},\n",
       " {'brand': 'Adidas', 'color': 'pink', 'size': '35'},\n",
       " {'brand': 'Adidas', 'color': 'black', 'size': '39'},\n",
       " {'brand': 'Adidas', 'color': 'orange', 'size': '42'},\n",
       " {'brand': 'Adidas', 'color': 'pink', 'size': '39'},\n",
       " {'brand': 'Adidas', 'color': 'pink', 'size': '41'},\n",
       " {'brand': 'Adidas', 'color': 'pink', 'size': '39'},\n",
       " {'brand': 'Adidas', 'color': 'orange', 'size': '39'},\n",
       " {'brand': 'Adidas', 'color': 'white', 'size': '36'},\n",
       " {'brand': 'Adidas', 'color': 'pink', 'size': '41'},\n",
       " {'brand': 'Adidas', 'color': 'black', 'size': '41'},\n",
       " {'brand': 'Adidas', 'color': 'black', 'size': '42'},\n",
       " {'brand': 'Adidas', 'color': 'white', 'size': '40'},\n",
       " {'brand': 'Adidas', 'color': 'orange', 'size': '37'},\n",
       " {'brand': 'Adidas', 'color': 'pink', 'size': '36'},\n",
       " {'brand': 'Adidas', 'color': 'white', 'size': '35'},\n",
       " {'brand': 'Adidas', 'color': 'black', 'size': '42'},\n",
       " {'brand': 'New Balance', 'color': 'pink', 'size': '41'},\n",
       " {'brand': 'New Balance', 'color': 'orange', 'size': '38'},\n",
       " {'brand': 'New Balance', 'color': 'orange', 'size': '39'},\n",
       " {'brand': 'New Balance', 'color': 'black', 'size': '43'},\n",
       " {'brand': 'New Balance', 'color': 'orange', 'size': '44'},\n",
       " {'brand': 'New Balance', 'color': 'orange', 'size': '37'},\n",
       " {'brand': 'New Balance', 'color': 'pink', 'size': '40'},\n",
       " {'brand': 'New Balance', 'color': 'pink', 'size': '41'},\n",
       " {'brand': 'New Balance', 'color': 'orange', 'size': '41'},\n",
       " {'brand': 'New Balance', 'color': 'orange', 'size': '40'},\n",
       " {'brand': 'New Balance', 'color': 'white', 'size': '44'},\n",
       " {'brand': 'New Balance', 'color': 'pink', 'size': '40'},\n",
       " {'brand': 'New Balance', 'color': 'white', 'size': '39'},\n",
       " {'brand': 'New Balance', 'color': 'orange', 'size': '40'},\n",
       " {'brand': 'New Balance', 'color': 'black', 'size': '40'},\n",
       " {'brand': 'New Balance', 'color': 'orange', 'size': '39'},\n",
       " {'brand': 'New Balance', 'color': 'orange', 'size': '41'},\n",
       " {'brand': 'New Balance', 'color': 'white', 'size': '35'},\n",
       " {'brand': 'New Balance', 'color': 'orange', 'size': '43'},\n",
       " {'brand': 'New Balance', 'color': 'pink', 'size': '40'},\n",
       " {'brand': 'New Balance', 'color': 'black', 'size': '40'},\n",
       " {'brand': 'New Balance', 'color': 'pink', 'size': '40'},\n",
       " {'brand': 'New Balance', 'color': 'white', 'size': '38'},\n",
       " {'brand': 'New Balance', 'color': 'black', 'size': '40'},\n",
       " {'brand': 'New Balance', 'color': 'pink', 'size': '40'},\n",
       " {'brand': 'New Balance', 'color': 'orange', 'size': '38'},\n",
       " {'brand': 'New Balance', 'color': 'black', 'size': '43'},\n",
       " {'brand': 'New Balance', 'color': 'pink', 'size': '39'},\n",
       " {'brand': 'New Balance', 'color': 'orange', 'size': '40'},\n",
       " {'brand': 'New Balance', 'color': 'white', 'size': '44'},\n",
       " {'brand': 'Nike', 'color': 'black', 'size': '41'},\n",
       " {'brand': 'Nike', 'color': 'white', 'size': '44'},\n",
       " {'brand': 'Nike', 'color': 'pink', 'size': '44'},\n",
       " {'brand': 'Nike', 'color': 'black', 'size': '41'},\n",
       " {'brand': 'Nike', 'color': 'pink', 'size': '41'},\n",
       " {'brand': 'Nike', 'color': 'pink', 'size': '43'},\n",
       " {'brand': 'Nike', 'color': 'black', 'size': '43'},\n",
       " {'brand': 'Nike', 'color': 'black', 'size': '42'},\n",
       " {'brand': 'Nike', 'color': 'black', 'size': '35'},\n",
       " {'brand': 'Nike', 'color': 'black', 'size': '43'},\n",
       " {'brand': 'Nike', 'color': 'pink', 'size': '36'},\n",
       " {'brand': 'Nike', 'color': 'black', 'size': '42'},\n",
       " {'brand': 'Nike', 'color': 'white', 'size': '37'},\n",
       " {'brand': 'Nike', 'color': 'black', 'size': '35'},\n",
       " {'brand': 'Nike', 'color': 'white', 'size': '37'},\n",
       " {'brand': 'Nike', 'color': 'pink', 'size': '44'},\n",
       " {'brand': 'Nike', 'color': 'pink', 'size': '38'},\n",
       " {'brand': 'Nike', 'color': 'pink', 'size': '40'},\n",
       " {'brand': 'Nike', 'color': 'white', 'size': '44'},\n",
       " {'brand': 'Nike', 'color': 'orange', 'size': '38'},\n",
       " {'brand': 'Nike', 'color': 'white', 'size': '37'},\n",
       " {'brand': 'Nike', 'color': 'orange', 'size': '38'},\n",
       " {'brand': 'Nike', 'color': 'pink', 'size': '40'},\n",
       " {'brand': 'Nike', 'color': 'orange', 'size': '40'},\n",
       " {'brand': 'Nike', 'color': 'pink', 'size': '40'},\n",
       " {'brand': 'Nike', 'color': 'black', 'size': '41'},\n",
       " {'brand': 'Nike', 'color': 'black', 'size': '39'},\n",
       " {'brand': 'Nike', 'color': 'orange', 'size': '36'},\n",
       " {'brand': 'Nike', 'color': 'black', 'size': '38'},\n",
       " {'brand': 'Nike', 'color': 'pink', 'size': '41'},\n",
       " {'brand': 'Nike', 'color': 'black', 'size': '44'},\n",
       " {'brand': 'Nike', 'color': 'black', 'size': '38'},\n",
       " {'brand': 'Nike', 'color': 'pink', 'size': '42'},\n",
       " {'brand': 'Nike', 'color': 'white', 'size': '38'},\n",
       " {'brand': 'Nike', 'color': 'orange', 'size': '39'},\n",
       " {'brand': 'Nike', 'color': 'black', 'size': '35'}]"
      ]
     },
     "execution_count": 22,
     "metadata": {},
     "output_type": "execute_result"
    }
   ],
   "source": [
    "user_sort_field = input('Enter sort field: ')\n",
    "\n",
    "def by_user_field(shoe_dict):\n",
    "    return shoe_dict[user_sort_field]\n",
    "\n",
    "sorted(shoes, key=by_user_field)"
   ]
  },
  {
   "cell_type": "code",
   "execution_count": 23,
   "id": "637e04c3",
   "metadata": {},
   "outputs": [
    {
     "name": "stdout",
     "output_type": "stream",
     "text": [
      "Enter sort fields: brand size\n"
     ]
    },
    {
     "data": {
      "text/plain": [
       "[{'brand': 'Adidas', 'color': 'pink', 'size': '35'},\n",
       " {'brand': 'Adidas', 'color': 'white', 'size': '35'},\n",
       " {'brand': 'Adidas', 'color': 'pink', 'size': '35'},\n",
       " {'brand': 'Adidas', 'color': 'white', 'size': '35'},\n",
       " {'brand': 'Adidas', 'color': 'white', 'size': '36'},\n",
       " {'brand': 'Adidas', 'color': 'orange', 'size': '36'},\n",
       " {'brand': 'Adidas', 'color': 'white', 'size': '36'},\n",
       " {'brand': 'Adidas', 'color': 'pink', 'size': '36'},\n",
       " {'brand': 'Adidas', 'color': 'orange', 'size': '37'},\n",
       " {'brand': 'Adidas', 'color': 'orange', 'size': '37'},\n",
       " {'brand': 'Adidas', 'color': 'orange', 'size': '37'},\n",
       " {'brand': 'Adidas', 'color': 'black', 'size': '38'},\n",
       " {'brand': 'Adidas', 'color': 'orange', 'size': '38'},\n",
       " {'brand': 'Adidas', 'color': 'black', 'size': '39'},\n",
       " {'brand': 'Adidas', 'color': 'black', 'size': '39'},\n",
       " {'brand': 'Adidas', 'color': 'white', 'size': '39'},\n",
       " {'brand': 'Adidas', 'color': 'black', 'size': '39'},\n",
       " {'brand': 'Adidas', 'color': 'pink', 'size': '39'},\n",
       " {'brand': 'Adidas', 'color': 'pink', 'size': '39'},\n",
       " {'brand': 'Adidas', 'color': 'orange', 'size': '39'},\n",
       " {'brand': 'Adidas', 'color': 'orange', 'size': '40'},\n",
       " {'brand': 'Adidas', 'color': 'black', 'size': '40'},\n",
       " {'brand': 'Adidas', 'color': 'white', 'size': '40'},\n",
       " {'brand': 'Adidas', 'color': 'pink', 'size': '41'},\n",
       " {'brand': 'Adidas', 'color': 'black', 'size': '41'},\n",
       " {'brand': 'Adidas', 'color': 'black', 'size': '41'},\n",
       " {'brand': 'Adidas', 'color': 'pink', 'size': '41'},\n",
       " {'brand': 'Adidas', 'color': 'pink', 'size': '41'},\n",
       " {'brand': 'Adidas', 'color': 'black', 'size': '41'},\n",
       " {'brand': 'Adidas', 'color': 'orange', 'size': '42'},\n",
       " {'brand': 'Adidas', 'color': 'black', 'size': '42'},\n",
       " {'brand': 'Adidas', 'color': 'black', 'size': '42'},\n",
       " {'brand': 'Adidas', 'color': 'orange', 'size': '43'},\n",
       " {'brand': 'Adidas', 'color': 'pink', 'size': '44'},\n",
       " {'brand': 'New Balance', 'color': 'white', 'size': '35'},\n",
       " {'brand': 'New Balance', 'color': 'orange', 'size': '37'},\n",
       " {'brand': 'New Balance', 'color': 'orange', 'size': '38'},\n",
       " {'brand': 'New Balance', 'color': 'white', 'size': '38'},\n",
       " {'brand': 'New Balance', 'color': 'orange', 'size': '38'},\n",
       " {'brand': 'New Balance', 'color': 'orange', 'size': '39'},\n",
       " {'brand': 'New Balance', 'color': 'white', 'size': '39'},\n",
       " {'brand': 'New Balance', 'color': 'orange', 'size': '39'},\n",
       " {'brand': 'New Balance', 'color': 'pink', 'size': '39'},\n",
       " {'brand': 'New Balance', 'color': 'pink', 'size': '40'},\n",
       " {'brand': 'New Balance', 'color': 'orange', 'size': '40'},\n",
       " {'brand': 'New Balance', 'color': 'pink', 'size': '40'},\n",
       " {'brand': 'New Balance', 'color': 'orange', 'size': '40'},\n",
       " {'brand': 'New Balance', 'color': 'black', 'size': '40'},\n",
       " {'brand': 'New Balance', 'color': 'pink', 'size': '40'},\n",
       " {'brand': 'New Balance', 'color': 'black', 'size': '40'},\n",
       " {'brand': 'New Balance', 'color': 'pink', 'size': '40'},\n",
       " {'brand': 'New Balance', 'color': 'black', 'size': '40'},\n",
       " {'brand': 'New Balance', 'color': 'pink', 'size': '40'},\n",
       " {'brand': 'New Balance', 'color': 'orange', 'size': '40'},\n",
       " {'brand': 'New Balance', 'color': 'pink', 'size': '41'},\n",
       " {'brand': 'New Balance', 'color': 'pink', 'size': '41'},\n",
       " {'brand': 'New Balance', 'color': 'orange', 'size': '41'},\n",
       " {'brand': 'New Balance', 'color': 'orange', 'size': '41'},\n",
       " {'brand': 'New Balance', 'color': 'black', 'size': '43'},\n",
       " {'brand': 'New Balance', 'color': 'orange', 'size': '43'},\n",
       " {'brand': 'New Balance', 'color': 'black', 'size': '43'},\n",
       " {'brand': 'New Balance', 'color': 'orange', 'size': '44'},\n",
       " {'brand': 'New Balance', 'color': 'white', 'size': '44'},\n",
       " {'brand': 'New Balance', 'color': 'white', 'size': '44'},\n",
       " {'brand': 'Nike', 'color': 'black', 'size': '35'},\n",
       " {'brand': 'Nike', 'color': 'black', 'size': '35'},\n",
       " {'brand': 'Nike', 'color': 'black', 'size': '35'},\n",
       " {'brand': 'Nike', 'color': 'pink', 'size': '36'},\n",
       " {'brand': 'Nike', 'color': 'orange', 'size': '36'},\n",
       " {'brand': 'Nike', 'color': 'white', 'size': '37'},\n",
       " {'brand': 'Nike', 'color': 'white', 'size': '37'},\n",
       " {'brand': 'Nike', 'color': 'white', 'size': '37'},\n",
       " {'brand': 'Nike', 'color': 'pink', 'size': '38'},\n",
       " {'brand': 'Nike', 'color': 'orange', 'size': '38'},\n",
       " {'brand': 'Nike', 'color': 'orange', 'size': '38'},\n",
       " {'brand': 'Nike', 'color': 'black', 'size': '38'},\n",
       " {'brand': 'Nike', 'color': 'black', 'size': '38'},\n",
       " {'brand': 'Nike', 'color': 'white', 'size': '38'},\n",
       " {'brand': 'Nike', 'color': 'black', 'size': '39'},\n",
       " {'brand': 'Nike', 'color': 'orange', 'size': '39'},\n",
       " {'brand': 'Nike', 'color': 'pink', 'size': '40'},\n",
       " {'brand': 'Nike', 'color': 'pink', 'size': '40'},\n",
       " {'brand': 'Nike', 'color': 'orange', 'size': '40'},\n",
       " {'brand': 'Nike', 'color': 'pink', 'size': '40'},\n",
       " {'brand': 'Nike', 'color': 'black', 'size': '41'},\n",
       " {'brand': 'Nike', 'color': 'black', 'size': '41'},\n",
       " {'brand': 'Nike', 'color': 'pink', 'size': '41'},\n",
       " {'brand': 'Nike', 'color': 'black', 'size': '41'},\n",
       " {'brand': 'Nike', 'color': 'pink', 'size': '41'},\n",
       " {'brand': 'Nike', 'color': 'black', 'size': '42'},\n",
       " {'brand': 'Nike', 'color': 'black', 'size': '42'},\n",
       " {'brand': 'Nike', 'color': 'pink', 'size': '42'},\n",
       " {'brand': 'Nike', 'color': 'pink', 'size': '43'},\n",
       " {'brand': 'Nike', 'color': 'black', 'size': '43'},\n",
       " {'brand': 'Nike', 'color': 'black', 'size': '43'},\n",
       " {'brand': 'Nike', 'color': 'white', 'size': '44'},\n",
       " {'brand': 'Nike', 'color': 'pink', 'size': '44'},\n",
       " {'brand': 'Nike', 'color': 'pink', 'size': '44'},\n",
       " {'brand': 'Nike', 'color': 'white', 'size': '44'},\n",
       " {'brand': 'Nike', 'color': 'black', 'size': '44'}]"
      ]
     },
     "execution_count": 23,
     "metadata": {},
     "output_type": "execute_result"
    }
   ],
   "source": [
    "# sort by multiple fields \n",
    "\n",
    "user_sort_fields = input('Enter sort fields: ').split()\n",
    "\n",
    "def by_fields(user_sort_fields):\n",
    "    def wrapper(shoe_dict):\n",
    "        return [shoe_dict[one_field]\n",
    "               for one_field in user_sort_fields]\n",
    "    return wrapper\n",
    "\n",
    "sorted(shoes, key=by_fields(user_sort_fields))"
   ]
  },
  {
   "cell_type": "code",
   "execution_count": 24,
   "id": "9d4a3f09",
   "metadata": {},
   "outputs": [
    {
     "name": "stdout",
     "output_type": "stream",
     "text": [
      "Enter sort fields: brand size\n"
     ]
    },
    {
     "data": {
      "text/plain": [
       "[{'brand': 'Adidas', 'color': 'pink', 'size': '35'},\n",
       " {'brand': 'Adidas', 'color': 'white', 'size': '35'},\n",
       " {'brand': 'Adidas', 'color': 'pink', 'size': '35'},\n",
       " {'brand': 'Adidas', 'color': 'white', 'size': '35'},\n",
       " {'brand': 'Adidas', 'color': 'white', 'size': '36'},\n",
       " {'brand': 'Adidas', 'color': 'orange', 'size': '36'},\n",
       " {'brand': 'Adidas', 'color': 'white', 'size': '36'},\n",
       " {'brand': 'Adidas', 'color': 'pink', 'size': '36'},\n",
       " {'brand': 'Adidas', 'color': 'orange', 'size': '37'},\n",
       " {'brand': 'Adidas', 'color': 'orange', 'size': '37'},\n",
       " {'brand': 'Adidas', 'color': 'orange', 'size': '37'},\n",
       " {'brand': 'Adidas', 'color': 'black', 'size': '38'},\n",
       " {'brand': 'Adidas', 'color': 'orange', 'size': '38'},\n",
       " {'brand': 'Adidas', 'color': 'black', 'size': '39'},\n",
       " {'brand': 'Adidas', 'color': 'black', 'size': '39'},\n",
       " {'brand': 'Adidas', 'color': 'white', 'size': '39'},\n",
       " {'brand': 'Adidas', 'color': 'black', 'size': '39'},\n",
       " {'brand': 'Adidas', 'color': 'pink', 'size': '39'},\n",
       " {'brand': 'Adidas', 'color': 'pink', 'size': '39'},\n",
       " {'brand': 'Adidas', 'color': 'orange', 'size': '39'},\n",
       " {'brand': 'Adidas', 'color': 'orange', 'size': '40'},\n",
       " {'brand': 'Adidas', 'color': 'black', 'size': '40'},\n",
       " {'brand': 'Adidas', 'color': 'white', 'size': '40'},\n",
       " {'brand': 'Adidas', 'color': 'pink', 'size': '41'},\n",
       " {'brand': 'Adidas', 'color': 'black', 'size': '41'},\n",
       " {'brand': 'Adidas', 'color': 'black', 'size': '41'},\n",
       " {'brand': 'Adidas', 'color': 'pink', 'size': '41'},\n",
       " {'brand': 'Adidas', 'color': 'pink', 'size': '41'},\n",
       " {'brand': 'Adidas', 'color': 'black', 'size': '41'},\n",
       " {'brand': 'Adidas', 'color': 'orange', 'size': '42'},\n",
       " {'brand': 'Adidas', 'color': 'black', 'size': '42'},\n",
       " {'brand': 'Adidas', 'color': 'black', 'size': '42'},\n",
       " {'brand': 'Adidas', 'color': 'orange', 'size': '43'},\n",
       " {'brand': 'Adidas', 'color': 'pink', 'size': '44'},\n",
       " {'brand': 'New Balance', 'color': 'white', 'size': '35'},\n",
       " {'brand': 'New Balance', 'color': 'orange', 'size': '37'},\n",
       " {'brand': 'New Balance', 'color': 'orange', 'size': '38'},\n",
       " {'brand': 'New Balance', 'color': 'white', 'size': '38'},\n",
       " {'brand': 'New Balance', 'color': 'orange', 'size': '38'},\n",
       " {'brand': 'New Balance', 'color': 'orange', 'size': '39'},\n",
       " {'brand': 'New Balance', 'color': 'white', 'size': '39'},\n",
       " {'brand': 'New Balance', 'color': 'orange', 'size': '39'},\n",
       " {'brand': 'New Balance', 'color': 'pink', 'size': '39'},\n",
       " {'brand': 'New Balance', 'color': 'pink', 'size': '40'},\n",
       " {'brand': 'New Balance', 'color': 'orange', 'size': '40'},\n",
       " {'brand': 'New Balance', 'color': 'pink', 'size': '40'},\n",
       " {'brand': 'New Balance', 'color': 'orange', 'size': '40'},\n",
       " {'brand': 'New Balance', 'color': 'black', 'size': '40'},\n",
       " {'brand': 'New Balance', 'color': 'pink', 'size': '40'},\n",
       " {'brand': 'New Balance', 'color': 'black', 'size': '40'},\n",
       " {'brand': 'New Balance', 'color': 'pink', 'size': '40'},\n",
       " {'brand': 'New Balance', 'color': 'black', 'size': '40'},\n",
       " {'brand': 'New Balance', 'color': 'pink', 'size': '40'},\n",
       " {'brand': 'New Balance', 'color': 'orange', 'size': '40'},\n",
       " {'brand': 'New Balance', 'color': 'pink', 'size': '41'},\n",
       " {'brand': 'New Balance', 'color': 'pink', 'size': '41'},\n",
       " {'brand': 'New Balance', 'color': 'orange', 'size': '41'},\n",
       " {'brand': 'New Balance', 'color': 'orange', 'size': '41'},\n",
       " {'brand': 'New Balance', 'color': 'black', 'size': '43'},\n",
       " {'brand': 'New Balance', 'color': 'orange', 'size': '43'},\n",
       " {'brand': 'New Balance', 'color': 'black', 'size': '43'},\n",
       " {'brand': 'New Balance', 'color': 'orange', 'size': '44'},\n",
       " {'brand': 'New Balance', 'color': 'white', 'size': '44'},\n",
       " {'brand': 'New Balance', 'color': 'white', 'size': '44'},\n",
       " {'brand': 'Nike', 'color': 'black', 'size': '35'},\n",
       " {'brand': 'Nike', 'color': 'black', 'size': '35'},\n",
       " {'brand': 'Nike', 'color': 'black', 'size': '35'},\n",
       " {'brand': 'Nike', 'color': 'pink', 'size': '36'},\n",
       " {'brand': 'Nike', 'color': 'orange', 'size': '36'},\n",
       " {'brand': 'Nike', 'color': 'white', 'size': '37'},\n",
       " {'brand': 'Nike', 'color': 'white', 'size': '37'},\n",
       " {'brand': 'Nike', 'color': 'white', 'size': '37'},\n",
       " {'brand': 'Nike', 'color': 'pink', 'size': '38'},\n",
       " {'brand': 'Nike', 'color': 'orange', 'size': '38'},\n",
       " {'brand': 'Nike', 'color': 'orange', 'size': '38'},\n",
       " {'brand': 'Nike', 'color': 'black', 'size': '38'},\n",
       " {'brand': 'Nike', 'color': 'black', 'size': '38'},\n",
       " {'brand': 'Nike', 'color': 'white', 'size': '38'},\n",
       " {'brand': 'Nike', 'color': 'black', 'size': '39'},\n",
       " {'brand': 'Nike', 'color': 'orange', 'size': '39'},\n",
       " {'brand': 'Nike', 'color': 'pink', 'size': '40'},\n",
       " {'brand': 'Nike', 'color': 'pink', 'size': '40'},\n",
       " {'brand': 'Nike', 'color': 'orange', 'size': '40'},\n",
       " {'brand': 'Nike', 'color': 'pink', 'size': '40'},\n",
       " {'brand': 'Nike', 'color': 'black', 'size': '41'},\n",
       " {'brand': 'Nike', 'color': 'black', 'size': '41'},\n",
       " {'brand': 'Nike', 'color': 'pink', 'size': '41'},\n",
       " {'brand': 'Nike', 'color': 'black', 'size': '41'},\n",
       " {'brand': 'Nike', 'color': 'pink', 'size': '41'},\n",
       " {'brand': 'Nike', 'color': 'black', 'size': '42'},\n",
       " {'brand': 'Nike', 'color': 'black', 'size': '42'},\n",
       " {'brand': 'Nike', 'color': 'pink', 'size': '42'},\n",
       " {'brand': 'Nike', 'color': 'pink', 'size': '43'},\n",
       " {'brand': 'Nike', 'color': 'black', 'size': '43'},\n",
       " {'brand': 'Nike', 'color': 'black', 'size': '43'},\n",
       " {'brand': 'Nike', 'color': 'white', 'size': '44'},\n",
       " {'brand': 'Nike', 'color': 'pink', 'size': '44'},\n",
       " {'brand': 'Nike', 'color': 'pink', 'size': '44'},\n",
       " {'brand': 'Nike', 'color': 'white', 'size': '44'},\n",
       " {'brand': 'Nike', 'color': 'black', 'size': '44'}]"
      ]
     },
     "execution_count": 24,
     "metadata": {},
     "output_type": "execute_result"
    }
   ],
   "source": [
    "import operator\n",
    "\n",
    "user_sort_fields = input('Enter sort fields: ').split()\n",
    "\n",
    "sorted(shoes, key=operator.itemgetter(*user_sort_fields))"
   ]
  },
  {
   "cell_type": "code",
   "execution_count": 25,
   "id": "74405447",
   "metadata": {},
   "outputs": [
    {
     "data": {
      "text/plain": [
       "7868"
      ]
     },
     "execution_count": 25,
     "metadata": {},
     "output_type": "execute_result"
    }
   ],
   "source": [
    "def get_file_length(filename):\n",
    "    total = 0\n",
    "    \n",
    "    for one_line in open(filename):\n",
    "        total += len(one_line)\n",
    "        \n",
    "    return total\n",
    "\n",
    "get_file_length('/etc/passwd')"
   ]
  },
  {
   "cell_type": "code",
   "execution_count": 29,
   "id": "9d5c5995",
   "metadata": {},
   "outputs": [
    {
     "data": {
      "text/plain": [
       "36562"
      ]
     },
     "execution_count": 29,
     "metadata": {},
     "output_type": "execute_result"
    }
   ],
   "source": [
    "get_file_length('mini-access-log.txt')"
   ]
  },
  {
   "cell_type": "code",
   "execution_count": 31,
   "id": "32d0a07c",
   "metadata": {},
   "outputs": [
    {
     "data": {
      "text/plain": [
       "{'/etc/passwd': 7868, 'mini-access-log.txt': 36562}"
      ]
     },
     "execution_count": 31,
     "metadata": {},
     "output_type": "execute_result"
    }
   ],
   "source": [
    "def run_on_files(func, *filenames):\n",
    "    return { one_filename : func(one_filename)\n",
    "         for one_filename in filenames}\n",
    "    \n",
    "run_on_files(get_file_length, '/etc/passwd', 'mini-access-log.txt')    "
   ]
  },
  {
   "cell_type": "code",
   "execution_count": 32,
   "id": "4fd22233",
   "metadata": {},
   "outputs": [],
   "source": [
    "# partial\n",
    "\n",
    "def add(first, second):\n",
    "    return first + second"
   ]
  },
  {
   "cell_type": "code",
   "execution_count": 33,
   "id": "fd1c3472",
   "metadata": {},
   "outputs": [
    {
     "data": {
      "text/plain": [
       "15"
      ]
     },
     "execution_count": 33,
     "metadata": {},
     "output_type": "execute_result"
    }
   ],
   "source": [
    "add(10, 5)"
   ]
  },
  {
   "cell_type": "code",
   "execution_count": 34,
   "id": "b1386032",
   "metadata": {},
   "outputs": [
    {
     "data": {
      "text/plain": [
       "13"
      ]
     },
     "execution_count": 34,
     "metadata": {},
     "output_type": "execute_result"
    }
   ],
   "source": [
    "add(10, 3)"
   ]
  },
  {
   "cell_type": "code",
   "execution_count": 35,
   "id": "386fc126",
   "metadata": {},
   "outputs": [
    {
     "data": {
      "text/plain": [
       "20"
      ]
     },
     "execution_count": 35,
     "metadata": {},
     "output_type": "execute_result"
    }
   ],
   "source": [
    "add(10, 10)"
   ]
  },
  {
   "cell_type": "code",
   "execution_count": 36,
   "id": "04d09b5f",
   "metadata": {},
   "outputs": [],
   "source": [
    "def add10(second):\n",
    "    return add(10, second)"
   ]
  },
  {
   "cell_type": "code",
   "execution_count": 37,
   "id": "440105aa",
   "metadata": {},
   "outputs": [
    {
     "data": {
      "text/plain": [
       "15"
      ]
     },
     "execution_count": 37,
     "metadata": {},
     "output_type": "execute_result"
    }
   ],
   "source": [
    "add10(5)"
   ]
  },
  {
   "cell_type": "code",
   "execution_count": 38,
   "id": "433ed6b2",
   "metadata": {},
   "outputs": [
    {
     "data": {
      "text/plain": [
       "13"
      ]
     },
     "execution_count": 38,
     "metadata": {},
     "output_type": "execute_result"
    }
   ],
   "source": [
    "add10(3)"
   ]
  },
  {
   "cell_type": "code",
   "execution_count": 39,
   "id": "3e132f5b",
   "metadata": {},
   "outputs": [
    {
     "data": {
      "text/plain": [
       "20"
      ]
     },
     "execution_count": 39,
     "metadata": {},
     "output_type": "execute_result"
    }
   ],
   "source": [
    "add10(10)"
   ]
  },
  {
   "cell_type": "code",
   "execution_count": 40,
   "id": "c8d98033",
   "metadata": {},
   "outputs": [],
   "source": [
    "from functools import partial\n",
    "\n",
    "add10 = partial(add, 10)"
   ]
  },
  {
   "cell_type": "code",
   "execution_count": 41,
   "id": "4ea4c87c",
   "metadata": {},
   "outputs": [
    {
     "data": {
      "text/plain": [
       "15"
      ]
     },
     "execution_count": 41,
     "metadata": {},
     "output_type": "execute_result"
    }
   ],
   "source": [
    "add10(5)"
   ]
  },
  {
   "cell_type": "code",
   "execution_count": 42,
   "id": "eb7b5dec",
   "metadata": {},
   "outputs": [
    {
     "data": {
      "text/plain": [
       "13"
      ]
     },
     "execution_count": 42,
     "metadata": {},
     "output_type": "execute_result"
    }
   ],
   "source": [
    "add10(3)"
   ]
  },
  {
   "cell_type": "code",
   "execution_count": null,
   "id": "060c0182",
   "metadata": {},
   "outputs": [],
   "source": []
  }
 ],
 "metadata": {
  "kernelspec": {
   "display_name": "Python 3 (ipykernel)",
   "language": "python",
   "name": "python3"
  },
  "language_info": {
   "codemirror_mode": {
    "name": "ipython",
    "version": 3
   },
   "file_extension": ".py",
   "mimetype": "text/x-python",
   "name": "python",
   "nbconvert_exporter": "python",
   "pygments_lexer": "ipython3",
   "version": "3.10.4"
  }
 },
 "nbformat": 4,
 "nbformat_minor": 5
}
