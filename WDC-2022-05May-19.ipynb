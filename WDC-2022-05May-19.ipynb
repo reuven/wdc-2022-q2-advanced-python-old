{
 "cells": [
  {
   "cell_type": "markdown",
   "id": "638f2250",
   "metadata": {},
   "source": [
    "# Agenda: Functions\n",
    "\n",
    "1. Defining functions\n",
    "2. Parameters and arguments\n",
    "3. Type annotations\n",
    "4. Scoping (LEGB)\n",
    "5. Byte codes and function compilation\n",
    "6. Enclosing functions\n",
    "7. Dispatch table"
   ]
  },
  {
   "cell_type": "code",
   "execution_count": 1,
   "id": "3747e354",
   "metadata": {},
   "outputs": [
    {
     "data": {
      "text/plain": [
       "int"
      ]
     },
     "execution_count": 1,
     "metadata": {},
     "output_type": "execute_result"
    }
   ],
   "source": [
    "s = 'abcd'\n",
    "x = len(s)\n",
    "\n",
    "type(x)"
   ]
  },
  {
   "cell_type": "code",
   "execution_count": 2,
   "id": "ed7c627e",
   "metadata": {},
   "outputs": [
    {
     "data": {
      "text/plain": [
       "4"
      ]
     },
     "execution_count": 2,
     "metadata": {},
     "output_type": "execute_result"
    }
   ],
   "source": [
    "x"
   ]
  },
  {
   "cell_type": "code",
   "execution_count": 3,
   "id": "32de19f5",
   "metadata": {},
   "outputs": [
    {
     "data": {
      "text/plain": [
       "str"
      ]
     },
     "execution_count": 3,
     "metadata": {},
     "output_type": "execute_result"
    }
   ],
   "source": [
    "x = s.upper()\n",
    "\n",
    "type(x)"
   ]
  },
  {
   "cell_type": "code",
   "execution_count": 4,
   "id": "2e2e967d",
   "metadata": {},
   "outputs": [],
   "source": [
    "x = s.upper"
   ]
  },
  {
   "cell_type": "code",
   "execution_count": 5,
   "id": "f9ae4668",
   "metadata": {},
   "outputs": [
    {
     "data": {
      "text/plain": [
       "builtin_function_or_method"
      ]
     },
     "execution_count": 5,
     "metadata": {},
     "output_type": "execute_result"
    }
   ],
   "source": [
    "type(x)"
   ]
  },
  {
   "cell_type": "code",
   "execution_count": 6,
   "id": "c340adbd",
   "metadata": {},
   "outputs": [
    {
     "data": {
      "text/plain": [
       "'ABCD'"
      ]
     },
     "execution_count": 6,
     "metadata": {},
     "output_type": "execute_result"
    }
   ],
   "source": [
    "x()"
   ]
  },
  {
   "cell_type": "code",
   "execution_count": 7,
   "id": "d4b5137d",
   "metadata": {},
   "outputs": [
    {
     "name": "stdout",
     "output_type": "stream",
     "text": [
      "a: 1\n",
      "b: 2\n",
      "c: 3\n"
     ]
    }
   ],
   "source": [
    "d = {'a':1, 'b':2, 'c':3}\n",
    "\n",
    "for key, value in d.items():\n",
    "    print(f'{key}: {value}')"
   ]
  },
  {
   "cell_type": "code",
   "execution_count": 8,
   "id": "50516c23",
   "metadata": {},
   "outputs": [
    {
     "ename": "TypeError",
     "evalue": "'builtin_function_or_method' object is not iterable",
     "output_type": "error",
     "traceback": [
      "\u001b[0;31m---------------------------------------------------------------------------\u001b[0m",
      "\u001b[0;31mTypeError\u001b[0m                                 Traceback (most recent call last)",
      "\u001b[0;32m/var/folders/rr/0mnyyv811fs5vyp22gf4fxk00000gn/T/ipykernel_10064/2797918967.py\u001b[0m in \u001b[0;36m<module>\u001b[0;34m\u001b[0m\n\u001b[1;32m      2\u001b[0m \u001b[0md\u001b[0m \u001b[0;34m=\u001b[0m \u001b[0;34m{\u001b[0m\u001b[0;34m'a'\u001b[0m\u001b[0;34m:\u001b[0m\u001b[0;36m1\u001b[0m\u001b[0;34m,\u001b[0m \u001b[0;34m'b'\u001b[0m\u001b[0;34m:\u001b[0m\u001b[0;36m2\u001b[0m\u001b[0;34m,\u001b[0m \u001b[0;34m'c'\u001b[0m\u001b[0;34m:\u001b[0m\u001b[0;36m3\u001b[0m\u001b[0;34m}\u001b[0m\u001b[0;34m\u001b[0m\u001b[0;34m\u001b[0m\u001b[0m\n\u001b[1;32m      3\u001b[0m \u001b[0;34m\u001b[0m\u001b[0m\n\u001b[0;32m----> 4\u001b[0;31m \u001b[0;32mfor\u001b[0m \u001b[0mkey\u001b[0m\u001b[0;34m,\u001b[0m \u001b[0mvalue\u001b[0m \u001b[0;32min\u001b[0m \u001b[0md\u001b[0m\u001b[0;34m.\u001b[0m\u001b[0mitems\u001b[0m\u001b[0;34m:\u001b[0m\u001b[0;34m\u001b[0m\u001b[0;34m\u001b[0m\u001b[0m\n\u001b[0m\u001b[1;32m      5\u001b[0m     \u001b[0mprint\u001b[0m\u001b[0;34m(\u001b[0m\u001b[0;34mf'{key}: {value}'\u001b[0m\u001b[0;34m)\u001b[0m\u001b[0;34m\u001b[0m\u001b[0;34m\u001b[0m\u001b[0m\n",
      "\u001b[0;31mTypeError\u001b[0m: 'builtin_function_or_method' object is not iterable"
     ]
    }
   ],
   "source": [
    "# many people try to do this\n",
    "d = {'a':1, 'b':2, 'c':3}\n",
    "\n",
    "for key, value in d.items:\n",
    "    print(f'{key}: {value}')"
   ]
  },
  {
   "cell_type": "markdown",
   "id": "6ac78a67",
   "metadata": {},
   "source": [
    "# Two types of arguments in Python\n",
    "\n",
    "- Positional arguments -- assigned to parameters according to their location\n",
    "- Keyword arguments -- they always look like `name=value`.  Assigned to a parameter via the name."
   ]
  },
  {
   "cell_type": "code",
   "execution_count": 12,
   "id": "40c0eb46",
   "metadata": {},
   "outputs": [],
   "source": [
    "def hello(name):\n",
    "    return f'Hello, {name}!'"
   ]
  },
  {
   "cell_type": "code",
   "execution_count": 13,
   "id": "0c13e457",
   "metadata": {},
   "outputs": [
    {
     "data": {
      "text/plain": [
       "'Hello, Reuven!'"
      ]
     },
     "execution_count": 13,
     "metadata": {},
     "output_type": "execute_result"
    }
   ],
   "source": [
    "hello('Reuven')"
   ]
  },
  {
   "cell_type": "code",
   "execution_count": 14,
   "id": "b3dd4582",
   "metadata": {},
   "outputs": [],
   "source": [
    "# parameters: name\n",
    "# arguments:  'Reuven' (positional)\n",
    "\n"
   ]
  },
  {
   "cell_type": "code",
   "execution_count": 15,
   "id": "b65df792",
   "metadata": {},
   "outputs": [
    {
     "data": {
      "text/plain": [
       "'Hello, Reuven!'"
      ]
     },
     "execution_count": 15,
     "metadata": {},
     "output_type": "execute_result"
    }
   ],
   "source": [
    "hello(name='Reuven')   # keyword\n",
    "\n",
    "# parameters:  name\n",
    "# arguments:   'Reuven'"
   ]
  },
  {
   "cell_type": "code",
   "execution_count": 16,
   "id": "7285aee8",
   "metadata": {},
   "outputs": [
    {
     "ename": "TypeError",
     "evalue": "hello() got an unexpected keyword argument 'whatever'",
     "output_type": "error",
     "traceback": [
      "\u001b[0;31m---------------------------------------------------------------------------\u001b[0m",
      "\u001b[0;31mTypeError\u001b[0m                                 Traceback (most recent call last)",
      "\u001b[0;32m/var/folders/rr/0mnyyv811fs5vyp22gf4fxk00000gn/T/ipykernel_10064/1625167261.py\u001b[0m in \u001b[0;36m<module>\u001b[0;34m\u001b[0m\n\u001b[0;32m----> 1\u001b[0;31m \u001b[0mhello\u001b[0m\u001b[0;34m(\u001b[0m\u001b[0mwhatever\u001b[0m\u001b[0;34m=\u001b[0m\u001b[0;34m'Reuven'\u001b[0m\u001b[0;34m)\u001b[0m\u001b[0;34m\u001b[0m\u001b[0;34m\u001b[0m\u001b[0m\n\u001b[0m",
      "\u001b[0;31mTypeError\u001b[0m: hello() got an unexpected keyword argument 'whatever'"
     ]
    }
   ],
   "source": [
    "hello(whatever='Reuven')"
   ]
  },
  {
   "cell_type": "code",
   "execution_count": 17,
   "id": "d5aa0593",
   "metadata": {},
   "outputs": [
    {
     "data": {
      "text/plain": [
       "('name',)"
      ]
     },
     "execution_count": 17,
     "metadata": {},
     "output_type": "execute_result"
    }
   ],
   "source": [
    "hello.__code__.co_varnames"
   ]
  },
  {
   "cell_type": "code",
   "execution_count": 18,
   "id": "0cd726a1",
   "metadata": {},
   "outputs": [
    {
     "data": {
      "text/plain": [
       "1"
      ]
     },
     "execution_count": 18,
     "metadata": {},
     "output_type": "execute_result"
    }
   ],
   "source": [
    "hello.__code__.co_argcount"
   ]
  },
  {
   "cell_type": "code",
   "execution_count": 19,
   "id": "549564e9",
   "metadata": {},
   "outputs": [
    {
     "data": {
      "text/plain": [
       "'Hello, world!'"
      ]
     },
     "execution_count": 19,
     "metadata": {},
     "output_type": "execute_result"
    }
   ],
   "source": [
    "hello('world')   #  'world' is assigned to name"
   ]
  },
  {
   "cell_type": "code",
   "execution_count": 20,
   "id": "5413b398",
   "metadata": {},
   "outputs": [
    {
     "ename": "TypeError",
     "evalue": "hello() missing 1 required positional argument: 'name'",
     "output_type": "error",
     "traceback": [
      "\u001b[0;31m---------------------------------------------------------------------------\u001b[0m",
      "\u001b[0;31mTypeError\u001b[0m                                 Traceback (most recent call last)",
      "\u001b[0;32m/var/folders/rr/0mnyyv811fs5vyp22gf4fxk00000gn/T/ipykernel_10064/2674044599.py\u001b[0m in \u001b[0;36m<module>\u001b[0;34m\u001b[0m\n\u001b[0;32m----> 1\u001b[0;31m \u001b[0mhello\u001b[0m\u001b[0;34m(\u001b[0m\u001b[0;34m)\u001b[0m\u001b[0;34m\u001b[0m\u001b[0;34m\u001b[0m\u001b[0m\n\u001b[0m",
      "\u001b[0;31mTypeError\u001b[0m: hello() missing 1 required positional argument: 'name'"
     ]
    }
   ],
   "source": [
    "hello()"
   ]
  },
  {
   "cell_type": "code",
   "execution_count": 21,
   "id": "818b54e3",
   "metadata": {},
   "outputs": [
    {
     "ename": "TypeError",
     "evalue": "hello() takes 1 positional argument but 2 were given",
     "output_type": "error",
     "traceback": [
      "\u001b[0;31m---------------------------------------------------------------------------\u001b[0m",
      "\u001b[0;31mTypeError\u001b[0m                                 Traceback (most recent call last)",
      "\u001b[0;32m/var/folders/rr/0mnyyv811fs5vyp22gf4fxk00000gn/T/ipykernel_10064/3083850753.py\u001b[0m in \u001b[0;36m<module>\u001b[0;34m\u001b[0m\n\u001b[0;32m----> 1\u001b[0;31m \u001b[0mhello\u001b[0m\u001b[0;34m(\u001b[0m\u001b[0;34m'x'\u001b[0m\u001b[0;34m,\u001b[0m \u001b[0;34m'y'\u001b[0m\u001b[0;34m)\u001b[0m\u001b[0;34m\u001b[0m\u001b[0;34m\u001b[0m\u001b[0m\n\u001b[0m",
      "\u001b[0;31mTypeError\u001b[0m: hello() takes 1 positional argument but 2 were given"
     ]
    }
   ],
   "source": [
    "hello('x', 'y')"
   ]
  },
  {
   "cell_type": "code",
   "execution_count": 25,
   "id": "4d09e052",
   "metadata": {},
   "outputs": [
    {
     "data": {
      "text/plain": [
       "<function __main__.hello(name)>"
      ]
     },
     "execution_count": 25,
     "metadata": {},
     "output_type": "execute_result"
    }
   ],
   "source": [
    "type(hello)(hello.__code__, globals())"
   ]
  },
  {
   "cell_type": "markdown",
   "id": "257326e5",
   "metadata": {},
   "source": [
    "We pronounce `__whatever__` as \"dunder whatever.\"\n",
    "\n"
   ]
  },
  {
   "cell_type": "code",
   "execution_count": 26,
   "id": "bdf9b80a",
   "metadata": {},
   "outputs": [
    {
     "data": {
      "text/plain": [
       "['__class__',\n",
       " '__delattr__',\n",
       " '__dir__',\n",
       " '__doc__',\n",
       " '__eq__',\n",
       " '__format__',\n",
       " '__ge__',\n",
       " '__getattribute__',\n",
       " '__gt__',\n",
       " '__hash__',\n",
       " '__init__',\n",
       " '__init_subclass__',\n",
       " '__le__',\n",
       " '__lt__',\n",
       " '__ne__',\n",
       " '__new__',\n",
       " '__reduce__',\n",
       " '__reduce_ex__',\n",
       " '__repr__',\n",
       " '__setattr__',\n",
       " '__sizeof__',\n",
       " '__str__',\n",
       " '__subclasshook__',\n",
       " 'co_argcount',\n",
       " 'co_cellvars',\n",
       " 'co_code',\n",
       " 'co_consts',\n",
       " 'co_filename',\n",
       " 'co_firstlineno',\n",
       " 'co_flags',\n",
       " 'co_freevars',\n",
       " 'co_kwonlyargcount',\n",
       " 'co_lines',\n",
       " 'co_linetable',\n",
       " 'co_lnotab',\n",
       " 'co_name',\n",
       " 'co_names',\n",
       " 'co_nlocals',\n",
       " 'co_posonlyargcount',\n",
       " 'co_stacksize',\n",
       " 'co_varnames',\n",
       " 'replace']"
      ]
     },
     "execution_count": 26,
     "metadata": {},
     "output_type": "execute_result"
    }
   ],
   "source": [
    "dir(hello.__code__)"
   ]
  },
  {
   "cell_type": "code",
   "execution_count": 27,
   "id": "d5832c91",
   "metadata": {},
   "outputs": [
    {
     "data": {
      "text/plain": [
       "b'd\\x01|\\x00\\x9b\\x00d\\x02\\x9d\\x03S\\x00'"
      ]
     },
     "execution_count": 27,
     "metadata": {},
     "output_type": "execute_result"
    }
   ],
   "source": [
    "hello.__code__.co_code"
   ]
  },
  {
   "cell_type": "code",
   "execution_count": 28,
   "id": "188a43f0",
   "metadata": {},
   "outputs": [
    {
     "name": "stdout",
     "output_type": "stream",
     "text": [
      "  2           0 LOAD_CONST               1 ('Hello, ')\n",
      "              2 LOAD_FAST                0 (name)\n",
      "              4 FORMAT_VALUE             0\n",
      "              6 LOAD_CONST               2 ('!')\n",
      "              8 BUILD_STRING             3\n",
      "             10 RETURN_VALUE\n"
     ]
    }
   ],
   "source": [
    "import dis   # disassembler\n",
    "\n",
    "dis.dis(hello)"
   ]
  },
  {
   "cell_type": "code",
   "execution_count": 29,
   "id": "33bc65f1",
   "metadata": {},
   "outputs": [],
   "source": [
    "def hello(name):\n",
    "    return f'Hello, {name}!'"
   ]
  },
  {
   "cell_type": "code",
   "execution_count": 30,
   "id": "8b8712d3",
   "metadata": {},
   "outputs": [
    {
     "data": {
      "text/plain": [
       "(None, 'Hello, ', '!')"
      ]
     },
     "execution_count": 30,
     "metadata": {},
     "output_type": "execute_result"
    }
   ],
   "source": [
    "hello.__code__.co_consts"
   ]
  },
  {
   "cell_type": "code",
   "execution_count": 31,
   "id": "8f2f0181",
   "metadata": {},
   "outputs": [],
   "source": [
    "def nothing():\n",
    "    pass"
   ]
  },
  {
   "cell_type": "code",
   "execution_count": 32,
   "id": "adbc417c",
   "metadata": {},
   "outputs": [
    {
     "name": "stdout",
     "output_type": "stream",
     "text": [
      "None\n"
     ]
    }
   ],
   "source": [
    "print(nothing())"
   ]
  },
  {
   "cell_type": "code",
   "execution_count": 33,
   "id": "9d907f3c",
   "metadata": {},
   "outputs": [
    {
     "name": "stdout",
     "output_type": "stream",
     "text": [
      "  2           0 LOAD_CONST               0 (None)\n",
      "              2 RETURN_VALUE\n"
     ]
    }
   ],
   "source": [
    "dis.dis(nothing)"
   ]
  },
  {
   "cell_type": "code",
   "execution_count": 34,
   "id": "7a12ad01",
   "metadata": {},
   "outputs": [],
   "source": [
    "def add(first, second):\n",
    "    return first + second"
   ]
  },
  {
   "cell_type": "code",
   "execution_count": 35,
   "id": "fa4f5486",
   "metadata": {},
   "outputs": [
    {
     "data": {
      "text/plain": [
       "15"
      ]
     },
     "execution_count": 35,
     "metadata": {},
     "output_type": "execute_result"
    }
   ],
   "source": [
    "add(10, 5)"
   ]
  },
  {
   "cell_type": "code",
   "execution_count": 36,
   "id": "b81078cc",
   "metadata": {},
   "outputs": [
    {
     "data": {
      "text/plain": [
       "'abcdefgh'"
      ]
     },
     "execution_count": 36,
     "metadata": {},
     "output_type": "execute_result"
    }
   ],
   "source": [
    "add('abcd', 'efgh')"
   ]
  },
  {
   "cell_type": "code",
   "execution_count": 37,
   "id": "5e8bb0e8",
   "metadata": {},
   "outputs": [
    {
     "data": {
      "text/plain": [
       "2"
      ]
     },
     "execution_count": 37,
     "metadata": {},
     "output_type": "execute_result"
    }
   ],
   "source": [
    "add.__code__.co_argcount"
   ]
  },
  {
   "cell_type": "code",
   "execution_count": 38,
   "id": "76255c31",
   "metadata": {},
   "outputs": [
    {
     "data": {
      "text/plain": [
       "('first', 'second')"
      ]
     },
     "execution_count": 38,
     "metadata": {},
     "output_type": "execute_result"
    }
   ],
   "source": [
    "add.__code__.co_varnames"
   ]
  },
  {
   "cell_type": "code",
   "execution_count": 39,
   "id": "050fb3d0",
   "metadata": {},
   "outputs": [
    {
     "data": {
      "text/plain": [
       "13"
      ]
     },
     "execution_count": 39,
     "metadata": {},
     "output_type": "execute_result"
    }
   ],
   "source": [
    "# keyword arguments?\n",
    "add(10, second=3)"
   ]
  },
  {
   "cell_type": "code",
   "execution_count": 41,
   "id": "0a1adf8c",
   "metadata": {},
   "outputs": [
    {
     "ename": "SyntaxError",
     "evalue": "positional argument follows keyword argument (1099124549.py, line 3)",
     "output_type": "error",
     "traceback": [
      "\u001b[0;36m  File \u001b[0;32m\"/var/folders/rr/0mnyyv811fs5vyp22gf4fxk00000gn/T/ipykernel_10064/1099124549.py\"\u001b[0;36m, line \u001b[0;32m3\u001b[0m\n\u001b[0;31m    add(first=10, 3)\u001b[0m\n\u001b[0m                   ^\u001b[0m\n\u001b[0;31mSyntaxError\u001b[0m\u001b[0;31m:\u001b[0m positional argument follows keyword argument\n"
     ]
    }
   ],
   "source": [
    "# in all cases, positional arguments must all come before keyword arguments\n",
    "\n",
    "add(first=10, 3)"
   ]
  },
  {
   "cell_type": "code",
   "execution_count": 42,
   "id": "00fded65",
   "metadata": {},
   "outputs": [
    {
     "ename": "AttributeError",
     "evalue": "readonly attribute",
     "output_type": "error",
     "traceback": [
      "\u001b[0;31m---------------------------------------------------------------------------\u001b[0m",
      "\u001b[0;31mAttributeError\u001b[0m                            Traceback (most recent call last)",
      "\u001b[0;32m/var/folders/rr/0mnyyv811fs5vyp22gf4fxk00000gn/T/ipykernel_10064/1170150448.py\u001b[0m in \u001b[0;36m<module>\u001b[0;34m\u001b[0m\n\u001b[0;32m----> 1\u001b[0;31m \u001b[0madd\u001b[0m\u001b[0;34m.\u001b[0m\u001b[0m__code__\u001b[0m\u001b[0;34m.\u001b[0m\u001b[0mco_argcount\u001b[0m \u001b[0;34m=\u001b[0m \u001b[0;36m3\u001b[0m\u001b[0;34m\u001b[0m\u001b[0;34m\u001b[0m\u001b[0m\n\u001b[0m",
      "\u001b[0;31mAttributeError\u001b[0m: readonly attribute"
     ]
    }
   ],
   "source": [
    "add.__code__.co_argcount = 3"
   ]
  },
  {
   "cell_type": "code",
   "execution_count": 43,
   "id": "9534d537",
   "metadata": {},
   "outputs": [],
   "source": [
    "def hello(name):\n",
    "    return f'Hello, {name}'\n",
    "\n",
    "def goodbye(name):\n",
    "    return f'Goodbye, {name}'"
   ]
  },
  {
   "cell_type": "code",
   "execution_count": 44,
   "id": "975fead0",
   "metadata": {},
   "outputs": [],
   "source": [
    "goodbye.__code__ = hello.__code__"
   ]
  },
  {
   "cell_type": "code",
   "execution_count": 45,
   "id": "2aac6bf0",
   "metadata": {},
   "outputs": [
    {
     "data": {
      "text/plain": [
       "'Hello, whatever'"
      ]
     },
     "execution_count": 45,
     "metadata": {},
     "output_type": "execute_result"
    }
   ],
   "source": [
    "goodbye('whatever')"
   ]
  },
  {
   "cell_type": "code",
   "execution_count": 46,
   "id": "26208d39",
   "metadata": {},
   "outputs": [],
   "source": [
    "import copy\n",
    "\n",
    "new_code = copy.copy(hello.__code__)"
   ]
  },
  {
   "cell_type": "code",
   "execution_count": 47,
   "id": "b6324e68",
   "metadata": {},
   "outputs": [
    {
     "data": {
      "text/plain": [
       "<code object hello at 0x10a5c2c30, file \"/var/folders/rr/0mnyyv811fs5vyp22gf4fxk00000gn/T/ipykernel_10064/3296227565.py\", line 1>"
      ]
     },
     "execution_count": 47,
     "metadata": {},
     "output_type": "execute_result"
    }
   ],
   "source": [
    "new_code"
   ]
  },
  {
   "cell_type": "code",
   "execution_count": 48,
   "id": "38a0c26b",
   "metadata": {
    "scrolled": true
   },
   "outputs": [
    {
     "ename": "AttributeError",
     "evalue": "readonly attribute",
     "output_type": "error",
     "traceback": [
      "\u001b[0;31m---------------------------------------------------------------------------\u001b[0m",
      "\u001b[0;31mAttributeError\u001b[0m                            Traceback (most recent call last)",
      "\u001b[0;32m/var/folders/rr/0mnyyv811fs5vyp22gf4fxk00000gn/T/ipykernel_10064/7133865.py\u001b[0m in \u001b[0;36m<module>\u001b[0;34m\u001b[0m\n\u001b[0;32m----> 1\u001b[0;31m \u001b[0mnew_code\u001b[0m\u001b[0;34m.\u001b[0m\u001b[0mco_argcount\u001b[0m \u001b[0;34m=\u001b[0m \u001b[0;36m5\u001b[0m\u001b[0;34m\u001b[0m\u001b[0;34m\u001b[0m\u001b[0m\n\u001b[0m",
      "\u001b[0;31mAttributeError\u001b[0m: readonly attribute"
     ]
    }
   ],
   "source": [
    "new_code.co_argcount = 5"
   ]
  },
  {
   "cell_type": "code",
   "execution_count": 49,
   "id": "a37da8a0",
   "metadata": {},
   "outputs": [],
   "source": [
    "# default values for parameters\n",
    "\n",
    "def add(first, second=5):\n",
    "    return first + second"
   ]
  },
  {
   "cell_type": "code",
   "execution_count": 50,
   "id": "61d0bee8",
   "metadata": {},
   "outputs": [
    {
     "data": {
      "text/plain": [
       "13"
      ]
     },
     "execution_count": 50,
     "metadata": {},
     "output_type": "execute_result"
    }
   ],
   "source": [
    "# parameters:  first   second\n",
    "# arguments:    10       3\n",
    "\n",
    "add(10, 3)"
   ]
  },
  {
   "cell_type": "code",
   "execution_count": 54,
   "id": "b02856ee",
   "metadata": {},
   "outputs": [
    {
     "data": {
      "text/plain": [
       "15"
      ]
     },
     "execution_count": 54,
     "metadata": {},
     "output_type": "execute_result"
    }
   ],
   "source": [
    "# parameters:  first   second\n",
    "# arguments:     10      5\n",
    "\n",
    "add(10)"
   ]
  },
  {
   "cell_type": "code",
   "execution_count": 52,
   "id": "25cce35c",
   "metadata": {},
   "outputs": [
    {
     "data": {
      "text/plain": [
       "2"
      ]
     },
     "execution_count": 52,
     "metadata": {},
     "output_type": "execute_result"
    }
   ],
   "source": [
    "add.__code__.co_argcount"
   ]
  },
  {
   "cell_type": "code",
   "execution_count": 53,
   "id": "ff3f971b",
   "metadata": {},
   "outputs": [
    {
     "data": {
      "text/plain": [
       "(5,)"
      ]
     },
     "execution_count": 53,
     "metadata": {},
     "output_type": "execute_result"
    }
   ],
   "source": [
    "add.__defaults__"
   ]
  },
  {
   "cell_type": "code",
   "execution_count": 55,
   "id": "60722990",
   "metadata": {},
   "outputs": [],
   "source": [
    "def add(first=3, second=5):\n",
    "    return first + second"
   ]
  },
  {
   "cell_type": "code",
   "execution_count": 56,
   "id": "7c4c18af",
   "metadata": {},
   "outputs": [
    {
     "data": {
      "text/plain": [
       "8"
      ]
     },
     "execution_count": 56,
     "metadata": {},
     "output_type": "execute_result"
    }
   ],
   "source": [
    "add()"
   ]
  },
  {
   "cell_type": "code",
   "execution_count": 57,
   "id": "fabccfd5",
   "metadata": {},
   "outputs": [
    {
     "data": {
      "text/plain": [
       "5"
      ]
     },
     "execution_count": 57,
     "metadata": {},
     "output_type": "execute_result"
    }
   ],
   "source": [
    "add(second=2)  # keyword argument"
   ]
  },
  {
   "cell_type": "code",
   "execution_count": 58,
   "id": "6bb6353d",
   "metadata": {},
   "outputs": [
    {
     "data": {
      "text/plain": [
       "[10, 20, 30, 1]"
      ]
     },
     "execution_count": 58,
     "metadata": {},
     "output_type": "execute_result"
    }
   ],
   "source": [
    "def add_one(x=[]):\n",
    "    x.append(1)\n",
    "    return x\n",
    "\n",
    "mylist = [10, 20, 30]\n",
    "add_one(mylist)"
   ]
  },
  {
   "cell_type": "code",
   "execution_count": 59,
   "id": "eed067a0",
   "metadata": {},
   "outputs": [
    {
     "data": {
      "text/plain": [
       "[10, 20, 30, 1]"
      ]
     },
     "execution_count": 59,
     "metadata": {},
     "output_type": "execute_result"
    }
   ],
   "source": [
    "mylist"
   ]
  },
  {
   "cell_type": "code",
   "execution_count": 62,
   "id": "3d6111d8",
   "metadata": {},
   "outputs": [
    {
     "name": "stdout",
     "output_type": "stream",
     "text": [
      "4481656720\n"
     ]
    }
   ],
   "source": [
    "def set_it(y):\n",
    "    y = 100_000\n",
    "    print(id(y))\n",
    "    return y\n",
    "\n",
    "x = 100\n",
    "x = set_it(x)"
   ]
  },
  {
   "cell_type": "code",
   "execution_count": 63,
   "id": "1d52d235",
   "metadata": {},
   "outputs": [
    {
     "data": {
      "text/plain": [
       "4481656720"
      ]
     },
     "execution_count": 63,
     "metadata": {},
     "output_type": "execute_result"
    }
   ],
   "source": [
    "id(x)"
   ]
  },
  {
   "cell_type": "code",
   "execution_count": 64,
   "id": "1cee6d36",
   "metadata": {},
   "outputs": [
    {
     "data": {
      "text/plain": [
       "[1]"
      ]
     },
     "execution_count": 64,
     "metadata": {},
     "output_type": "execute_result"
    }
   ],
   "source": [
    "def add_one(x=[]):\n",
    "    x.append(1)\n",
    "    return x\n",
    "\n",
    "add_one()"
   ]
  },
  {
   "cell_type": "code",
   "execution_count": 65,
   "id": "2a36156a",
   "metadata": {},
   "outputs": [
    {
     "data": {
      "text/plain": [
       "[1, 1]"
      ]
     },
     "execution_count": 65,
     "metadata": {},
     "output_type": "execute_result"
    }
   ],
   "source": [
    "add_one()"
   ]
  },
  {
   "cell_type": "code",
   "execution_count": 66,
   "id": "5a959e50",
   "metadata": {},
   "outputs": [
    {
     "data": {
      "text/plain": [
       "[1, 1, 1]"
      ]
     },
     "execution_count": 66,
     "metadata": {},
     "output_type": "execute_result"
    }
   ],
   "source": [
    "add_one()"
   ]
  },
  {
   "cell_type": "code",
   "execution_count": 67,
   "id": "254acffa",
   "metadata": {},
   "outputs": [],
   "source": [
    "def add_one(x=[]):  # mutable defaults are BAD!\n",
    "    x.append(1)\n",
    "    return x"
   ]
  },
  {
   "cell_type": "code",
   "execution_count": 68,
   "id": "4e05d155",
   "metadata": {},
   "outputs": [
    {
     "data": {
      "text/plain": [
       "([],)"
      ]
     },
     "execution_count": 68,
     "metadata": {},
     "output_type": "execute_result"
    }
   ],
   "source": [
    "add_one.__defaults__"
   ]
  },
  {
   "cell_type": "code",
   "execution_count": 69,
   "id": "75720424",
   "metadata": {},
   "outputs": [
    {
     "data": {
      "text/plain": [
       "[1]"
      ]
     },
     "execution_count": 69,
     "metadata": {},
     "output_type": "execute_result"
    }
   ],
   "source": [
    "# parameters: x\n",
    "# arguments: __defaults__[0]\n",
    "\n",
    "add_one() "
   ]
  },
  {
   "cell_type": "code",
   "execution_count": 70,
   "id": "f0a9201e",
   "metadata": {},
   "outputs": [
    {
     "data": {
      "text/plain": [
       "([1],)"
      ]
     },
     "execution_count": 70,
     "metadata": {},
     "output_type": "execute_result"
    }
   ],
   "source": [
    "add_one.__defaults__"
   ]
  },
  {
   "cell_type": "code",
   "execution_count": 71,
   "id": "670d0f39",
   "metadata": {},
   "outputs": [
    {
     "data": {
      "text/plain": [
       "[1, 1]"
      ]
     },
     "execution_count": 71,
     "metadata": {},
     "output_type": "execute_result"
    }
   ],
   "source": [
    "add_one()"
   ]
  },
  {
   "cell_type": "code",
   "execution_count": 72,
   "id": "541dc6a0",
   "metadata": {},
   "outputs": [
    {
     "data": {
      "text/plain": [
       "[1, 1, 1]"
      ]
     },
     "execution_count": 72,
     "metadata": {},
     "output_type": "execute_result"
    }
   ],
   "source": [
    "add_one()"
   ]
  },
  {
   "cell_type": "code",
   "execution_count": 73,
   "id": "f74d8dd8",
   "metadata": {},
   "outputs": [
    {
     "data": {
      "text/plain": [
       "([1, 1, 1],)"
      ]
     },
     "execution_count": 73,
     "metadata": {},
     "output_type": "execute_result"
    }
   ],
   "source": [
    "add_one.__defaults__"
   ]
  },
  {
   "cell_type": "code",
   "execution_count": null,
   "id": "bd7ed106",
   "metadata": {},
   "outputs": [],
   "source": [
    "def add_one(x=None):  \n",
    "    if x is None:\n",
    "        x = []\n",
    "    \n",
    "    x.append(1)\n",
    "    return x"
   ]
  },
  {
   "cell_type": "markdown",
   "id": "787e8a7d",
   "metadata": {},
   "source": [
    "# Parameter types\n",
    "\n",
    "1. Mandatory parameters (positional or keyword)\n",
    "2. Optional parameters, with defaults (positional or keyword)"
   ]
  },
  {
   "cell_type": "code",
   "execution_count": 74,
   "id": "389ea6c8",
   "metadata": {},
   "outputs": [],
   "source": [
    "def mysum(numbers):\n",
    "    total = 0\n",
    "    \n",
    "    for one_number in numbers:\n",
    "        total += one_number\n",
    "        \n",
    "    return one_number"
   ]
  },
  {
   "cell_type": "code",
   "execution_count": 75,
   "id": "57fa26b1",
   "metadata": {},
   "outputs": [
    {
     "data": {
      "text/plain": [
       "30"
      ]
     },
     "execution_count": 75,
     "metadata": {},
     "output_type": "execute_result"
    }
   ],
   "source": [
    "mysum([10, 20, 30])"
   ]
  },
  {
   "cell_type": "code",
   "execution_count": 76,
   "id": "7e1fb232",
   "metadata": {},
   "outputs": [
    {
     "ename": "TypeError",
     "evalue": "mysum() takes 1 positional argument but 3 were given",
     "output_type": "error",
     "traceback": [
      "\u001b[0;31m---------------------------------------------------------------------------\u001b[0m",
      "\u001b[0;31mTypeError\u001b[0m                                 Traceback (most recent call last)",
      "\u001b[0;32m/var/folders/rr/0mnyyv811fs5vyp22gf4fxk00000gn/T/ipykernel_10064/1367105100.py\u001b[0m in \u001b[0;36m<module>\u001b[0;34m\u001b[0m\n\u001b[0;32m----> 1\u001b[0;31m \u001b[0mmysum\u001b[0m\u001b[0;34m(\u001b[0m\u001b[0;36m10\u001b[0m\u001b[0;34m,\u001b[0m \u001b[0;36m20\u001b[0m\u001b[0;34m,\u001b[0m \u001b[0;36m30\u001b[0m\u001b[0;34m)\u001b[0m\u001b[0;34m\u001b[0m\u001b[0;34m\u001b[0m\u001b[0m\n\u001b[0m",
      "\u001b[0;31mTypeError\u001b[0m: mysum() takes 1 positional argument but 3 were given"
     ]
    }
   ],
   "source": [
    "mysum(10, 20, 30)"
   ]
  },
  {
   "cell_type": "code",
   "execution_count": 77,
   "id": "42af3a4a",
   "metadata": {},
   "outputs": [],
   "source": [
    "# *args (\"splat args\")\n",
    "# the parameter with a * gets all of the positional arguments that no one else wanted\n",
    "# it'll always be a tuple\n",
    "\n",
    "def mysum(*numbers):  \n",
    "    print(f'{numbers=}')\n",
    "    total = 0\n",
    "    \n",
    "    for one_number in numbers:\n",
    "        total += one_number\n",
    "\n",
    "    return total"
   ]
  },
  {
   "cell_type": "code",
   "execution_count": 78,
   "id": "4ad71530",
   "metadata": {},
   "outputs": [
    {
     "name": "stdout",
     "output_type": "stream",
     "text": [
      "numbers=(10, 20, 30)\n"
     ]
    },
    {
     "data": {
      "text/plain": [
       "60"
      ]
     },
     "execution_count": 78,
     "metadata": {},
     "output_type": "execute_result"
    }
   ],
   "source": [
    "mysum(10, 20, 30)"
   ]
  },
  {
   "cell_type": "code",
   "execution_count": 79,
   "id": "59fa95d2",
   "metadata": {},
   "outputs": [],
   "source": [
    "def myfunc(a, b, *args):\n",
    "    return f'{a=}, {b=}, {args=}'"
   ]
  },
  {
   "cell_type": "code",
   "execution_count": 80,
   "id": "ed047e7a",
   "metadata": {},
   "outputs": [
    {
     "data": {
      "text/plain": [
       "'a=10, b=20, args=(30, 40, 50)'"
      ]
     },
     "execution_count": 80,
     "metadata": {},
     "output_type": "execute_result"
    }
   ],
   "source": [
    "myfunc(10, 20, 30, 40, 50)"
   ]
  },
  {
   "cell_type": "code",
   "execution_count": null,
   "id": "185f135c",
   "metadata": {},
   "outputs": [],
   "source": []
  },
  {
   "cell_type": "markdown",
   "id": "3855a2af",
   "metadata": {},
   "source": [
    "# Parameter types\n",
    "\n",
    "1. Mandatory parameters (positional or keyword)\n",
    "2. Optional parameters, with defaults (positional or keyword)\n",
    "3. `*args`, a tuple with all leftover positional arguments"
   ]
  },
  {
   "cell_type": "markdown",
   "id": "38624a5a",
   "metadata": {},
   "source": [
    "# Exercise: `all_lines`\n",
    "\n",
    "1. Write a function, `all_lines`, that takes:\n",
    "    - One mandatory argument, a string with the filename into which we'll write\n",
    "    - Any number of additional positional arguments, filenames from which we'll read\n",
    "2. The function should write all of the lines from the input files into the output file    "
   ]
  },
  {
   "cell_type": "code",
   "execution_count": 81,
   "id": "0eab351a",
   "metadata": {},
   "outputs": [],
   "source": [
    "def all_lines(outfilename, *args):\n",
    "    with open(outfilename, 'w') as outfile:\n",
    "        for one_filename in args:\n",
    "            for one_line in open(one_filename):\n",
    "                outfile.write(one_line)"
   ]
  },
  {
   "cell_type": "code",
   "execution_count": 82,
   "id": "e513823f",
   "metadata": {},
   "outputs": [
    {
     "name": "stdout",
     "output_type": "stream",
     "text": [
      "WDC-2022-05May-17.html\t WDC-2022-05May-19.ipynb   wdc-2022-05May-17.zip\r\n",
      "WDC-2022-05May-17.ipynb  python-workout-cover.png\r\n"
     ]
    }
   ],
   "source": [
    "!ls"
   ]
  },
  {
   "cell_type": "code",
   "execution_count": 83,
   "id": "7d64d190",
   "metadata": {},
   "outputs": [
    {
     "ename": "FileNotFoundError",
     "evalue": "[Errno 2] No such file or directory: 'WDC-2022.05May-17.html'",
     "output_type": "error",
     "traceback": [
      "\u001b[0;31m---------------------------------------------------------------------------\u001b[0m",
      "\u001b[0;31mFileNotFoundError\u001b[0m                         Traceback (most recent call last)",
      "\u001b[0;32m/var/folders/rr/0mnyyv811fs5vyp22gf4fxk00000gn/T/ipykernel_10064/3243853286.py\u001b[0m in \u001b[0;36m<module>\u001b[0;34m\u001b[0m\n\u001b[0;32m----> 1\u001b[0;31m \u001b[0mall_lines\u001b[0m\u001b[0;34m(\u001b[0m\u001b[0;34m'outfile.txt'\u001b[0m\u001b[0;34m,\u001b[0m \u001b[0;34m'WDC-2022.05May-17.html'\u001b[0m\u001b[0;34m,\u001b[0m \u001b[0;34m'WDC-2022.05May-17.ipynb'\u001b[0m\u001b[0;34m)\u001b[0m\u001b[0;34m\u001b[0m\u001b[0;34m\u001b[0m\u001b[0m\n\u001b[0m",
      "\u001b[0;32m/var/folders/rr/0mnyyv811fs5vyp22gf4fxk00000gn/T/ipykernel_10064/1833066642.py\u001b[0m in \u001b[0;36mall_lines\u001b[0;34m(outfilename, *args)\u001b[0m\n\u001b[1;32m      2\u001b[0m     \u001b[0;32mwith\u001b[0m \u001b[0mopen\u001b[0m\u001b[0;34m(\u001b[0m\u001b[0moutfilename\u001b[0m\u001b[0;34m,\u001b[0m \u001b[0;34m'w'\u001b[0m\u001b[0;34m)\u001b[0m \u001b[0;32mas\u001b[0m \u001b[0moutfile\u001b[0m\u001b[0;34m:\u001b[0m\u001b[0;34m\u001b[0m\u001b[0;34m\u001b[0m\u001b[0m\n\u001b[1;32m      3\u001b[0m         \u001b[0;32mfor\u001b[0m \u001b[0mone_filename\u001b[0m \u001b[0;32min\u001b[0m \u001b[0margs\u001b[0m\u001b[0;34m:\u001b[0m\u001b[0;34m\u001b[0m\u001b[0;34m\u001b[0m\u001b[0m\n\u001b[0;32m----> 4\u001b[0;31m             \u001b[0;32mfor\u001b[0m \u001b[0mone_line\u001b[0m \u001b[0;32min\u001b[0m \u001b[0mopen\u001b[0m\u001b[0;34m(\u001b[0m\u001b[0mone_filename\u001b[0m\u001b[0;34m)\u001b[0m\u001b[0;34m:\u001b[0m\u001b[0;34m\u001b[0m\u001b[0;34m\u001b[0m\u001b[0m\n\u001b[0m\u001b[1;32m      5\u001b[0m                 \u001b[0moutfile\u001b[0m\u001b[0;34m.\u001b[0m\u001b[0mwrite\u001b[0m\u001b[0;34m(\u001b[0m\u001b[0mone_line\u001b[0m\u001b[0;34m)\u001b[0m\u001b[0;34m\u001b[0m\u001b[0;34m\u001b[0m\u001b[0m\n",
      "\u001b[0;31mFileNotFoundError\u001b[0m: [Errno 2] No such file or directory: 'WDC-2022.05May-17.html'"
     ]
    }
   ],
   "source": [
    "all_lines('outfile.txt', 'WDC-2022.05May-17.html', 'WDC-2022.05May-17.ipynb')"
   ]
  },
  {
   "cell_type": "code",
   "execution_count": 84,
   "id": "22c86678",
   "metadata": {},
   "outputs": [],
   "source": [
    "def all_lines(outfilename, *args):\n",
    "    with open(outfilename, 'w') as outfile:\n",
    "        for one_filename in args:\n",
    "            f = open(one_filename)\n",
    "            outfile.write(f.read())   # works, if you have enough memory"
   ]
  },
  {
   "cell_type": "code",
   "execution_count": null,
   "id": "0fbe8cc5",
   "metadata": {},
   "outputs": [],
   "source": [
    "def all_lines(outfilename, *args):\n",
    "    with open(outfilename, 'w') as outfile:\n",
    "        for one_filename in args:\n",
    "            f = open(one_filename)\n",
    "            outfile.writelines(f.readlines())     # works, if you have EVEN MORE memory than using f.read()"
   ]
  },
  {
   "cell_type": "code",
   "execution_count": 89,
   "id": "719a5b8a",
   "metadata": {},
   "outputs": [],
   "source": [
    "def all_lines(outfilename, *args):\n",
    "    print(f'{outfilename=}, {args=}')\n",
    "    with open(outfilename, 'w') as outfile:\n",
    "        for one_filename in args:\n",
    "            for one_line in open(one_filename):  \n",
    "                outfile.write(one_line)"
   ]
  },
  {
   "cell_type": "markdown",
   "id": "4e25da37",
   "metadata": {},
   "source": [
    "# Opening files (for writing)\n",
    "\n",
    "- `open(filename, 'w')` -- open for writing, erase any previous content\n",
    "- `open(filename, 'a')` -- open for writing at the end, appending to previous content\n",
    "- `open(filename, 'x')` -- open for writing, but only if it's a new file -- exception if the file exists"
   ]
  },
  {
   "cell_type": "code",
   "execution_count": 87,
   "id": "09f9824a",
   "metadata": {},
   "outputs": [
    {
     "data": {
      "text/plain": [
       "['WDC-2022-05May-19.ipynb', 'WDC-2022-05May-17.ipynb']"
      ]
     },
     "execution_count": 87,
     "metadata": {},
     "output_type": "execute_result"
    }
   ],
   "source": [
    "import glob\n",
    "glob.glob('*.ipynb')"
   ]
  },
  {
   "cell_type": "code",
   "execution_count": 90,
   "id": "0fe26eb3",
   "metadata": {},
   "outputs": [
    {
     "name": "stdout",
     "output_type": "stream",
     "text": [
      "outfilename='output.txt', args=(['WDC-2022-05May-19.ipynb', 'WDC-2022-05May-17.ipynb'],)\n"
     ]
    },
    {
     "ename": "TypeError",
     "evalue": "expected str, bytes or os.PathLike object, not list",
     "output_type": "error",
     "traceback": [
      "\u001b[0;31m---------------------------------------------------------------------------\u001b[0m",
      "\u001b[0;31mTypeError\u001b[0m                                 Traceback (most recent call last)",
      "\u001b[0;32m/var/folders/rr/0mnyyv811fs5vyp22gf4fxk00000gn/T/ipykernel_10064/1813262992.py\u001b[0m in \u001b[0;36m<module>\u001b[0;34m\u001b[0m\n\u001b[0;32m----> 1\u001b[0;31m \u001b[0mall_lines\u001b[0m\u001b[0;34m(\u001b[0m\u001b[0;34m'output.txt'\u001b[0m\u001b[0;34m,\u001b[0m \u001b[0mglob\u001b[0m\u001b[0;34m.\u001b[0m\u001b[0mglob\u001b[0m\u001b[0;34m(\u001b[0m\u001b[0;34m'*.ipynb'\u001b[0m\u001b[0;34m)\u001b[0m\u001b[0;34m)\u001b[0m\u001b[0;34m\u001b[0m\u001b[0;34m\u001b[0m\u001b[0m\n\u001b[0m",
      "\u001b[0;32m/var/folders/rr/0mnyyv811fs5vyp22gf4fxk00000gn/T/ipykernel_10064/771916276.py\u001b[0m in \u001b[0;36mall_lines\u001b[0;34m(outfilename, *args)\u001b[0m\n\u001b[1;32m      3\u001b[0m     \u001b[0;32mwith\u001b[0m \u001b[0mopen\u001b[0m\u001b[0;34m(\u001b[0m\u001b[0moutfilename\u001b[0m\u001b[0;34m,\u001b[0m \u001b[0;34m'w'\u001b[0m\u001b[0;34m)\u001b[0m \u001b[0;32mas\u001b[0m \u001b[0moutfile\u001b[0m\u001b[0;34m:\u001b[0m\u001b[0;34m\u001b[0m\u001b[0;34m\u001b[0m\u001b[0m\n\u001b[1;32m      4\u001b[0m         \u001b[0;32mfor\u001b[0m \u001b[0mone_filename\u001b[0m \u001b[0;32min\u001b[0m \u001b[0margs\u001b[0m\u001b[0;34m:\u001b[0m\u001b[0;34m\u001b[0m\u001b[0;34m\u001b[0m\u001b[0m\n\u001b[0;32m----> 5\u001b[0;31m             \u001b[0;32mfor\u001b[0m \u001b[0mone_line\u001b[0m \u001b[0;32min\u001b[0m \u001b[0mopen\u001b[0m\u001b[0;34m(\u001b[0m\u001b[0mone_filename\u001b[0m\u001b[0;34m)\u001b[0m\u001b[0;34m:\u001b[0m\u001b[0;34m\u001b[0m\u001b[0;34m\u001b[0m\u001b[0m\n\u001b[0m\u001b[1;32m      6\u001b[0m                 \u001b[0moutfile\u001b[0m\u001b[0;34m.\u001b[0m\u001b[0mwrite\u001b[0m\u001b[0;34m(\u001b[0m\u001b[0mone_line\u001b[0m\u001b[0;34m)\u001b[0m\u001b[0;34m\u001b[0m\u001b[0;34m\u001b[0m\u001b[0m\n",
      "\u001b[0;31mTypeError\u001b[0m: expected str, bytes or os.PathLike object, not list"
     ]
    }
   ],
   "source": [
    "all_lines('output.txt', glob.glob('*.ipynb'))"
   ]
  },
  {
   "cell_type": "code",
   "execution_count": 91,
   "id": "02af5444",
   "metadata": {},
   "outputs": [
    {
     "name": "stdout",
     "output_type": "stream",
     "text": [
      "outfilename='output.txt', args=('WDC-2022-05May-19.ipynb', 'WDC-2022-05May-17.ipynb')\n"
     ]
    }
   ],
   "source": [
    "# * before an object or variable name removes the parentheses\n",
    "# turning the glob.glob list into individual arguments\n",
    "\n",
    "all_lines('output.txt', *glob.glob('*.ipynb'))"
   ]
  },
  {
   "cell_type": "code",
   "execution_count": 92,
   "id": "7ef81bae",
   "metadata": {},
   "outputs": [
    {
     "name": "stdout",
     "output_type": "stream",
     "text": [
      "numbers=(10, 20, 30)\n"
     ]
    },
    {
     "data": {
      "text/plain": [
       "60"
      ]
     },
     "execution_count": 92,
     "metadata": {},
     "output_type": "execute_result"
    }
   ],
   "source": [
    "mysum(10, 20, 30)"
   ]
  },
  {
   "cell_type": "code",
   "execution_count": 93,
   "id": "e7d07663",
   "metadata": {},
   "outputs": [
    {
     "name": "stdout",
     "output_type": "stream",
     "text": [
      "numbers=([10, 20, 30],)\n"
     ]
    },
    {
     "ename": "TypeError",
     "evalue": "unsupported operand type(s) for +=: 'int' and 'list'",
     "output_type": "error",
     "traceback": [
      "\u001b[0;31m---------------------------------------------------------------------------\u001b[0m",
      "\u001b[0;31mTypeError\u001b[0m                                 Traceback (most recent call last)",
      "\u001b[0;32m/var/folders/rr/0mnyyv811fs5vyp22gf4fxk00000gn/T/ipykernel_10064/2118835946.py\u001b[0m in \u001b[0;36m<module>\u001b[0;34m\u001b[0m\n\u001b[1;32m      1\u001b[0m \u001b[0mx\u001b[0m \u001b[0;34m=\u001b[0m \u001b[0;34m[\u001b[0m\u001b[0;36m10\u001b[0m\u001b[0;34m,\u001b[0m \u001b[0;36m20\u001b[0m\u001b[0;34m,\u001b[0m \u001b[0;36m30\u001b[0m\u001b[0;34m]\u001b[0m\u001b[0;34m\u001b[0m\u001b[0;34m\u001b[0m\u001b[0m\n\u001b[0;32m----> 2\u001b[0;31m \u001b[0mmysum\u001b[0m\u001b[0;34m(\u001b[0m\u001b[0mx\u001b[0m\u001b[0;34m)\u001b[0m\u001b[0;34m\u001b[0m\u001b[0;34m\u001b[0m\u001b[0m\n\u001b[0m",
      "\u001b[0;32m/var/folders/rr/0mnyyv811fs5vyp22gf4fxk00000gn/T/ipykernel_10064/2483896301.py\u001b[0m in \u001b[0;36mmysum\u001b[0;34m(*numbers)\u001b[0m\n\u001b[1;32m      8\u001b[0m \u001b[0;34m\u001b[0m\u001b[0m\n\u001b[1;32m      9\u001b[0m     \u001b[0;32mfor\u001b[0m \u001b[0mone_number\u001b[0m \u001b[0;32min\u001b[0m \u001b[0mnumbers\u001b[0m\u001b[0;34m:\u001b[0m\u001b[0;34m\u001b[0m\u001b[0;34m\u001b[0m\u001b[0m\n\u001b[0;32m---> 10\u001b[0;31m         \u001b[0mtotal\u001b[0m \u001b[0;34m+=\u001b[0m \u001b[0mone_number\u001b[0m\u001b[0;34m\u001b[0m\u001b[0;34m\u001b[0m\u001b[0m\n\u001b[0m\u001b[1;32m     11\u001b[0m \u001b[0;34m\u001b[0m\u001b[0m\n\u001b[1;32m     12\u001b[0m     \u001b[0;32mreturn\u001b[0m \u001b[0mtotal\u001b[0m\u001b[0;34m\u001b[0m\u001b[0;34m\u001b[0m\u001b[0m\n",
      "\u001b[0;31mTypeError\u001b[0m: unsupported operand type(s) for +=: 'int' and 'list'"
     ]
    }
   ],
   "source": [
    "x = [10, 20, 30]\n",
    "mysum(x)"
   ]
  },
  {
   "cell_type": "code",
   "execution_count": 94,
   "id": "f8e7963d",
   "metadata": {},
   "outputs": [
    {
     "name": "stdout",
     "output_type": "stream",
     "text": [
      "numbers=(10, 20, 30)\n"
     ]
    },
    {
     "data": {
      "text/plain": [
       "60"
      ]
     },
     "execution_count": 94,
     "metadata": {},
     "output_type": "execute_result"
    }
   ],
   "source": [
    "mysum(*x)"
   ]
  },
  {
   "cell_type": "code",
   "execution_count": 98,
   "id": "a41ca529",
   "metadata": {},
   "outputs": [],
   "source": [
    "def myfunc(*args):\n",
    "    print(f'{args=}')\n",
    "    for one_item in args:\n",
    "        print(one_item)"
   ]
  },
  {
   "cell_type": "code",
   "execution_count": 99,
   "id": "7216fd92",
   "metadata": {},
   "outputs": [
    {
     "name": "stdout",
     "output_type": "stream",
     "text": [
      "args=('abcd',)\n",
      "abcd\n"
     ]
    }
   ],
   "source": [
    "myfunc('abcd')"
   ]
  },
  {
   "cell_type": "code",
   "execution_count": 100,
   "id": "20ccf22a",
   "metadata": {},
   "outputs": [
    {
     "name": "stdout",
     "output_type": "stream",
     "text": [
      "args=('a', 'b', 'c', 'd')\n",
      "a\n",
      "b\n",
      "c\n",
      "d\n"
     ]
    }
   ],
   "source": [
    "myfunc(*'abcd')"
   ]
  },
  {
   "cell_type": "code",
   "execution_count": 101,
   "id": "eae8145b",
   "metadata": {},
   "outputs": [],
   "source": [
    "def myfunc(a, b=10, *args):\n",
    "    return f'{a=}, {b=}, {args=}'"
   ]
  },
  {
   "cell_type": "code",
   "execution_count": 102,
   "id": "06dfaaf9",
   "metadata": {},
   "outputs": [
    {
     "data": {
      "text/plain": [
       "'a=2, b=4, args=(6, 8, 10)'"
      ]
     },
     "execution_count": 102,
     "metadata": {},
     "output_type": "execute_result"
    }
   ],
   "source": [
    "myfunc(2,4,6,8,10)"
   ]
  },
  {
   "cell_type": "code",
   "execution_count": 105,
   "id": "b505900f",
   "metadata": {},
   "outputs": [
    {
     "ename": "TypeError",
     "evalue": "myfunc() got an unexpected keyword argument 'args'",
     "output_type": "error",
     "traceback": [
      "\u001b[0;31m---------------------------------------------------------------------------\u001b[0m",
      "\u001b[0;31mTypeError\u001b[0m                                 Traceback (most recent call last)",
      "\u001b[0;32m/var/folders/rr/0mnyyv811fs5vyp22gf4fxk00000gn/T/ipykernel_10064/2797780730.py\u001b[0m in \u001b[0;36m<module>\u001b[0;34m\u001b[0m\n\u001b[1;32m      1\u001b[0m \u001b[0;31m# I want to pass arguments, such that b keeps its default, but I give values to a and args\u001b[0m\u001b[0;34m\u001b[0m\u001b[0;34m\u001b[0m\u001b[0m\n\u001b[1;32m      2\u001b[0m \u001b[0;34m\u001b[0m\u001b[0m\n\u001b[0;32m----> 3\u001b[0;31m \u001b[0mmyfunc\u001b[0m\u001b[0;34m(\u001b[0m\u001b[0;36m2\u001b[0m\u001b[0;34m,\u001b[0m \u001b[0margs\u001b[0m\u001b[0;34m=\u001b[0m\u001b[0;34m(\u001b[0m\u001b[0;36m6\u001b[0m\u001b[0;34m,\u001b[0m\u001b[0;36m8\u001b[0m\u001b[0;34m,\u001b[0m\u001b[0;36m10\u001b[0m\u001b[0;34m)\u001b[0m\u001b[0;34m)\u001b[0m\u001b[0;34m\u001b[0m\u001b[0;34m\u001b[0m\u001b[0m\n\u001b[0m",
      "\u001b[0;31mTypeError\u001b[0m: myfunc() got an unexpected keyword argument 'args'"
     ]
    }
   ],
   "source": [
    "# I want to pass arguments, such that b keeps its default, but I give values to a and args\n",
    "\n",
    "myfunc(2, args=(6,8,10))"
   ]
  },
  {
   "cell_type": "code",
   "execution_count": 106,
   "id": "753a6652",
   "metadata": {},
   "outputs": [
    {
     "data": {
      "text/plain": [
       "'a=2, b=10, args=(4, 6, 8, 10)'"
      ]
     },
     "execution_count": 106,
     "metadata": {},
     "output_type": "execute_result"
    }
   ],
   "source": [
    "# make b a keyword-only parameter\n",
    "# because it comes after *args\n",
    "\n",
    "def myfunc(a, *args, b=10):\n",
    "    return f'{a=}, {b=}, {args=}'\n",
    "\n",
    "myfunc(2,4,6,8,10)"
   ]
  },
  {
   "cell_type": "code",
   "execution_count": 107,
   "id": "9b94ffaa",
   "metadata": {},
   "outputs": [
    {
     "data": {
      "text/plain": [
       "'a=2, b=246, args=(4, 6, 8, 10)'"
      ]
     },
     "execution_count": 107,
     "metadata": {},
     "output_type": "execute_result"
    }
   ],
   "source": [
    "# I can only give b a value if it's a keyword argument\n",
    "myfunc(2,4,6,8,10, b=246)"
   ]
  },
  {
   "cell_type": "code",
   "execution_count": 108,
   "id": "97472798",
   "metadata": {},
   "outputs": [
    {
     "ename": "TypeError",
     "evalue": "myfunc() missing 1 required keyword-only argument: 'b'",
     "output_type": "error",
     "traceback": [
      "\u001b[0;31m---------------------------------------------------------------------------\u001b[0m",
      "\u001b[0;31mTypeError\u001b[0m                                 Traceback (most recent call last)",
      "\u001b[0;32m/var/folders/rr/0mnyyv811fs5vyp22gf4fxk00000gn/T/ipykernel_10064/2947040370.py\u001b[0m in \u001b[0;36m<module>\u001b[0;34m\u001b[0m\n\u001b[1;32m      4\u001b[0m     \u001b[0;32mreturn\u001b[0m \u001b[0;34mf'{a=}, {b=}, {args=}'\u001b[0m\u001b[0;34m\u001b[0m\u001b[0;34m\u001b[0m\u001b[0m\n\u001b[1;32m      5\u001b[0m \u001b[0;34m\u001b[0m\u001b[0m\n\u001b[0;32m----> 6\u001b[0;31m \u001b[0mmyfunc\u001b[0m\u001b[0;34m(\u001b[0m\u001b[0;36m2\u001b[0m\u001b[0;34m,\u001b[0m\u001b[0;36m4\u001b[0m\u001b[0;34m,\u001b[0m\u001b[0;36m6\u001b[0m\u001b[0;34m,\u001b[0m\u001b[0;36m8\u001b[0m\u001b[0;34m,\u001b[0m\u001b[0;36m10\u001b[0m\u001b[0;34m)\u001b[0m\u001b[0;34m\u001b[0m\u001b[0;34m\u001b[0m\u001b[0m\n\u001b[0m",
      "\u001b[0;31mTypeError\u001b[0m: myfunc() missing 1 required keyword-only argument: 'b'"
     ]
    }
   ],
   "source": [
    "# make b a keyword-only parameter without a default\n",
    "\n",
    "def myfunc(a, *args, b):\n",
    "    return f'{a=}, {b=}, {args=}'\n",
    "\n",
    "myfunc(2,4,6,8,10)"
   ]
  },
  {
   "cell_type": "code",
   "execution_count": 109,
   "id": "1921a0a4",
   "metadata": {},
   "outputs": [
    {
     "data": {
      "text/plain": [
       "'a=2, b=999, args=(4, 6, 8, 10)'"
      ]
     },
     "execution_count": 109,
     "metadata": {},
     "output_type": "execute_result"
    }
   ],
   "source": [
    "# make b a keyword-only parameter without a default\n",
    "\n",
    "def myfunc(a, *args, b):\n",
    "    return f'{a=}, {b=}, {args=}'\n",
    "\n",
    "myfunc(2,4,6,8,10, b=999)"
   ]
  },
  {
   "cell_type": "code",
   "execution_count": null,
   "id": "138752c4",
   "metadata": {},
   "outputs": [],
   "source": []
  },
  {
   "cell_type": "markdown",
   "id": "b51c7662",
   "metadata": {},
   "source": [
    "# Parameter types\n",
    "\n",
    "1. Mandatory parameters (positional or keyword)\n",
    "2. Optional parameters, with defaults (positional or keyword)\n",
    "3. `*args`, a tuple with all leftover positional arguments (or `*` by itself)\n",
    "4. Mandatory keyword-only parameters\n",
    "5. Optional keyword-only parameters (with defaults)"
   ]
  },
  {
   "cell_type": "code",
   "execution_count": 111,
   "id": "c013c0a7",
   "metadata": {},
   "outputs": [],
   "source": [
    "# what if I want keyword-only parameters, but I don't want *args?\n",
    "\n",
    "# for example, here I want a to be regular, and be to be keyword-only\n",
    "# Use a * instead of *args -- no parameter, but Python understands\n",
    "\n",
    "def myfunc(a, *, b):\n",
    "    return f'{a=}, {b=}'"
   ]
  },
  {
   "cell_type": "code",
   "execution_count": 113,
   "id": "b68caac3",
   "metadata": {},
   "outputs": [
    {
     "data": {
      "text/plain": [
       "'a=10, b=20'"
      ]
     },
     "execution_count": 113,
     "metadata": {},
     "output_type": "execute_result"
    }
   ],
   "source": [
    "myfunc(10, b=20)"
   ]
  },
  {
   "cell_type": "code",
   "execution_count": 116,
   "id": "6e9df029",
   "metadata": {},
   "outputs": [
    {
     "data": {
      "text/plain": [
       "[('a', 10), ('b', 20), ('c', 30)]"
      ]
     },
     "execution_count": 116,
     "metadata": {},
     "output_type": "execute_result"
    }
   ],
   "source": [
    "list(zip('abcd', [10, 20, 30]))"
   ]
  },
  {
   "cell_type": "code",
   "execution_count": 117,
   "id": "c9909b90",
   "metadata": {},
   "outputs": [
    {
     "name": "stdout",
     "output_type": "stream",
     "text": [
      "Help on class zip in module builtins:\n",
      "\n",
      "class zip(object)\n",
      " |  zip(*iterables, strict=False) --> Yield tuples until an input is exhausted.\n",
      " |  \n",
      " |     >>> list(zip('abcdefg', range(3), range(4)))\n",
      " |     [('a', 0, 0), ('b', 1, 1), ('c', 2, 2)]\n",
      " |  \n",
      " |  The zip object yields n-length tuples, where n is the number of iterables\n",
      " |  passed as positional arguments to zip().  The i-th element in every tuple\n",
      " |  comes from the i-th iterable argument to zip().  This continues until the\n",
      " |  shortest argument is exhausted.\n",
      " |  \n",
      " |  If strict is true and one of the arguments is exhausted before the others,\n",
      " |  raise a ValueError.\n",
      " |  \n",
      " |  Methods defined here:\n",
      " |  \n",
      " |  __getattribute__(self, name, /)\n",
      " |      Return getattr(self, name).\n",
      " |  \n",
      " |  __iter__(self, /)\n",
      " |      Implement iter(self).\n",
      " |  \n",
      " |  __next__(self, /)\n",
      " |      Implement next(self).\n",
      " |  \n",
      " |  __reduce__(...)\n",
      " |      Return state information for pickling.\n",
      " |  \n",
      " |  __setstate__(...)\n",
      " |      Set state information for unpickling.\n",
      " |  \n",
      " |  ----------------------------------------------------------------------\n",
      " |  Static methods defined here:\n",
      " |  \n",
      " |  __new__(*args, **kwargs) from builtins.type\n",
      " |      Create and return a new object.  See help(type) for accurate signature.\n",
      "\n"
     ]
    }
   ],
   "source": [
    "help(zip)"
   ]
  },
  {
   "cell_type": "code",
   "execution_count": 118,
   "id": "4b31dc1f",
   "metadata": {},
   "outputs": [
    {
     "ename": "ValueError",
     "evalue": "zip() argument 2 is shorter than argument 1",
     "output_type": "error",
     "traceback": [
      "\u001b[0;31m---------------------------------------------------------------------------\u001b[0m",
      "\u001b[0;31mValueError\u001b[0m                                Traceback (most recent call last)",
      "\u001b[0;32m/var/folders/rr/0mnyyv811fs5vyp22gf4fxk00000gn/T/ipykernel_10064/2100850088.py\u001b[0m in \u001b[0;36m<module>\u001b[0;34m\u001b[0m\n\u001b[0;32m----> 1\u001b[0;31m \u001b[0mlist\u001b[0m\u001b[0;34m(\u001b[0m\u001b[0mzip\u001b[0m\u001b[0;34m(\u001b[0m\u001b[0;34m'abcd'\u001b[0m\u001b[0;34m,\u001b[0m \u001b[0;34m[\u001b[0m\u001b[0;36m10\u001b[0m\u001b[0;34m,\u001b[0m \u001b[0;36m20\u001b[0m\u001b[0;34m,\u001b[0m \u001b[0;36m30\u001b[0m\u001b[0;34m]\u001b[0m\u001b[0;34m,\u001b[0m \u001b[0mstrict\u001b[0m\u001b[0;34m=\u001b[0m\u001b[0;32mTrue\u001b[0m\u001b[0;34m)\u001b[0m\u001b[0;34m)\u001b[0m\u001b[0;34m\u001b[0m\u001b[0;34m\u001b[0m\u001b[0m\n\u001b[0m",
      "\u001b[0;31mValueError\u001b[0m: zip() argument 2 is shorter than argument 1"
     ]
    }
   ],
   "source": [
    "list(zip('abcd', [10, 20, 30], strict=True))"
   ]
  },
  {
   "cell_type": "code",
   "execution_count": 119,
   "id": "3568ab59",
   "metadata": {},
   "outputs": [],
   "source": [
    "# *args -- a tuple, with all positional arguments no one else took\n",
    "# **kwargs -- dict, with all keyword arguments no one else took\n",
    "\n",
    "def write_config(filename, **kwargs):\n",
    "    with open(filename, 'w') as outfile:\n",
    "        for key, value in kwargs.items():\n",
    "            outfile.write(f'{key}:{value}\\n')"
   ]
  },
  {
   "cell_type": "code",
   "execution_count": 120,
   "id": "89f95825",
   "metadata": {},
   "outputs": [],
   "source": [
    "# parameters: filename\n",
    "# argument: 'config.txt'\n",
    "\n",
    "# leftover keyword arguments: a=100, b=200, c=300\n",
    "# assigned to kwargs, which will be {'a':100, 'b':200, 'c':300}\n",
    "\n",
    "write_config('config.txt', a=100, b=200, c=300)"
   ]
  },
  {
   "cell_type": "code",
   "execution_count": 121,
   "id": "9cd241df",
   "metadata": {},
   "outputs": [
    {
     "ename": "TypeError",
     "evalue": "write_config() takes 1 positional argument but 2 were given",
     "output_type": "error",
     "traceback": [
      "\u001b[0;31m---------------------------------------------------------------------------\u001b[0m",
      "\u001b[0;31mTypeError\u001b[0m                                 Traceback (most recent call last)",
      "\u001b[0;32m/var/folders/rr/0mnyyv811fs5vyp22gf4fxk00000gn/T/ipykernel_10064/130985821.py\u001b[0m in \u001b[0;36m<module>\u001b[0;34m\u001b[0m\n\u001b[1;32m      2\u001b[0m \u001b[0;34m\u001b[0m\u001b[0m\n\u001b[1;32m      3\u001b[0m \u001b[0;31m# will this work\u001b[0m\u001b[0;34m\u001b[0m\u001b[0;34m\u001b[0m\u001b[0m\n\u001b[0;32m----> 4\u001b[0;31m \u001b[0mwrite_config\u001b[0m\u001b[0;34m(\u001b[0m\u001b[0;34m'config.txt'\u001b[0m\u001b[0;34m,\u001b[0m \u001b[0md\u001b[0m\u001b[0;34m)\u001b[0m\u001b[0;34m\u001b[0m\u001b[0;34m\u001b[0m\u001b[0m\n\u001b[0m",
      "\u001b[0;31mTypeError\u001b[0m: write_config() takes 1 positional argument but 2 were given"
     ]
    }
   ],
   "source": [
    "d = {'a':123, 'b':456, 'c':789}\n",
    "\n",
    "# will this work\n",
    "write_config('config.txt', d)"
   ]
  },
  {
   "cell_type": "code",
   "execution_count": 122,
   "id": "cb474a23",
   "metadata": {},
   "outputs": [],
   "source": [
    "# I want to turn d, my dict, into keyword arguments\n",
    "# **d means: when I call the function, pass the key-value pairs as keyword arguments, not a dict\n",
    "\n",
    "write_config('config.txt', **d)"
   ]
  },
  {
   "cell_type": "code",
   "execution_count": 123,
   "id": "0309e0c2",
   "metadata": {},
   "outputs": [
    {
     "name": "stdout",
     "output_type": "stream",
     "text": [
      "a:123\r\n",
      "b:456\r\n",
      "c:789\r\n"
     ]
    }
   ],
   "source": [
    "!cat config.txt"
   ]
  },
  {
   "cell_type": "code",
   "execution_count": null,
   "id": "72a6cc42",
   "metadata": {},
   "outputs": [],
   "source": []
  },
  {
   "cell_type": "markdown",
   "id": "280c4b01",
   "metadata": {},
   "source": [
    "# Parameter types\n",
    "\n",
    "1. Mandatory parameters (positional or keyword)\n",
    "2. Optional parameters, with defaults (positional or keyword)\n",
    "3. `*args`, a tuple with all leftover positional arguments (or `*` by itself)\n",
    "4. Mandatory keyword-only parameters\n",
    "5. Optional keyword-only parameters (with defaults)\n",
    "6. `**kwargs`, a dict with all leftover keyword arguments"
   ]
  },
  {
   "cell_type": "code",
   "execution_count": 124,
   "id": "ce6423e4",
   "metadata": {},
   "outputs": [
    {
     "data": {
      "text/plain": [
       "4"
      ]
     },
     "execution_count": 124,
     "metadata": {},
     "output_type": "execute_result"
    }
   ],
   "source": [
    "s = 'abcd'\n",
    "len(s)"
   ]
  },
  {
   "cell_type": "code",
   "execution_count": 125,
   "id": "cf290af4",
   "metadata": {},
   "outputs": [
    {
     "name": "stdout",
     "output_type": "stream",
     "text": [
      "Help on built-in function len in module builtins:\n",
      "\n",
      "len(obj, /)\n",
      "    Return the number of items in a container.\n",
      "\n"
     ]
    }
   ],
   "source": [
    "help(len)"
   ]
  },
  {
   "cell_type": "code",
   "execution_count": 126,
   "id": "8446a29d",
   "metadata": {},
   "outputs": [
    {
     "data": {
      "text/plain": [
       "4"
      ]
     },
     "execution_count": 126,
     "metadata": {},
     "output_type": "execute_result"
    }
   ],
   "source": [
    "len('abcd')"
   ]
  },
  {
   "cell_type": "code",
   "execution_count": 127,
   "id": "9419388a",
   "metadata": {},
   "outputs": [
    {
     "ename": "TypeError",
     "evalue": "len() takes no keyword arguments",
     "output_type": "error",
     "traceback": [
      "\u001b[0;31m---------------------------------------------------------------------------\u001b[0m",
      "\u001b[0;31mTypeError\u001b[0m                                 Traceback (most recent call last)",
      "\u001b[0;32m/var/folders/rr/0mnyyv811fs5vyp22gf4fxk00000gn/T/ipykernel_10064/1652450803.py\u001b[0m in \u001b[0;36m<module>\u001b[0;34m\u001b[0m\n\u001b[0;32m----> 1\u001b[0;31m \u001b[0mlen\u001b[0m\u001b[0;34m(\u001b[0m\u001b[0mobj\u001b[0m\u001b[0;34m=\u001b[0m\u001b[0;34m'abcd'\u001b[0m\u001b[0;34m)\u001b[0m\u001b[0;34m\u001b[0m\u001b[0;34m\u001b[0m\u001b[0m\n\u001b[0m",
      "\u001b[0;31mTypeError\u001b[0m: len() takes no keyword arguments"
     ]
    }
   ],
   "source": [
    "len(obj='abcd')"
   ]
  },
  {
   "cell_type": "code",
   "execution_count": null,
   "id": "6d8e7979",
   "metadata": {},
   "outputs": [],
   "source": []
  },
  {
   "cell_type": "markdown",
   "id": "620f9eea",
   "metadata": {},
   "source": [
    "# Parameter types\n",
    "\n",
    "1. Positional-only arguments, before a `/`\n",
    "2. Mandatory parameters (positional or keyword)\n",
    "3. Optional parameters, with defaults (positional or keyword)\n",
    "4. `*args`, a tuple with all leftover positional arguments (or `*` by itself)\n",
    "5. Mandatory keyword-only parameters\n",
    "6. Optional keyword-only parameters (with defaults)\n",
    "7. `**kwargs`, a dict with all leftover keyword arguments"
   ]
  },
  {
   "cell_type": "code",
   "execution_count": 128,
   "id": "903d49da",
   "metadata": {},
   "outputs": [],
   "source": [
    "def write_config(filename, **kwargs):\n",
    "    with open(filename, 'w') as outfile:\n",
    "        for key, value in kwargs.items():\n",
    "            outfile.write(f'{key}:{value}\\n')"
   ]
  },
  {
   "cell_type": "code",
   "execution_count": 129,
   "id": "8387ce36",
   "metadata": {},
   "outputs": [
    {
     "ename": "TypeError",
     "evalue": "write_config() got multiple values for argument 'filename'",
     "output_type": "error",
     "traceback": [
      "\u001b[0;31m---------------------------------------------------------------------------\u001b[0m",
      "\u001b[0;31mTypeError\u001b[0m                                 Traceback (most recent call last)",
      "\u001b[0;32m/var/folders/rr/0mnyyv811fs5vyp22gf4fxk00000gn/T/ipykernel_10064/2548905160.py\u001b[0m in \u001b[0;36m<module>\u001b[0;34m\u001b[0m\n\u001b[0;32m----> 1\u001b[0;31m \u001b[0mwrite_config\u001b[0m\u001b[0;34m(\u001b[0m\u001b[0;34m'outfile.txt'\u001b[0m\u001b[0;34m,\u001b[0m \u001b[0ma\u001b[0m\u001b[0;34m=\u001b[0m\u001b[0;36m100\u001b[0m\u001b[0;34m,\u001b[0m \u001b[0mb\u001b[0m\u001b[0;34m=\u001b[0m\u001b[0;36m200\u001b[0m\u001b[0;34m,\u001b[0m \u001b[0mfilename\u001b[0m\u001b[0;34m=\u001b[0m\u001b[0;34m'myfile.txt'\u001b[0m\u001b[0;34m)\u001b[0m\u001b[0;34m\u001b[0m\u001b[0;34m\u001b[0m\u001b[0m\n\u001b[0m",
      "\u001b[0;31mTypeError\u001b[0m: write_config() got multiple values for argument 'filename'"
     ]
    }
   ],
   "source": [
    "write_config('outfile.txt', a=100, b=200, filename='myfile.txt')"
   ]
  },
  {
   "cell_type": "code",
   "execution_count": 130,
   "id": "8ae11030",
   "metadata": {},
   "outputs": [],
   "source": [
    "def write_config(filename, /, **kwargs):\n",
    "    with open(filename, 'w') as outfile:\n",
    "        for key, value in kwargs.items():\n",
    "            outfile.write(f'{key}:{value}\\n')"
   ]
  },
  {
   "cell_type": "code",
   "execution_count": 131,
   "id": "86d88215",
   "metadata": {},
   "outputs": [],
   "source": [
    "write_config('outfile.txt', a=100, b=200, filename='myfile.txt')"
   ]
  },
  {
   "cell_type": "code",
   "execution_count": 132,
   "id": "16fbeee6",
   "metadata": {},
   "outputs": [
    {
     "name": "stdout",
     "output_type": "stream",
     "text": [
      "a:100\r\n",
      "b:200\r\n",
      "filename:myfile.txt\r\n"
     ]
    }
   ],
   "source": [
    "!cat outfile.txt"
   ]
  },
  {
   "cell_type": "code",
   "execution_count": 133,
   "id": "da38c751",
   "metadata": {},
   "outputs": [
    {
     "name": "stdout",
     "output_type": "stream",
     "text": [
      "x=100, y=[10, 20, 30], z={'a': 1, 'b': 2, 'c': 3}\n"
     ]
    }
   ],
   "source": [
    "x = 100\n",
    "y = [10, 20, 30]\n",
    "z = {'a':1, 'b':2, 'c':3}\n",
    "\n",
    "print(f'{x=}, {y=}, {z=}')"
   ]
  },
  {
   "cell_type": "code",
   "execution_count": 137,
   "id": "a6601764",
   "metadata": {},
   "outputs": [
    {
     "name": "stdout",
     "output_type": "stream",
     "text": [
      "x=100, y=[10, 20, 30], z={'a': 1, 'b': 2, 'c': 3}\n"
     ]
    }
   ],
   "source": [
    "# I can also use str.format\n",
    "\n",
    "s = 'x={0}, y={1}, z={2}'\n",
    "\n",
    "print(s.format(x, y, z))"
   ]
  },
  {
   "cell_type": "code",
   "execution_count": 138,
   "id": "ef41502a",
   "metadata": {},
   "outputs": [
    {
     "name": "stdout",
     "output_type": "stream",
     "text": [
      "Help on method_descriptor:\n",
      "\n",
      "format(...)\n",
      "    S.format(*args, **kwargs) -> str\n",
      "    \n",
      "    Return a formatted version of S, using substitutions from args and kwargs.\n",
      "    The substitutions are identified by braces ('{' and '}').\n",
      "\n"
     ]
    }
   ],
   "source": [
    "help(str.format)"
   ]
  },
  {
   "cell_type": "code",
   "execution_count": 139,
   "id": "976eff0a",
   "metadata": {},
   "outputs": [
    {
     "name": "stdout",
     "output_type": "stream",
     "text": [
      "x=100, y=200, z=300\n"
     ]
    }
   ],
   "source": [
    "s = 'x={a}, y={b}, z={c}'\n",
    "\n",
    "print(s.format(a=100, b=200, c=300))"
   ]
  },
  {
   "cell_type": "code",
   "execution_count": 141,
   "id": "4f9a012b",
   "metadata": {},
   "outputs": [
    {
     "name": "stdout",
     "output_type": "stream",
     "text": [
      "x=100, y=200, z=300\n"
     ]
    }
   ],
   "source": [
    "# Don't do this!  (Mixing positional and keyword in a format string)\n",
    "\n",
    "s = 'x={0}, y={b}, z={c}'\n",
    "\n",
    "print(s.format(100, b=200, c=300))"
   ]
  },
  {
   "cell_type": "code",
   "execution_count": 143,
   "id": "a49f6d97",
   "metadata": {},
   "outputs": [
    {
     "name": "stdout",
     "output_type": "stream",
     "text": [
      "Name:              write_config\n",
      "Filename:          /var/folders/rr/0mnyyv811fs5vyp22gf4fxk00000gn/T/ipykernel_10064/2127759394.py\n",
      "Argument count:    1\n",
      "Positional-only arguments: 1\n",
      "Kw-only arguments: 0\n",
      "Number of locals:  5\n",
      "Stack size:        8\n",
      "Flags:             OPTIMIZED, NEWLOCALS, VARKEYWORDS, NOFREE\n",
      "Constants:\n",
      "   0: None\n",
      "   1: 'w'\n",
      "   2: ':'\n",
      "   3: '\\n'\n",
      "Names:\n",
      "   0: open\n",
      "   1: items\n",
      "   2: write\n",
      "Variable names:\n",
      "   0: filename\n",
      "   1: kwargs\n",
      "   2: outfile\n",
      "   3: key\n",
      "   4: value\n"
     ]
    }
   ],
   "source": [
    "dis.show_code(write_config)"
   ]
  },
  {
   "cell_type": "code",
   "execution_count": 144,
   "id": "e39fac84",
   "metadata": {},
   "outputs": [
    {
     "name": "stdout",
     "output_type": "stream",
     "text": [
      "Name:              mysum\n",
      "Filename:          /var/folders/rr/0mnyyv811fs5vyp22gf4fxk00000gn/T/ipykernel_10064/2483896301.py\n",
      "Argument count:    0\n",
      "Positional-only arguments: 0\n",
      "Kw-only arguments: 0\n",
      "Number of locals:  3\n",
      "Stack size:        3\n",
      "Flags:             OPTIMIZED, NEWLOCALS, VARARGS, NOFREE\n",
      "Constants:\n",
      "   0: None\n",
      "   1: 'numbers='\n",
      "   2: 0\n",
      "Names:\n",
      "   0: print\n",
      "Variable names:\n",
      "   0: numbers\n",
      "   1: total\n",
      "   2: one_number\n"
     ]
    }
   ],
   "source": [
    "dis.show_code(mysum)"
   ]
  },
  {
   "cell_type": "markdown",
   "id": "e1e04a95",
   "metadata": {},
   "source": [
    "# Next up\n",
    "\n",
    "1. Scoping (LEGB)\n",
    "2. Nested functions and the \"external\" scope\n",
    "3. Dispatch tables\n",
    "\n",
    "Resume at 11:05"
   ]
  },
  {
   "cell_type": "code",
   "execution_count": 145,
   "id": "1f3a1d50",
   "metadata": {},
   "outputs": [
    {
     "name": "stdout",
     "output_type": "stream",
     "text": [
      "x = 100\n"
     ]
    }
   ],
   "source": [
    "x = 100\n",
    "\n",
    "print(f'x = {x}')  # is x global?"
   ]
  },
  {
   "cell_type": "markdown",
   "id": "d855e382",
   "metadata": {},
   "source": [
    "# Python scopes\n",
    "\n",
    "- `L` -- local (start here if we're in a function body)\n",
    "- `E` -- enclosing\n",
    "- `G` -- global (start here if we're *not* in a function body)\n",
    "- `B` -- builtin"
   ]
  },
  {
   "cell_type": "code",
   "execution_count": 146,
   "id": "c3299f22",
   "metadata": {},
   "outputs": [
    {
     "data": {
      "text/plain": [
       "True"
      ]
     },
     "execution_count": 146,
     "metadata": {},
     "output_type": "execute_result"
    }
   ],
   "source": [
    "# checking if x is global\n",
    "\n",
    "'x' in globals()"
   ]
  },
  {
   "cell_type": "code",
   "execution_count": 147,
   "id": "7539d2fe",
   "metadata": {},
   "outputs": [
    {
     "data": {
      "text/plain": [
       "100"
      ]
     },
     "execution_count": 147,
     "metadata": {},
     "output_type": "execute_result"
    }
   ],
   "source": [
    "globals()['x']"
   ]
  },
  {
   "cell_type": "code",
   "execution_count": 148,
   "id": "ecff02ac",
   "metadata": {},
   "outputs": [
    {
     "name": "stdout",
     "output_type": "stream",
     "text": [
      "Before, x = 100\n",
      "In myfunc, x = 100\n",
      "After, x = 100\n"
     ]
    }
   ],
   "source": [
    "x = 100\n",
    "\n",
    "def myfunc():\n",
    "    print(f'In myfunc, x = {x}') # is x local? NO. Is x global? YES, 100\n",
    "    \n",
    "print(f'Before, x = {x}') # is x global? YES, 100\n",
    "myfunc()\n",
    "print(f'After, x = {x}') # is x global? YES, 100"
   ]
  },
  {
   "cell_type": "code",
   "execution_count": 149,
   "id": "5ed74f75",
   "metadata": {},
   "outputs": [
    {
     "data": {
      "text/plain": [
       "()"
      ]
     },
     "execution_count": 149,
     "metadata": {},
     "output_type": "execute_result"
    }
   ],
   "source": [
    "myfunc.__code__.co_varnames"
   ]
  },
  {
   "cell_type": "code",
   "execution_count": 150,
   "id": "85a1610b",
   "metadata": {},
   "outputs": [
    {
     "name": "stdout",
     "output_type": "stream",
     "text": [
      "Before, x = 100\n",
      "Hello!\n",
      "In myfunc, x = 100\n",
      "After, x = 100\n"
     ]
    }
   ],
   "source": [
    "x = 100\n",
    "\n",
    "def hello():\n",
    "    return 'Hello!'\n",
    "\n",
    "def myfunc():\n",
    "    print(hello())\n",
    "    print(f'In myfunc, x = {x}') \n",
    "    \n",
    "print(f'Before, x = {x}') \n",
    "myfunc()\n",
    "print(f'After, x = {x}') "
   ]
  },
  {
   "cell_type": "code",
   "execution_count": 151,
   "id": "051b45f6",
   "metadata": {},
   "outputs": [
    {
     "name": "stdout",
     "output_type": "stream",
     "text": [
      "Before, x = 100\n",
      "In myfunc, x = 200\n",
      "After, x = 100\n"
     ]
    }
   ],
   "source": [
    "x = 100\n",
    "\n",
    "def myfunc():\n",
    "    x = 200\n",
    "    print(f'In myfunc, x = {x}')  # is x local? YES, 200\n",
    "    \n",
    "print(f'Before, x = {x}') # is x global? YES\n",
    "myfunc()\n",
    "print(f'After, x = {x}')  # is x global? YES"
   ]
  },
  {
   "cell_type": "code",
   "execution_count": 152,
   "id": "bf0c7fee",
   "metadata": {},
   "outputs": [
    {
     "data": {
      "text/plain": [
       "('x',)"
      ]
     },
     "execution_count": 152,
     "metadata": {},
     "output_type": "execute_result"
    }
   ],
   "source": [
    "myfunc.__code__.co_varnames"
   ]
  },
  {
   "cell_type": "code",
   "execution_count": 153,
   "id": "4fe41d8f",
   "metadata": {},
   "outputs": [
    {
     "name": "stdout",
     "output_type": "stream",
     "text": [
      "Before, x = 100\n"
     ]
    },
    {
     "ename": "UnboundLocalError",
     "evalue": "local variable 'x' referenced before assignment",
     "output_type": "error",
     "traceback": [
      "\u001b[0;31m---------------------------------------------------------------------------\u001b[0m",
      "\u001b[0;31mUnboundLocalError\u001b[0m                         Traceback (most recent call last)",
      "\u001b[0;32m/var/folders/rr/0mnyyv811fs5vyp22gf4fxk00000gn/T/ipykernel_10064/1020404596.py\u001b[0m in \u001b[0;36m<module>\u001b[0;34m\u001b[0m\n\u001b[1;32m      6\u001b[0m \u001b[0;34m\u001b[0m\u001b[0m\n\u001b[1;32m      7\u001b[0m \u001b[0mprint\u001b[0m\u001b[0;34m(\u001b[0m\u001b[0;34mf'Before, x = {x}'\u001b[0m\u001b[0;34m)\u001b[0m\u001b[0;34m\u001b[0m\u001b[0;34m\u001b[0m\u001b[0m\n\u001b[0;32m----> 8\u001b[0;31m \u001b[0mmyfunc\u001b[0m\u001b[0;34m(\u001b[0m\u001b[0;34m)\u001b[0m\u001b[0;34m\u001b[0m\u001b[0;34m\u001b[0m\u001b[0m\n\u001b[0m\u001b[1;32m      9\u001b[0m \u001b[0mprint\u001b[0m\u001b[0;34m(\u001b[0m\u001b[0;34mf'After, x = {x}'\u001b[0m\u001b[0;34m)\u001b[0m\u001b[0;34m\u001b[0m\u001b[0;34m\u001b[0m\u001b[0m\n",
      "\u001b[0;32m/var/folders/rr/0mnyyv811fs5vyp22gf4fxk00000gn/T/ipykernel_10064/1020404596.py\u001b[0m in \u001b[0;36mmyfunc\u001b[0;34m()\u001b[0m\n\u001b[1;32m      2\u001b[0m \u001b[0;34m\u001b[0m\u001b[0m\n\u001b[1;32m      3\u001b[0m \u001b[0;32mdef\u001b[0m \u001b[0mmyfunc\u001b[0m\u001b[0;34m(\u001b[0m\u001b[0;34m)\u001b[0m\u001b[0;34m:\u001b[0m\u001b[0;34m\u001b[0m\u001b[0;34m\u001b[0m\u001b[0m\n\u001b[0;32m----> 4\u001b[0;31m     \u001b[0mprint\u001b[0m\u001b[0;34m(\u001b[0m\u001b[0;34mf'In myfunc, x = {x}'\u001b[0m\u001b[0;34m)\u001b[0m\u001b[0;34m\u001b[0m\u001b[0;34m\u001b[0m\u001b[0m\n\u001b[0m\u001b[1;32m      5\u001b[0m     \u001b[0mx\u001b[0m \u001b[0;34m=\u001b[0m \u001b[0;36m200\u001b[0m\u001b[0;34m\u001b[0m\u001b[0;34m\u001b[0m\u001b[0m\n\u001b[1;32m      6\u001b[0m \u001b[0;34m\u001b[0m\u001b[0m\n",
      "\u001b[0;31mUnboundLocalError\u001b[0m: local variable 'x' referenced before assignment"
     ]
    }
   ],
   "source": [
    "x = 100\n",
    "\n",
    "def myfunc():\n",
    "    print(f'In myfunc, x = {x}') # is x local? YES\n",
    "    x = 200\n",
    "    \n",
    "print(f'Before, x = {x}') # is x global? YES, 100\n",
    "myfunc()\n",
    "print(f'After, x = {x}')  "
   ]
  },
  {
   "cell_type": "code",
   "execution_count": null,
   "id": "1bffd38d",
   "metadata": {},
   "outputs": [],
   "source": [
    "x = 100\n",
    "\n",
    "def myfunc():\n",
    "    print(f'In myfunc, x = {x}')\n",
    "    \n",
    "print(f'Before, x = {x}') \n",
    "myfunc()\n",
    "print(f'After, x = {x}')  "
   ]
  }
 ],
 "metadata": {
  "kernelspec": {
   "display_name": "Python 3 (ipykernel)",
   "language": "python",
   "name": "python3"
  },
  "language_info": {
   "codemirror_mode": {
    "name": "ipython",
    "version": 3
   },
   "file_extension": ".py",
   "mimetype": "text/x-python",
   "name": "python",
   "nbconvert_exporter": "python",
   "pygments_lexer": "ipython3",
   "version": "3.10.4"
  }
 },
 "nbformat": 4,
 "nbformat_minor": 5
}
