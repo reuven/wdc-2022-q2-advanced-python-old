{
 "cells": [
  {
   "cell_type": "markdown",
   "id": "5f062a95",
   "metadata": {},
   "source": [
    "# Agenda: Functions\n",
    "\n",
    "1. Defining functions\n",
    "2. Parameters and arguments\n",
    "3. Type annotations\n",
    "4. Scoping (LEGB)\n",
    "5. Byte codes and function compilation\n",
    "6. Enclosing functions\n",
    "7. Dispatch table"
   ]
  },
  {
   "cell_type": "code",
   "execution_count": 1,
   "id": "3c10345b",
   "metadata": {},
   "outputs": [
    {
     "data": {
      "text/plain": [
       "int"
      ]
     },
     "execution_count": 1,
     "metadata": {},
     "output_type": "execute_result"
    }
   ],
   "source": [
    "s = 'abcd'\n",
    "x = len(s)\n",
    "\n",
    "type(x)"
   ]
  },
  {
   "cell_type": "code",
   "execution_count": 2,
   "id": "54e87230",
   "metadata": {},
   "outputs": [
    {
     "data": {
      "text/plain": [
       "4"
      ]
     },
     "execution_count": 2,
     "metadata": {},
     "output_type": "execute_result"
    }
   ],
   "source": [
    "x"
   ]
  },
  {
   "cell_type": "code",
   "execution_count": 3,
   "id": "b4dedb9d",
   "metadata": {},
   "outputs": [
    {
     "data": {
      "text/plain": [
       "str"
      ]
     },
     "execution_count": 3,
     "metadata": {},
     "output_type": "execute_result"
    }
   ],
   "source": [
    "x = s.upper()\n",
    "\n",
    "type(x)"
   ]
  },
  {
   "cell_type": "code",
   "execution_count": 4,
   "id": "5ca44792",
   "metadata": {},
   "outputs": [],
   "source": [
    "x = s.upper"
   ]
  },
  {
   "cell_type": "code",
   "execution_count": 5,
   "id": "68b48ff1",
   "metadata": {},
   "outputs": [
    {
     "data": {
      "text/plain": [
       "builtin_function_or_method"
      ]
     },
     "execution_count": 5,
     "metadata": {},
     "output_type": "execute_result"
    }
   ],
   "source": [
    "type(x)"
   ]
  },
  {
   "cell_type": "code",
   "execution_count": 6,
   "id": "a8c091d0",
   "metadata": {},
   "outputs": [
    {
     "data": {
      "text/plain": [
       "'ABCD'"
      ]
     },
     "execution_count": 6,
     "metadata": {},
     "output_type": "execute_result"
    }
   ],
   "source": [
    "x()"
   ]
  },
  {
   "cell_type": "code",
   "execution_count": 7,
   "id": "6fc6e0c0",
   "metadata": {},
   "outputs": [
    {
     "name": "stdout",
     "output_type": "stream",
     "text": [
      "a: 1\n",
      "b: 2\n",
      "c: 3\n"
     ]
    }
   ],
   "source": [
    "d = {'a':1, 'b':2, 'c':3}\n",
    "\n",
    "for key, value in d.items():\n",
    "    print(f'{key}: {value}')"
   ]
  },
  {
   "cell_type": "code",
   "execution_count": 8,
   "id": "817ba4ae",
   "metadata": {},
   "outputs": [
    {
     "ename": "TypeError",
     "evalue": "'builtin_function_or_method' object is not iterable",
     "output_type": "error",
     "traceback": [
      "\u001b[0;31m---------------------------------------------------------------------------\u001b[0m",
      "\u001b[0;31mTypeError\u001b[0m                                 Traceback (most recent call last)",
      "\u001b[0;32m/var/folders/rr/0mnyyv811fs5vyp22gf4fxk00000gn/T/ipykernel_10064/2797918967.py\u001b[0m in \u001b[0;36m<module>\u001b[0;34m\u001b[0m\n\u001b[1;32m      2\u001b[0m \u001b[0md\u001b[0m \u001b[0;34m=\u001b[0m \u001b[0;34m{\u001b[0m\u001b[0;34m'a'\u001b[0m\u001b[0;34m:\u001b[0m\u001b[0;36m1\u001b[0m\u001b[0;34m,\u001b[0m \u001b[0;34m'b'\u001b[0m\u001b[0;34m:\u001b[0m\u001b[0;36m2\u001b[0m\u001b[0;34m,\u001b[0m \u001b[0;34m'c'\u001b[0m\u001b[0;34m:\u001b[0m\u001b[0;36m3\u001b[0m\u001b[0;34m}\u001b[0m\u001b[0;34m\u001b[0m\u001b[0;34m\u001b[0m\u001b[0m\n\u001b[1;32m      3\u001b[0m \u001b[0;34m\u001b[0m\u001b[0m\n\u001b[0;32m----> 4\u001b[0;31m \u001b[0;32mfor\u001b[0m \u001b[0mkey\u001b[0m\u001b[0;34m,\u001b[0m \u001b[0mvalue\u001b[0m \u001b[0;32min\u001b[0m \u001b[0md\u001b[0m\u001b[0;34m.\u001b[0m\u001b[0mitems\u001b[0m\u001b[0;34m:\u001b[0m\u001b[0;34m\u001b[0m\u001b[0;34m\u001b[0m\u001b[0m\n\u001b[0m\u001b[1;32m      5\u001b[0m     \u001b[0mprint\u001b[0m\u001b[0;34m(\u001b[0m\u001b[0;34mf'{key}: {value}'\u001b[0m\u001b[0;34m)\u001b[0m\u001b[0;34m\u001b[0m\u001b[0;34m\u001b[0m\u001b[0m\n",
      "\u001b[0;31mTypeError\u001b[0m: 'builtin_function_or_method' object is not iterable"
     ]
    }
   ],
   "source": [
    "# many people try to do this\n",
    "d = {'a':1, 'b':2, 'c':3}\n",
    "\n",
    "for key, value in d.items:\n",
    "    print(f'{key}: {value}')"
   ]
  },
  {
   "cell_type": "markdown",
   "id": "b4b779d5",
   "metadata": {},
   "source": [
    "# Two types of arguments in Python\n",
    "\n",
    "- Positional arguments -- assigned to parameters according to their location\n",
    "- Keyword arguments -- they always look like `name=value`.  Assigned to a parameter via the name."
   ]
  },
  {
   "cell_type": "code",
   "execution_count": 12,
   "id": "d989465d",
   "metadata": {},
   "outputs": [],
   "source": [
    "def hello(name):\n",
    "    return f'Hello, {name}!'"
   ]
  },
  {
   "cell_type": "code",
   "execution_count": 13,
   "id": "bb2207bf",
   "metadata": {},
   "outputs": [
    {
     "data": {
      "text/plain": [
       "'Hello, Reuven!'"
      ]
     },
     "execution_count": 13,
     "metadata": {},
     "output_type": "execute_result"
    }
   ],
   "source": [
    "hello('Reuven')"
   ]
  },
  {
   "cell_type": "code",
   "execution_count": 14,
   "id": "48dec791",
   "metadata": {},
   "outputs": [],
   "source": [
    "# parameters: name\n",
    "# arguments:  'Reuven' (positional)\n",
    "\n"
   ]
  },
  {
   "cell_type": "code",
   "execution_count": 15,
   "id": "b67aa771",
   "metadata": {},
   "outputs": [
    {
     "data": {
      "text/plain": [
       "'Hello, Reuven!'"
      ]
     },
     "execution_count": 15,
     "metadata": {},
     "output_type": "execute_result"
    }
   ],
   "source": [
    "hello(name='Reuven')   # keyword\n",
    "\n",
    "# parameters:  name\n",
    "# arguments:   'Reuven'"
   ]
  },
  {
   "cell_type": "code",
   "execution_count": 16,
   "id": "b221302f",
   "metadata": {},
   "outputs": [
    {
     "ename": "TypeError",
     "evalue": "hello() got an unexpected keyword argument 'whatever'",
     "output_type": "error",
     "traceback": [
      "\u001b[0;31m---------------------------------------------------------------------------\u001b[0m",
      "\u001b[0;31mTypeError\u001b[0m                                 Traceback (most recent call last)",
      "\u001b[0;32m/var/folders/rr/0mnyyv811fs5vyp22gf4fxk00000gn/T/ipykernel_10064/1625167261.py\u001b[0m in \u001b[0;36m<module>\u001b[0;34m\u001b[0m\n\u001b[0;32m----> 1\u001b[0;31m \u001b[0mhello\u001b[0m\u001b[0;34m(\u001b[0m\u001b[0mwhatever\u001b[0m\u001b[0;34m=\u001b[0m\u001b[0;34m'Reuven'\u001b[0m\u001b[0;34m)\u001b[0m\u001b[0;34m\u001b[0m\u001b[0;34m\u001b[0m\u001b[0m\n\u001b[0m",
      "\u001b[0;31mTypeError\u001b[0m: hello() got an unexpected keyword argument 'whatever'"
     ]
    }
   ],
   "source": [
    "hello(whatever='Reuven')"
   ]
  },
  {
   "cell_type": "code",
   "execution_count": 17,
   "id": "bfab613a",
   "metadata": {},
   "outputs": [
    {
     "data": {
      "text/plain": [
       "('name',)"
      ]
     },
     "execution_count": 17,
     "metadata": {},
     "output_type": "execute_result"
    }
   ],
   "source": [
    "hello.__code__.co_varnames"
   ]
  },
  {
   "cell_type": "code",
   "execution_count": 18,
   "id": "ca98c384",
   "metadata": {},
   "outputs": [
    {
     "data": {
      "text/plain": [
       "1"
      ]
     },
     "execution_count": 18,
     "metadata": {},
     "output_type": "execute_result"
    }
   ],
   "source": [
    "hello.__code__.co_argcount"
   ]
  },
  {
   "cell_type": "code",
   "execution_count": 19,
   "id": "937feae5",
   "metadata": {},
   "outputs": [
    {
     "data": {
      "text/plain": [
       "'Hello, world!'"
      ]
     },
     "execution_count": 19,
     "metadata": {},
     "output_type": "execute_result"
    }
   ],
   "source": [
    "hello('world')   #  'world' is assigned to name"
   ]
  },
  {
   "cell_type": "code",
   "execution_count": 20,
   "id": "f68bdec5",
   "metadata": {},
   "outputs": [
    {
     "ename": "TypeError",
     "evalue": "hello() missing 1 required positional argument: 'name'",
     "output_type": "error",
     "traceback": [
      "\u001b[0;31m---------------------------------------------------------------------------\u001b[0m",
      "\u001b[0;31mTypeError\u001b[0m                                 Traceback (most recent call last)",
      "\u001b[0;32m/var/folders/rr/0mnyyv811fs5vyp22gf4fxk00000gn/T/ipykernel_10064/2674044599.py\u001b[0m in \u001b[0;36m<module>\u001b[0;34m\u001b[0m\n\u001b[0;32m----> 1\u001b[0;31m \u001b[0mhello\u001b[0m\u001b[0;34m(\u001b[0m\u001b[0;34m)\u001b[0m\u001b[0;34m\u001b[0m\u001b[0;34m\u001b[0m\u001b[0m\n\u001b[0m",
      "\u001b[0;31mTypeError\u001b[0m: hello() missing 1 required positional argument: 'name'"
     ]
    }
   ],
   "source": [
    "hello()"
   ]
  },
  {
   "cell_type": "code",
   "execution_count": 21,
   "id": "72213b9f",
   "metadata": {},
   "outputs": [
    {
     "ename": "TypeError",
     "evalue": "hello() takes 1 positional argument but 2 were given",
     "output_type": "error",
     "traceback": [
      "\u001b[0;31m---------------------------------------------------------------------------\u001b[0m",
      "\u001b[0;31mTypeError\u001b[0m                                 Traceback (most recent call last)",
      "\u001b[0;32m/var/folders/rr/0mnyyv811fs5vyp22gf4fxk00000gn/T/ipykernel_10064/3083850753.py\u001b[0m in \u001b[0;36m<module>\u001b[0;34m\u001b[0m\n\u001b[0;32m----> 1\u001b[0;31m \u001b[0mhello\u001b[0m\u001b[0;34m(\u001b[0m\u001b[0;34m'x'\u001b[0m\u001b[0;34m,\u001b[0m \u001b[0;34m'y'\u001b[0m\u001b[0;34m)\u001b[0m\u001b[0;34m\u001b[0m\u001b[0;34m\u001b[0m\u001b[0m\n\u001b[0m",
      "\u001b[0;31mTypeError\u001b[0m: hello() takes 1 positional argument but 2 were given"
     ]
    }
   ],
   "source": [
    "hello('x', 'y')"
   ]
  },
  {
   "cell_type": "code",
   "execution_count": 25,
   "id": "395d7919",
   "metadata": {},
   "outputs": [
    {
     "data": {
      "text/plain": [
       "<function __main__.hello(name)>"
      ]
     },
     "execution_count": 25,
     "metadata": {},
     "output_type": "execute_result"
    }
   ],
   "source": [
    "type(hello)(hello.__code__, globals())"
   ]
  },
  {
   "cell_type": "markdown",
   "id": "9246e071",
   "metadata": {},
   "source": [
    "We pronounce `__whatever__` as \"dunder whatever.\"\n",
    "\n"
   ]
  },
  {
   "cell_type": "code",
   "execution_count": 26,
   "id": "b0df9a0a",
   "metadata": {},
   "outputs": [
    {
     "data": {
      "text/plain": [
       "['__class__',\n",
       " '__delattr__',\n",
       " '__dir__',\n",
       " '__doc__',\n",
       " '__eq__',\n",
       " '__format__',\n",
       " '__ge__',\n",
       " '__getattribute__',\n",
       " '__gt__',\n",
       " '__hash__',\n",
       " '__init__',\n",
       " '__init_subclass__',\n",
       " '__le__',\n",
       " '__lt__',\n",
       " '__ne__',\n",
       " '__new__',\n",
       " '__reduce__',\n",
       " '__reduce_ex__',\n",
       " '__repr__',\n",
       " '__setattr__',\n",
       " '__sizeof__',\n",
       " '__str__',\n",
       " '__subclasshook__',\n",
       " 'co_argcount',\n",
       " 'co_cellvars',\n",
       " 'co_code',\n",
       " 'co_consts',\n",
       " 'co_filename',\n",
       " 'co_firstlineno',\n",
       " 'co_flags',\n",
       " 'co_freevars',\n",
       " 'co_kwonlyargcount',\n",
       " 'co_lines',\n",
       " 'co_linetable',\n",
       " 'co_lnotab',\n",
       " 'co_name',\n",
       " 'co_names',\n",
       " 'co_nlocals',\n",
       " 'co_posonlyargcount',\n",
       " 'co_stacksize',\n",
       " 'co_varnames',\n",
       " 'replace']"
      ]
     },
     "execution_count": 26,
     "metadata": {},
     "output_type": "execute_result"
    }
   ],
   "source": [
    "dir(hello.__code__)"
   ]
  },
  {
   "cell_type": "code",
   "execution_count": 27,
   "id": "51e677ec",
   "metadata": {},
   "outputs": [
    {
     "data": {
      "text/plain": [
       "b'd\\x01|\\x00\\x9b\\x00d\\x02\\x9d\\x03S\\x00'"
      ]
     },
     "execution_count": 27,
     "metadata": {},
     "output_type": "execute_result"
    }
   ],
   "source": [
    "hello.__code__.co_code"
   ]
  },
  {
   "cell_type": "code",
   "execution_count": 28,
   "id": "e4d8ff00",
   "metadata": {},
   "outputs": [
    {
     "name": "stdout",
     "output_type": "stream",
     "text": [
      "  2           0 LOAD_CONST               1 ('Hello, ')\n",
      "              2 LOAD_FAST                0 (name)\n",
      "              4 FORMAT_VALUE             0\n",
      "              6 LOAD_CONST               2 ('!')\n",
      "              8 BUILD_STRING             3\n",
      "             10 RETURN_VALUE\n"
     ]
    }
   ],
   "source": [
    "import dis   # disassembler\n",
    "\n",
    "dis.dis(hello)"
   ]
  },
  {
   "cell_type": "code",
   "execution_count": 29,
   "id": "d9a9df00",
   "metadata": {},
   "outputs": [],
   "source": [
    "def hello(name):\n",
    "    return f'Hello, {name}!'"
   ]
  },
  {
   "cell_type": "code",
   "execution_count": 30,
   "id": "b327f65d",
   "metadata": {},
   "outputs": [
    {
     "data": {
      "text/plain": [
       "(None, 'Hello, ', '!')"
      ]
     },
     "execution_count": 30,
     "metadata": {},
     "output_type": "execute_result"
    }
   ],
   "source": [
    "hello.__code__.co_consts"
   ]
  },
  {
   "cell_type": "code",
   "execution_count": 31,
   "id": "bfb3b1bf",
   "metadata": {},
   "outputs": [],
   "source": [
    "def nothing():\n",
    "    pass"
   ]
  },
  {
   "cell_type": "code",
   "execution_count": 32,
   "id": "fa414cc2",
   "metadata": {},
   "outputs": [
    {
     "name": "stdout",
     "output_type": "stream",
     "text": [
      "None\n"
     ]
    }
   ],
   "source": [
    "print(nothing())"
   ]
  },
  {
   "cell_type": "code",
   "execution_count": 33,
   "id": "a490bd5b",
   "metadata": {},
   "outputs": [
    {
     "name": "stdout",
     "output_type": "stream",
     "text": [
      "  2           0 LOAD_CONST               0 (None)\n",
      "              2 RETURN_VALUE\n"
     ]
    }
   ],
   "source": [
    "dis.dis(nothing)"
   ]
  },
  {
   "cell_type": "code",
   "execution_count": 34,
   "id": "690a5cb7",
   "metadata": {},
   "outputs": [],
   "source": [
    "def add(first, second):\n",
    "    return first + second"
   ]
  },
  {
   "cell_type": "code",
   "execution_count": 35,
   "id": "9c095671",
   "metadata": {},
   "outputs": [
    {
     "data": {
      "text/plain": [
       "15"
      ]
     },
     "execution_count": 35,
     "metadata": {},
     "output_type": "execute_result"
    }
   ],
   "source": [
    "add(10, 5)"
   ]
  },
  {
   "cell_type": "code",
   "execution_count": 36,
   "id": "e80e1b08",
   "metadata": {},
   "outputs": [
    {
     "data": {
      "text/plain": [
       "'abcdefgh'"
      ]
     },
     "execution_count": 36,
     "metadata": {},
     "output_type": "execute_result"
    }
   ],
   "source": [
    "add('abcd', 'efgh')"
   ]
  },
  {
   "cell_type": "code",
   "execution_count": 37,
   "id": "df3cb6d0",
   "metadata": {},
   "outputs": [
    {
     "data": {
      "text/plain": [
       "2"
      ]
     },
     "execution_count": 37,
     "metadata": {},
     "output_type": "execute_result"
    }
   ],
   "source": [
    "add.__code__.co_argcount"
   ]
  },
  {
   "cell_type": "code",
   "execution_count": 38,
   "id": "c7ad95be",
   "metadata": {},
   "outputs": [
    {
     "data": {
      "text/plain": [
       "('first', 'second')"
      ]
     },
     "execution_count": 38,
     "metadata": {},
     "output_type": "execute_result"
    }
   ],
   "source": [
    "add.__code__.co_varnames"
   ]
  },
  {
   "cell_type": "code",
   "execution_count": 39,
   "id": "39643ddb",
   "metadata": {},
   "outputs": [
    {
     "data": {
      "text/plain": [
       "13"
      ]
     },
     "execution_count": 39,
     "metadata": {},
     "output_type": "execute_result"
    }
   ],
   "source": [
    "# keyword arguments?\n",
    "add(10, second=3)"
   ]
  },
  {
   "cell_type": "code",
   "execution_count": 41,
   "id": "0446ac4f",
   "metadata": {},
   "outputs": [
    {
     "ename": "SyntaxError",
     "evalue": "positional argument follows keyword argument (1099124549.py, line 3)",
     "output_type": "error",
     "traceback": [
      "\u001b[0;36m  File \u001b[0;32m\"/var/folders/rr/0mnyyv811fs5vyp22gf4fxk00000gn/T/ipykernel_10064/1099124549.py\"\u001b[0;36m, line \u001b[0;32m3\u001b[0m\n\u001b[0;31m    add(first=10, 3)\u001b[0m\n\u001b[0m                   ^\u001b[0m\n\u001b[0;31mSyntaxError\u001b[0m\u001b[0;31m:\u001b[0m positional argument follows keyword argument\n"
     ]
    }
   ],
   "source": [
    "# in all cases, positional arguments must all come before keyword arguments\n",
    "\n",
    "add(first=10, 3)"
   ]
  },
  {
   "cell_type": "code",
   "execution_count": 42,
   "id": "6600c655",
   "metadata": {},
   "outputs": [
    {
     "ename": "AttributeError",
     "evalue": "readonly attribute",
     "output_type": "error",
     "traceback": [
      "\u001b[0;31m---------------------------------------------------------------------------\u001b[0m",
      "\u001b[0;31mAttributeError\u001b[0m                            Traceback (most recent call last)",
      "\u001b[0;32m/var/folders/rr/0mnyyv811fs5vyp22gf4fxk00000gn/T/ipykernel_10064/1170150448.py\u001b[0m in \u001b[0;36m<module>\u001b[0;34m\u001b[0m\n\u001b[0;32m----> 1\u001b[0;31m \u001b[0madd\u001b[0m\u001b[0;34m.\u001b[0m\u001b[0m__code__\u001b[0m\u001b[0;34m.\u001b[0m\u001b[0mco_argcount\u001b[0m \u001b[0;34m=\u001b[0m \u001b[0;36m3\u001b[0m\u001b[0;34m\u001b[0m\u001b[0;34m\u001b[0m\u001b[0m\n\u001b[0m",
      "\u001b[0;31mAttributeError\u001b[0m: readonly attribute"
     ]
    }
   ],
   "source": [
    "add.__code__.co_argcount = 3"
   ]
  },
  {
   "cell_type": "code",
   "execution_count": 43,
   "id": "20478fca",
   "metadata": {},
   "outputs": [],
   "source": [
    "def hello(name):\n",
    "    return f'Hello, {name}'\n",
    "\n",
    "def goodbye(name):\n",
    "    return f'Goodbye, {name}'"
   ]
  },
  {
   "cell_type": "code",
   "execution_count": 44,
   "id": "756b42b8",
   "metadata": {},
   "outputs": [],
   "source": [
    "goodbye.__code__ = hello.__code__"
   ]
  },
  {
   "cell_type": "code",
   "execution_count": 45,
   "id": "12c128d0",
   "metadata": {},
   "outputs": [
    {
     "data": {
      "text/plain": [
       "'Hello, whatever'"
      ]
     },
     "execution_count": 45,
     "metadata": {},
     "output_type": "execute_result"
    }
   ],
   "source": [
    "goodbye('whatever')"
   ]
  },
  {
   "cell_type": "code",
   "execution_count": 46,
   "id": "920642fd",
   "metadata": {},
   "outputs": [],
   "source": [
    "import copy\n",
    "\n",
    "new_code = copy.copy(hello.__code__)"
   ]
  },
  {
   "cell_type": "code",
   "execution_count": 47,
   "id": "41689c75",
   "metadata": {},
   "outputs": [
    {
     "data": {
      "text/plain": [
       "<code object hello at 0x10a5c2c30, file \"/var/folders/rr/0mnyyv811fs5vyp22gf4fxk00000gn/T/ipykernel_10064/3296227565.py\", line 1>"
      ]
     },
     "execution_count": 47,
     "metadata": {},
     "output_type": "execute_result"
    }
   ],
   "source": [
    "new_code"
   ]
  },
  {
   "cell_type": "code",
   "execution_count": 48,
   "id": "dd8b270b",
   "metadata": {
    "scrolled": true
   },
   "outputs": [
    {
     "ename": "AttributeError",
     "evalue": "readonly attribute",
     "output_type": "error",
     "traceback": [
      "\u001b[0;31m---------------------------------------------------------------------------\u001b[0m",
      "\u001b[0;31mAttributeError\u001b[0m                            Traceback (most recent call last)",
      "\u001b[0;32m/var/folders/rr/0mnyyv811fs5vyp22gf4fxk00000gn/T/ipykernel_10064/7133865.py\u001b[0m in \u001b[0;36m<module>\u001b[0;34m\u001b[0m\n\u001b[0;32m----> 1\u001b[0;31m \u001b[0mnew_code\u001b[0m\u001b[0;34m.\u001b[0m\u001b[0mco_argcount\u001b[0m \u001b[0;34m=\u001b[0m \u001b[0;36m5\u001b[0m\u001b[0;34m\u001b[0m\u001b[0;34m\u001b[0m\u001b[0m\n\u001b[0m",
      "\u001b[0;31mAttributeError\u001b[0m: readonly attribute"
     ]
    }
   ],
   "source": [
    "new_code.co_argcount = 5"
   ]
  },
  {
   "cell_type": "code",
   "execution_count": 49,
   "id": "7b695199",
   "metadata": {},
   "outputs": [],
   "source": [
    "# default values for parameters\n",
    "\n",
    "def add(first, second=5):\n",
    "    return first + second"
   ]
  },
  {
   "cell_type": "code",
   "execution_count": 50,
   "id": "c0fd41ca",
   "metadata": {},
   "outputs": [
    {
     "data": {
      "text/plain": [
       "13"
      ]
     },
     "execution_count": 50,
     "metadata": {},
     "output_type": "execute_result"
    }
   ],
   "source": [
    "# parameters:  first   second\n",
    "# arguments:    10       3\n",
    "\n",
    "add(10, 3)"
   ]
  },
  {
   "cell_type": "code",
   "execution_count": 54,
   "id": "a718b737",
   "metadata": {},
   "outputs": [
    {
     "data": {
      "text/plain": [
       "15"
      ]
     },
     "execution_count": 54,
     "metadata": {},
     "output_type": "execute_result"
    }
   ],
   "source": [
    "# parameters:  first   second\n",
    "# arguments:     10      5\n",
    "\n",
    "add(10)"
   ]
  },
  {
   "cell_type": "code",
   "execution_count": 52,
   "id": "c8f74b9f",
   "metadata": {},
   "outputs": [
    {
     "data": {
      "text/plain": [
       "2"
      ]
     },
     "execution_count": 52,
     "metadata": {},
     "output_type": "execute_result"
    }
   ],
   "source": [
    "add.__code__.co_argcount"
   ]
  },
  {
   "cell_type": "code",
   "execution_count": 53,
   "id": "7df84135",
   "metadata": {},
   "outputs": [
    {
     "data": {
      "text/plain": [
       "(5,)"
      ]
     },
     "execution_count": 53,
     "metadata": {},
     "output_type": "execute_result"
    }
   ],
   "source": [
    "add.__defaults__"
   ]
  },
  {
   "cell_type": "code",
   "execution_count": 55,
   "id": "e3f1e337",
   "metadata": {},
   "outputs": [],
   "source": [
    "def add(first=3, second=5):\n",
    "    return first + second"
   ]
  },
  {
   "cell_type": "code",
   "execution_count": 56,
   "id": "a4f6023a",
   "metadata": {},
   "outputs": [
    {
     "data": {
      "text/plain": [
       "8"
      ]
     },
     "execution_count": 56,
     "metadata": {},
     "output_type": "execute_result"
    }
   ],
   "source": [
    "add()"
   ]
  },
  {
   "cell_type": "code",
   "execution_count": 57,
   "id": "172530b6",
   "metadata": {},
   "outputs": [
    {
     "data": {
      "text/plain": [
       "5"
      ]
     },
     "execution_count": 57,
     "metadata": {},
     "output_type": "execute_result"
    }
   ],
   "source": [
    "add(second=2)  # keyword argument"
   ]
  },
  {
   "cell_type": "code",
   "execution_count": 58,
   "id": "ae53dc8c",
   "metadata": {},
   "outputs": [
    {
     "data": {
      "text/plain": [
       "[10, 20, 30, 1]"
      ]
     },
     "execution_count": 58,
     "metadata": {},
     "output_type": "execute_result"
    }
   ],
   "source": [
    "def add_one(x=[]):\n",
    "    x.append(1)\n",
    "    return x\n",
    "\n",
    "mylist = [10, 20, 30]\n",
    "add_one(mylist)"
   ]
  },
  {
   "cell_type": "code",
   "execution_count": 59,
   "id": "e9186672",
   "metadata": {},
   "outputs": [
    {
     "data": {
      "text/plain": [
       "[10, 20, 30, 1]"
      ]
     },
     "execution_count": 59,
     "metadata": {},
     "output_type": "execute_result"
    }
   ],
   "source": [
    "mylist"
   ]
  },
  {
   "cell_type": "code",
   "execution_count": 62,
   "id": "89ba9404",
   "metadata": {},
   "outputs": [
    {
     "name": "stdout",
     "output_type": "stream",
     "text": [
      "4481656720\n"
     ]
    }
   ],
   "source": [
    "def set_it(y):\n",
    "    y = 100_000\n",
    "    print(id(y))\n",
    "    return y\n",
    "\n",
    "x = 100\n",
    "x = set_it(x)"
   ]
  },
  {
   "cell_type": "code",
   "execution_count": 63,
   "id": "9d53d69e",
   "metadata": {},
   "outputs": [
    {
     "data": {
      "text/plain": [
       "4481656720"
      ]
     },
     "execution_count": 63,
     "metadata": {},
     "output_type": "execute_result"
    }
   ],
   "source": [
    "id(x)"
   ]
  },
  {
   "cell_type": "code",
   "execution_count": 64,
   "id": "2f218055",
   "metadata": {},
   "outputs": [
    {
     "data": {
      "text/plain": [
       "[1]"
      ]
     },
     "execution_count": 64,
     "metadata": {},
     "output_type": "execute_result"
    }
   ],
   "source": [
    "def add_one(x=[]):\n",
    "    x.append(1)\n",
    "    return x\n",
    "\n",
    "add_one()"
   ]
  },
  {
   "cell_type": "code",
   "execution_count": 65,
   "id": "4eb52826",
   "metadata": {},
   "outputs": [
    {
     "data": {
      "text/plain": [
       "[1, 1]"
      ]
     },
     "execution_count": 65,
     "metadata": {},
     "output_type": "execute_result"
    }
   ],
   "source": [
    "add_one()"
   ]
  },
  {
   "cell_type": "code",
   "execution_count": 66,
   "id": "623d996d",
   "metadata": {},
   "outputs": [
    {
     "data": {
      "text/plain": [
       "[1, 1, 1]"
      ]
     },
     "execution_count": 66,
     "metadata": {},
     "output_type": "execute_result"
    }
   ],
   "source": [
    "add_one()"
   ]
  },
  {
   "cell_type": "code",
   "execution_count": 67,
   "id": "3e9e916d",
   "metadata": {},
   "outputs": [],
   "source": [
    "def add_one(x=[]):  # mutable defaults are BAD!\n",
    "    x.append(1)\n",
    "    return x"
   ]
  },
  {
   "cell_type": "code",
   "execution_count": 68,
   "id": "51e31a66",
   "metadata": {},
   "outputs": [
    {
     "data": {
      "text/plain": [
       "([],)"
      ]
     },
     "execution_count": 68,
     "metadata": {},
     "output_type": "execute_result"
    }
   ],
   "source": [
    "add_one.__defaults__"
   ]
  },
  {
   "cell_type": "code",
   "execution_count": 69,
   "id": "f42264dc",
   "metadata": {},
   "outputs": [
    {
     "data": {
      "text/plain": [
       "[1]"
      ]
     },
     "execution_count": 69,
     "metadata": {},
     "output_type": "execute_result"
    }
   ],
   "source": [
    "# parameters: x\n",
    "# arguments: __defaults__[0]\n",
    "\n",
    "add_one() "
   ]
  },
  {
   "cell_type": "code",
   "execution_count": 70,
   "id": "b5894e9a",
   "metadata": {},
   "outputs": [
    {
     "data": {
      "text/plain": [
       "([1],)"
      ]
     },
     "execution_count": 70,
     "metadata": {},
     "output_type": "execute_result"
    }
   ],
   "source": [
    "add_one.__defaults__"
   ]
  },
  {
   "cell_type": "code",
   "execution_count": 71,
   "id": "1c6dc977",
   "metadata": {},
   "outputs": [
    {
     "data": {
      "text/plain": [
       "[1, 1]"
      ]
     },
     "execution_count": 71,
     "metadata": {},
     "output_type": "execute_result"
    }
   ],
   "source": [
    "add_one()"
   ]
  },
  {
   "cell_type": "code",
   "execution_count": 72,
   "id": "4c1d415e",
   "metadata": {},
   "outputs": [
    {
     "data": {
      "text/plain": [
       "[1, 1, 1]"
      ]
     },
     "execution_count": 72,
     "metadata": {},
     "output_type": "execute_result"
    }
   ],
   "source": [
    "add_one()"
   ]
  },
  {
   "cell_type": "code",
   "execution_count": 73,
   "id": "12ec54e9",
   "metadata": {},
   "outputs": [
    {
     "data": {
      "text/plain": [
       "([1, 1, 1],)"
      ]
     },
     "execution_count": 73,
     "metadata": {},
     "output_type": "execute_result"
    }
   ],
   "source": [
    "add_one.__defaults__"
   ]
  },
  {
   "cell_type": "code",
   "execution_count": null,
   "id": "4382770f",
   "metadata": {},
   "outputs": [],
   "source": [
    "def add_one(x=None):  \n",
    "    if x is None:\n",
    "        x = []\n",
    "    \n",
    "    x.append(1)\n",
    "    return x"
   ]
  },
  {
   "cell_type": "markdown",
   "id": "ef32d51a",
   "metadata": {},
   "source": [
    "# Parameter types\n",
    "\n",
    "1. Mandatory parameters (positional or keyword)\n",
    "2. Optional parameters, with defaults (positional or keyword)"
   ]
  },
  {
   "cell_type": "code",
   "execution_count": 74,
   "id": "8d2ae40b",
   "metadata": {},
   "outputs": [],
   "source": [
    "def mysum(numbers):\n",
    "    total = 0\n",
    "    \n",
    "    for one_number in numbers:\n",
    "        total += one_number\n",
    "        \n",
    "    return one_number"
   ]
  },
  {
   "cell_type": "code",
   "execution_count": 75,
   "id": "4333297e",
   "metadata": {},
   "outputs": [
    {
     "data": {
      "text/plain": [
       "30"
      ]
     },
     "execution_count": 75,
     "metadata": {},
     "output_type": "execute_result"
    }
   ],
   "source": [
    "mysum([10, 20, 30])"
   ]
  },
  {
   "cell_type": "code",
   "execution_count": 76,
   "id": "8e8fa3b3",
   "metadata": {},
   "outputs": [
    {
     "ename": "TypeError",
     "evalue": "mysum() takes 1 positional argument but 3 were given",
     "output_type": "error",
     "traceback": [
      "\u001b[0;31m---------------------------------------------------------------------------\u001b[0m",
      "\u001b[0;31mTypeError\u001b[0m                                 Traceback (most recent call last)",
      "\u001b[0;32m/var/folders/rr/0mnyyv811fs5vyp22gf4fxk00000gn/T/ipykernel_10064/1367105100.py\u001b[0m in \u001b[0;36m<module>\u001b[0;34m\u001b[0m\n\u001b[0;32m----> 1\u001b[0;31m \u001b[0mmysum\u001b[0m\u001b[0;34m(\u001b[0m\u001b[0;36m10\u001b[0m\u001b[0;34m,\u001b[0m \u001b[0;36m20\u001b[0m\u001b[0;34m,\u001b[0m \u001b[0;36m30\u001b[0m\u001b[0;34m)\u001b[0m\u001b[0;34m\u001b[0m\u001b[0;34m\u001b[0m\u001b[0m\n\u001b[0m",
      "\u001b[0;31mTypeError\u001b[0m: mysum() takes 1 positional argument but 3 were given"
     ]
    }
   ],
   "source": [
    "mysum(10, 20, 30)"
   ]
  },
  {
   "cell_type": "code",
   "execution_count": 77,
   "id": "a8cebe04",
   "metadata": {},
   "outputs": [],
   "source": [
    "# *args (\"splat args\")\n",
    "# the parameter with a * gets all of the positional arguments that no one else wanted\n",
    "# it'll always be a tuple\n",
    "\n",
    "def mysum(*numbers):  \n",
    "    print(f'{numbers=}')\n",
    "    total = 0\n",
    "    \n",
    "    for one_number in numbers:\n",
    "        total += one_number\n",
    "\n",
    "    return total"
   ]
  },
  {
   "cell_type": "code",
   "execution_count": 78,
   "id": "b5f09f93",
   "metadata": {},
   "outputs": [
    {
     "name": "stdout",
     "output_type": "stream",
     "text": [
      "numbers=(10, 20, 30)\n"
     ]
    },
    {
     "data": {
      "text/plain": [
       "60"
      ]
     },
     "execution_count": 78,
     "metadata": {},
     "output_type": "execute_result"
    }
   ],
   "source": [
    "mysum(10, 20, 30)"
   ]
  },
  {
   "cell_type": "code",
   "execution_count": 79,
   "id": "6b234466",
   "metadata": {},
   "outputs": [],
   "source": [
    "def myfunc(a, b, *args):\n",
    "    return f'{a=}, {b=}, {args=}'"
   ]
  },
  {
   "cell_type": "code",
   "execution_count": 80,
   "id": "9179d062",
   "metadata": {},
   "outputs": [
    {
     "data": {
      "text/plain": [
       "'a=10, b=20, args=(30, 40, 50)'"
      ]
     },
     "execution_count": 80,
     "metadata": {},
     "output_type": "execute_result"
    }
   ],
   "source": [
    "myfunc(10, 20, 30, 40, 50)"
   ]
  },
  {
   "cell_type": "code",
   "execution_count": null,
   "id": "cdc90e8f",
   "metadata": {},
   "outputs": [],
   "source": []
  },
  {
   "cell_type": "markdown",
   "id": "65358145",
   "metadata": {},
   "source": [
    "# Parameter types\n",
    "\n",
    "1. Mandatory parameters (positional or keyword)\n",
    "2. Optional parameters, with defaults (positional or keyword)\n",
    "3. `*args`, a tuple with all leftover positional arguments"
   ]
  },
  {
   "cell_type": "markdown",
   "id": "b3d84289",
   "metadata": {},
   "source": [
    "# Exercise: `all_lines`\n",
    "\n",
    "1. Write a function, `all_lines`, that takes:\n",
    "    - One mandatory argument, a string with the filename into which we'll write\n",
    "    - Any number of additional positional arguments, filenames from which we'll read\n",
    "2. The function should write all of the lines from the input files into the output file    "
   ]
  },
  {
   "cell_type": "code",
   "execution_count": 81,
   "id": "03be4827",
   "metadata": {},
   "outputs": [],
   "source": [
    "def all_lines(outfilename, *args):\n",
    "    with open(outfilename, 'w') as outfile:\n",
    "        for one_filename in args:\n",
    "            for one_line in open(one_filename):\n",
    "                outfile.write(one_line)"
   ]
  },
  {
   "cell_type": "code",
   "execution_count": 82,
   "id": "cc677b1a",
   "metadata": {},
   "outputs": [
    {
     "name": "stdout",
     "output_type": "stream",
     "text": [
      "WDC-2022-05May-17.html\t WDC-2022-05May-19.ipynb   wdc-2022-05May-17.zip\r\n",
      "WDC-2022-05May-17.ipynb  python-workout-cover.png\r\n"
     ]
    }
   ],
   "source": [
    "!ls"
   ]
  },
  {
   "cell_type": "code",
   "execution_count": 83,
   "id": "a42a4ea8",
   "metadata": {},
   "outputs": [
    {
     "ename": "FileNotFoundError",
     "evalue": "[Errno 2] No such file or directory: 'WDC-2022.05May-17.html'",
     "output_type": "error",
     "traceback": [
      "\u001b[0;31m---------------------------------------------------------------------------\u001b[0m",
      "\u001b[0;31mFileNotFoundError\u001b[0m                         Traceback (most recent call last)",
      "\u001b[0;32m/var/folders/rr/0mnyyv811fs5vyp22gf4fxk00000gn/T/ipykernel_10064/3243853286.py\u001b[0m in \u001b[0;36m<module>\u001b[0;34m\u001b[0m\n\u001b[0;32m----> 1\u001b[0;31m \u001b[0mall_lines\u001b[0m\u001b[0;34m(\u001b[0m\u001b[0;34m'outfile.txt'\u001b[0m\u001b[0;34m,\u001b[0m \u001b[0;34m'WDC-2022.05May-17.html'\u001b[0m\u001b[0;34m,\u001b[0m \u001b[0;34m'WDC-2022.05May-17.ipynb'\u001b[0m\u001b[0;34m)\u001b[0m\u001b[0;34m\u001b[0m\u001b[0;34m\u001b[0m\u001b[0m\n\u001b[0m",
      "\u001b[0;32m/var/folders/rr/0mnyyv811fs5vyp22gf4fxk00000gn/T/ipykernel_10064/1833066642.py\u001b[0m in \u001b[0;36mall_lines\u001b[0;34m(outfilename, *args)\u001b[0m\n\u001b[1;32m      2\u001b[0m     \u001b[0;32mwith\u001b[0m \u001b[0mopen\u001b[0m\u001b[0;34m(\u001b[0m\u001b[0moutfilename\u001b[0m\u001b[0;34m,\u001b[0m \u001b[0;34m'w'\u001b[0m\u001b[0;34m)\u001b[0m \u001b[0;32mas\u001b[0m \u001b[0moutfile\u001b[0m\u001b[0;34m:\u001b[0m\u001b[0;34m\u001b[0m\u001b[0;34m\u001b[0m\u001b[0m\n\u001b[1;32m      3\u001b[0m         \u001b[0;32mfor\u001b[0m \u001b[0mone_filename\u001b[0m \u001b[0;32min\u001b[0m \u001b[0margs\u001b[0m\u001b[0;34m:\u001b[0m\u001b[0;34m\u001b[0m\u001b[0;34m\u001b[0m\u001b[0m\n\u001b[0;32m----> 4\u001b[0;31m             \u001b[0;32mfor\u001b[0m \u001b[0mone_line\u001b[0m \u001b[0;32min\u001b[0m \u001b[0mopen\u001b[0m\u001b[0;34m(\u001b[0m\u001b[0mone_filename\u001b[0m\u001b[0;34m)\u001b[0m\u001b[0;34m:\u001b[0m\u001b[0;34m\u001b[0m\u001b[0;34m\u001b[0m\u001b[0m\n\u001b[0m\u001b[1;32m      5\u001b[0m                 \u001b[0moutfile\u001b[0m\u001b[0;34m.\u001b[0m\u001b[0mwrite\u001b[0m\u001b[0;34m(\u001b[0m\u001b[0mone_line\u001b[0m\u001b[0;34m)\u001b[0m\u001b[0;34m\u001b[0m\u001b[0;34m\u001b[0m\u001b[0m\n",
      "\u001b[0;31mFileNotFoundError\u001b[0m: [Errno 2] No such file or directory: 'WDC-2022.05May-17.html'"
     ]
    }
   ],
   "source": [
    "all_lines('outfile.txt', 'WDC-2022.05May-17.html', 'WDC-2022.05May-17.ipynb')"
   ]
  },
  {
   "cell_type": "code",
   "execution_count": 84,
   "id": "a62072e3",
   "metadata": {},
   "outputs": [],
   "source": [
    "def all_lines(outfilename, *args):\n",
    "    with open(outfilename, 'w') as outfile:\n",
    "        for one_filename in args:\n",
    "            f = open(one_filename)\n",
    "            outfile.write(f.read())   # works, if you have enough memory"
   ]
  },
  {
   "cell_type": "code",
   "execution_count": null,
   "id": "7adc5b14",
   "metadata": {},
   "outputs": [],
   "source": [
    "def all_lines(outfilename, *args):\n",
    "    with open(outfilename, 'w') as outfile:\n",
    "        for one_filename in args:\n",
    "            f = open(one_filename)\n",
    "            outfile.writelines(f.readlines())     # works, if you have EVEN MORE memory than using f.read()"
   ]
  },
  {
   "cell_type": "code",
   "execution_count": 89,
   "id": "f3f2bf4e",
   "metadata": {},
   "outputs": [],
   "source": [
    "def all_lines(outfilename, *args):\n",
    "    print(f'{outfilename=}, {args=}')\n",
    "    with open(outfilename, 'w') as outfile:\n",
    "        for one_filename in args:\n",
    "            for one_line in open(one_filename):  \n",
    "                outfile.write(one_line)"
   ]
  },
  {
   "cell_type": "markdown",
   "id": "77f64cb5",
   "metadata": {},
   "source": [
    "# Opening files (for writing)\n",
    "\n",
    "- `open(filename, 'w')` -- open for writing, erase any previous content\n",
    "- `open(filename, 'a')` -- open for writing at the end, appending to previous content\n",
    "- `open(filename, 'x')` -- open for writing, but only if it's a new file -- exception if the file exists"
   ]
  },
  {
   "cell_type": "code",
   "execution_count": 87,
   "id": "38f8cf45",
   "metadata": {},
   "outputs": [
    {
     "data": {
      "text/plain": [
       "['WDC-2022-05May-19.ipynb', 'WDC-2022-05May-17.ipynb']"
      ]
     },
     "execution_count": 87,
     "metadata": {},
     "output_type": "execute_result"
    }
   ],
   "source": [
    "import glob\n",
    "glob.glob('*.ipynb')"
   ]
  },
  {
   "cell_type": "code",
   "execution_count": 90,
   "id": "98b6e679",
   "metadata": {},
   "outputs": [
    {
     "name": "stdout",
     "output_type": "stream",
     "text": [
      "outfilename='output.txt', args=(['WDC-2022-05May-19.ipynb', 'WDC-2022-05May-17.ipynb'],)\n"
     ]
    },
    {
     "ename": "TypeError",
     "evalue": "expected str, bytes or os.PathLike object, not list",
     "output_type": "error",
     "traceback": [
      "\u001b[0;31m---------------------------------------------------------------------------\u001b[0m",
      "\u001b[0;31mTypeError\u001b[0m                                 Traceback (most recent call last)",
      "\u001b[0;32m/var/folders/rr/0mnyyv811fs5vyp22gf4fxk00000gn/T/ipykernel_10064/1813262992.py\u001b[0m in \u001b[0;36m<module>\u001b[0;34m\u001b[0m\n\u001b[0;32m----> 1\u001b[0;31m \u001b[0mall_lines\u001b[0m\u001b[0;34m(\u001b[0m\u001b[0;34m'output.txt'\u001b[0m\u001b[0;34m,\u001b[0m \u001b[0mglob\u001b[0m\u001b[0;34m.\u001b[0m\u001b[0mglob\u001b[0m\u001b[0;34m(\u001b[0m\u001b[0;34m'*.ipynb'\u001b[0m\u001b[0;34m)\u001b[0m\u001b[0;34m)\u001b[0m\u001b[0;34m\u001b[0m\u001b[0;34m\u001b[0m\u001b[0m\n\u001b[0m",
      "\u001b[0;32m/var/folders/rr/0mnyyv811fs5vyp22gf4fxk00000gn/T/ipykernel_10064/771916276.py\u001b[0m in \u001b[0;36mall_lines\u001b[0;34m(outfilename, *args)\u001b[0m\n\u001b[1;32m      3\u001b[0m     \u001b[0;32mwith\u001b[0m \u001b[0mopen\u001b[0m\u001b[0;34m(\u001b[0m\u001b[0moutfilename\u001b[0m\u001b[0;34m,\u001b[0m \u001b[0;34m'w'\u001b[0m\u001b[0;34m)\u001b[0m \u001b[0;32mas\u001b[0m \u001b[0moutfile\u001b[0m\u001b[0;34m:\u001b[0m\u001b[0;34m\u001b[0m\u001b[0;34m\u001b[0m\u001b[0m\n\u001b[1;32m      4\u001b[0m         \u001b[0;32mfor\u001b[0m \u001b[0mone_filename\u001b[0m \u001b[0;32min\u001b[0m \u001b[0margs\u001b[0m\u001b[0;34m:\u001b[0m\u001b[0;34m\u001b[0m\u001b[0;34m\u001b[0m\u001b[0m\n\u001b[0;32m----> 5\u001b[0;31m             \u001b[0;32mfor\u001b[0m \u001b[0mone_line\u001b[0m \u001b[0;32min\u001b[0m \u001b[0mopen\u001b[0m\u001b[0;34m(\u001b[0m\u001b[0mone_filename\u001b[0m\u001b[0;34m)\u001b[0m\u001b[0;34m:\u001b[0m\u001b[0;34m\u001b[0m\u001b[0;34m\u001b[0m\u001b[0m\n\u001b[0m\u001b[1;32m      6\u001b[0m                 \u001b[0moutfile\u001b[0m\u001b[0;34m.\u001b[0m\u001b[0mwrite\u001b[0m\u001b[0;34m(\u001b[0m\u001b[0mone_line\u001b[0m\u001b[0;34m)\u001b[0m\u001b[0;34m\u001b[0m\u001b[0;34m\u001b[0m\u001b[0m\n",
      "\u001b[0;31mTypeError\u001b[0m: expected str, bytes or os.PathLike object, not list"
     ]
    }
   ],
   "source": [
    "all_lines('output.txt', glob.glob('*.ipynb'))"
   ]
  },
  {
   "cell_type": "code",
   "execution_count": null,
   "id": "6ec49052",
   "metadata": {},
   "outputs": [],
   "source": []
  }
 ],
 "metadata": {
  "kernelspec": {
   "display_name": "Python 3 (ipykernel)",
   "language": "python",
   "name": "python3"
  },
  "language_info": {
   "codemirror_mode": {
    "name": "ipython",
    "version": 3
   },
   "file_extension": ".py",
   "mimetype": "text/x-python",
   "name": "python",
   "nbconvert_exporter": "python",
   "pygments_lexer": "ipython3",
   "version": "3.10.4"
  }
 },
 "nbformat": 4,
 "nbformat_minor": 5
}
