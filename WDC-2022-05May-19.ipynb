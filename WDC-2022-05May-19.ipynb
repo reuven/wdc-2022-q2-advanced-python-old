{
 "cells": [
  {
   "cell_type": "markdown",
   "id": "508ce042",
   "metadata": {},
   "source": [
    "# Agenda: Functions\n",
    "\n",
    "1. Defining functions\n",
    "2. Parameters and arguments\n",
    "3. Type annotations\n",
    "4. Scoping (LEGB)\n",
    "5. Byte codes and function compilation\n",
    "6. Enclosing functions\n",
    "7. Dispatch table"
   ]
  },
  {
   "cell_type": "code",
   "execution_count": 1,
   "id": "ad5c0e91",
   "metadata": {},
   "outputs": [
    {
     "data": {
      "text/plain": [
       "int"
      ]
     },
     "execution_count": 1,
     "metadata": {},
     "output_type": "execute_result"
    }
   ],
   "source": [
    "s = 'abcd'\n",
    "x = len(s)\n",
    "\n",
    "type(x)"
   ]
  },
  {
   "cell_type": "code",
   "execution_count": 2,
   "id": "db1bbbaa",
   "metadata": {},
   "outputs": [
    {
     "data": {
      "text/plain": [
       "4"
      ]
     },
     "execution_count": 2,
     "metadata": {},
     "output_type": "execute_result"
    }
   ],
   "source": [
    "x"
   ]
  },
  {
   "cell_type": "code",
   "execution_count": 3,
   "id": "4ef4115a",
   "metadata": {},
   "outputs": [
    {
     "data": {
      "text/plain": [
       "str"
      ]
     },
     "execution_count": 3,
     "metadata": {},
     "output_type": "execute_result"
    }
   ],
   "source": [
    "x = s.upper()\n",
    "\n",
    "type(x)"
   ]
  },
  {
   "cell_type": "code",
   "execution_count": 4,
   "id": "aba33f77",
   "metadata": {},
   "outputs": [],
   "source": [
    "x = s.upper"
   ]
  },
  {
   "cell_type": "code",
   "execution_count": 5,
   "id": "0ec694cf",
   "metadata": {},
   "outputs": [
    {
     "data": {
      "text/plain": [
       "builtin_function_or_method"
      ]
     },
     "execution_count": 5,
     "metadata": {},
     "output_type": "execute_result"
    }
   ],
   "source": [
    "type(x)"
   ]
  },
  {
   "cell_type": "code",
   "execution_count": 6,
   "id": "465ab0f9",
   "metadata": {},
   "outputs": [
    {
     "data": {
      "text/plain": [
       "'ABCD'"
      ]
     },
     "execution_count": 6,
     "metadata": {},
     "output_type": "execute_result"
    }
   ],
   "source": [
    "x()"
   ]
  },
  {
   "cell_type": "code",
   "execution_count": 7,
   "id": "4d6262a0",
   "metadata": {},
   "outputs": [
    {
     "name": "stdout",
     "output_type": "stream",
     "text": [
      "a: 1\n",
      "b: 2\n",
      "c: 3\n"
     ]
    }
   ],
   "source": [
    "d = {'a':1, 'b':2, 'c':3}\n",
    "\n",
    "for key, value in d.items():\n",
    "    print(f'{key}: {value}')"
   ]
  },
  {
   "cell_type": "code",
   "execution_count": 8,
   "id": "07839f78",
   "metadata": {},
   "outputs": [
    {
     "ename": "TypeError",
     "evalue": "'builtin_function_or_method' object is not iterable",
     "output_type": "error",
     "traceback": [
      "\u001b[0;31m---------------------------------------------------------------------------\u001b[0m",
      "\u001b[0;31mTypeError\u001b[0m                                 Traceback (most recent call last)",
      "\u001b[0;32m/var/folders/rr/0mnyyv811fs5vyp22gf4fxk00000gn/T/ipykernel_10064/2797918967.py\u001b[0m in \u001b[0;36m<module>\u001b[0;34m\u001b[0m\n\u001b[1;32m      2\u001b[0m \u001b[0md\u001b[0m \u001b[0;34m=\u001b[0m \u001b[0;34m{\u001b[0m\u001b[0;34m'a'\u001b[0m\u001b[0;34m:\u001b[0m\u001b[0;36m1\u001b[0m\u001b[0;34m,\u001b[0m \u001b[0;34m'b'\u001b[0m\u001b[0;34m:\u001b[0m\u001b[0;36m2\u001b[0m\u001b[0;34m,\u001b[0m \u001b[0;34m'c'\u001b[0m\u001b[0;34m:\u001b[0m\u001b[0;36m3\u001b[0m\u001b[0;34m}\u001b[0m\u001b[0;34m\u001b[0m\u001b[0;34m\u001b[0m\u001b[0m\n\u001b[1;32m      3\u001b[0m \u001b[0;34m\u001b[0m\u001b[0m\n\u001b[0;32m----> 4\u001b[0;31m \u001b[0;32mfor\u001b[0m \u001b[0mkey\u001b[0m\u001b[0;34m,\u001b[0m \u001b[0mvalue\u001b[0m \u001b[0;32min\u001b[0m \u001b[0md\u001b[0m\u001b[0;34m.\u001b[0m\u001b[0mitems\u001b[0m\u001b[0;34m:\u001b[0m\u001b[0;34m\u001b[0m\u001b[0;34m\u001b[0m\u001b[0m\n\u001b[0m\u001b[1;32m      5\u001b[0m     \u001b[0mprint\u001b[0m\u001b[0;34m(\u001b[0m\u001b[0;34mf'{key}: {value}'\u001b[0m\u001b[0;34m)\u001b[0m\u001b[0;34m\u001b[0m\u001b[0;34m\u001b[0m\u001b[0m\n",
      "\u001b[0;31mTypeError\u001b[0m: 'builtin_function_or_method' object is not iterable"
     ]
    }
   ],
   "source": [
    "# many people try to do this\n",
    "d = {'a':1, 'b':2, 'c':3}\n",
    "\n",
    "for key, value in d.items:\n",
    "    print(f'{key}: {value}')"
   ]
  },
  {
   "cell_type": "markdown",
   "id": "a2920173",
   "metadata": {},
   "source": [
    "# Two types of arguments in Python\n",
    "\n",
    "- Positional arguments -- assigned to parameters according to their location\n",
    "- Keyword arguments -- they always look like `name=value`.  Assigned to a parameter via the name."
   ]
  },
  {
   "cell_type": "code",
   "execution_count": 12,
   "id": "c68776a2",
   "metadata": {},
   "outputs": [],
   "source": [
    "def hello(name):\n",
    "    return f'Hello, {name}!'"
   ]
  },
  {
   "cell_type": "code",
   "execution_count": 13,
   "id": "12549d2b",
   "metadata": {},
   "outputs": [
    {
     "data": {
      "text/plain": [
       "'Hello, Reuven!'"
      ]
     },
     "execution_count": 13,
     "metadata": {},
     "output_type": "execute_result"
    }
   ],
   "source": [
    "hello('Reuven')"
   ]
  },
  {
   "cell_type": "code",
   "execution_count": 14,
   "id": "801fb879",
   "metadata": {},
   "outputs": [],
   "source": [
    "# parameters: name\n",
    "# arguments:  'Reuven' (positional)\n",
    "\n"
   ]
  },
  {
   "cell_type": "code",
   "execution_count": 15,
   "id": "953fcf3c",
   "metadata": {},
   "outputs": [
    {
     "data": {
      "text/plain": [
       "'Hello, Reuven!'"
      ]
     },
     "execution_count": 15,
     "metadata": {},
     "output_type": "execute_result"
    }
   ],
   "source": [
    "hello(name='Reuven')   # keyword\n",
    "\n",
    "# parameters:  name\n",
    "# arguments:   'Reuven'"
   ]
  },
  {
   "cell_type": "code",
   "execution_count": 16,
   "id": "5f30a233",
   "metadata": {},
   "outputs": [
    {
     "ename": "TypeError",
     "evalue": "hello() got an unexpected keyword argument 'whatever'",
     "output_type": "error",
     "traceback": [
      "\u001b[0;31m---------------------------------------------------------------------------\u001b[0m",
      "\u001b[0;31mTypeError\u001b[0m                                 Traceback (most recent call last)",
      "\u001b[0;32m/var/folders/rr/0mnyyv811fs5vyp22gf4fxk00000gn/T/ipykernel_10064/1625167261.py\u001b[0m in \u001b[0;36m<module>\u001b[0;34m\u001b[0m\n\u001b[0;32m----> 1\u001b[0;31m \u001b[0mhello\u001b[0m\u001b[0;34m(\u001b[0m\u001b[0mwhatever\u001b[0m\u001b[0;34m=\u001b[0m\u001b[0;34m'Reuven'\u001b[0m\u001b[0;34m)\u001b[0m\u001b[0;34m\u001b[0m\u001b[0;34m\u001b[0m\u001b[0m\n\u001b[0m",
      "\u001b[0;31mTypeError\u001b[0m: hello() got an unexpected keyword argument 'whatever'"
     ]
    }
   ],
   "source": [
    "hello(whatever='Reuven')"
   ]
  },
  {
   "cell_type": "code",
   "execution_count": 17,
   "id": "e5ee5ab5",
   "metadata": {},
   "outputs": [
    {
     "data": {
      "text/plain": [
       "('name',)"
      ]
     },
     "execution_count": 17,
     "metadata": {},
     "output_type": "execute_result"
    }
   ],
   "source": [
    "hello.__code__.co_varnames"
   ]
  },
  {
   "cell_type": "code",
   "execution_count": 18,
   "id": "f47f9cc8",
   "metadata": {},
   "outputs": [
    {
     "data": {
      "text/plain": [
       "1"
      ]
     },
     "execution_count": 18,
     "metadata": {},
     "output_type": "execute_result"
    }
   ],
   "source": [
    "hello.__code__.co_argcount"
   ]
  },
  {
   "cell_type": "code",
   "execution_count": 19,
   "id": "ff4138cf",
   "metadata": {},
   "outputs": [
    {
     "data": {
      "text/plain": [
       "'Hello, world!'"
      ]
     },
     "execution_count": 19,
     "metadata": {},
     "output_type": "execute_result"
    }
   ],
   "source": [
    "hello('world')   #  'world' is assigned to name"
   ]
  },
  {
   "cell_type": "code",
   "execution_count": 20,
   "id": "1d9dcf76",
   "metadata": {},
   "outputs": [
    {
     "ename": "TypeError",
     "evalue": "hello() missing 1 required positional argument: 'name'",
     "output_type": "error",
     "traceback": [
      "\u001b[0;31m---------------------------------------------------------------------------\u001b[0m",
      "\u001b[0;31mTypeError\u001b[0m                                 Traceback (most recent call last)",
      "\u001b[0;32m/var/folders/rr/0mnyyv811fs5vyp22gf4fxk00000gn/T/ipykernel_10064/2674044599.py\u001b[0m in \u001b[0;36m<module>\u001b[0;34m\u001b[0m\n\u001b[0;32m----> 1\u001b[0;31m \u001b[0mhello\u001b[0m\u001b[0;34m(\u001b[0m\u001b[0;34m)\u001b[0m\u001b[0;34m\u001b[0m\u001b[0;34m\u001b[0m\u001b[0m\n\u001b[0m",
      "\u001b[0;31mTypeError\u001b[0m: hello() missing 1 required positional argument: 'name'"
     ]
    }
   ],
   "source": [
    "hello()"
   ]
  },
  {
   "cell_type": "code",
   "execution_count": 21,
   "id": "4b38d337",
   "metadata": {},
   "outputs": [
    {
     "ename": "TypeError",
     "evalue": "hello() takes 1 positional argument but 2 were given",
     "output_type": "error",
     "traceback": [
      "\u001b[0;31m---------------------------------------------------------------------------\u001b[0m",
      "\u001b[0;31mTypeError\u001b[0m                                 Traceback (most recent call last)",
      "\u001b[0;32m/var/folders/rr/0mnyyv811fs5vyp22gf4fxk00000gn/T/ipykernel_10064/3083850753.py\u001b[0m in \u001b[0;36m<module>\u001b[0;34m\u001b[0m\n\u001b[0;32m----> 1\u001b[0;31m \u001b[0mhello\u001b[0m\u001b[0;34m(\u001b[0m\u001b[0;34m'x'\u001b[0m\u001b[0;34m,\u001b[0m \u001b[0;34m'y'\u001b[0m\u001b[0;34m)\u001b[0m\u001b[0;34m\u001b[0m\u001b[0;34m\u001b[0m\u001b[0m\n\u001b[0m",
      "\u001b[0;31mTypeError\u001b[0m: hello() takes 1 positional argument but 2 were given"
     ]
    }
   ],
   "source": [
    "hello('x', 'y')"
   ]
  },
  {
   "cell_type": "code",
   "execution_count": 25,
   "id": "7a81a99d",
   "metadata": {},
   "outputs": [
    {
     "data": {
      "text/plain": [
       "<function __main__.hello(name)>"
      ]
     },
     "execution_count": 25,
     "metadata": {},
     "output_type": "execute_result"
    }
   ],
   "source": [
    "type(hello)(hello.__code__, globals())"
   ]
  },
  {
   "cell_type": "markdown",
   "id": "da4b1f8e",
   "metadata": {},
   "source": [
    "We pronounce `__whatever__` as \"dunder whatever.\"\n",
    "\n"
   ]
  },
  {
   "cell_type": "code",
   "execution_count": 26,
   "id": "c4ba323a",
   "metadata": {},
   "outputs": [
    {
     "data": {
      "text/plain": [
       "['__class__',\n",
       " '__delattr__',\n",
       " '__dir__',\n",
       " '__doc__',\n",
       " '__eq__',\n",
       " '__format__',\n",
       " '__ge__',\n",
       " '__getattribute__',\n",
       " '__gt__',\n",
       " '__hash__',\n",
       " '__init__',\n",
       " '__init_subclass__',\n",
       " '__le__',\n",
       " '__lt__',\n",
       " '__ne__',\n",
       " '__new__',\n",
       " '__reduce__',\n",
       " '__reduce_ex__',\n",
       " '__repr__',\n",
       " '__setattr__',\n",
       " '__sizeof__',\n",
       " '__str__',\n",
       " '__subclasshook__',\n",
       " 'co_argcount',\n",
       " 'co_cellvars',\n",
       " 'co_code',\n",
       " 'co_consts',\n",
       " 'co_filename',\n",
       " 'co_firstlineno',\n",
       " 'co_flags',\n",
       " 'co_freevars',\n",
       " 'co_kwonlyargcount',\n",
       " 'co_lines',\n",
       " 'co_linetable',\n",
       " 'co_lnotab',\n",
       " 'co_name',\n",
       " 'co_names',\n",
       " 'co_nlocals',\n",
       " 'co_posonlyargcount',\n",
       " 'co_stacksize',\n",
       " 'co_varnames',\n",
       " 'replace']"
      ]
     },
     "execution_count": 26,
     "metadata": {},
     "output_type": "execute_result"
    }
   ],
   "source": [
    "dir(hello.__code__)"
   ]
  },
  {
   "cell_type": "code",
   "execution_count": 27,
   "id": "667a99a1",
   "metadata": {},
   "outputs": [
    {
     "data": {
      "text/plain": [
       "b'd\\x01|\\x00\\x9b\\x00d\\x02\\x9d\\x03S\\x00'"
      ]
     },
     "execution_count": 27,
     "metadata": {},
     "output_type": "execute_result"
    }
   ],
   "source": [
    "hello.__code__.co_code"
   ]
  },
  {
   "cell_type": "code",
   "execution_count": 28,
   "id": "59944352",
   "metadata": {},
   "outputs": [
    {
     "name": "stdout",
     "output_type": "stream",
     "text": [
      "  2           0 LOAD_CONST               1 ('Hello, ')\n",
      "              2 LOAD_FAST                0 (name)\n",
      "              4 FORMAT_VALUE             0\n",
      "              6 LOAD_CONST               2 ('!')\n",
      "              8 BUILD_STRING             3\n",
      "             10 RETURN_VALUE\n"
     ]
    }
   ],
   "source": [
    "import dis   # disassembler\n",
    "\n",
    "dis.dis(hello)"
   ]
  },
  {
   "cell_type": "code",
   "execution_count": 29,
   "id": "5fd8d4f8",
   "metadata": {},
   "outputs": [],
   "source": [
    "def hello(name):\n",
    "    return f'Hello, {name}!'"
   ]
  },
  {
   "cell_type": "code",
   "execution_count": 30,
   "id": "e82e6a52",
   "metadata": {},
   "outputs": [
    {
     "data": {
      "text/plain": [
       "(None, 'Hello, ', '!')"
      ]
     },
     "execution_count": 30,
     "metadata": {},
     "output_type": "execute_result"
    }
   ],
   "source": [
    "hello.__code__.co_consts"
   ]
  },
  {
   "cell_type": "code",
   "execution_count": 31,
   "id": "5b0c22a6",
   "metadata": {},
   "outputs": [],
   "source": [
    "def nothing():\n",
    "    pass"
   ]
  },
  {
   "cell_type": "code",
   "execution_count": 32,
   "id": "180a96ea",
   "metadata": {},
   "outputs": [
    {
     "name": "stdout",
     "output_type": "stream",
     "text": [
      "None\n"
     ]
    }
   ],
   "source": [
    "print(nothing())"
   ]
  },
  {
   "cell_type": "code",
   "execution_count": 33,
   "id": "b28d5a0a",
   "metadata": {},
   "outputs": [
    {
     "name": "stdout",
     "output_type": "stream",
     "text": [
      "  2           0 LOAD_CONST               0 (None)\n",
      "              2 RETURN_VALUE\n"
     ]
    }
   ],
   "source": [
    "dis.dis(nothing)"
   ]
  },
  {
   "cell_type": "code",
   "execution_count": 34,
   "id": "531c4d7a",
   "metadata": {},
   "outputs": [],
   "source": [
    "def add(first, second):\n",
    "    return first + second"
   ]
  },
  {
   "cell_type": "code",
   "execution_count": 35,
   "id": "949ab4e9",
   "metadata": {},
   "outputs": [
    {
     "data": {
      "text/plain": [
       "15"
      ]
     },
     "execution_count": 35,
     "metadata": {},
     "output_type": "execute_result"
    }
   ],
   "source": [
    "add(10, 5)"
   ]
  },
  {
   "cell_type": "code",
   "execution_count": 36,
   "id": "e64dd366",
   "metadata": {},
   "outputs": [
    {
     "data": {
      "text/plain": [
       "'abcdefgh'"
      ]
     },
     "execution_count": 36,
     "metadata": {},
     "output_type": "execute_result"
    }
   ],
   "source": [
    "add('abcd', 'efgh')"
   ]
  },
  {
   "cell_type": "code",
   "execution_count": 37,
   "id": "fd229e52",
   "metadata": {},
   "outputs": [
    {
     "data": {
      "text/plain": [
       "2"
      ]
     },
     "execution_count": 37,
     "metadata": {},
     "output_type": "execute_result"
    }
   ],
   "source": [
    "add.__code__.co_argcount"
   ]
  },
  {
   "cell_type": "code",
   "execution_count": 38,
   "id": "ad3ed588",
   "metadata": {},
   "outputs": [
    {
     "data": {
      "text/plain": [
       "('first', 'second')"
      ]
     },
     "execution_count": 38,
     "metadata": {},
     "output_type": "execute_result"
    }
   ],
   "source": [
    "add.__code__.co_varnames"
   ]
  },
  {
   "cell_type": "code",
   "execution_count": 39,
   "id": "0d101305",
   "metadata": {},
   "outputs": [
    {
     "data": {
      "text/plain": [
       "13"
      ]
     },
     "execution_count": 39,
     "metadata": {},
     "output_type": "execute_result"
    }
   ],
   "source": [
    "# keyword arguments?\n",
    "add(10, second=3)"
   ]
  },
  {
   "cell_type": "code",
   "execution_count": 41,
   "id": "96055ebc",
   "metadata": {},
   "outputs": [
    {
     "ename": "SyntaxError",
     "evalue": "positional argument follows keyword argument (1099124549.py, line 3)",
     "output_type": "error",
     "traceback": [
      "\u001b[0;36m  File \u001b[0;32m\"/var/folders/rr/0mnyyv811fs5vyp22gf4fxk00000gn/T/ipykernel_10064/1099124549.py\"\u001b[0;36m, line \u001b[0;32m3\u001b[0m\n\u001b[0;31m    add(first=10, 3)\u001b[0m\n\u001b[0m                   ^\u001b[0m\n\u001b[0;31mSyntaxError\u001b[0m\u001b[0;31m:\u001b[0m positional argument follows keyword argument\n"
     ]
    }
   ],
   "source": [
    "# in all cases, positional arguments must all come before keyword arguments\n",
    "\n",
    "add(first=10, 3)"
   ]
  },
  {
   "cell_type": "code",
   "execution_count": 42,
   "id": "32981b8f",
   "metadata": {},
   "outputs": [
    {
     "ename": "AttributeError",
     "evalue": "readonly attribute",
     "output_type": "error",
     "traceback": [
      "\u001b[0;31m---------------------------------------------------------------------------\u001b[0m",
      "\u001b[0;31mAttributeError\u001b[0m                            Traceback (most recent call last)",
      "\u001b[0;32m/var/folders/rr/0mnyyv811fs5vyp22gf4fxk00000gn/T/ipykernel_10064/1170150448.py\u001b[0m in \u001b[0;36m<module>\u001b[0;34m\u001b[0m\n\u001b[0;32m----> 1\u001b[0;31m \u001b[0madd\u001b[0m\u001b[0;34m.\u001b[0m\u001b[0m__code__\u001b[0m\u001b[0;34m.\u001b[0m\u001b[0mco_argcount\u001b[0m \u001b[0;34m=\u001b[0m \u001b[0;36m3\u001b[0m\u001b[0;34m\u001b[0m\u001b[0;34m\u001b[0m\u001b[0m\n\u001b[0m",
      "\u001b[0;31mAttributeError\u001b[0m: readonly attribute"
     ]
    }
   ],
   "source": [
    "add.__code__.co_argcount = 3"
   ]
  },
  {
   "cell_type": "code",
   "execution_count": 43,
   "id": "b42d2861",
   "metadata": {},
   "outputs": [],
   "source": [
    "def hello(name):\n",
    "    return f'Hello, {name}'\n",
    "\n",
    "def goodbye(name):\n",
    "    return f'Goodbye, {name}'"
   ]
  },
  {
   "cell_type": "code",
   "execution_count": 44,
   "id": "2351c998",
   "metadata": {},
   "outputs": [],
   "source": [
    "goodbye.__code__ = hello.__code__"
   ]
  },
  {
   "cell_type": "code",
   "execution_count": 45,
   "id": "ac8e3f9f",
   "metadata": {},
   "outputs": [
    {
     "data": {
      "text/plain": [
       "'Hello, whatever'"
      ]
     },
     "execution_count": 45,
     "metadata": {},
     "output_type": "execute_result"
    }
   ],
   "source": [
    "goodbye('whatever')"
   ]
  },
  {
   "cell_type": "code",
   "execution_count": 46,
   "id": "8344b411",
   "metadata": {},
   "outputs": [],
   "source": [
    "import copy\n",
    "\n",
    "new_code = copy.copy(hello.__code__)"
   ]
  },
  {
   "cell_type": "code",
   "execution_count": 47,
   "id": "1701363f",
   "metadata": {},
   "outputs": [
    {
     "data": {
      "text/plain": [
       "<code object hello at 0x10a5c2c30, file \"/var/folders/rr/0mnyyv811fs5vyp22gf4fxk00000gn/T/ipykernel_10064/3296227565.py\", line 1>"
      ]
     },
     "execution_count": 47,
     "metadata": {},
     "output_type": "execute_result"
    }
   ],
   "source": [
    "new_code"
   ]
  },
  {
   "cell_type": "code",
   "execution_count": 48,
   "id": "c9f1665d",
   "metadata": {
    "scrolled": true
   },
   "outputs": [
    {
     "ename": "AttributeError",
     "evalue": "readonly attribute",
     "output_type": "error",
     "traceback": [
      "\u001b[0;31m---------------------------------------------------------------------------\u001b[0m",
      "\u001b[0;31mAttributeError\u001b[0m                            Traceback (most recent call last)",
      "\u001b[0;32m/var/folders/rr/0mnyyv811fs5vyp22gf4fxk00000gn/T/ipykernel_10064/7133865.py\u001b[0m in \u001b[0;36m<module>\u001b[0;34m\u001b[0m\n\u001b[0;32m----> 1\u001b[0;31m \u001b[0mnew_code\u001b[0m\u001b[0;34m.\u001b[0m\u001b[0mco_argcount\u001b[0m \u001b[0;34m=\u001b[0m \u001b[0;36m5\u001b[0m\u001b[0;34m\u001b[0m\u001b[0;34m\u001b[0m\u001b[0m\n\u001b[0m",
      "\u001b[0;31mAttributeError\u001b[0m: readonly attribute"
     ]
    }
   ],
   "source": [
    "new_code.co_argcount = 5"
   ]
  },
  {
   "cell_type": "code",
   "execution_count": 49,
   "id": "a6791e1d",
   "metadata": {},
   "outputs": [],
   "source": [
    "# default values for parameters\n",
    "\n",
    "def add(first, second=5):\n",
    "    return first + second"
   ]
  },
  {
   "cell_type": "code",
   "execution_count": 50,
   "id": "2ade6bf1",
   "metadata": {},
   "outputs": [
    {
     "data": {
      "text/plain": [
       "13"
      ]
     },
     "execution_count": 50,
     "metadata": {},
     "output_type": "execute_result"
    }
   ],
   "source": [
    "# parameters:  first   second\n",
    "# arguments:    10       3\n",
    "\n",
    "add(10, 3)"
   ]
  },
  {
   "cell_type": "code",
   "execution_count": 54,
   "id": "b805f69e",
   "metadata": {},
   "outputs": [
    {
     "data": {
      "text/plain": [
       "15"
      ]
     },
     "execution_count": 54,
     "metadata": {},
     "output_type": "execute_result"
    }
   ],
   "source": [
    "# parameters:  first   second\n",
    "# arguments:     10      5\n",
    "\n",
    "add(10)"
   ]
  },
  {
   "cell_type": "code",
   "execution_count": 52,
   "id": "bd2044ce",
   "metadata": {},
   "outputs": [
    {
     "data": {
      "text/plain": [
       "2"
      ]
     },
     "execution_count": 52,
     "metadata": {},
     "output_type": "execute_result"
    }
   ],
   "source": [
    "add.__code__.co_argcount"
   ]
  },
  {
   "cell_type": "code",
   "execution_count": 53,
   "id": "04021ea9",
   "metadata": {},
   "outputs": [
    {
     "data": {
      "text/plain": [
       "(5,)"
      ]
     },
     "execution_count": 53,
     "metadata": {},
     "output_type": "execute_result"
    }
   ],
   "source": [
    "add.__defaults__"
   ]
  },
  {
   "cell_type": "code",
   "execution_count": 55,
   "id": "8061c708",
   "metadata": {},
   "outputs": [],
   "source": [
    "def add(first=3, second=5):\n",
    "    return first + second"
   ]
  },
  {
   "cell_type": "code",
   "execution_count": 56,
   "id": "b1d9b433",
   "metadata": {},
   "outputs": [
    {
     "data": {
      "text/plain": [
       "8"
      ]
     },
     "execution_count": 56,
     "metadata": {},
     "output_type": "execute_result"
    }
   ],
   "source": [
    "add()"
   ]
  },
  {
   "cell_type": "code",
   "execution_count": 57,
   "id": "fb9957be",
   "metadata": {},
   "outputs": [
    {
     "data": {
      "text/plain": [
       "5"
      ]
     },
     "execution_count": 57,
     "metadata": {},
     "output_type": "execute_result"
    }
   ],
   "source": [
    "add(second=2)  # keyword argument"
   ]
  },
  {
   "cell_type": "code",
   "execution_count": 58,
   "id": "75ef09d6",
   "metadata": {},
   "outputs": [
    {
     "data": {
      "text/plain": [
       "[10, 20, 30, 1]"
      ]
     },
     "execution_count": 58,
     "metadata": {},
     "output_type": "execute_result"
    }
   ],
   "source": [
    "def add_one(x=[]):\n",
    "    x.append(1)\n",
    "    return x\n",
    "\n",
    "mylist = [10, 20, 30]\n",
    "add_one(mylist)"
   ]
  },
  {
   "cell_type": "code",
   "execution_count": 59,
   "id": "51ee9620",
   "metadata": {},
   "outputs": [
    {
     "data": {
      "text/plain": [
       "[10, 20, 30, 1]"
      ]
     },
     "execution_count": 59,
     "metadata": {},
     "output_type": "execute_result"
    }
   ],
   "source": [
    "mylist"
   ]
  },
  {
   "cell_type": "code",
   "execution_count": 62,
   "id": "dbb700fd",
   "metadata": {},
   "outputs": [
    {
     "name": "stdout",
     "output_type": "stream",
     "text": [
      "4481656720\n"
     ]
    }
   ],
   "source": [
    "def set_it(y):\n",
    "    y = 100_000\n",
    "    print(id(y))\n",
    "    return y\n",
    "\n",
    "x = 100\n",
    "x = set_it(x)"
   ]
  },
  {
   "cell_type": "code",
   "execution_count": 63,
   "id": "eacba8b8",
   "metadata": {},
   "outputs": [
    {
     "data": {
      "text/plain": [
       "4481656720"
      ]
     },
     "execution_count": 63,
     "metadata": {},
     "output_type": "execute_result"
    }
   ],
   "source": [
    "id(x)"
   ]
  },
  {
   "cell_type": "code",
   "execution_count": 64,
   "id": "97e1ad25",
   "metadata": {},
   "outputs": [
    {
     "data": {
      "text/plain": [
       "[1]"
      ]
     },
     "execution_count": 64,
     "metadata": {},
     "output_type": "execute_result"
    }
   ],
   "source": [
    "def add_one(x=[]):\n",
    "    x.append(1)\n",
    "    return x\n",
    "\n",
    "add_one()"
   ]
  },
  {
   "cell_type": "code",
   "execution_count": 65,
   "id": "d4780c78",
   "metadata": {},
   "outputs": [
    {
     "data": {
      "text/plain": [
       "[1, 1]"
      ]
     },
     "execution_count": 65,
     "metadata": {},
     "output_type": "execute_result"
    }
   ],
   "source": [
    "add_one()"
   ]
  },
  {
   "cell_type": "code",
   "execution_count": 66,
   "id": "a0cfee9b",
   "metadata": {},
   "outputs": [
    {
     "data": {
      "text/plain": [
       "[1, 1, 1]"
      ]
     },
     "execution_count": 66,
     "metadata": {},
     "output_type": "execute_result"
    }
   ],
   "source": [
    "add_one()"
   ]
  },
  {
   "cell_type": "code",
   "execution_count": 67,
   "id": "c7b3d630",
   "metadata": {},
   "outputs": [],
   "source": [
    "def add_one(x=[]):  # mutable defaults are BAD!\n",
    "    x.append(1)\n",
    "    return x"
   ]
  },
  {
   "cell_type": "code",
   "execution_count": 68,
   "id": "8bf67bb3",
   "metadata": {},
   "outputs": [
    {
     "data": {
      "text/plain": [
       "([],)"
      ]
     },
     "execution_count": 68,
     "metadata": {},
     "output_type": "execute_result"
    }
   ],
   "source": [
    "add_one.__defaults__"
   ]
  },
  {
   "cell_type": "code",
   "execution_count": 69,
   "id": "b28eaa73",
   "metadata": {},
   "outputs": [
    {
     "data": {
      "text/plain": [
       "[1]"
      ]
     },
     "execution_count": 69,
     "metadata": {},
     "output_type": "execute_result"
    }
   ],
   "source": [
    "# parameters: x\n",
    "# arguments: __defaults__[0]\n",
    "\n",
    "add_one() "
   ]
  },
  {
   "cell_type": "code",
   "execution_count": 70,
   "id": "fc1e7128",
   "metadata": {},
   "outputs": [
    {
     "data": {
      "text/plain": [
       "([1],)"
      ]
     },
     "execution_count": 70,
     "metadata": {},
     "output_type": "execute_result"
    }
   ],
   "source": [
    "add_one.__defaults__"
   ]
  },
  {
   "cell_type": "code",
   "execution_count": 71,
   "id": "ac9330f9",
   "metadata": {},
   "outputs": [
    {
     "data": {
      "text/plain": [
       "[1, 1]"
      ]
     },
     "execution_count": 71,
     "metadata": {},
     "output_type": "execute_result"
    }
   ],
   "source": [
    "add_one()"
   ]
  },
  {
   "cell_type": "code",
   "execution_count": 72,
   "id": "90a1b910",
   "metadata": {},
   "outputs": [
    {
     "data": {
      "text/plain": [
       "[1, 1, 1]"
      ]
     },
     "execution_count": 72,
     "metadata": {},
     "output_type": "execute_result"
    }
   ],
   "source": [
    "add_one()"
   ]
  },
  {
   "cell_type": "code",
   "execution_count": 73,
   "id": "27dfc89d",
   "metadata": {},
   "outputs": [
    {
     "data": {
      "text/plain": [
       "([1, 1, 1],)"
      ]
     },
     "execution_count": 73,
     "metadata": {},
     "output_type": "execute_result"
    }
   ],
   "source": [
    "add_one.__defaults__"
   ]
  },
  {
   "cell_type": "code",
   "execution_count": null,
   "id": "c0accb16",
   "metadata": {},
   "outputs": [],
   "source": [
    "def add_one(x=None):  \n",
    "    if x is None:\n",
    "        x = []\n",
    "    \n",
    "    x.append(1)\n",
    "    return x"
   ]
  },
  {
   "cell_type": "markdown",
   "id": "0cffeead",
   "metadata": {},
   "source": [
    "# Parameter types\n",
    "\n",
    "1. Mandatory parameters (positional or keyword)\n",
    "2. Optional parameters, with defaults (positional or keyword)"
   ]
  },
  {
   "cell_type": "code",
   "execution_count": 74,
   "id": "a00972d2",
   "metadata": {},
   "outputs": [],
   "source": [
    "def mysum(numbers):\n",
    "    total = 0\n",
    "    \n",
    "    for one_number in numbers:\n",
    "        total += one_number\n",
    "        \n",
    "    return one_number"
   ]
  },
  {
   "cell_type": "code",
   "execution_count": 75,
   "id": "24b61102",
   "metadata": {},
   "outputs": [
    {
     "data": {
      "text/plain": [
       "30"
      ]
     },
     "execution_count": 75,
     "metadata": {},
     "output_type": "execute_result"
    }
   ],
   "source": [
    "mysum([10, 20, 30])"
   ]
  },
  {
   "cell_type": "code",
   "execution_count": 76,
   "id": "e2f94c3c",
   "metadata": {},
   "outputs": [
    {
     "ename": "TypeError",
     "evalue": "mysum() takes 1 positional argument but 3 were given",
     "output_type": "error",
     "traceback": [
      "\u001b[0;31m---------------------------------------------------------------------------\u001b[0m",
      "\u001b[0;31mTypeError\u001b[0m                                 Traceback (most recent call last)",
      "\u001b[0;32m/var/folders/rr/0mnyyv811fs5vyp22gf4fxk00000gn/T/ipykernel_10064/1367105100.py\u001b[0m in \u001b[0;36m<module>\u001b[0;34m\u001b[0m\n\u001b[0;32m----> 1\u001b[0;31m \u001b[0mmysum\u001b[0m\u001b[0;34m(\u001b[0m\u001b[0;36m10\u001b[0m\u001b[0;34m,\u001b[0m \u001b[0;36m20\u001b[0m\u001b[0;34m,\u001b[0m \u001b[0;36m30\u001b[0m\u001b[0;34m)\u001b[0m\u001b[0;34m\u001b[0m\u001b[0;34m\u001b[0m\u001b[0m\n\u001b[0m",
      "\u001b[0;31mTypeError\u001b[0m: mysum() takes 1 positional argument but 3 were given"
     ]
    }
   ],
   "source": [
    "mysum(10, 20, 30)"
   ]
  },
  {
   "cell_type": "code",
   "execution_count": 77,
   "id": "b7cddbf6",
   "metadata": {},
   "outputs": [],
   "source": [
    "# *args (\"splat args\")\n",
    "# the parameter with a * gets all of the positional arguments that no one else wanted\n",
    "# it'll always be a tuple\n",
    "\n",
    "def mysum(*numbers):  \n",
    "    print(f'{numbers=}')\n",
    "    total = 0\n",
    "    \n",
    "    for one_number in numbers:\n",
    "        total += one_number\n",
    "\n",
    "    return total"
   ]
  },
  {
   "cell_type": "code",
   "execution_count": 78,
   "id": "01b4d02f",
   "metadata": {},
   "outputs": [
    {
     "name": "stdout",
     "output_type": "stream",
     "text": [
      "numbers=(10, 20, 30)\n"
     ]
    },
    {
     "data": {
      "text/plain": [
       "60"
      ]
     },
     "execution_count": 78,
     "metadata": {},
     "output_type": "execute_result"
    }
   ],
   "source": [
    "mysum(10, 20, 30)"
   ]
  },
  {
   "cell_type": "code",
   "execution_count": 79,
   "id": "9b31afc9",
   "metadata": {},
   "outputs": [],
   "source": [
    "def myfunc(a, b, *args):\n",
    "    return f'{a=}, {b=}, {args=}'"
   ]
  },
  {
   "cell_type": "code",
   "execution_count": 80,
   "id": "5f07fda4",
   "metadata": {},
   "outputs": [
    {
     "data": {
      "text/plain": [
       "'a=10, b=20, args=(30, 40, 50)'"
      ]
     },
     "execution_count": 80,
     "metadata": {},
     "output_type": "execute_result"
    }
   ],
   "source": [
    "myfunc(10, 20, 30, 40, 50)"
   ]
  },
  {
   "cell_type": "code",
   "execution_count": null,
   "id": "2f93181e",
   "metadata": {},
   "outputs": [],
   "source": []
  },
  {
   "cell_type": "markdown",
   "id": "06254a0c",
   "metadata": {},
   "source": [
    "# Parameter types\n",
    "\n",
    "1. Mandatory parameters (positional or keyword)\n",
    "2. Optional parameters, with defaults (positional or keyword)\n",
    "3. `*args`, a tuple with all leftover positional arguments"
   ]
  },
  {
   "cell_type": "markdown",
   "id": "13097a5e",
   "metadata": {},
   "source": [
    "# Exercise: `all_lines`\n",
    "\n",
    "1. Write a function, `all_lines`, that takes:\n",
    "    - One mandatory argument, a string with the filename into which we'll write\n",
    "    - Any number of additional positional arguments, filenames from which we'll read\n",
    "2. The function should write all of the lines from the input files into the output file    "
   ]
  },
  {
   "cell_type": "code",
   "execution_count": 81,
   "id": "36ab6ff0",
   "metadata": {},
   "outputs": [],
   "source": [
    "def all_lines(outfilename, *args):\n",
    "    with open(outfilename, 'w') as outfile:\n",
    "        for one_filename in args:\n",
    "            for one_line in open(one_filename):\n",
    "                outfile.write(one_line)"
   ]
  },
  {
   "cell_type": "code",
   "execution_count": 82,
   "id": "76e5f6e4",
   "metadata": {},
   "outputs": [
    {
     "name": "stdout",
     "output_type": "stream",
     "text": [
      "WDC-2022-05May-17.html\t WDC-2022-05May-19.ipynb   wdc-2022-05May-17.zip\r\n",
      "WDC-2022-05May-17.ipynb  python-workout-cover.png\r\n"
     ]
    }
   ],
   "source": [
    "!ls"
   ]
  },
  {
   "cell_type": "code",
   "execution_count": 83,
   "id": "46f1e13a",
   "metadata": {},
   "outputs": [
    {
     "ename": "FileNotFoundError",
     "evalue": "[Errno 2] No such file or directory: 'WDC-2022.05May-17.html'",
     "output_type": "error",
     "traceback": [
      "\u001b[0;31m---------------------------------------------------------------------------\u001b[0m",
      "\u001b[0;31mFileNotFoundError\u001b[0m                         Traceback (most recent call last)",
      "\u001b[0;32m/var/folders/rr/0mnyyv811fs5vyp22gf4fxk00000gn/T/ipykernel_10064/3243853286.py\u001b[0m in \u001b[0;36m<module>\u001b[0;34m\u001b[0m\n\u001b[0;32m----> 1\u001b[0;31m \u001b[0mall_lines\u001b[0m\u001b[0;34m(\u001b[0m\u001b[0;34m'outfile.txt'\u001b[0m\u001b[0;34m,\u001b[0m \u001b[0;34m'WDC-2022.05May-17.html'\u001b[0m\u001b[0;34m,\u001b[0m \u001b[0;34m'WDC-2022.05May-17.ipynb'\u001b[0m\u001b[0;34m)\u001b[0m\u001b[0;34m\u001b[0m\u001b[0;34m\u001b[0m\u001b[0m\n\u001b[0m",
      "\u001b[0;32m/var/folders/rr/0mnyyv811fs5vyp22gf4fxk00000gn/T/ipykernel_10064/1833066642.py\u001b[0m in \u001b[0;36mall_lines\u001b[0;34m(outfilename, *args)\u001b[0m\n\u001b[1;32m      2\u001b[0m     \u001b[0;32mwith\u001b[0m \u001b[0mopen\u001b[0m\u001b[0;34m(\u001b[0m\u001b[0moutfilename\u001b[0m\u001b[0;34m,\u001b[0m \u001b[0;34m'w'\u001b[0m\u001b[0;34m)\u001b[0m \u001b[0;32mas\u001b[0m \u001b[0moutfile\u001b[0m\u001b[0;34m:\u001b[0m\u001b[0;34m\u001b[0m\u001b[0;34m\u001b[0m\u001b[0m\n\u001b[1;32m      3\u001b[0m         \u001b[0;32mfor\u001b[0m \u001b[0mone_filename\u001b[0m \u001b[0;32min\u001b[0m \u001b[0margs\u001b[0m\u001b[0;34m:\u001b[0m\u001b[0;34m\u001b[0m\u001b[0;34m\u001b[0m\u001b[0m\n\u001b[0;32m----> 4\u001b[0;31m             \u001b[0;32mfor\u001b[0m \u001b[0mone_line\u001b[0m \u001b[0;32min\u001b[0m \u001b[0mopen\u001b[0m\u001b[0;34m(\u001b[0m\u001b[0mone_filename\u001b[0m\u001b[0;34m)\u001b[0m\u001b[0;34m:\u001b[0m\u001b[0;34m\u001b[0m\u001b[0;34m\u001b[0m\u001b[0m\n\u001b[0m\u001b[1;32m      5\u001b[0m                 \u001b[0moutfile\u001b[0m\u001b[0;34m.\u001b[0m\u001b[0mwrite\u001b[0m\u001b[0;34m(\u001b[0m\u001b[0mone_line\u001b[0m\u001b[0;34m)\u001b[0m\u001b[0;34m\u001b[0m\u001b[0;34m\u001b[0m\u001b[0m\n",
      "\u001b[0;31mFileNotFoundError\u001b[0m: [Errno 2] No such file or directory: 'WDC-2022.05May-17.html'"
     ]
    }
   ],
   "source": [
    "all_lines('outfile.txt', 'WDC-2022.05May-17.html', 'WDC-2022.05May-17.ipynb')"
   ]
  },
  {
   "cell_type": "code",
   "execution_count": 84,
   "id": "57f70930",
   "metadata": {},
   "outputs": [],
   "source": [
    "def all_lines(outfilename, *args):\n",
    "    with open(outfilename, 'w') as outfile:\n",
    "        for one_filename in args:\n",
    "            f = open(one_filename)\n",
    "            outfile.write(f.read())   # works, if you have enough memory"
   ]
  },
  {
   "cell_type": "code",
   "execution_count": null,
   "id": "0273a210",
   "metadata": {},
   "outputs": [],
   "source": [
    "def all_lines(outfilename, *args):\n",
    "    with open(outfilename, 'w') as outfile:\n",
    "        for one_filename in args:\n",
    "            f = open(one_filename)\n",
    "            outfile.writelines(f.readlines())     # works, if you have EVEN MORE memory than using f.read()"
   ]
  },
  {
   "cell_type": "code",
   "execution_count": 89,
   "id": "048ea727",
   "metadata": {},
   "outputs": [],
   "source": [
    "def all_lines(outfilename, *args):\n",
    "    print(f'{outfilename=}, {args=}')\n",
    "    with open(outfilename, 'w') as outfile:\n",
    "        for one_filename in args:\n",
    "            for one_line in open(one_filename):  \n",
    "                outfile.write(one_line)"
   ]
  },
  {
   "cell_type": "markdown",
   "id": "854e1edd",
   "metadata": {},
   "source": [
    "# Opening files (for writing)\n",
    "\n",
    "- `open(filename, 'w')` -- open for writing, erase any previous content\n",
    "- `open(filename, 'a')` -- open for writing at the end, appending to previous content\n",
    "- `open(filename, 'x')` -- open for writing, but only if it's a new file -- exception if the file exists"
   ]
  },
  {
   "cell_type": "code",
   "execution_count": 87,
   "id": "90dd1ee4",
   "metadata": {},
   "outputs": [
    {
     "data": {
      "text/plain": [
       "['WDC-2022-05May-19.ipynb', 'WDC-2022-05May-17.ipynb']"
      ]
     },
     "execution_count": 87,
     "metadata": {},
     "output_type": "execute_result"
    }
   ],
   "source": [
    "import glob\n",
    "glob.glob('*.ipynb')"
   ]
  },
  {
   "cell_type": "code",
   "execution_count": 90,
   "id": "82597b07",
   "metadata": {},
   "outputs": [
    {
     "name": "stdout",
     "output_type": "stream",
     "text": [
      "outfilename='output.txt', args=(['WDC-2022-05May-19.ipynb', 'WDC-2022-05May-17.ipynb'],)\n"
     ]
    },
    {
     "ename": "TypeError",
     "evalue": "expected str, bytes or os.PathLike object, not list",
     "output_type": "error",
     "traceback": [
      "\u001b[0;31m---------------------------------------------------------------------------\u001b[0m",
      "\u001b[0;31mTypeError\u001b[0m                                 Traceback (most recent call last)",
      "\u001b[0;32m/var/folders/rr/0mnyyv811fs5vyp22gf4fxk00000gn/T/ipykernel_10064/1813262992.py\u001b[0m in \u001b[0;36m<module>\u001b[0;34m\u001b[0m\n\u001b[0;32m----> 1\u001b[0;31m \u001b[0mall_lines\u001b[0m\u001b[0;34m(\u001b[0m\u001b[0;34m'output.txt'\u001b[0m\u001b[0;34m,\u001b[0m \u001b[0mglob\u001b[0m\u001b[0;34m.\u001b[0m\u001b[0mglob\u001b[0m\u001b[0;34m(\u001b[0m\u001b[0;34m'*.ipynb'\u001b[0m\u001b[0;34m)\u001b[0m\u001b[0;34m)\u001b[0m\u001b[0;34m\u001b[0m\u001b[0;34m\u001b[0m\u001b[0m\n\u001b[0m",
      "\u001b[0;32m/var/folders/rr/0mnyyv811fs5vyp22gf4fxk00000gn/T/ipykernel_10064/771916276.py\u001b[0m in \u001b[0;36mall_lines\u001b[0;34m(outfilename, *args)\u001b[0m\n\u001b[1;32m      3\u001b[0m     \u001b[0;32mwith\u001b[0m \u001b[0mopen\u001b[0m\u001b[0;34m(\u001b[0m\u001b[0moutfilename\u001b[0m\u001b[0;34m,\u001b[0m \u001b[0;34m'w'\u001b[0m\u001b[0;34m)\u001b[0m \u001b[0;32mas\u001b[0m \u001b[0moutfile\u001b[0m\u001b[0;34m:\u001b[0m\u001b[0;34m\u001b[0m\u001b[0;34m\u001b[0m\u001b[0m\n\u001b[1;32m      4\u001b[0m         \u001b[0;32mfor\u001b[0m \u001b[0mone_filename\u001b[0m \u001b[0;32min\u001b[0m \u001b[0margs\u001b[0m\u001b[0;34m:\u001b[0m\u001b[0;34m\u001b[0m\u001b[0;34m\u001b[0m\u001b[0m\n\u001b[0;32m----> 5\u001b[0;31m             \u001b[0;32mfor\u001b[0m \u001b[0mone_line\u001b[0m \u001b[0;32min\u001b[0m \u001b[0mopen\u001b[0m\u001b[0;34m(\u001b[0m\u001b[0mone_filename\u001b[0m\u001b[0;34m)\u001b[0m\u001b[0;34m:\u001b[0m\u001b[0;34m\u001b[0m\u001b[0;34m\u001b[0m\u001b[0m\n\u001b[0m\u001b[1;32m      6\u001b[0m                 \u001b[0moutfile\u001b[0m\u001b[0;34m.\u001b[0m\u001b[0mwrite\u001b[0m\u001b[0;34m(\u001b[0m\u001b[0mone_line\u001b[0m\u001b[0;34m)\u001b[0m\u001b[0;34m\u001b[0m\u001b[0;34m\u001b[0m\u001b[0m\n",
      "\u001b[0;31mTypeError\u001b[0m: expected str, bytes or os.PathLike object, not list"
     ]
    }
   ],
   "source": [
    "all_lines('output.txt', glob.glob('*.ipynb'))"
   ]
  },
  {
   "cell_type": "code",
   "execution_count": 91,
   "id": "b1633ae4",
   "metadata": {},
   "outputs": [
    {
     "name": "stdout",
     "output_type": "stream",
     "text": [
      "outfilename='output.txt', args=('WDC-2022-05May-19.ipynb', 'WDC-2022-05May-17.ipynb')\n"
     ]
    }
   ],
   "source": [
    "# * before an object or variable name removes the parentheses\n",
    "# turning the glob.glob list into individual arguments\n",
    "\n",
    "all_lines('output.txt', *glob.glob('*.ipynb'))"
   ]
  },
  {
   "cell_type": "code",
   "execution_count": 92,
   "id": "29f53fd7",
   "metadata": {},
   "outputs": [
    {
     "name": "stdout",
     "output_type": "stream",
     "text": [
      "numbers=(10, 20, 30)\n"
     ]
    },
    {
     "data": {
      "text/plain": [
       "60"
      ]
     },
     "execution_count": 92,
     "metadata": {},
     "output_type": "execute_result"
    }
   ],
   "source": [
    "mysum(10, 20, 30)"
   ]
  },
  {
   "cell_type": "code",
   "execution_count": 93,
   "id": "3068814d",
   "metadata": {},
   "outputs": [
    {
     "name": "stdout",
     "output_type": "stream",
     "text": [
      "numbers=([10, 20, 30],)\n"
     ]
    },
    {
     "ename": "TypeError",
     "evalue": "unsupported operand type(s) for +=: 'int' and 'list'",
     "output_type": "error",
     "traceback": [
      "\u001b[0;31m---------------------------------------------------------------------------\u001b[0m",
      "\u001b[0;31mTypeError\u001b[0m                                 Traceback (most recent call last)",
      "\u001b[0;32m/var/folders/rr/0mnyyv811fs5vyp22gf4fxk00000gn/T/ipykernel_10064/2118835946.py\u001b[0m in \u001b[0;36m<module>\u001b[0;34m\u001b[0m\n\u001b[1;32m      1\u001b[0m \u001b[0mx\u001b[0m \u001b[0;34m=\u001b[0m \u001b[0;34m[\u001b[0m\u001b[0;36m10\u001b[0m\u001b[0;34m,\u001b[0m \u001b[0;36m20\u001b[0m\u001b[0;34m,\u001b[0m \u001b[0;36m30\u001b[0m\u001b[0;34m]\u001b[0m\u001b[0;34m\u001b[0m\u001b[0;34m\u001b[0m\u001b[0m\n\u001b[0;32m----> 2\u001b[0;31m \u001b[0mmysum\u001b[0m\u001b[0;34m(\u001b[0m\u001b[0mx\u001b[0m\u001b[0;34m)\u001b[0m\u001b[0;34m\u001b[0m\u001b[0;34m\u001b[0m\u001b[0m\n\u001b[0m",
      "\u001b[0;32m/var/folders/rr/0mnyyv811fs5vyp22gf4fxk00000gn/T/ipykernel_10064/2483896301.py\u001b[0m in \u001b[0;36mmysum\u001b[0;34m(*numbers)\u001b[0m\n\u001b[1;32m      8\u001b[0m \u001b[0;34m\u001b[0m\u001b[0m\n\u001b[1;32m      9\u001b[0m     \u001b[0;32mfor\u001b[0m \u001b[0mone_number\u001b[0m \u001b[0;32min\u001b[0m \u001b[0mnumbers\u001b[0m\u001b[0;34m:\u001b[0m\u001b[0;34m\u001b[0m\u001b[0;34m\u001b[0m\u001b[0m\n\u001b[0;32m---> 10\u001b[0;31m         \u001b[0mtotal\u001b[0m \u001b[0;34m+=\u001b[0m \u001b[0mone_number\u001b[0m\u001b[0;34m\u001b[0m\u001b[0;34m\u001b[0m\u001b[0m\n\u001b[0m\u001b[1;32m     11\u001b[0m \u001b[0;34m\u001b[0m\u001b[0m\n\u001b[1;32m     12\u001b[0m     \u001b[0;32mreturn\u001b[0m \u001b[0mtotal\u001b[0m\u001b[0;34m\u001b[0m\u001b[0;34m\u001b[0m\u001b[0m\n",
      "\u001b[0;31mTypeError\u001b[0m: unsupported operand type(s) for +=: 'int' and 'list'"
     ]
    }
   ],
   "source": [
    "x = [10, 20, 30]\n",
    "mysum(x)"
   ]
  },
  {
   "cell_type": "code",
   "execution_count": 94,
   "id": "90a72534",
   "metadata": {},
   "outputs": [
    {
     "name": "stdout",
     "output_type": "stream",
     "text": [
      "numbers=(10, 20, 30)\n"
     ]
    },
    {
     "data": {
      "text/plain": [
       "60"
      ]
     },
     "execution_count": 94,
     "metadata": {},
     "output_type": "execute_result"
    }
   ],
   "source": [
    "mysum(*x)"
   ]
  },
  {
   "cell_type": "code",
   "execution_count": 98,
   "id": "394a1698",
   "metadata": {},
   "outputs": [],
   "source": [
    "def myfunc(*args):\n",
    "    print(f'{args=}')\n",
    "    for one_item in args:\n",
    "        print(one_item)"
   ]
  },
  {
   "cell_type": "code",
   "execution_count": 99,
   "id": "8732afd5",
   "metadata": {},
   "outputs": [
    {
     "name": "stdout",
     "output_type": "stream",
     "text": [
      "args=('abcd',)\n",
      "abcd\n"
     ]
    }
   ],
   "source": [
    "myfunc('abcd')"
   ]
  },
  {
   "cell_type": "code",
   "execution_count": 100,
   "id": "33957fd2",
   "metadata": {},
   "outputs": [
    {
     "name": "stdout",
     "output_type": "stream",
     "text": [
      "args=('a', 'b', 'c', 'd')\n",
      "a\n",
      "b\n",
      "c\n",
      "d\n"
     ]
    }
   ],
   "source": [
    "myfunc(*'abcd')"
   ]
  },
  {
   "cell_type": "code",
   "execution_count": 101,
   "id": "2f78286e",
   "metadata": {},
   "outputs": [],
   "source": [
    "def myfunc(a, b=10, *args):\n",
    "    return f'{a=}, {b=}, {args=}'"
   ]
  },
  {
   "cell_type": "code",
   "execution_count": 102,
   "id": "29e984c6",
   "metadata": {},
   "outputs": [
    {
     "data": {
      "text/plain": [
       "'a=2, b=4, args=(6, 8, 10)'"
      ]
     },
     "execution_count": 102,
     "metadata": {},
     "output_type": "execute_result"
    }
   ],
   "source": [
    "myfunc(2,4,6,8,10)"
   ]
  },
  {
   "cell_type": "code",
   "execution_count": 105,
   "id": "28ac8504",
   "metadata": {},
   "outputs": [
    {
     "ename": "TypeError",
     "evalue": "myfunc() got an unexpected keyword argument 'args'",
     "output_type": "error",
     "traceback": [
      "\u001b[0;31m---------------------------------------------------------------------------\u001b[0m",
      "\u001b[0;31mTypeError\u001b[0m                                 Traceback (most recent call last)",
      "\u001b[0;32m/var/folders/rr/0mnyyv811fs5vyp22gf4fxk00000gn/T/ipykernel_10064/2797780730.py\u001b[0m in \u001b[0;36m<module>\u001b[0;34m\u001b[0m\n\u001b[1;32m      1\u001b[0m \u001b[0;31m# I want to pass arguments, such that b keeps its default, but I give values to a and args\u001b[0m\u001b[0;34m\u001b[0m\u001b[0;34m\u001b[0m\u001b[0m\n\u001b[1;32m      2\u001b[0m \u001b[0;34m\u001b[0m\u001b[0m\n\u001b[0;32m----> 3\u001b[0;31m \u001b[0mmyfunc\u001b[0m\u001b[0;34m(\u001b[0m\u001b[0;36m2\u001b[0m\u001b[0;34m,\u001b[0m \u001b[0margs\u001b[0m\u001b[0;34m=\u001b[0m\u001b[0;34m(\u001b[0m\u001b[0;36m6\u001b[0m\u001b[0;34m,\u001b[0m\u001b[0;36m8\u001b[0m\u001b[0;34m,\u001b[0m\u001b[0;36m10\u001b[0m\u001b[0;34m)\u001b[0m\u001b[0;34m)\u001b[0m\u001b[0;34m\u001b[0m\u001b[0;34m\u001b[0m\u001b[0m\n\u001b[0m",
      "\u001b[0;31mTypeError\u001b[0m: myfunc() got an unexpected keyword argument 'args'"
     ]
    }
   ],
   "source": [
    "# I want to pass arguments, such that b keeps its default, but I give values to a and args\n",
    "\n",
    "myfunc(2, args=(6,8,10))"
   ]
  },
  {
   "cell_type": "code",
   "execution_count": 106,
   "id": "f13a62b8",
   "metadata": {},
   "outputs": [
    {
     "data": {
      "text/plain": [
       "'a=2, b=10, args=(4, 6, 8, 10)'"
      ]
     },
     "execution_count": 106,
     "metadata": {},
     "output_type": "execute_result"
    }
   ],
   "source": [
    "# make b a keyword-only parameter\n",
    "# because it comes after *args\n",
    "\n",
    "def myfunc(a, *args, b=10):\n",
    "    return f'{a=}, {b=}, {args=}'\n",
    "\n",
    "myfunc(2,4,6,8,10)"
   ]
  },
  {
   "cell_type": "code",
   "execution_count": 107,
   "id": "3e5be7c4",
   "metadata": {},
   "outputs": [
    {
     "data": {
      "text/plain": [
       "'a=2, b=246, args=(4, 6, 8, 10)'"
      ]
     },
     "execution_count": 107,
     "metadata": {},
     "output_type": "execute_result"
    }
   ],
   "source": [
    "# I can only give b a value if it's a keyword argument\n",
    "myfunc(2,4,6,8,10, b=246)"
   ]
  },
  {
   "cell_type": "code",
   "execution_count": 108,
   "id": "f148c4b6",
   "metadata": {},
   "outputs": [
    {
     "ename": "TypeError",
     "evalue": "myfunc() missing 1 required keyword-only argument: 'b'",
     "output_type": "error",
     "traceback": [
      "\u001b[0;31m---------------------------------------------------------------------------\u001b[0m",
      "\u001b[0;31mTypeError\u001b[0m                                 Traceback (most recent call last)",
      "\u001b[0;32m/var/folders/rr/0mnyyv811fs5vyp22gf4fxk00000gn/T/ipykernel_10064/2947040370.py\u001b[0m in \u001b[0;36m<module>\u001b[0;34m\u001b[0m\n\u001b[1;32m      4\u001b[0m     \u001b[0;32mreturn\u001b[0m \u001b[0;34mf'{a=}, {b=}, {args=}'\u001b[0m\u001b[0;34m\u001b[0m\u001b[0;34m\u001b[0m\u001b[0m\n\u001b[1;32m      5\u001b[0m \u001b[0;34m\u001b[0m\u001b[0m\n\u001b[0;32m----> 6\u001b[0;31m \u001b[0mmyfunc\u001b[0m\u001b[0;34m(\u001b[0m\u001b[0;36m2\u001b[0m\u001b[0;34m,\u001b[0m\u001b[0;36m4\u001b[0m\u001b[0;34m,\u001b[0m\u001b[0;36m6\u001b[0m\u001b[0;34m,\u001b[0m\u001b[0;36m8\u001b[0m\u001b[0;34m,\u001b[0m\u001b[0;36m10\u001b[0m\u001b[0;34m)\u001b[0m\u001b[0;34m\u001b[0m\u001b[0;34m\u001b[0m\u001b[0m\n\u001b[0m",
      "\u001b[0;31mTypeError\u001b[0m: myfunc() missing 1 required keyword-only argument: 'b'"
     ]
    }
   ],
   "source": [
    "# make b a keyword-only parameter without a default\n",
    "\n",
    "def myfunc(a, *args, b):\n",
    "    return f'{a=}, {b=}, {args=}'\n",
    "\n",
    "myfunc(2,4,6,8,10)"
   ]
  },
  {
   "cell_type": "code",
   "execution_count": 109,
   "id": "fd569fd6",
   "metadata": {},
   "outputs": [
    {
     "data": {
      "text/plain": [
       "'a=2, b=999, args=(4, 6, 8, 10)'"
      ]
     },
     "execution_count": 109,
     "metadata": {},
     "output_type": "execute_result"
    }
   ],
   "source": [
    "# make b a keyword-only parameter without a default\n",
    "\n",
    "def myfunc(a, *args, b):\n",
    "    return f'{a=}, {b=}, {args=}'\n",
    "\n",
    "myfunc(2,4,6,8,10, b=999)"
   ]
  },
  {
   "cell_type": "code",
   "execution_count": null,
   "id": "3e6607d2",
   "metadata": {},
   "outputs": [],
   "source": []
  },
  {
   "cell_type": "markdown",
   "id": "c3a6e90c",
   "metadata": {},
   "source": [
    "# Parameter types\n",
    "\n",
    "1. Mandatory parameters (positional or keyword)\n",
    "2. Optional parameters, with defaults (positional or keyword)\n",
    "3. `*args`, a tuple with all leftover positional arguments (or `*` by itself)\n",
    "4. Mandatory keyword-only parameters\n",
    "5. Optional keyword-only parameters (with defaults)"
   ]
  },
  {
   "cell_type": "code",
   "execution_count": 111,
   "id": "70135e26",
   "metadata": {},
   "outputs": [],
   "source": [
    "# what if I want keyword-only parameters, but I don't want *args?\n",
    "\n",
    "# for example, here I want a to be regular, and be to be keyword-only\n",
    "# Use a * instead of *args -- no parameter, but Python understands\n",
    "\n",
    "def myfunc(a, *, b):\n",
    "    return f'{a=}, {b=}'"
   ]
  },
  {
   "cell_type": "code",
   "execution_count": 113,
   "id": "3764dcf6",
   "metadata": {},
   "outputs": [
    {
     "data": {
      "text/plain": [
       "'a=10, b=20'"
      ]
     },
     "execution_count": 113,
     "metadata": {},
     "output_type": "execute_result"
    }
   ],
   "source": [
    "myfunc(10, b=20)"
   ]
  },
  {
   "cell_type": "code",
   "execution_count": 115,
   "id": "0143e59b",
   "metadata": {},
   "outputs": [
    {
     "data": {
      "text/plain": [
       "[('a', 10), ('b', 20), ('c', 30), ('d', 40)]"
      ]
     },
     "execution_count": 115,
     "metadata": {},
     "output_type": "execute_result"
    }
   ],
   "source": [
    "list(zip('abcd', [10, 20, 30, 40]))"
   ]
  },
  {
   "cell_type": "code",
   "execution_count": null,
   "id": "6ca5c8af",
   "metadata": {},
   "outputs": [],
   "source": []
  }
 ],
 "metadata": {
  "kernelspec": {
   "display_name": "Python 3 (ipykernel)",
   "language": "python",
   "name": "python3"
  },
  "language_info": {
   "codemirror_mode": {
    "name": "ipython",
    "version": 3
   },
   "file_extension": ".py",
   "mimetype": "text/x-python",
   "name": "python",
   "nbconvert_exporter": "python",
   "pygments_lexer": "ipython3",
   "version": "3.10.4"
  }
 },
 "nbformat": 4,
 "nbformat_minor": 5
}
