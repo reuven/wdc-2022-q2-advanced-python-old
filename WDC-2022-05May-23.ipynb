{
 "cells": [
  {
   "cell_type": "markdown",
   "id": "e54cc98e",
   "metadata": {},
   "source": [
    "# Agenda\n",
    "\n",
    "1. Comprehensions\n",
    "    - List comprehensions\n",
    "    - Set comprehensions\n",
    "    - Dict comprehensions\n",
    "    - Nested comprehensions\n",
    "2. Functions as arguments\n",
    "3. `lambda`\n",
    "4. Nested functions and the `operator` module"
   ]
  },
  {
   "cell_type": "markdown",
   "id": "2ae9f40c",
   "metadata": {},
   "source": [
    "# Parameter types\n",
    "\n",
    "1. Positional-only arguments, before a `/`\n",
    "2. Mandatory parameters (positional or keyword)\n",
    "3. Optional parameters, with defaults (positional or keyword)\n",
    "4. `*args`, a tuple with all leftover positional arguments (or `*` by itself)\n",
    "5. Mandatory keyword-only parameters\n",
    "6. Optional keyword-only parameters (with defaults)\n",
    "7. `**kwargs`, a dict with all leftover keyword arguments"
   ]
  },
  {
   "cell_type": "code",
   "execution_count": 3,
   "id": "979e743a",
   "metadata": {},
   "outputs": [],
   "source": [
    "def myfunc(a, b, *, c, d=100):\n",
    "    return f'{a=}, {b=}, {c=}, {d=}'"
   ]
  },
  {
   "cell_type": "code",
   "execution_count": 4,
   "id": "4726fdf1",
   "metadata": {},
   "outputs": [
    {
     "ename": "TypeError",
     "evalue": "myfunc() takes 2 positional arguments but 4 were given",
     "output_type": "error",
     "traceback": [
      "\u001b[0;31m---------------------------------------------------------------------------\u001b[0m",
      "\u001b[0;31mTypeError\u001b[0m                                 Traceback (most recent call last)",
      "\u001b[0;32m/var/folders/rr/0mnyyv811fs5vyp22gf4fxk00000gn/T/ipykernel_88535/1047076926.py\u001b[0m in \u001b[0;36m<module>\u001b[0;34m\u001b[0m\n\u001b[0;32m----> 1\u001b[0;31m \u001b[0mmyfunc\u001b[0m\u001b[0;34m(\u001b[0m\u001b[0;36m10\u001b[0m\u001b[0;34m,\u001b[0m \u001b[0;36m20\u001b[0m\u001b[0;34m,\u001b[0m \u001b[0;36m30\u001b[0m\u001b[0;34m,\u001b[0m \u001b[0;36m40\u001b[0m\u001b[0;34m)\u001b[0m\u001b[0;34m\u001b[0m\u001b[0;34m\u001b[0m\u001b[0m\n\u001b[0m",
      "\u001b[0;31mTypeError\u001b[0m: myfunc() takes 2 positional arguments but 4 were given"
     ]
    }
   ],
   "source": [
    "# parameters: a    b   c    d\n",
    "# arguments: 10    20  \n",
    "\n",
    "myfunc(10, 20, 30, 40)  # 4 positional arguments "
   ]
  },
  {
   "cell_type": "code",
   "execution_count": 6,
   "id": "b3f8d239",
   "metadata": {},
   "outputs": [
    {
     "data": {
      "text/plain": [
       "'a=10, b=20, c=30, d=40'"
      ]
     },
     "execution_count": 6,
     "metadata": {},
     "output_type": "execute_result"
    }
   ],
   "source": [
    "# parameters:   a   b   c   d \n",
    "# arguments:   10  20   30  40\n",
    "\n",
    "myfunc(10, 20, c=30, d=40)"
   ]
  },
  {
   "cell_type": "code",
   "execution_count": 7,
   "id": "512d6bf5",
   "metadata": {},
   "outputs": [
    {
     "data": {
      "text/plain": [
       "'a=10, b=20, c=40, d=30'"
      ]
     },
     "execution_count": 7,
     "metadata": {},
     "output_type": "execute_result"
    }
   ],
   "source": [
    "myfunc(10, 20, d=30, c=40)"
   ]
  },
  {
   "cell_type": "code",
   "execution_count": 8,
   "id": "d9397d09",
   "metadata": {},
   "outputs": [
    {
     "data": {
      "text/plain": [
       "'a=10, b=20, c=30, d=100'"
      ]
     },
     "execution_count": 8,
     "metadata": {},
     "output_type": "execute_result"
    }
   ],
   "source": [
    "myfunc(10, 20, c=30)"
   ]
  },
  {
   "cell_type": "code",
   "execution_count": 9,
   "id": "943104b4",
   "metadata": {},
   "outputs": [
    {
     "data": {
      "text/plain": [
       "'a=10, b=20, c=30, d=100'"
      ]
     },
     "execution_count": 9,
     "metadata": {},
     "output_type": "execute_result"
    }
   ],
   "source": [
    "myfunc(a=10, b=20, c=30)"
   ]
  },
  {
   "cell_type": "code",
   "execution_count": 10,
   "id": "7f8d4d5a",
   "metadata": {},
   "outputs": [],
   "source": [
    "# / slash\n",
    "# \\ backslash"
   ]
  },
  {
   "cell_type": "code",
   "execution_count": 11,
   "id": "4dca36a8",
   "metadata": {},
   "outputs": [],
   "source": [
    "def myfunc(a, /, b, *, c):\n",
    "    return f'{a=}, {b=}, {c=}'"
   ]
  },
  {
   "cell_type": "code",
   "execution_count": 12,
   "id": "22020db6",
   "metadata": {},
   "outputs": [
    {
     "ename": "TypeError",
     "evalue": "myfunc() takes 2 positional arguments but 3 were given",
     "output_type": "error",
     "traceback": [
      "\u001b[0;31m---------------------------------------------------------------------------\u001b[0m",
      "\u001b[0;31mTypeError\u001b[0m                                 Traceback (most recent call last)",
      "\u001b[0;32m/var/folders/rr/0mnyyv811fs5vyp22gf4fxk00000gn/T/ipykernel_88535/885864022.py\u001b[0m in \u001b[0;36m<module>\u001b[0;34m\u001b[0m\n\u001b[0;32m----> 1\u001b[0;31m \u001b[0mmyfunc\u001b[0m\u001b[0;34m(\u001b[0m\u001b[0;36m10\u001b[0m\u001b[0;34m,\u001b[0m \u001b[0;36m20\u001b[0m\u001b[0;34m,\u001b[0m \u001b[0;36m30\u001b[0m\u001b[0;34m)\u001b[0m\u001b[0;34m\u001b[0m\u001b[0;34m\u001b[0m\u001b[0m\n\u001b[0m",
      "\u001b[0;31mTypeError\u001b[0m: myfunc() takes 2 positional arguments but 3 were given"
     ]
    }
   ],
   "source": [
    "myfunc(10, 20, 30)"
   ]
  },
  {
   "cell_type": "code",
   "execution_count": 13,
   "id": "119eef99",
   "metadata": {},
   "outputs": [
    {
     "ename": "TypeError",
     "evalue": "myfunc() got some positional-only arguments passed as keyword arguments: 'a'",
     "output_type": "error",
     "traceback": [
      "\u001b[0;31m---------------------------------------------------------------------------\u001b[0m",
      "\u001b[0;31mTypeError\u001b[0m                                 Traceback (most recent call last)",
      "\u001b[0;32m/var/folders/rr/0mnyyv811fs5vyp22gf4fxk00000gn/T/ipykernel_88535/2067321119.py\u001b[0m in \u001b[0;36m<module>\u001b[0;34m\u001b[0m\n\u001b[0;32m----> 1\u001b[0;31m \u001b[0mmyfunc\u001b[0m\u001b[0;34m(\u001b[0m\u001b[0ma\u001b[0m\u001b[0;34m=\u001b[0m\u001b[0;36m10\u001b[0m\u001b[0;34m,\u001b[0m \u001b[0mb\u001b[0m\u001b[0;34m=\u001b[0m\u001b[0;36m20\u001b[0m\u001b[0;34m,\u001b[0m \u001b[0mc\u001b[0m\u001b[0;34m=\u001b[0m\u001b[0;36m30\u001b[0m\u001b[0;34m)\u001b[0m\u001b[0;34m\u001b[0m\u001b[0;34m\u001b[0m\u001b[0m\n\u001b[0m",
      "\u001b[0;31mTypeError\u001b[0m: myfunc() got some positional-only arguments passed as keyword arguments: 'a'"
     ]
    }
   ],
   "source": [
    "myfunc(a=10, b=20, c=30)"
   ]
  },
  {
   "cell_type": "code",
   "execution_count": 15,
   "id": "c4a1d8e6",
   "metadata": {},
   "outputs": [
    {
     "ename": "SyntaxError",
     "evalue": "invalid syntax (3892846933.py, line 1)",
     "output_type": "error",
     "traceback": [
      "\u001b[0;36m  File \u001b[0;32m\"/var/folders/rr/0mnyyv811fs5vyp22gf4fxk00000gn/T/ipykernel_88535/3892846933.py\"\u001b[0;36m, line \u001b[0;32m1\u001b[0m\n\u001b[0;31m    def myfunc(a, *, b, /, c):\u001b[0m\n\u001b[0m                        ^\u001b[0m\n\u001b[0;31mSyntaxError\u001b[0m\u001b[0;31m:\u001b[0m invalid syntax\n"
     ]
    }
   ],
   "source": [
    "def myfunc(a, *, b, /, c):\n",
    "    pass"
   ]
  },
  {
   "cell_type": "markdown",
   "id": "e5b102cf",
   "metadata": {},
   "source": [
    "# Comprehensions\n",
    "\n"
   ]
  },
  {
   "cell_type": "code",
   "execution_count": 16,
   "id": "f7833450",
   "metadata": {},
   "outputs": [
    {
     "data": {
      "text/plain": [
       "[0, 1, 4, 9, 16, 25, 36, 49, 64, 81]"
      ]
     },
     "execution_count": 16,
     "metadata": {},
     "output_type": "execute_result"
    }
   ],
   "source": [
    "numbers = list(range(10))\n",
    "\n",
    "# we want a list of these numbers to the 2nd power (** 2)\n",
    "\n",
    "output = []\n",
    "\n",
    "for one_number in numbers:\n",
    "    output.append(one_number ** 2)\n",
    "    \n",
    "output"
   ]
  },
  {
   "cell_type": "code",
   "execution_count": 17,
   "id": "6e3e1371",
   "metadata": {},
   "outputs": [
    {
     "data": {
      "text/plain": [
       "[0, 1, 4, 9, 16, 25, 36, 49, 64, 81]"
      ]
     },
     "execution_count": 17,
     "metadata": {},
     "output_type": "execute_result"
    }
   ],
   "source": [
    "# list comprehension\n",
    "[one_number ** 2 \n",
    " for one_number in numbers]"
   ]
  },
  {
   "cell_type": "code",
   "execution_count": 18,
   "id": "baf186f2",
   "metadata": {},
   "outputs": [
    {
     "name": "stdout",
     "output_type": "stream",
     "text": [
      "0\n",
      "1\n",
      "4\n",
      "9\n",
      "16\n",
      "25\n",
      "36\n",
      "49\n",
      "64\n",
      "81\n"
     ]
    },
    {
     "data": {
      "text/plain": [
       "[None, None, None, None, None, None, None, None, None, None]"
      ]
     },
     "execution_count": 18,
     "metadata": {},
     "output_type": "execute_result"
    }
   ],
   "source": [
    "[print(one_number**2)\n",
    " for one_number in numbers]"
   ]
  },
  {
   "cell_type": "code",
   "execution_count": 20,
   "id": "0de65823",
   "metadata": {},
   "outputs": [
    {
     "name": "stdout",
     "output_type": "stream",
     "text": [
      "\tNow calculating 0 * 2\n",
      "\tNow calculating 1 * 2\n",
      "\tNow calculating 2 * 2\n",
      "\tNow calculating 3 * 2\n",
      "\tNow calculating 4 * 2\n",
      "\tNow calculating 5 * 2\n",
      "\tNow calculating 6 * 2\n",
      "\tNow calculating 7 * 2\n",
      "\tNow calculating 8 * 2\n",
      "\tNow calculating 9 * 2\n"
     ]
    },
    {
     "data": {
      "text/plain": [
       "[0, 2, 4, 6, 8, 10, 12, 14, 16, 18]"
      ]
     },
     "execution_count": 20,
     "metadata": {},
     "output_type": "execute_result"
    }
   ],
   "source": [
    "def times_2(x):\n",
    "    print(f'\\tNow calculating {x} * 2')\n",
    "    return x * 2\n",
    "\n",
    "\n",
    "[times_2(one_number)         # SELECT\n",
    "for one_number in numbers]   # FROM "
   ]
  },
  {
   "cell_type": "code",
   "execution_count": 21,
   "id": "4b7f6a4a",
   "metadata": {},
   "outputs": [
    {
     "data": {
      "text/plain": [
       "['even', 'odd', 'even', 'odd', 'even', 'odd', 'even', 'odd', 'even', 'odd']"
      ]
     },
     "execution_count": 21,
     "metadata": {},
     "output_type": "execute_result"
    }
   ],
   "source": [
    "# don't use this!\n",
    "['odd' if one_number % 2 else 'even'\n",
    " for one_number in numbers    \n",
    "]"
   ]
  },
  {
   "cell_type": "markdown",
   "id": "2d62b30e",
   "metadata": {},
   "source": [
    "# Exercises: Comprehensions\n",
    "\n",
    "1. Ask the user to enter a string with numbers, separated by spaces (`'10 20 30 40'`).  Add all of these numbers together.\n",
    "2. Ask the user to enter a sentence.  Calculate how many non-whitespace characters are in the sentence.\n",
    "3. Ask the user to enter a sentence.  Return a new string, based on the user's sentence, in which every word starts with a capital letter.  (The result should be the same as running `str.title`, but without actually running it.)"
   ]
  },
  {
   "cell_type": "code",
   "execution_count": 22,
   "id": "84ea27c9",
   "metadata": {},
   "outputs": [
    {
     "name": "stdout",
     "output_type": "stream",
     "text": [
      "Enter numbers: 10 20 30 40\n"
     ]
    }
   ],
   "source": [
    "s = input('Enter numbers: ')\n",
    "\n"
   ]
  },
  {
   "cell_type": "code",
   "execution_count": 27,
   "id": "eb1357a7",
   "metadata": {},
   "outputs": [
    {
     "data": {
      "text/plain": [
       "100"
      ]
     },
     "execution_count": 27,
     "metadata": {},
     "output_type": "execute_result"
    }
   ],
   "source": [
    "sum([int(one_number)\n",
    "     for one_number in s.split()])"
   ]
  },
  {
   "cell_type": "code",
   "execution_count": 28,
   "id": "3da386e9",
   "metadata": {},
   "outputs": [
    {
     "name": "stdout",
     "output_type": "stream",
     "text": [
      "Enter a sentence: this is a test sentence\n"
     ]
    }
   ],
   "source": [
    "s = input('Enter a sentence: ').strip()"
   ]
  },
  {
   "cell_type": "code",
   "execution_count": 29,
   "id": "a3429fce",
   "metadata": {},
   "outputs": [
    {
     "data": {
      "text/plain": [
       "23"
      ]
     },
     "execution_count": 29,
     "metadata": {},
     "output_type": "execute_result"
    }
   ],
   "source": [
    "len(s)"
   ]
  },
  {
   "cell_type": "code",
   "execution_count": 30,
   "id": "e1b43654",
   "metadata": {},
   "outputs": [
    {
     "data": {
      "text/plain": [
       "19"
      ]
     },
     "execution_count": 30,
     "metadata": {},
     "output_type": "execute_result"
    }
   ],
   "source": [
    "len(s) - s.count(' ')"
   ]
  },
  {
   "cell_type": "code",
   "execution_count": 32,
   "id": "9b438f31",
   "metadata": {},
   "outputs": [
    {
     "data": {
      "text/plain": [
       "19"
      ]
     },
     "execution_count": 32,
     "metadata": {},
     "output_type": "execute_result"
    }
   ],
   "source": [
    "sum([len(one_word)\n",
    " for one_word in s.split()])"
   ]
  },
  {
   "cell_type": "code",
   "execution_count": 33,
   "id": "48e77cad",
   "metadata": {},
   "outputs": [
    {
     "data": {
      "text/plain": [
       "'this is a test sentence'"
      ]
     },
     "execution_count": 33,
     "metadata": {},
     "output_type": "execute_result"
    }
   ],
   "source": [
    "s"
   ]
  },
  {
   "cell_type": "code",
   "execution_count": 34,
   "id": "24a3a737",
   "metadata": {},
   "outputs": [
    {
     "data": {
      "text/plain": [
       "'This Is A Test Sentence'"
      ]
     },
     "execution_count": 34,
     "metadata": {},
     "output_type": "execute_result"
    }
   ],
   "source": [
    "s.title()"
   ]
  },
  {
   "cell_type": "code",
   "execution_count": 39,
   "id": "0ff90430",
   "metadata": {},
   "outputs": [
    {
     "data": {
      "text/plain": [
       "'This Is A Test Sentence'"
      ]
     },
     "execution_count": 39,
     "metadata": {},
     "output_type": "execute_result"
    }
   ],
   "source": [
    "' '.join([one_word.capitalize()\n",
    " for one_word in s.split()])"
   ]
  },
  {
   "cell_type": "code",
   "execution_count": 40,
   "id": "2f86c87b",
   "metadata": {},
   "outputs": [],
   "source": [
    "def sum_string_numbers(s):\n",
    "    return sum([int(one_number)\n",
    "                 for one_number in s.split()])"
   ]
  },
  {
   "cell_type": "code",
   "execution_count": 41,
   "id": "6969760e",
   "metadata": {},
   "outputs": [
    {
     "data": {
      "text/plain": [
       "60"
      ]
     },
     "execution_count": 41,
     "metadata": {},
     "output_type": "execute_result"
    }
   ],
   "source": [
    "sum_string_numbers('10 20 30')"
   ]
  },
  {
   "cell_type": "code",
   "execution_count": 42,
   "id": "5b6ec7a9",
   "metadata": {},
   "outputs": [
    {
     "name": "stdout",
     "output_type": "stream",
     "text": [
      "  2           0 LOAD_GLOBAL              0 (sum)\n",
      "              2 LOAD_CONST               1 (<code object <listcomp> at 0x10f55bb50, file \"/var/folders/rr/0mnyyv811fs5vyp22gf4fxk00000gn/T/ipykernel_88535/998994435.py\", line 2>)\n",
      "              4 LOAD_CONST               2 ('sum_string_numbers.<locals>.<listcomp>')\n",
      "              6 MAKE_FUNCTION            0\n",
      "\n",
      "  3           8 LOAD_FAST                0 (s)\n",
      "             10 LOAD_METHOD              1 (split)\n",
      "             12 CALL_METHOD              0\n",
      "\n",
      "  2          14 GET_ITER\n",
      "             16 CALL_FUNCTION            1\n",
      "             18 CALL_FUNCTION            1\n",
      "             20 RETURN_VALUE\n",
      "\n",
      "Disassembly of <code object <listcomp> at 0x10f55bb50, file \"/var/folders/rr/0mnyyv811fs5vyp22gf4fxk00000gn/T/ipykernel_88535/998994435.py\", line 2>:\n",
      "  2           0 BUILD_LIST               0\n",
      "              2 LOAD_FAST                0 (.0)\n",
      "        >>    4 FOR_ITER                 6 (to 18)\n",
      "\n",
      "  3           6 STORE_FAST               1 (one_number)\n",
      "\n",
      "  2           8 LOAD_GLOBAL              0 (int)\n",
      "             10 LOAD_FAST                1 (one_number)\n",
      "             12 CALL_FUNCTION            1\n",
      "             14 LIST_APPEND              2\n",
      "             16 JUMP_ABSOLUTE            2 (to 4)\n",
      "        >>   18 RETURN_VALUE\n"
     ]
    }
   ],
   "source": [
    "import dis\n",
    "dis.dis(sum_string_numbers)"
   ]
  },
  {
   "cell_type": "code",
   "execution_count": 46,
   "id": "7713ab99",
   "metadata": {},
   "outputs": [
    {
     "data": {
      "text/plain": [
       "['nobody',\n",
       " 'root',\n",
       " 'daemon',\n",
       " '_uucp',\n",
       " '_taskgated',\n",
       " '_networkd',\n",
       " '_installassistant',\n",
       " '_lp',\n",
       " '_postfix',\n",
       " '_scsd',\n",
       " '_ces',\n",
       " '_appstore',\n",
       " '_mcxalr',\n",
       " '_appleevents',\n",
       " '_geod',\n",
       " '_devdocs',\n",
       " '_sandbox',\n",
       " '_mdnsresponder',\n",
       " '_ard',\n",
       " '_www',\n",
       " '_eppc',\n",
       " '_cvs',\n",
       " '_svn',\n",
       " '_mysql',\n",
       " '_sshd',\n",
       " '_qtss',\n",
       " '_cyrus',\n",
       " '_mailman',\n",
       " '_appserver',\n",
       " '_clamav',\n",
       " '_amavisd',\n",
       " '_jabber',\n",
       " '_appowner',\n",
       " '_windowserver',\n",
       " '_spotlight',\n",
       " '_tokend',\n",
       " '_securityagent',\n",
       " '_calendar',\n",
       " '_teamsserver',\n",
       " '_update_sharing',\n",
       " '_installer',\n",
       " '_atsserver',\n",
       " '_ftp',\n",
       " '_unknown',\n",
       " '_softwareupdate',\n",
       " '_coreaudiod',\n",
       " '_screensaver',\n",
       " '_locationd',\n",
       " '_trustevaluationagent',\n",
       " '_timezone',\n",
       " '_lda',\n",
       " '_cvmsroot',\n",
       " '_usbmuxd',\n",
       " '_dovecot',\n",
       " '_dpaudio',\n",
       " '_postgres',\n",
       " '_krbtgt',\n",
       " '_kadmin_admin',\n",
       " '_kadmin_changepw',\n",
       " '_devicemgr',\n",
       " '_webauthserver',\n",
       " '_netbios',\n",
       " '_warmd',\n",
       " '_dovenull',\n",
       " '_netstatistics',\n",
       " '_avbdeviced',\n",
       " '_krb_krbtgt',\n",
       " '_krb_kadmin',\n",
       " '_krb_changepw',\n",
       " '_krb_kerberos',\n",
       " '_krb_anonymous',\n",
       " '_assetcache',\n",
       " '_coremediaiod',\n",
       " '_launchservicesd',\n",
       " '_iconservices',\n",
       " '_distnote',\n",
       " '_nsurlsessiond',\n",
       " '_displaypolicyd',\n",
       " '_astris',\n",
       " '_krbfast',\n",
       " '_gamecontrollerd',\n",
       " '_mbsetupuser',\n",
       " '_ondemand',\n",
       " '_xserverdocs',\n",
       " '_wwwproxy',\n",
       " '_mobileasset',\n",
       " '_findmydevice',\n",
       " '_datadetectors',\n",
       " '_captiveagent',\n",
       " '_ctkd',\n",
       " '_applepay',\n",
       " '_hidd',\n",
       " '_cmiodalassistants',\n",
       " '_analyticsd',\n",
       " '_fpsd',\n",
       " '_timed',\n",
       " '_nearbyd',\n",
       " '_reportmemoryexception',\n",
       " '_driverkit',\n",
       " '_diskimagesiod',\n",
       " '_logd',\n",
       " '_appinstalld',\n",
       " '_installcoordinationd',\n",
       " '_demod',\n",
       " '_rmd',\n",
       " '_accessoryupdater',\n",
       " '_knowledgegraphd',\n",
       " '_coreml',\n",
       " '_sntpd',\n",
       " '_trustd',\n",
       " '_darwindaemon',\n",
       " '_notification_proxy',\n",
       " '_oahd']"
      ]
     },
     "execution_count": 46,
     "metadata": {},
     "output_type": "execute_result"
    }
   ],
   "source": [
    "[one_line.split(':')[0]               # expression -- SELECT\n",
    " for one_line in open('/etc/passwd')  # iteration  -- FROM\n",
    " if not one_line.startswith('#')]     # condition  -- WHERE"
   ]
  },
  {
   "cell_type": "code",
   "execution_count": 48,
   "id": "1861f4fd",
   "metadata": {},
   "outputs": [
    {
     "name": "stdout",
     "output_type": "stream",
     "text": [
      "WDC-2022-05May-17.html\t     config.txt\t\t   output.txt\r\n",
      "WDC-2022-05May-17.ipynb      linux-etc-passwd.txt  python-workout-cover.png\r\n",
      "WDC-2022-05May-19.html\t     mini-access-log.txt   shoe-data.txt\r\n",
      "WDC-2022-05May-19.ipynb      movies.dat\t\t   taxi.csv\r\n",
      "WDC-2022-05May-23.ipynb      nums.txt\t\t   wdc-2022-05May-17.zip\r\n",
      "advanced-exercise-files.zip  outfile.txt\t   wdc-2022-05May-19.zip\r\n"
     ]
    }
   ],
   "source": [
    "!ls"
   ]
  },
  {
   "cell_type": "code",
   "execution_count": 49,
   "id": "e2e4435b",
   "metadata": {},
   "outputs": [
    {
     "name": "stdout",
     "output_type": "stream",
     "text": [
      "5\r\n",
      "\t10     \r\n",
      "\t20\r\n",
      "  \t3\r\n",
      "\t\t   \t20        \r\n",
      "\r\n",
      " 25\r\n"
     ]
    }
   ],
   "source": [
    "!cat nums.txt"
   ]
  },
  {
   "cell_type": "markdown",
   "id": "b3a76350",
   "metadata": {},
   "source": [
    "# Exercise: Sum the numbers\n",
    "\n",
    "Use a list comprehension to read from `nums.txt`, and sum the numbers."
   ]
  },
  {
   "cell_type": "code",
   "execution_count": 52,
   "id": "4e29b444",
   "metadata": {},
   "outputs": [
    {
     "ename": "ValueError",
     "evalue": "invalid literal for int() with base 10: ''",
     "output_type": "error",
     "traceback": [
      "\u001b[0;31m---------------------------------------------------------------------------\u001b[0m",
      "\u001b[0;31mValueError\u001b[0m                                Traceback (most recent call last)",
      "\u001b[0;32m/var/folders/rr/0mnyyv811fs5vyp22gf4fxk00000gn/T/ipykernel_88535/17093899.py\u001b[0m in \u001b[0;36m<module>\u001b[0;34m\u001b[0m\n\u001b[0;32m----> 1\u001b[0;31m [int(one_line.strip())\n\u001b[0m\u001b[1;32m      2\u001b[0m  for one_line in open('nums.txt')]\n",
      "\u001b[0;32m/var/folders/rr/0mnyyv811fs5vyp22gf4fxk00000gn/T/ipykernel_88535/17093899.py\u001b[0m in \u001b[0;36m<listcomp>\u001b[0;34m(.0)\u001b[0m\n\u001b[0;32m----> 1\u001b[0;31m [int(one_line.strip())\n\u001b[0m\u001b[1;32m      2\u001b[0m  for one_line in open('nums.txt')]\n",
      "\u001b[0;31mValueError\u001b[0m: invalid literal for int() with base 10: ''"
     ]
    }
   ],
   "source": [
    "[int(one_line.strip())\n",
    " for one_line in open('nums.txt')]"
   ]
  },
  {
   "cell_type": "code",
   "execution_count": 53,
   "id": "0ca7b04c",
   "metadata": {},
   "outputs": [
    {
     "data": {
      "text/plain": [
       "0"
      ]
     },
     "execution_count": 53,
     "metadata": {},
     "output_type": "execute_result"
    }
   ],
   "source": [
    "int()"
   ]
  },
  {
   "cell_type": "code",
   "execution_count": 54,
   "id": "8538a431",
   "metadata": {},
   "outputs": [
    {
     "data": {
      "text/plain": [
       "10"
      ]
     },
     "execution_count": 54,
     "metadata": {},
     "output_type": "execute_result"
    }
   ],
   "source": [
    "int('10')"
   ]
  },
  {
   "cell_type": "code",
   "execution_count": 55,
   "id": "6e4e18ed",
   "metadata": {},
   "outputs": [
    {
     "data": {
      "text/plain": [
       "10"
      ]
     },
     "execution_count": 55,
     "metadata": {},
     "output_type": "execute_result"
    }
   ],
   "source": [
    "int('   10     ')"
   ]
  },
  {
   "cell_type": "code",
   "execution_count": 56,
   "id": "f8524e5c",
   "metadata": {},
   "outputs": [
    {
     "ename": "ValueError",
     "evalue": "invalid literal for int() with base 10: ''",
     "output_type": "error",
     "traceback": [
      "\u001b[0;31m---------------------------------------------------------------------------\u001b[0m",
      "\u001b[0;31mValueError\u001b[0m                                Traceback (most recent call last)",
      "\u001b[0;32m/var/folders/rr/0mnyyv811fs5vyp22gf4fxk00000gn/T/ipykernel_88535/4013821350.py\u001b[0m in \u001b[0;36m<module>\u001b[0;34m\u001b[0m\n\u001b[0;32m----> 1\u001b[0;31m \u001b[0mint\u001b[0m\u001b[0;34m(\u001b[0m\u001b[0;34m''\u001b[0m\u001b[0;34m)\u001b[0m\u001b[0;34m\u001b[0m\u001b[0;34m\u001b[0m\u001b[0m\n\u001b[0m",
      "\u001b[0;31mValueError\u001b[0m: invalid literal for int() with base 10: ''"
     ]
    }
   ],
   "source": [
    "int('')  "
   ]
  },
  {
   "cell_type": "code",
   "execution_count": 60,
   "id": "226866e7",
   "metadata": {},
   "outputs": [
    {
     "data": {
      "text/plain": [
       "[5, 10, 20, 3, 20, 25]"
      ]
     },
     "execution_count": 60,
     "metadata": {},
     "output_type": "execute_result"
    }
   ],
   "source": [
    "[int(one_line)\n",
    " for one_line in open('nums.txt')\n",
    " if one_line.strip()]"
   ]
  },
  {
   "cell_type": "code",
   "execution_count": 62,
   "id": "29f71656",
   "metadata": {},
   "outputs": [
    {
     "data": {
      "text/plain": [
       "83"
      ]
     },
     "execution_count": 62,
     "metadata": {},
     "output_type": "execute_result"
    }
   ],
   "source": [
    "sum([int(one_line)\n",
    " for one_line in open('nums.txt')\n",
    " if one_line.strip().isdigit()])"
   ]
  },
  {
   "cell_type": "code",
   "execution_count": 63,
   "id": "c205d374",
   "metadata": {},
   "outputs": [
    {
     "name": "stdout",
     "output_type": "stream",
     "text": [
      "Adidas\torange\t43\r\n",
      "Nike\tblack\t41\r\n",
      "Adidas\tblack\t39\r\n",
      "New Balance\tpink\t41\r\n",
      "Nike\twhite\t44\r\n",
      "New Balance\torange\t38\r\n",
      "Nike\tpink\t44\r\n",
      "Adidas\tpink\t44\r\n",
      "New Balance\torange\t39\r\n",
      "New Balance\tblack\t43\r\n"
     ]
    }
   ],
   "source": [
    "!head shoe-data.txt"
   ]
  },
  {
   "cell_type": "markdown",
   "id": "f3caa7ad",
   "metadata": {},
   "source": [
    "# Exercise: Shoe dicts\n",
    "\n",
    "1. Based on `shoe-data.txt`, create a list of dicts, one dict for each row (shoe) in the file.\n",
    "2. The columns are separated by tabs, `'\\t'`.\n",
    "3. You can leave the size as a string, if you want.\n",
    "4. I suggest writing a function that takes the current line (string) and returns a dict based on it.\n",
    "\n",
    "```python\n",
    "[\n",
    "{'brand':'Adidas',\n",
    " 'color':'orange',\n",
    " 'size':'43'},\n",
    "{'brand':'Nike',\n",
    " 'color':'black',\n",
    " 'size':'41'},\n",
    "...\n",
    "]\n",
    "\n",
    "```"
   ]
  },
  {
   "cell_type": "code",
   "execution_count": 67,
   "id": "cec1f008",
   "metadata": {},
   "outputs": [
    {
     "data": {
      "text/plain": [
       "[{'brand': 'Adidas', 'color': 'orange', 'size': '43'},\n",
       " {'brand': 'Nike', 'color': 'black', 'size': '41'},\n",
       " {'brand': 'Adidas', 'color': 'black', 'size': '39'},\n",
       " {'brand': 'New Balance', 'color': 'pink', 'size': '41'},\n",
       " {'brand': 'Nike', 'color': 'white', 'size': '44'},\n",
       " {'brand': 'New Balance', 'color': 'orange', 'size': '38'},\n",
       " {'brand': 'Nike', 'color': 'pink', 'size': '44'},\n",
       " {'brand': 'Adidas', 'color': 'pink', 'size': '44'},\n",
       " {'brand': 'New Balance', 'color': 'orange', 'size': '39'},\n",
       " {'brand': 'New Balance', 'color': 'black', 'size': '43'},\n",
       " {'brand': 'New Balance', 'color': 'orange', 'size': '44'},\n",
       " {'brand': 'Nike', 'color': 'black', 'size': '41'},\n",
       " {'brand': 'Adidas', 'color': 'orange', 'size': '37'},\n",
       " {'brand': 'Adidas', 'color': 'black', 'size': '38'},\n",
       " {'brand': 'Adidas', 'color': 'pink', 'size': '41'},\n",
       " {'brand': 'Adidas', 'color': 'white', 'size': '36'},\n",
       " {'brand': 'Adidas', 'color': 'orange', 'size': '36'},\n",
       " {'brand': 'Nike', 'color': 'pink', 'size': '41'},\n",
       " {'brand': 'Adidas', 'color': 'pink', 'size': '35'},\n",
       " {'brand': 'New Balance', 'color': 'orange', 'size': '37'},\n",
       " {'brand': 'Nike', 'color': 'pink', 'size': '43'},\n",
       " {'brand': 'Nike', 'color': 'black', 'size': '43'},\n",
       " {'brand': 'Nike', 'color': 'black', 'size': '42'},\n",
       " {'brand': 'Nike', 'color': 'black', 'size': '35'},\n",
       " {'brand': 'Adidas', 'color': 'black', 'size': '41'},\n",
       " {'brand': 'New Balance', 'color': 'pink', 'size': '40'},\n",
       " {'brand': 'Adidas', 'color': 'white', 'size': '35'},\n",
       " {'brand': 'New Balance', 'color': 'pink', 'size': '41'},\n",
       " {'brand': 'New Balance', 'color': 'orange', 'size': '41'},\n",
       " {'brand': 'Adidas', 'color': 'orange', 'size': '40'},\n",
       " {'brand': 'New Balance', 'color': 'orange', 'size': '40'},\n",
       " {'brand': 'New Balance', 'color': 'white', 'size': '44'},\n",
       " {'brand': 'New Balance', 'color': 'pink', 'size': '40'},\n",
       " {'brand': 'Nike', 'color': 'black', 'size': '43'},\n",
       " {'brand': 'Nike', 'color': 'pink', 'size': '36'},\n",
       " {'brand': 'New Balance', 'color': 'white', 'size': '39'},\n",
       " {'brand': 'Nike', 'color': 'black', 'size': '42'},\n",
       " {'brand': 'Adidas', 'color': 'black', 'size': '41'},\n",
       " {'brand': 'New Balance', 'color': 'orange', 'size': '40'},\n",
       " {'brand': 'New Balance', 'color': 'black', 'size': '40'},\n",
       " {'brand': 'Nike', 'color': 'white', 'size': '37'},\n",
       " {'brand': 'Adidas', 'color': 'black', 'size': '39'},\n",
       " {'brand': 'Adidas', 'color': 'black', 'size': '40'},\n",
       " {'brand': 'Adidas', 'color': 'orange', 'size': '38'},\n",
       " {'brand': 'New Balance', 'color': 'orange', 'size': '39'},\n",
       " {'brand': 'Nike', 'color': 'black', 'size': '35'},\n",
       " {'brand': 'Adidas', 'color': 'white', 'size': '39'},\n",
       " {'brand': 'Nike', 'color': 'white', 'size': '37'},\n",
       " {'brand': 'Adidas', 'color': 'orange', 'size': '37'},\n",
       " {'brand': 'Adidas', 'color': 'pink', 'size': '35'},\n",
       " {'brand': 'New Balance', 'color': 'orange', 'size': '41'},\n",
       " {'brand': 'Nike', 'color': 'pink', 'size': '44'},\n",
       " {'brand': 'Nike', 'color': 'pink', 'size': '38'},\n",
       " {'brand': 'Adidas', 'color': 'black', 'size': '39'},\n",
       " {'brand': 'New Balance', 'color': 'white', 'size': '35'},\n",
       " {'brand': 'Nike', 'color': 'pink', 'size': '40'},\n",
       " {'brand': 'Nike', 'color': 'white', 'size': '44'},\n",
       " {'brand': 'Nike', 'color': 'orange', 'size': '38'},\n",
       " {'brand': 'Adidas', 'color': 'orange', 'size': '42'},\n",
       " {'brand': 'New Balance', 'color': 'orange', 'size': '43'},\n",
       " {'brand': 'Adidas', 'color': 'pink', 'size': '39'},\n",
       " {'brand': 'Adidas', 'color': 'pink', 'size': '41'},\n",
       " {'brand': 'Adidas', 'color': 'pink', 'size': '39'},\n",
       " {'brand': 'Nike', 'color': 'white', 'size': '37'},\n",
       " {'brand': 'Nike', 'color': 'orange', 'size': '38'},\n",
       " {'brand': 'Adidas', 'color': 'orange', 'size': '39'},\n",
       " {'brand': 'Nike', 'color': 'pink', 'size': '40'},\n",
       " {'brand': 'Adidas', 'color': 'white', 'size': '36'},\n",
       " {'brand': 'Nike', 'color': 'orange', 'size': '40'},\n",
       " {'brand': 'New Balance', 'color': 'pink', 'size': '40'},\n",
       " {'brand': 'New Balance', 'color': 'black', 'size': '40'},\n",
       " {'brand': 'New Balance', 'color': 'pink', 'size': '40'},\n",
       " {'brand': 'Adidas', 'color': 'pink', 'size': '41'},\n",
       " {'brand': 'Nike', 'color': 'pink', 'size': '40'},\n",
       " {'brand': 'Nike', 'color': 'black', 'size': '41'},\n",
       " {'brand': 'Nike', 'color': 'black', 'size': '39'},\n",
       " {'brand': 'New Balance', 'color': 'white', 'size': '38'},\n",
       " {'brand': 'Adidas', 'color': 'black', 'size': '41'},\n",
       " {'brand': 'Nike', 'color': 'orange', 'size': '36'},\n",
       " {'brand': 'Nike', 'color': 'black', 'size': '38'},\n",
       " {'brand': 'New Balance', 'color': 'black', 'size': '40'},\n",
       " {'brand': 'New Balance', 'color': 'pink', 'size': '40'},\n",
       " {'brand': 'Adidas', 'color': 'black', 'size': '42'},\n",
       " {'brand': 'Adidas', 'color': 'white', 'size': '40'},\n",
       " {'brand': 'New Balance', 'color': 'orange', 'size': '38'},\n",
       " {'brand': 'Nike', 'color': 'pink', 'size': '41'},\n",
       " {'brand': 'Adidas', 'color': 'orange', 'size': '37'},\n",
       " {'brand': 'Nike', 'color': 'black', 'size': '44'},\n",
       " {'brand': 'Adidas', 'color': 'pink', 'size': '36'},\n",
       " {'brand': 'Adidas', 'color': 'white', 'size': '35'},\n",
       " {'brand': 'Nike', 'color': 'black', 'size': '38'},\n",
       " {'brand': 'Nike', 'color': 'pink', 'size': '42'},\n",
       " {'brand': 'New Balance', 'color': 'black', 'size': '43'},\n",
       " {'brand': 'Nike', 'color': 'white', 'size': '38'},\n",
       " {'brand': 'New Balance', 'color': 'pink', 'size': '39'},\n",
       " {'brand': 'Nike', 'color': 'orange', 'size': '39'},\n",
       " {'brand': 'New Balance', 'color': 'orange', 'size': '40'},\n",
       " {'brand': 'New Balance', 'color': 'white', 'size': '44'},\n",
       " {'brand': 'Adidas', 'color': 'black', 'size': '42'},\n",
       " {'brand': 'Nike', 'color': 'black', 'size': '35'}]"
      ]
     },
     "execution_count": 67,
     "metadata": {},
     "output_type": "execute_result"
    }
   ],
   "source": [
    "def line_to_dict(s):\n",
    "    brand, color, size = s.strip().split('\\t')\n",
    "    \n",
    "    return {'brand':brand,\n",
    "           'color':color,\n",
    "           'size':size}\n",
    "\n",
    "[line_to_dict(one_line)\n",
    " for one_line in open('shoe-data.txt')]"
   ]
  },
  {
   "cell_type": "code",
   "execution_count": null,
   "id": "eb325049",
   "metadata": {},
   "outputs": [],
   "source": [
    "def line_to_dict(s):\n",
    "    return dict(zip(['brand', 'color', 'size'],\n",
    "                   s.strip().split('\\t')))\n",
    "\n",
    "[line_to_dict(one_line)\n",
    " for one_line in open('shoe-data.txt')]"
   ]
  },
  {
   "cell_type": "code",
   "execution_count": 69,
   "id": "ebef01e4",
   "metadata": {},
   "outputs": [
    {
     "data": {
      "text/plain": [
       "{'a': 100, 'b': 200, 'c': 300}"
      ]
     },
     "execution_count": 69,
     "metadata": {},
     "output_type": "execute_result"
    }
   ],
   "source": [
    "# dict() creates a dict based on a list of tuples\n",
    "\n",
    "dict(zip(['a', 'b', 'c'],\n",
    "         [100, 200, 300]))"
   ]
  },
  {
   "cell_type": "markdown",
   "id": "a742f947",
   "metadata": {},
   "source": [
    "# Sum unique numbers\n",
    "\n"
   ]
  },
  {
   "cell_type": "code",
   "execution_count": 70,
   "id": "8cf77510",
   "metadata": {},
   "outputs": [
    {
     "name": "stdout",
     "output_type": "stream",
     "text": [
      "Enter numbers: 10 20 30 40\n",
      "100\n"
     ]
    }
   ],
   "source": [
    "s = input('Enter numbers: ').strip()\n",
    "\n",
    "print(sum([int(one_number)\n",
    "          for one_number in s.split()]))"
   ]
  },
  {
   "cell_type": "code",
   "execution_count": 71,
   "id": "5526012b",
   "metadata": {},
   "outputs": [
    {
     "name": "stdout",
     "output_type": "stream",
     "text": [
      "Enter numbers: 10 20 30 10 20 30\n",
      "120\n"
     ]
    }
   ],
   "source": [
    "# what if I want to sum the different/unique numbers?\n",
    "\n",
    "s = input('Enter numbers: ').strip()\n",
    "\n",
    "print(sum([int(one_number)\n",
    "          for one_number in s.split()]))"
   ]
  },
  {
   "cell_type": "code",
   "execution_count": 72,
   "id": "f63497b3",
   "metadata": {},
   "outputs": [
    {
     "name": "stdout",
     "output_type": "stream",
     "text": [
      "60\n"
     ]
    }
   ],
   "source": [
    "# sets are a great way to get the unique values from a list!\n",
    "\n",
    "print(sum(set([int(one_number)\n",
    "          for one_number in s.split()])))"
   ]
  },
  {
   "cell_type": "code",
   "execution_count": 73,
   "id": "e9532dd6",
   "metadata": {},
   "outputs": [
    {
     "data": {
      "text/plain": [
       "{10, 20, 30}"
      ]
     },
     "execution_count": 73,
     "metadata": {},
     "output_type": "execute_result"
    }
   ],
   "source": [
    "set([int(one_number)\n",
    "          for one_number in s.split()])"
   ]
  },
  {
   "cell_type": "markdown",
   "id": "5402ba27",
   "metadata": {},
   "source": [
    "# Set comprehension\n",
    "\n",
    "Just like a list comprehension, except:\n",
    "- Use `{}` around the comprehension\n",
    "- The result is a set, not a list\n",
    "- The result from each iteration must be hashable/immutable"
   ]
  },
  {
   "cell_type": "code",
   "execution_count": 74,
   "id": "32a2cdfb",
   "metadata": {},
   "outputs": [
    {
     "name": "stdout",
     "output_type": "stream",
     "text": [
      "60\n"
     ]
    }
   ],
   "source": [
    "print(sum({int(one_number)\n",
    "          for one_number in s.split()}))"
   ]
  },
  {
   "cell_type": "markdown",
   "id": "634c0cf8",
   "metadata": {},
   "source": [
    "# Exercise: Login shells\n",
    "\n",
    "What are the different shells in `linux-etc-passwd.txt`?"
   ]
  },
  {
   "cell_type": "code",
   "execution_count": 75,
   "id": "b0ac32b9",
   "metadata": {},
   "outputs": [
    {
     "name": "stdout",
     "output_type": "stream",
     "text": [
      "# This is a comment\r\n",
      "# You should ignore me\r\n",
      "root:x:0:0:root:/root:/bin/bash\r\n",
      "daemon:x:1:1:daemon:/usr/sbin:/usr/sbin/nologin\r\n",
      "bin:x:2:2:bin:/bin:/usr/sbin/nologin\r\n",
      "sys:x:3:3:sys:/dev:/usr/sbin/nologin\r\n",
      "sync:x:4:65534:sync:/bin:/bin/sync\r\n",
      "games:x:5:60:games:/usr/games:/usr/sbin/nologin\r\n",
      "man:x:6:12:man:/var/cache/man:/usr/sbin/nologin\r\n",
      "lp:x:7:7:lp:/var/spool/lpd:/usr/sbin/nologin\r\n",
      "mail:x:8:8:mail:/var/mail:/usr/sbin/nologin\r\n",
      "\r\n",
      "\r\n",
      "\r\n",
      "news:x:9:9:news:/var/spool/news:/usr/sbin/nologin\r\n",
      "uucp:x:10:10:uucp:/var/spool/uucp:/usr/sbin/nologin\r\n",
      "proxy:x:13:13:proxy:/bin:/usr/sbin/nologin\r\n",
      "www-data:x:33:33:www-data:/var/www:/usr/sbin/nologin\r\n",
      "backup:x:34:34:backup:/var/backups:/usr/sbin/nologin\r\n",
      "list:x:38:38:Mailing List Manager:/var/list:/usr/sbin/nologin\r\n",
      "irc:x:39:39:ircd:/var/run/ircd:/usr/sbin/nologin\r\n",
      "gnats:x:41:41:Gnats Bug-Reporting System (admin):/var/lib/gnats:/usr/sbin/nologin\r\n",
      "\r\n",
      "nobody:x:65534:65534:nobody:/nonexistent:/usr/sbin/nologin\r\n",
      "syslog:x:101:104::/home/syslog:/bin/false\r\n",
      "messagebus:x:102:106::/var/run/dbus:/bin/false\r\n",
      "landscape:x:103:109::/var/lib/landscape:/bin/false\r\n",
      "jci:x:955:955::/home/jci:/bin/bash\r\n",
      "sshd:x:104:65534::/var/run/sshd:/usr/sbin/nologin\r\n",
      "user:x:1000:1000:user,,,:/home/user:/bin/bash\r\n",
      "reuven:x:1001:1001:Reuven M. Lerner,,,:/home/reuven:/bin/bash\r\n",
      "postfix:x:105:113::/var/spool/postfix:/bin/false\r\n",
      "colord:x:106:116:colord colour management daemon,,,:/var/lib/colord:/bin/false\r\n",
      "postgres:x:107:117:PostgreSQL administrator,,,:/var/lib/postgresql:/bin/bash\r\n",
      "dovecot:x:108:119:Dovecot mail server,,,:/usr/lib/dovecot:/bin/false\r\n",
      "dovenull:x:109:120:Dovecot login user,,,:/nonexistent:/bin/false\r\n",
      "postgrey:x:110:121::/var/lib/postgrey:/bin/false\r\n",
      "debian-spamd:x:111:122::/var/lib/spamassassin:/bin/sh\r\n",
      "memcache:x:113:124:Memcached,,,:/nonexistent:/bin/false\r\n",
      "genadi:x:1002:1003:Genadi Reznichenko,,,:/home/genadi:/bin/bash\r\n",
      "shira:x:1003:1004:Shira Friedman,,,:/home/shira:/bin/bash\r\n",
      "atara:x:1004:1005:Atara Lerner-Friedman,,,:/home/atara:/bin/bash\r\n",
      "shikma:x:1005:1006:Shikma Lerner-Friedman,,,:/home/shikma:/bin/bash\r\n",
      "amotz:x:1006:1007:Amotz Lerner-Friedman,,,:/home/amotz:/bin/bash\r\n",
      "mysql:x:114:125:MySQL Server,,,:/nonexistent:/bin/false\r\n",
      "clamav:x:115:126::/var/lib/clamav:/bin/false\r\n",
      "amavis:x:116:127:AMaViS system user,,,:/var/lib/amavis:/bin/sh\r\n",
      "opendkim:x:117:128::/var/run/opendkim:/bin/false\r\n",
      "gitlab-redis:x:999:1009::/var/opt/gitlab/redis:/bin/nologin\r\n",
      "gitlab-psql:x:998:1010::/var/opt/gitlab/postgresql:/bin/sh\r\n",
      "git:x:1007:1008:GitLab,,,:/home/git:/bin/bash\r\n",
      "opendmarc:x:118:129::/var/run/opendmarc:/bin/false\r\n",
      "dkim-milter-python:x:119:130::/var/run/dkim-milter-python:/bin/false\r\n",
      "deploy:x:1008:1011:Deploy,,,:/home/deploy:/bin/bash\r\n",
      "redis:x:112:123:redis server,,,:/var/lib/redis:/bin/false\r\n"
     ]
    }
   ],
   "source": [
    "!cat linux-etc-passwd.txt"
   ]
  },
  {
   "cell_type": "code",
   "execution_count": 79,
   "id": "e5b3ab12",
   "metadata": {},
   "outputs": [
    {
     "data": {
      "text/plain": [
       "['root:x:0:0:root:/root:/bin/bash\\n',\n",
       " 'daemon:x:1:1:daemon:/usr/sbin:/usr/sbin/nologin\\n',\n",
       " 'bin:x:2:2:bin:/bin:/usr/sbin/nologin\\n',\n",
       " 'sys:x:3:3:sys:/dev:/usr/sbin/nologin\\n',\n",
       " 'sync:x:4:65534:sync:/bin:/bin/sync\\n',\n",
       " 'games:x:5:60:games:/usr/games:/usr/sbin/nologin\\n',\n",
       " 'man:x:6:12:man:/var/cache/man:/usr/sbin/nologin\\n',\n",
       " 'lp:x:7:7:lp:/var/spool/lpd:/usr/sbin/nologin\\n',\n",
       " 'mail:x:8:8:mail:/var/mail:/usr/sbin/nologin\\n',\n",
       " 'news:x:9:9:news:/var/spool/news:/usr/sbin/nologin\\n',\n",
       " 'uucp:x:10:10:uucp:/var/spool/uucp:/usr/sbin/nologin\\n',\n",
       " 'proxy:x:13:13:proxy:/bin:/usr/sbin/nologin\\n',\n",
       " 'www-data:x:33:33:www-data:/var/www:/usr/sbin/nologin\\n',\n",
       " 'backup:x:34:34:backup:/var/backups:/usr/sbin/nologin\\n',\n",
       " 'list:x:38:38:Mailing List Manager:/var/list:/usr/sbin/nologin\\n',\n",
       " 'irc:x:39:39:ircd:/var/run/ircd:/usr/sbin/nologin\\n',\n",
       " 'gnats:x:41:41:Gnats Bug-Reporting System (admin):/var/lib/gnats:/usr/sbin/nologin\\n',\n",
       " 'nobody:x:65534:65534:nobody:/nonexistent:/usr/sbin/nologin\\n',\n",
       " 'syslog:x:101:104::/home/syslog:/bin/false\\n',\n",
       " 'messagebus:x:102:106::/var/run/dbus:/bin/false\\n',\n",
       " 'landscape:x:103:109::/var/lib/landscape:/bin/false\\n',\n",
       " 'jci:x:955:955::/home/jci:/bin/bash\\n',\n",
       " 'sshd:x:104:65534::/var/run/sshd:/usr/sbin/nologin\\n',\n",
       " 'user:x:1000:1000:user,,,:/home/user:/bin/bash\\n',\n",
       " 'reuven:x:1001:1001:Reuven M. Lerner,,,:/home/reuven:/bin/bash\\n',\n",
       " 'postfix:x:105:113::/var/spool/postfix:/bin/false\\n',\n",
       " 'colord:x:106:116:colord colour management daemon,,,:/var/lib/colord:/bin/false\\n',\n",
       " 'postgres:x:107:117:PostgreSQL administrator,,,:/var/lib/postgresql:/bin/bash\\n',\n",
       " 'dovecot:x:108:119:Dovecot mail server,,,:/usr/lib/dovecot:/bin/false\\n',\n",
       " 'dovenull:x:109:120:Dovecot login user,,,:/nonexistent:/bin/false\\n',\n",
       " 'postgrey:x:110:121::/var/lib/postgrey:/bin/false\\n',\n",
       " 'debian-spamd:x:111:122::/var/lib/spamassassin:/bin/sh\\n',\n",
       " 'memcache:x:113:124:Memcached,,,:/nonexistent:/bin/false\\n',\n",
       " 'genadi:x:1002:1003:Genadi Reznichenko,,,:/home/genadi:/bin/bash\\n',\n",
       " 'shira:x:1003:1004:Shira Friedman,,,:/home/shira:/bin/bash\\n',\n",
       " 'atara:x:1004:1005:Atara Lerner-Friedman,,,:/home/atara:/bin/bash\\n',\n",
       " 'shikma:x:1005:1006:Shikma Lerner-Friedman,,,:/home/shikma:/bin/bash\\n',\n",
       " 'amotz:x:1006:1007:Amotz Lerner-Friedman,,,:/home/amotz:/bin/bash\\n',\n",
       " 'mysql:x:114:125:MySQL Server,,,:/nonexistent:/bin/false\\n',\n",
       " 'clamav:x:115:126::/var/lib/clamav:/bin/false\\n',\n",
       " 'amavis:x:116:127:AMaViS system user,,,:/var/lib/amavis:/bin/sh\\n',\n",
       " 'opendkim:x:117:128::/var/run/opendkim:/bin/false\\n',\n",
       " 'gitlab-redis:x:999:1009::/var/opt/gitlab/redis:/bin/nologin\\n',\n",
       " 'gitlab-psql:x:998:1010::/var/opt/gitlab/postgresql:/bin/sh\\n',\n",
       " 'git:x:1007:1008:GitLab,,,:/home/git:/bin/bash\\n',\n",
       " 'opendmarc:x:118:129::/var/run/opendmarc:/bin/false\\n',\n",
       " 'dkim-milter-python:x:119:130::/var/run/dkim-milter-python:/bin/false\\n',\n",
       " 'deploy:x:1008:1011:Deploy,,,:/home/deploy:/bin/bash\\n',\n",
       " 'redis:x:112:123:redis server,,,:/var/lib/redis:/bin/false\\n']"
      ]
     },
     "execution_count": 79,
     "metadata": {},
     "output_type": "execute_result"
    }
   ],
   "source": [
    "[one_line\n",
    " for one_line in open('linux-etc-passwd.txt')\n",
    " if not one_line.startswith('#') \n",
    " if not one_line.startswith('\\n')]"
   ]
  },
  {
   "cell_type": "code",
   "execution_count": 84,
   "id": "57f571b9",
   "metadata": {},
   "outputs": [
    {
     "data": {
      "text/plain": [
       "{'/bin/bash',\n",
       " '/bin/false',\n",
       " '/bin/nologin',\n",
       " '/bin/sh',\n",
       " '/bin/sync',\n",
       " '/usr/sbin/nologin'}"
      ]
     },
     "execution_count": 84,
     "metadata": {},
     "output_type": "execute_result"
    }
   ],
   "source": [
    "{one_line.split(':')[-1].strip()\n",
    " for one_line in open('linux-etc-passwd.txt')\n",
    " if not one_line.startswith(('#', '\\n'))}"
   ]
  },
  {
   "cell_type": "markdown",
   "id": "cc1f153a",
   "metadata": {},
   "source": [
    "# Next up\n",
    "\n",
    "1. Comprehensions\n",
    "    1. Dict comprehension\n",
    "    2. Comprehensions and `Counter`\n",
    "    3. Nested comprehensions\n",
    "2. Sorting and functions as arguments\n",
    "    - `lambda`\n",
    "\n",
    "Resume at :25"
   ]
  },
  {
   "cell_type": "code",
   "execution_count": 86,
   "id": "d5ac46bd",
   "metadata": {},
   "outputs": [],
   "source": [
    "# list comprehension -- create 1 new list\n",
    "# set comprehension -- create 1 new set\n",
    "\n",
    "# dict comprehension -- create 1 new dict"
   ]
  },
  {
   "cell_type": "code",
   "execution_count": 88,
   "id": "6beed144",
   "metadata": {},
   "outputs": [
    {
     "data": {
      "text/plain": [
       "{'this': 4, 'is': 2, 'a': 1, 'bunch': 5, 'of': 2, 'words': 5}"
      ]
     },
     "execution_count": 88,
     "metadata": {},
     "output_type": "execute_result"
    }
   ],
   "source": [
    "words = 'this is a bunch of words'.split()\n",
    "\n",
    "# dict with words as keys, and their lengths as values\n",
    "\n",
    "{\n",
    "  one_word : len(one_word)\n",
    "  for one_word in words  \n",
    "}"
   ]
  },
  {
   "cell_type": "code",
   "execution_count": 89,
   "id": "4a4a30f7",
   "metadata": {},
   "outputs": [
    {
     "data": {
      "text/plain": [
       "{1: 'a', 2: 'b', 3: 'c'}"
      ]
     },
     "execution_count": 89,
     "metadata": {},
     "output_type": "execute_result"
    }
   ],
   "source": [
    "d = {'a':1, 'b':2, 'c':3}\n",
    "\n",
    "# let's switch keys and values in d\n",
    "\n",
    "{\n",
    "    value : key\n",
    "    for key, value in d.items()\n",
    "}"
   ]
  },
  {
   "cell_type": "code",
   "execution_count": 90,
   "id": "24b8452e",
   "metadata": {},
   "outputs": [
    {
     "data": {
      "text/plain": [
       "{1: 'a', 2: 'b', 3: 'd'}"
      ]
     },
     "execution_count": 90,
     "metadata": {},
     "output_type": "execute_result"
    }
   ],
   "source": [
    "d = {'a':1, 'b':2, 'c':3, 'd':3}\n",
    "\n",
    "{\n",
    "    value : key\n",
    "    for key, value in d.items()\n",
    "}"
   ]
  },
  {
   "cell_type": "code",
   "execution_count": 91,
   "id": "0d3c6bf3",
   "metadata": {},
   "outputs": [
    {
     "name": "stdout",
     "output_type": "stream",
     "text": [
      "# This is a comment\r\n",
      "# You should ignore me\r\n",
      "root:x:0:0:root:/root:/bin/bash\r\n",
      "daemon:x:1:1:daemon:/usr/sbin:/usr/sbin/nologin\r\n",
      "bin:x:2:2:bin:/bin:/usr/sbin/nologin\r\n",
      "sys:x:3:3:sys:/dev:/usr/sbin/nologin\r\n",
      "sync:x:4:65534:sync:/bin:/bin/sync\r\n",
      "games:x:5:60:games:/usr/games:/usr/sbin/nologin\r\n",
      "man:x:6:12:man:/var/cache/man:/usr/sbin/nologin\r\n",
      "lp:x:7:7:lp:/var/spool/lpd:/usr/sbin/nologin\r\n"
     ]
    }
   ],
   "source": [
    "!head linux-etc-passwd.txt"
   ]
  },
  {
   "cell_type": "markdown",
   "id": "2bc7e899",
   "metadata": {},
   "source": [
    "# Exercise: Usernames and shells\n",
    "\n",
    "Using a dict comprehension and `linux-etc-passwd.txt`, create a dict in which the keys are the usernames and the values are the shells for each user in the file.\n",
    "\n",
    "Usern"
   ]
  },
  {
   "cell_type": "code",
   "execution_count": null,
   "id": "812172f2",
   "metadata": {},
   "outputs": [],
   "source": []
  }
 ],
 "metadata": {
  "kernelspec": {
   "display_name": "Python 3 (ipykernel)",
   "language": "python",
   "name": "python3"
  },
  "language_info": {
   "codemirror_mode": {
    "name": "ipython",
    "version": 3
   },
   "file_extension": ".py",
   "mimetype": "text/x-python",
   "name": "python",
   "nbconvert_exporter": "python",
   "pygments_lexer": "ipython3",
   "version": "3.10.4"
  }
 },
 "nbformat": 4,
 "nbformat_minor": 5
}
