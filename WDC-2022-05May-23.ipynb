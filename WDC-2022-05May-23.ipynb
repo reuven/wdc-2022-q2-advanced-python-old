{
 "cells": [
  {
   "cell_type": "markdown",
   "id": "e54cc98e",
   "metadata": {},
   "source": [
    "# Agenda\n",
    "\n",
    "1. Comprehensions\n",
    "    - List comprehensions\n",
    "    - Set comprehensions\n",
    "    - Dict comprehensions\n",
    "    - Nested comprehensions\n",
    "2. Functions as arguments\n",
    "3. `lambda`\n",
    "4. Nested functions and the `operator` module"
   ]
  },
  {
   "cell_type": "markdown",
   "id": "2ae9f40c",
   "metadata": {},
   "source": [
    "# Parameter types\n",
    "\n",
    "1. Positional-only arguments, before a `/`\n",
    "2. Mandatory parameters (positional or keyword)\n",
    "3. Optional parameters, with defaults (positional or keyword)\n",
    "4. `*args`, a tuple with all leftover positional arguments (or `*` by itself)\n",
    "5. Mandatory keyword-only parameters\n",
    "6. Optional keyword-only parameters (with defaults)\n",
    "7. `**kwargs`, a dict with all leftover keyword arguments"
   ]
  },
  {
   "cell_type": "code",
   "execution_count": 3,
   "id": "60af2425",
   "metadata": {},
   "outputs": [],
   "source": [
    "def myfunc(a, b, *, c, d=100):\n",
    "    return f'{a=}, {b=}, {c=}, {d=}'"
   ]
  },
  {
   "cell_type": "code",
   "execution_count": 4,
   "id": "1c5a4779",
   "metadata": {},
   "outputs": [
    {
     "ename": "TypeError",
     "evalue": "myfunc() takes 2 positional arguments but 4 were given",
     "output_type": "error",
     "traceback": [
      "\u001b[0;31m---------------------------------------------------------------------------\u001b[0m",
      "\u001b[0;31mTypeError\u001b[0m                                 Traceback (most recent call last)",
      "\u001b[0;32m/var/folders/rr/0mnyyv811fs5vyp22gf4fxk00000gn/T/ipykernel_88535/1047076926.py\u001b[0m in \u001b[0;36m<module>\u001b[0;34m\u001b[0m\n\u001b[0;32m----> 1\u001b[0;31m \u001b[0mmyfunc\u001b[0m\u001b[0;34m(\u001b[0m\u001b[0;36m10\u001b[0m\u001b[0;34m,\u001b[0m \u001b[0;36m20\u001b[0m\u001b[0;34m,\u001b[0m \u001b[0;36m30\u001b[0m\u001b[0;34m,\u001b[0m \u001b[0;36m40\u001b[0m\u001b[0;34m)\u001b[0m\u001b[0;34m\u001b[0m\u001b[0;34m\u001b[0m\u001b[0m\n\u001b[0m",
      "\u001b[0;31mTypeError\u001b[0m: myfunc() takes 2 positional arguments but 4 were given"
     ]
    }
   ],
   "source": [
    "# parameters: a    b   c    d\n",
    "# arguments: 10    20  \n",
    "\n",
    "myfunc(10, 20, 30, 40)  # 4 positional arguments "
   ]
  },
  {
   "cell_type": "code",
   "execution_count": 6,
   "id": "23abe43b",
   "metadata": {},
   "outputs": [
    {
     "data": {
      "text/plain": [
       "'a=10, b=20, c=30, d=40'"
      ]
     },
     "execution_count": 6,
     "metadata": {},
     "output_type": "execute_result"
    }
   ],
   "source": [
    "# parameters:   a   b   c   d \n",
    "# arguments:   10  20   30  40\n",
    "\n",
    "myfunc(10, 20, c=30, d=40)"
   ]
  },
  {
   "cell_type": "code",
   "execution_count": 7,
   "id": "94aa3cfe",
   "metadata": {},
   "outputs": [
    {
     "data": {
      "text/plain": [
       "'a=10, b=20, c=40, d=30'"
      ]
     },
     "execution_count": 7,
     "metadata": {},
     "output_type": "execute_result"
    }
   ],
   "source": [
    "myfunc(10, 20, d=30, c=40)"
   ]
  },
  {
   "cell_type": "code",
   "execution_count": 8,
   "id": "2daf8baa",
   "metadata": {},
   "outputs": [
    {
     "data": {
      "text/plain": [
       "'a=10, b=20, c=30, d=100'"
      ]
     },
     "execution_count": 8,
     "metadata": {},
     "output_type": "execute_result"
    }
   ],
   "source": [
    "myfunc(10, 20, c=30)"
   ]
  },
  {
   "cell_type": "code",
   "execution_count": 9,
   "id": "45e94c45",
   "metadata": {},
   "outputs": [
    {
     "data": {
      "text/plain": [
       "'a=10, b=20, c=30, d=100'"
      ]
     },
     "execution_count": 9,
     "metadata": {},
     "output_type": "execute_result"
    }
   ],
   "source": [
    "myfunc(a=10, b=20, c=30)"
   ]
  },
  {
   "cell_type": "code",
   "execution_count": 10,
   "id": "7828e58a",
   "metadata": {},
   "outputs": [],
   "source": [
    "# / slash\n",
    "# \\ backslash"
   ]
  },
  {
   "cell_type": "code",
   "execution_count": 11,
   "id": "0db293b3",
   "metadata": {},
   "outputs": [],
   "source": [
    "def myfunc(a, /, b, *, c):\n",
    "    return f'{a=}, {b=}, {c=}'"
   ]
  },
  {
   "cell_type": "code",
   "execution_count": 12,
   "id": "c6647e3c",
   "metadata": {},
   "outputs": [
    {
     "ename": "TypeError",
     "evalue": "myfunc() takes 2 positional arguments but 3 were given",
     "output_type": "error",
     "traceback": [
      "\u001b[0;31m---------------------------------------------------------------------------\u001b[0m",
      "\u001b[0;31mTypeError\u001b[0m                                 Traceback (most recent call last)",
      "\u001b[0;32m/var/folders/rr/0mnyyv811fs5vyp22gf4fxk00000gn/T/ipykernel_88535/885864022.py\u001b[0m in \u001b[0;36m<module>\u001b[0;34m\u001b[0m\n\u001b[0;32m----> 1\u001b[0;31m \u001b[0mmyfunc\u001b[0m\u001b[0;34m(\u001b[0m\u001b[0;36m10\u001b[0m\u001b[0;34m,\u001b[0m \u001b[0;36m20\u001b[0m\u001b[0;34m,\u001b[0m \u001b[0;36m30\u001b[0m\u001b[0;34m)\u001b[0m\u001b[0;34m\u001b[0m\u001b[0;34m\u001b[0m\u001b[0m\n\u001b[0m",
      "\u001b[0;31mTypeError\u001b[0m: myfunc() takes 2 positional arguments but 3 were given"
     ]
    }
   ],
   "source": [
    "myfunc(10, 20, 30)"
   ]
  },
  {
   "cell_type": "code",
   "execution_count": 13,
   "id": "21e1c231",
   "metadata": {},
   "outputs": [
    {
     "ename": "TypeError",
     "evalue": "myfunc() got some positional-only arguments passed as keyword arguments: 'a'",
     "output_type": "error",
     "traceback": [
      "\u001b[0;31m---------------------------------------------------------------------------\u001b[0m",
      "\u001b[0;31mTypeError\u001b[0m                                 Traceback (most recent call last)",
      "\u001b[0;32m/var/folders/rr/0mnyyv811fs5vyp22gf4fxk00000gn/T/ipykernel_88535/2067321119.py\u001b[0m in \u001b[0;36m<module>\u001b[0;34m\u001b[0m\n\u001b[0;32m----> 1\u001b[0;31m \u001b[0mmyfunc\u001b[0m\u001b[0;34m(\u001b[0m\u001b[0ma\u001b[0m\u001b[0;34m=\u001b[0m\u001b[0;36m10\u001b[0m\u001b[0;34m,\u001b[0m \u001b[0mb\u001b[0m\u001b[0;34m=\u001b[0m\u001b[0;36m20\u001b[0m\u001b[0;34m,\u001b[0m \u001b[0mc\u001b[0m\u001b[0;34m=\u001b[0m\u001b[0;36m30\u001b[0m\u001b[0;34m)\u001b[0m\u001b[0;34m\u001b[0m\u001b[0;34m\u001b[0m\u001b[0m\n\u001b[0m",
      "\u001b[0;31mTypeError\u001b[0m: myfunc() got some positional-only arguments passed as keyword arguments: 'a'"
     ]
    }
   ],
   "source": [
    "myfunc(a=10, b=20, c=30)"
   ]
  },
  {
   "cell_type": "code",
   "execution_count": 15,
   "id": "ff4c7317",
   "metadata": {},
   "outputs": [
    {
     "ename": "SyntaxError",
     "evalue": "invalid syntax (3892846933.py, line 1)",
     "output_type": "error",
     "traceback": [
      "\u001b[0;36m  File \u001b[0;32m\"/var/folders/rr/0mnyyv811fs5vyp22gf4fxk00000gn/T/ipykernel_88535/3892846933.py\"\u001b[0;36m, line \u001b[0;32m1\u001b[0m\n\u001b[0;31m    def myfunc(a, *, b, /, c):\u001b[0m\n\u001b[0m                        ^\u001b[0m\n\u001b[0;31mSyntaxError\u001b[0m\u001b[0;31m:\u001b[0m invalid syntax\n"
     ]
    }
   ],
   "source": [
    "def myfunc(a, *, b, /, c):\n",
    "    pass"
   ]
  },
  {
   "cell_type": "markdown",
   "id": "4d1580b9",
   "metadata": {},
   "source": [
    "# Comprehensions\n",
    "\n"
   ]
  },
  {
   "cell_type": "code",
   "execution_count": 16,
   "id": "3bb94039",
   "metadata": {},
   "outputs": [
    {
     "data": {
      "text/plain": [
       "[0, 1, 4, 9, 16, 25, 36, 49, 64, 81]"
      ]
     },
     "execution_count": 16,
     "metadata": {},
     "output_type": "execute_result"
    }
   ],
   "source": [
    "numbers = list(range(10))\n",
    "\n",
    "# we want a list of these numbers to the 2nd power (** 2)\n",
    "\n",
    "output = []\n",
    "\n",
    "for one_number in numbers:\n",
    "    output.append(one_number ** 2)\n",
    "    \n",
    "output"
   ]
  },
  {
   "cell_type": "code",
   "execution_count": 17,
   "id": "605412b2",
   "metadata": {},
   "outputs": [
    {
     "data": {
      "text/plain": [
       "[0, 1, 4, 9, 16, 25, 36, 49, 64, 81]"
      ]
     },
     "execution_count": 17,
     "metadata": {},
     "output_type": "execute_result"
    }
   ],
   "source": [
    "# list comprehension\n",
    "[one_number ** 2 \n",
    " for one_number in numbers]"
   ]
  },
  {
   "cell_type": "code",
   "execution_count": 18,
   "id": "63dd8091",
   "metadata": {},
   "outputs": [
    {
     "name": "stdout",
     "output_type": "stream",
     "text": [
      "0\n",
      "1\n",
      "4\n",
      "9\n",
      "16\n",
      "25\n",
      "36\n",
      "49\n",
      "64\n",
      "81\n"
     ]
    },
    {
     "data": {
      "text/plain": [
       "[None, None, None, None, None, None, None, None, None, None]"
      ]
     },
     "execution_count": 18,
     "metadata": {},
     "output_type": "execute_result"
    }
   ],
   "source": [
    "[print(one_number**2)\n",
    " for one_number in numbers]"
   ]
  },
  {
   "cell_type": "code",
   "execution_count": 20,
   "id": "78399958",
   "metadata": {},
   "outputs": [
    {
     "name": "stdout",
     "output_type": "stream",
     "text": [
      "\tNow calculating 0 * 2\n",
      "\tNow calculating 1 * 2\n",
      "\tNow calculating 2 * 2\n",
      "\tNow calculating 3 * 2\n",
      "\tNow calculating 4 * 2\n",
      "\tNow calculating 5 * 2\n",
      "\tNow calculating 6 * 2\n",
      "\tNow calculating 7 * 2\n",
      "\tNow calculating 8 * 2\n",
      "\tNow calculating 9 * 2\n"
     ]
    },
    {
     "data": {
      "text/plain": [
       "[0, 2, 4, 6, 8, 10, 12, 14, 16, 18]"
      ]
     },
     "execution_count": 20,
     "metadata": {},
     "output_type": "execute_result"
    }
   ],
   "source": [
    "def times_2(x):\n",
    "    print(f'\\tNow calculating {x} * 2')\n",
    "    return x * 2\n",
    "\n",
    "\n",
    "[times_2(one_number)         # SELECT\n",
    "for one_number in numbers]   # FROM "
   ]
  },
  {
   "cell_type": "code",
   "execution_count": null,
   "id": "84ff2651",
   "metadata": {},
   "outputs": [],
   "source": []
  }
 ],
 "metadata": {
  "kernelspec": {
   "display_name": "Python 3 (ipykernel)",
   "language": "python",
   "name": "python3"
  },
  "language_info": {
   "codemirror_mode": {
    "name": "ipython",
    "version": 3
   },
   "file_extension": ".py",
   "mimetype": "text/x-python",
   "name": "python",
   "nbconvert_exporter": "python",
   "pygments_lexer": "ipython3",
   "version": "3.10.4"
  }
 },
 "nbformat": 4,
 "nbformat_minor": 5
}
