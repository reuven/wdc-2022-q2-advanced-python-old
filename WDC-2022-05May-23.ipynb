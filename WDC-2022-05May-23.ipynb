{
 "cells": [
  {
   "cell_type": "markdown",
   "id": "e54cc98e",
   "metadata": {},
   "source": [
    "# Agenda\n",
    "\n",
    "1. Comprehensions\n",
    "    - List comprehensions\n",
    "    - Set comprehensions\n",
    "    - Dict comprehensions\n",
    "    - Nested comprehensions\n",
    "2. Functions as arguments\n",
    "3. `lambda`\n",
    "4. Nested functions and the `operator` module"
   ]
  },
  {
   "cell_type": "markdown",
   "id": "2ae9f40c",
   "metadata": {},
   "source": [
    "# Parameter types\n",
    "\n",
    "1. Positional-only arguments, before a `/`\n",
    "2. Mandatory parameters (positional or keyword)\n",
    "3. Optional parameters, with defaults (positional or keyword)\n",
    "4. `*args`, a tuple with all leftover positional arguments (or `*` by itself)\n",
    "5. Mandatory keyword-only parameters\n",
    "6. Optional keyword-only parameters (with defaults)\n",
    "7. `**kwargs`, a dict with all leftover keyword arguments"
   ]
  },
  {
   "cell_type": "code",
   "execution_count": 3,
   "id": "86d15336",
   "metadata": {},
   "outputs": [],
   "source": [
    "def myfunc(a, b, *, c, d=100):\n",
    "    return f'{a=}, {b=}, {c=}, {d=}'"
   ]
  },
  {
   "cell_type": "code",
   "execution_count": 4,
   "id": "86b50445",
   "metadata": {},
   "outputs": [
    {
     "ename": "TypeError",
     "evalue": "myfunc() takes 2 positional arguments but 4 were given",
     "output_type": "error",
     "traceback": [
      "\u001b[0;31m---------------------------------------------------------------------------\u001b[0m",
      "\u001b[0;31mTypeError\u001b[0m                                 Traceback (most recent call last)",
      "\u001b[0;32m/var/folders/rr/0mnyyv811fs5vyp22gf4fxk00000gn/T/ipykernel_88535/1047076926.py\u001b[0m in \u001b[0;36m<module>\u001b[0;34m\u001b[0m\n\u001b[0;32m----> 1\u001b[0;31m \u001b[0mmyfunc\u001b[0m\u001b[0;34m(\u001b[0m\u001b[0;36m10\u001b[0m\u001b[0;34m,\u001b[0m \u001b[0;36m20\u001b[0m\u001b[0;34m,\u001b[0m \u001b[0;36m30\u001b[0m\u001b[0;34m,\u001b[0m \u001b[0;36m40\u001b[0m\u001b[0;34m)\u001b[0m\u001b[0;34m\u001b[0m\u001b[0;34m\u001b[0m\u001b[0m\n\u001b[0m",
      "\u001b[0;31mTypeError\u001b[0m: myfunc() takes 2 positional arguments but 4 were given"
     ]
    }
   ],
   "source": [
    "# parameters: a    b   c    d\n",
    "# arguments: 10    20  \n",
    "\n",
    "myfunc(10, 20, 30, 40)  # 4 positional arguments "
   ]
  },
  {
   "cell_type": "code",
   "execution_count": 6,
   "id": "8b29200d",
   "metadata": {},
   "outputs": [
    {
     "data": {
      "text/plain": [
       "'a=10, b=20, c=30, d=40'"
      ]
     },
     "execution_count": 6,
     "metadata": {},
     "output_type": "execute_result"
    }
   ],
   "source": [
    "# parameters:   a   b   c   d \n",
    "# arguments:   10  20   30  40\n",
    "\n",
    "myfunc(10, 20, c=30, d=40)"
   ]
  },
  {
   "cell_type": "code",
   "execution_count": 7,
   "id": "a1dfde08",
   "metadata": {},
   "outputs": [
    {
     "data": {
      "text/plain": [
       "'a=10, b=20, c=40, d=30'"
      ]
     },
     "execution_count": 7,
     "metadata": {},
     "output_type": "execute_result"
    }
   ],
   "source": [
    "myfunc(10, 20, d=30, c=40)"
   ]
  },
  {
   "cell_type": "code",
   "execution_count": 8,
   "id": "b80ea5ec",
   "metadata": {},
   "outputs": [
    {
     "data": {
      "text/plain": [
       "'a=10, b=20, c=30, d=100'"
      ]
     },
     "execution_count": 8,
     "metadata": {},
     "output_type": "execute_result"
    }
   ],
   "source": [
    "myfunc(10, 20, c=30)"
   ]
  },
  {
   "cell_type": "code",
   "execution_count": 9,
   "id": "2abbcd38",
   "metadata": {},
   "outputs": [
    {
     "data": {
      "text/plain": [
       "'a=10, b=20, c=30, d=100'"
      ]
     },
     "execution_count": 9,
     "metadata": {},
     "output_type": "execute_result"
    }
   ],
   "source": [
    "myfunc(a=10, b=20, c=30)"
   ]
  },
  {
   "cell_type": "code",
   "execution_count": 10,
   "id": "ac30ff1b",
   "metadata": {},
   "outputs": [],
   "source": [
    "# / slash\n",
    "# \\ backslash"
   ]
  },
  {
   "cell_type": "code",
   "execution_count": 11,
   "id": "d402bfa3",
   "metadata": {},
   "outputs": [],
   "source": [
    "def myfunc(a, /, b, *, c):\n",
    "    return f'{a=}, {b=}, {c=}'"
   ]
  },
  {
   "cell_type": "code",
   "execution_count": 12,
   "id": "b2d5573b",
   "metadata": {},
   "outputs": [
    {
     "ename": "TypeError",
     "evalue": "myfunc() takes 2 positional arguments but 3 were given",
     "output_type": "error",
     "traceback": [
      "\u001b[0;31m---------------------------------------------------------------------------\u001b[0m",
      "\u001b[0;31mTypeError\u001b[0m                                 Traceback (most recent call last)",
      "\u001b[0;32m/var/folders/rr/0mnyyv811fs5vyp22gf4fxk00000gn/T/ipykernel_88535/885864022.py\u001b[0m in \u001b[0;36m<module>\u001b[0;34m\u001b[0m\n\u001b[0;32m----> 1\u001b[0;31m \u001b[0mmyfunc\u001b[0m\u001b[0;34m(\u001b[0m\u001b[0;36m10\u001b[0m\u001b[0;34m,\u001b[0m \u001b[0;36m20\u001b[0m\u001b[0;34m,\u001b[0m \u001b[0;36m30\u001b[0m\u001b[0;34m)\u001b[0m\u001b[0;34m\u001b[0m\u001b[0;34m\u001b[0m\u001b[0m\n\u001b[0m",
      "\u001b[0;31mTypeError\u001b[0m: myfunc() takes 2 positional arguments but 3 were given"
     ]
    }
   ],
   "source": [
    "myfunc(10, 20, 30)"
   ]
  },
  {
   "cell_type": "code",
   "execution_count": 13,
   "id": "008102ac",
   "metadata": {},
   "outputs": [
    {
     "ename": "TypeError",
     "evalue": "myfunc() got some positional-only arguments passed as keyword arguments: 'a'",
     "output_type": "error",
     "traceback": [
      "\u001b[0;31m---------------------------------------------------------------------------\u001b[0m",
      "\u001b[0;31mTypeError\u001b[0m                                 Traceback (most recent call last)",
      "\u001b[0;32m/var/folders/rr/0mnyyv811fs5vyp22gf4fxk00000gn/T/ipykernel_88535/2067321119.py\u001b[0m in \u001b[0;36m<module>\u001b[0;34m\u001b[0m\n\u001b[0;32m----> 1\u001b[0;31m \u001b[0mmyfunc\u001b[0m\u001b[0;34m(\u001b[0m\u001b[0ma\u001b[0m\u001b[0;34m=\u001b[0m\u001b[0;36m10\u001b[0m\u001b[0;34m,\u001b[0m \u001b[0mb\u001b[0m\u001b[0;34m=\u001b[0m\u001b[0;36m20\u001b[0m\u001b[0;34m,\u001b[0m \u001b[0mc\u001b[0m\u001b[0;34m=\u001b[0m\u001b[0;36m30\u001b[0m\u001b[0;34m)\u001b[0m\u001b[0;34m\u001b[0m\u001b[0;34m\u001b[0m\u001b[0m\n\u001b[0m",
      "\u001b[0;31mTypeError\u001b[0m: myfunc() got some positional-only arguments passed as keyword arguments: 'a'"
     ]
    }
   ],
   "source": [
    "myfunc(a=10, b=20, c=30)"
   ]
  },
  {
   "cell_type": "code",
   "execution_count": 15,
   "id": "5a29009a",
   "metadata": {},
   "outputs": [
    {
     "ename": "SyntaxError",
     "evalue": "invalid syntax (3892846933.py, line 1)",
     "output_type": "error",
     "traceback": [
      "\u001b[0;36m  File \u001b[0;32m\"/var/folders/rr/0mnyyv811fs5vyp22gf4fxk00000gn/T/ipykernel_88535/3892846933.py\"\u001b[0;36m, line \u001b[0;32m1\u001b[0m\n\u001b[0;31m    def myfunc(a, *, b, /, c):\u001b[0m\n\u001b[0m                        ^\u001b[0m\n\u001b[0;31mSyntaxError\u001b[0m\u001b[0;31m:\u001b[0m invalid syntax\n"
     ]
    }
   ],
   "source": [
    "def myfunc(a, *, b, /, c):\n",
    "    pass"
   ]
  },
  {
   "cell_type": "markdown",
   "id": "8e31d44d",
   "metadata": {},
   "source": [
    "# Comprehensions\n",
    "\n"
   ]
  },
  {
   "cell_type": "code",
   "execution_count": 16,
   "id": "64a1186a",
   "metadata": {},
   "outputs": [
    {
     "data": {
      "text/plain": [
       "[0, 1, 4, 9, 16, 25, 36, 49, 64, 81]"
      ]
     },
     "execution_count": 16,
     "metadata": {},
     "output_type": "execute_result"
    }
   ],
   "source": [
    "numbers = list(range(10))\n",
    "\n",
    "# we want a list of these numbers to the 2nd power (** 2)\n",
    "\n",
    "output = []\n",
    "\n",
    "for one_number in numbers:\n",
    "    output.append(one_number ** 2)\n",
    "    \n",
    "output"
   ]
  },
  {
   "cell_type": "code",
   "execution_count": 17,
   "id": "691d9d20",
   "metadata": {},
   "outputs": [
    {
     "data": {
      "text/plain": [
       "[0, 1, 4, 9, 16, 25, 36, 49, 64, 81]"
      ]
     },
     "execution_count": 17,
     "metadata": {},
     "output_type": "execute_result"
    }
   ],
   "source": [
    "# list comprehension\n",
    "[one_number ** 2 \n",
    " for one_number in numbers]"
   ]
  },
  {
   "cell_type": "code",
   "execution_count": 18,
   "id": "3c8dbc81",
   "metadata": {},
   "outputs": [
    {
     "name": "stdout",
     "output_type": "stream",
     "text": [
      "0\n",
      "1\n",
      "4\n",
      "9\n",
      "16\n",
      "25\n",
      "36\n",
      "49\n",
      "64\n",
      "81\n"
     ]
    },
    {
     "data": {
      "text/plain": [
       "[None, None, None, None, None, None, None, None, None, None]"
      ]
     },
     "execution_count": 18,
     "metadata": {},
     "output_type": "execute_result"
    }
   ],
   "source": [
    "[print(one_number**2)\n",
    " for one_number in numbers]"
   ]
  },
  {
   "cell_type": "code",
   "execution_count": 20,
   "id": "3de3e58f",
   "metadata": {},
   "outputs": [
    {
     "name": "stdout",
     "output_type": "stream",
     "text": [
      "\tNow calculating 0 * 2\n",
      "\tNow calculating 1 * 2\n",
      "\tNow calculating 2 * 2\n",
      "\tNow calculating 3 * 2\n",
      "\tNow calculating 4 * 2\n",
      "\tNow calculating 5 * 2\n",
      "\tNow calculating 6 * 2\n",
      "\tNow calculating 7 * 2\n",
      "\tNow calculating 8 * 2\n",
      "\tNow calculating 9 * 2\n"
     ]
    },
    {
     "data": {
      "text/plain": [
       "[0, 2, 4, 6, 8, 10, 12, 14, 16, 18]"
      ]
     },
     "execution_count": 20,
     "metadata": {},
     "output_type": "execute_result"
    }
   ],
   "source": [
    "def times_2(x):\n",
    "    print(f'\\tNow calculating {x} * 2')\n",
    "    return x * 2\n",
    "\n",
    "\n",
    "[times_2(one_number)         # SELECT\n",
    "for one_number in numbers]   # FROM "
   ]
  },
  {
   "cell_type": "code",
   "execution_count": 21,
   "id": "5ac66bda",
   "metadata": {},
   "outputs": [
    {
     "data": {
      "text/plain": [
       "['even', 'odd', 'even', 'odd', 'even', 'odd', 'even', 'odd', 'even', 'odd']"
      ]
     },
     "execution_count": 21,
     "metadata": {},
     "output_type": "execute_result"
    }
   ],
   "source": [
    "# don't use this!\n",
    "['odd' if one_number % 2 else 'even'\n",
    " for one_number in numbers    \n",
    "]"
   ]
  },
  {
   "cell_type": "markdown",
   "id": "459d952c",
   "metadata": {},
   "source": [
    "# Exercises: Comprehensions\n",
    "\n",
    "1. Ask the user to enter a string with numbers, separated by spaces (`'10 20 30 40'`).  Add all of these numbers together.\n",
    "2. Ask the user to enter a sentence.  Calculate how many non-whitespace characters are in the sentence.\n",
    "3. Ask the user to enter a sentence.  Return a new string, based on the user's sentence, in which every word starts with a capital letter.  (The result should be the same as running `str.title`, but without actually running it.)"
   ]
  },
  {
   "cell_type": "code",
   "execution_count": 22,
   "id": "16087aba",
   "metadata": {},
   "outputs": [
    {
     "name": "stdout",
     "output_type": "stream",
     "text": [
      "Enter numbers: 10 20 30 40\n"
     ]
    }
   ],
   "source": [
    "s = input('Enter numbers: ')\n",
    "\n"
   ]
  },
  {
   "cell_type": "code",
   "execution_count": 27,
   "id": "441f473e",
   "metadata": {},
   "outputs": [
    {
     "data": {
      "text/plain": [
       "100"
      ]
     },
     "execution_count": 27,
     "metadata": {},
     "output_type": "execute_result"
    }
   ],
   "source": [
    "sum([int(one_number)\n",
    "     for one_number in s.split()])"
   ]
  },
  {
   "cell_type": "code",
   "execution_count": 28,
   "id": "245846f7",
   "metadata": {},
   "outputs": [
    {
     "name": "stdout",
     "output_type": "stream",
     "text": [
      "Enter a sentence: this is a test sentence\n"
     ]
    }
   ],
   "source": [
    "s = input('Enter a sentence: ').strip()"
   ]
  },
  {
   "cell_type": "code",
   "execution_count": 29,
   "id": "dca76f09",
   "metadata": {},
   "outputs": [
    {
     "data": {
      "text/plain": [
       "23"
      ]
     },
     "execution_count": 29,
     "metadata": {},
     "output_type": "execute_result"
    }
   ],
   "source": [
    "len(s)"
   ]
  },
  {
   "cell_type": "code",
   "execution_count": 30,
   "id": "d8ccb8e4",
   "metadata": {},
   "outputs": [
    {
     "data": {
      "text/plain": [
       "19"
      ]
     },
     "execution_count": 30,
     "metadata": {},
     "output_type": "execute_result"
    }
   ],
   "source": [
    "len(s) - s.count(' ')"
   ]
  },
  {
   "cell_type": "code",
   "execution_count": 32,
   "id": "41b33d82",
   "metadata": {},
   "outputs": [
    {
     "data": {
      "text/plain": [
       "19"
      ]
     },
     "execution_count": 32,
     "metadata": {},
     "output_type": "execute_result"
    }
   ],
   "source": [
    "sum([len(one_word)\n",
    " for one_word in s.split()])"
   ]
  },
  {
   "cell_type": "code",
   "execution_count": 33,
   "id": "b70a1b37",
   "metadata": {},
   "outputs": [
    {
     "data": {
      "text/plain": [
       "'this is a test sentence'"
      ]
     },
     "execution_count": 33,
     "metadata": {},
     "output_type": "execute_result"
    }
   ],
   "source": [
    "s"
   ]
  },
  {
   "cell_type": "code",
   "execution_count": 34,
   "id": "6d19c2c5",
   "metadata": {},
   "outputs": [
    {
     "data": {
      "text/plain": [
       "'This Is A Test Sentence'"
      ]
     },
     "execution_count": 34,
     "metadata": {},
     "output_type": "execute_result"
    }
   ],
   "source": [
    "s.title()"
   ]
  },
  {
   "cell_type": "code",
   "execution_count": 39,
   "id": "add5ecbd",
   "metadata": {},
   "outputs": [
    {
     "data": {
      "text/plain": [
       "'This Is A Test Sentence'"
      ]
     },
     "execution_count": 39,
     "metadata": {},
     "output_type": "execute_result"
    }
   ],
   "source": [
    "' '.join([one_word.capitalize()\n",
    " for one_word in s.split()])"
   ]
  },
  {
   "cell_type": "code",
   "execution_count": 40,
   "id": "b79b3e14",
   "metadata": {},
   "outputs": [],
   "source": [
    "def sum_string_numbers(s):\n",
    "    return sum([int(one_number)\n",
    "                 for one_number in s.split()])"
   ]
  },
  {
   "cell_type": "code",
   "execution_count": 41,
   "id": "75c67cec",
   "metadata": {},
   "outputs": [
    {
     "data": {
      "text/plain": [
       "60"
      ]
     },
     "execution_count": 41,
     "metadata": {},
     "output_type": "execute_result"
    }
   ],
   "source": [
    "sum_string_numbers('10 20 30')"
   ]
  },
  {
   "cell_type": "code",
   "execution_count": 42,
   "id": "a65bc176",
   "metadata": {},
   "outputs": [
    {
     "name": "stdout",
     "output_type": "stream",
     "text": [
      "  2           0 LOAD_GLOBAL              0 (sum)\n",
      "              2 LOAD_CONST               1 (<code object <listcomp> at 0x10f55bb50, file \"/var/folders/rr/0mnyyv811fs5vyp22gf4fxk00000gn/T/ipykernel_88535/998994435.py\", line 2>)\n",
      "              4 LOAD_CONST               2 ('sum_string_numbers.<locals>.<listcomp>')\n",
      "              6 MAKE_FUNCTION            0\n",
      "\n",
      "  3           8 LOAD_FAST                0 (s)\n",
      "             10 LOAD_METHOD              1 (split)\n",
      "             12 CALL_METHOD              0\n",
      "\n",
      "  2          14 GET_ITER\n",
      "             16 CALL_FUNCTION            1\n",
      "             18 CALL_FUNCTION            1\n",
      "             20 RETURN_VALUE\n",
      "\n",
      "Disassembly of <code object <listcomp> at 0x10f55bb50, file \"/var/folders/rr/0mnyyv811fs5vyp22gf4fxk00000gn/T/ipykernel_88535/998994435.py\", line 2>:\n",
      "  2           0 BUILD_LIST               0\n",
      "              2 LOAD_FAST                0 (.0)\n",
      "        >>    4 FOR_ITER                 6 (to 18)\n",
      "\n",
      "  3           6 STORE_FAST               1 (one_number)\n",
      "\n",
      "  2           8 LOAD_GLOBAL              0 (int)\n",
      "             10 LOAD_FAST                1 (one_number)\n",
      "             12 CALL_FUNCTION            1\n",
      "             14 LIST_APPEND              2\n",
      "             16 JUMP_ABSOLUTE            2 (to 4)\n",
      "        >>   18 RETURN_VALUE\n"
     ]
    }
   ],
   "source": [
    "import dis\n",
    "dis.dis(sum_string_numbers)"
   ]
  },
  {
   "cell_type": "code",
   "execution_count": 46,
   "id": "7cf21bdb",
   "metadata": {},
   "outputs": [
    {
     "data": {
      "text/plain": [
       "['nobody',\n",
       " 'root',\n",
       " 'daemon',\n",
       " '_uucp',\n",
       " '_taskgated',\n",
       " '_networkd',\n",
       " '_installassistant',\n",
       " '_lp',\n",
       " '_postfix',\n",
       " '_scsd',\n",
       " '_ces',\n",
       " '_appstore',\n",
       " '_mcxalr',\n",
       " '_appleevents',\n",
       " '_geod',\n",
       " '_devdocs',\n",
       " '_sandbox',\n",
       " '_mdnsresponder',\n",
       " '_ard',\n",
       " '_www',\n",
       " '_eppc',\n",
       " '_cvs',\n",
       " '_svn',\n",
       " '_mysql',\n",
       " '_sshd',\n",
       " '_qtss',\n",
       " '_cyrus',\n",
       " '_mailman',\n",
       " '_appserver',\n",
       " '_clamav',\n",
       " '_amavisd',\n",
       " '_jabber',\n",
       " '_appowner',\n",
       " '_windowserver',\n",
       " '_spotlight',\n",
       " '_tokend',\n",
       " '_securityagent',\n",
       " '_calendar',\n",
       " '_teamsserver',\n",
       " '_update_sharing',\n",
       " '_installer',\n",
       " '_atsserver',\n",
       " '_ftp',\n",
       " '_unknown',\n",
       " '_softwareupdate',\n",
       " '_coreaudiod',\n",
       " '_screensaver',\n",
       " '_locationd',\n",
       " '_trustevaluationagent',\n",
       " '_timezone',\n",
       " '_lda',\n",
       " '_cvmsroot',\n",
       " '_usbmuxd',\n",
       " '_dovecot',\n",
       " '_dpaudio',\n",
       " '_postgres',\n",
       " '_krbtgt',\n",
       " '_kadmin_admin',\n",
       " '_kadmin_changepw',\n",
       " '_devicemgr',\n",
       " '_webauthserver',\n",
       " '_netbios',\n",
       " '_warmd',\n",
       " '_dovenull',\n",
       " '_netstatistics',\n",
       " '_avbdeviced',\n",
       " '_krb_krbtgt',\n",
       " '_krb_kadmin',\n",
       " '_krb_changepw',\n",
       " '_krb_kerberos',\n",
       " '_krb_anonymous',\n",
       " '_assetcache',\n",
       " '_coremediaiod',\n",
       " '_launchservicesd',\n",
       " '_iconservices',\n",
       " '_distnote',\n",
       " '_nsurlsessiond',\n",
       " '_displaypolicyd',\n",
       " '_astris',\n",
       " '_krbfast',\n",
       " '_gamecontrollerd',\n",
       " '_mbsetupuser',\n",
       " '_ondemand',\n",
       " '_xserverdocs',\n",
       " '_wwwproxy',\n",
       " '_mobileasset',\n",
       " '_findmydevice',\n",
       " '_datadetectors',\n",
       " '_captiveagent',\n",
       " '_ctkd',\n",
       " '_applepay',\n",
       " '_hidd',\n",
       " '_cmiodalassistants',\n",
       " '_analyticsd',\n",
       " '_fpsd',\n",
       " '_timed',\n",
       " '_nearbyd',\n",
       " '_reportmemoryexception',\n",
       " '_driverkit',\n",
       " '_diskimagesiod',\n",
       " '_logd',\n",
       " '_appinstalld',\n",
       " '_installcoordinationd',\n",
       " '_demod',\n",
       " '_rmd',\n",
       " '_accessoryupdater',\n",
       " '_knowledgegraphd',\n",
       " '_coreml',\n",
       " '_sntpd',\n",
       " '_trustd',\n",
       " '_darwindaemon',\n",
       " '_notification_proxy',\n",
       " '_oahd']"
      ]
     },
     "execution_count": 46,
     "metadata": {},
     "output_type": "execute_result"
    }
   ],
   "source": [
    "[one_line.split(':')[0]               # expression -- SELECT\n",
    " for one_line in open('/etc/passwd')  # iteration  -- FROM\n",
    " if not one_line.startswith('#')]     # condition  -- WHERE"
   ]
  },
  {
   "cell_type": "code",
   "execution_count": 48,
   "id": "f1f755ff",
   "metadata": {},
   "outputs": [
    {
     "name": "stdout",
     "output_type": "stream",
     "text": [
      "WDC-2022-05May-17.html\t     config.txt\t\t   output.txt\r\n",
      "WDC-2022-05May-17.ipynb      linux-etc-passwd.txt  python-workout-cover.png\r\n",
      "WDC-2022-05May-19.html\t     mini-access-log.txt   shoe-data.txt\r\n",
      "WDC-2022-05May-19.ipynb      movies.dat\t\t   taxi.csv\r\n",
      "WDC-2022-05May-23.ipynb      nums.txt\t\t   wdc-2022-05May-17.zip\r\n",
      "advanced-exercise-files.zip  outfile.txt\t   wdc-2022-05May-19.zip\r\n"
     ]
    }
   ],
   "source": [
    "!ls"
   ]
  },
  {
   "cell_type": "code",
   "execution_count": 49,
   "id": "fe044f24",
   "metadata": {},
   "outputs": [
    {
     "name": "stdout",
     "output_type": "stream",
     "text": [
      "5\r\n",
      "\t10     \r\n",
      "\t20\r\n",
      "  \t3\r\n",
      "\t\t   \t20        \r\n",
      "\r\n",
      " 25\r\n"
     ]
    }
   ],
   "source": [
    "!cat nums.txt"
   ]
  },
  {
   "cell_type": "markdown",
   "id": "7340661a",
   "metadata": {},
   "source": [
    "# Exercise: Sum the numbers\n",
    "\n",
    "Use a list comprehension to read from `nums.txt`, and sum the numbers."
   ]
  },
  {
   "cell_type": "code",
   "execution_count": 52,
   "id": "3d81f692",
   "metadata": {},
   "outputs": [
    {
     "ename": "ValueError",
     "evalue": "invalid literal for int() with base 10: ''",
     "output_type": "error",
     "traceback": [
      "\u001b[0;31m---------------------------------------------------------------------------\u001b[0m",
      "\u001b[0;31mValueError\u001b[0m                                Traceback (most recent call last)",
      "\u001b[0;32m/var/folders/rr/0mnyyv811fs5vyp22gf4fxk00000gn/T/ipykernel_88535/17093899.py\u001b[0m in \u001b[0;36m<module>\u001b[0;34m\u001b[0m\n\u001b[0;32m----> 1\u001b[0;31m [int(one_line.strip())\n\u001b[0m\u001b[1;32m      2\u001b[0m  for one_line in open('nums.txt')]\n",
      "\u001b[0;32m/var/folders/rr/0mnyyv811fs5vyp22gf4fxk00000gn/T/ipykernel_88535/17093899.py\u001b[0m in \u001b[0;36m<listcomp>\u001b[0;34m(.0)\u001b[0m\n\u001b[0;32m----> 1\u001b[0;31m [int(one_line.strip())\n\u001b[0m\u001b[1;32m      2\u001b[0m  for one_line in open('nums.txt')]\n",
      "\u001b[0;31mValueError\u001b[0m: invalid literal for int() with base 10: ''"
     ]
    }
   ],
   "source": [
    "[int(one_line.strip())\n",
    " for one_line in open('nums.txt')]"
   ]
  },
  {
   "cell_type": "code",
   "execution_count": 53,
   "id": "c97f982b",
   "metadata": {},
   "outputs": [
    {
     "data": {
      "text/plain": [
       "0"
      ]
     },
     "execution_count": 53,
     "metadata": {},
     "output_type": "execute_result"
    }
   ],
   "source": [
    "int()"
   ]
  },
  {
   "cell_type": "code",
   "execution_count": 54,
   "id": "724c551d",
   "metadata": {},
   "outputs": [
    {
     "data": {
      "text/plain": [
       "10"
      ]
     },
     "execution_count": 54,
     "metadata": {},
     "output_type": "execute_result"
    }
   ],
   "source": [
    "int('10')"
   ]
  },
  {
   "cell_type": "code",
   "execution_count": 55,
   "id": "7e6b5739",
   "metadata": {},
   "outputs": [
    {
     "data": {
      "text/plain": [
       "10"
      ]
     },
     "execution_count": 55,
     "metadata": {},
     "output_type": "execute_result"
    }
   ],
   "source": [
    "int('   10     ')"
   ]
  },
  {
   "cell_type": "code",
   "execution_count": 56,
   "id": "0d576533",
   "metadata": {},
   "outputs": [
    {
     "ename": "ValueError",
     "evalue": "invalid literal for int() with base 10: ''",
     "output_type": "error",
     "traceback": [
      "\u001b[0;31m---------------------------------------------------------------------------\u001b[0m",
      "\u001b[0;31mValueError\u001b[0m                                Traceback (most recent call last)",
      "\u001b[0;32m/var/folders/rr/0mnyyv811fs5vyp22gf4fxk00000gn/T/ipykernel_88535/4013821350.py\u001b[0m in \u001b[0;36m<module>\u001b[0;34m\u001b[0m\n\u001b[0;32m----> 1\u001b[0;31m \u001b[0mint\u001b[0m\u001b[0;34m(\u001b[0m\u001b[0;34m''\u001b[0m\u001b[0;34m)\u001b[0m\u001b[0;34m\u001b[0m\u001b[0;34m\u001b[0m\u001b[0m\n\u001b[0m",
      "\u001b[0;31mValueError\u001b[0m: invalid literal for int() with base 10: ''"
     ]
    }
   ],
   "source": [
    "int('')  "
   ]
  },
  {
   "cell_type": "code",
   "execution_count": 60,
   "id": "4b10892a",
   "metadata": {},
   "outputs": [
    {
     "data": {
      "text/plain": [
       "[5, 10, 20, 3, 20, 25]"
      ]
     },
     "execution_count": 60,
     "metadata": {},
     "output_type": "execute_result"
    }
   ],
   "source": [
    "[int(one_line)\n",
    " for one_line in open('nums.txt')\n",
    " if one_line.strip()]"
   ]
  },
  {
   "cell_type": "code",
   "execution_count": 62,
   "id": "66c4781c",
   "metadata": {},
   "outputs": [
    {
     "data": {
      "text/plain": [
       "83"
      ]
     },
     "execution_count": 62,
     "metadata": {},
     "output_type": "execute_result"
    }
   ],
   "source": [
    "sum([int(one_line)\n",
    " for one_line in open('nums.txt')\n",
    " if one_line.strip().isdigit()])"
   ]
  },
  {
   "cell_type": "code",
   "execution_count": 63,
   "id": "03e186ca",
   "metadata": {},
   "outputs": [
    {
     "name": "stdout",
     "output_type": "stream",
     "text": [
      "Adidas\torange\t43\r\n",
      "Nike\tblack\t41\r\n",
      "Adidas\tblack\t39\r\n",
      "New Balance\tpink\t41\r\n",
      "Nike\twhite\t44\r\n",
      "New Balance\torange\t38\r\n",
      "Nike\tpink\t44\r\n",
      "Adidas\tpink\t44\r\n",
      "New Balance\torange\t39\r\n",
      "New Balance\tblack\t43\r\n"
     ]
    }
   ],
   "source": [
    "!head shoe-data.txt"
   ]
  },
  {
   "cell_type": "markdown",
   "id": "39bdb8cc",
   "metadata": {},
   "source": [
    "# Exercise: Shoe dicts\n",
    "\n",
    "1. Based on `shoe-data.txt`, create a list of dicts, one dict for each row (shoe) in the file.\n",
    "2. The columns are separated by tabs, `'\\t'`.\n",
    "3. You can leave the size as a string, if you want.\n",
    "4. I suggest writing a function that takes the current line (string) and returns a dict based on it.\n",
    "\n",
    "```python\n",
    "[\n",
    "{'brand':'Adidas',\n",
    " 'color':'orange',\n",
    " 'size':'43'},\n",
    "{'brand':'Nike',\n",
    " 'color':'black',\n",
    " 'size':'41'},\n",
    "...\n",
    "]\n",
    "\n",
    "```"
   ]
  },
  {
   "cell_type": "code",
   "execution_count": 67,
   "id": "c4f5287e",
   "metadata": {},
   "outputs": [
    {
     "data": {
      "text/plain": [
       "[{'brand': 'Adidas', 'color': 'orange', 'size': '43'},\n",
       " {'brand': 'Nike', 'color': 'black', 'size': '41'},\n",
       " {'brand': 'Adidas', 'color': 'black', 'size': '39'},\n",
       " {'brand': 'New Balance', 'color': 'pink', 'size': '41'},\n",
       " {'brand': 'Nike', 'color': 'white', 'size': '44'},\n",
       " {'brand': 'New Balance', 'color': 'orange', 'size': '38'},\n",
       " {'brand': 'Nike', 'color': 'pink', 'size': '44'},\n",
       " {'brand': 'Adidas', 'color': 'pink', 'size': '44'},\n",
       " {'brand': 'New Balance', 'color': 'orange', 'size': '39'},\n",
       " {'brand': 'New Balance', 'color': 'black', 'size': '43'},\n",
       " {'brand': 'New Balance', 'color': 'orange', 'size': '44'},\n",
       " {'brand': 'Nike', 'color': 'black', 'size': '41'},\n",
       " {'brand': 'Adidas', 'color': 'orange', 'size': '37'},\n",
       " {'brand': 'Adidas', 'color': 'black', 'size': '38'},\n",
       " {'brand': 'Adidas', 'color': 'pink', 'size': '41'},\n",
       " {'brand': 'Adidas', 'color': 'white', 'size': '36'},\n",
       " {'brand': 'Adidas', 'color': 'orange', 'size': '36'},\n",
       " {'brand': 'Nike', 'color': 'pink', 'size': '41'},\n",
       " {'brand': 'Adidas', 'color': 'pink', 'size': '35'},\n",
       " {'brand': 'New Balance', 'color': 'orange', 'size': '37'},\n",
       " {'brand': 'Nike', 'color': 'pink', 'size': '43'},\n",
       " {'brand': 'Nike', 'color': 'black', 'size': '43'},\n",
       " {'brand': 'Nike', 'color': 'black', 'size': '42'},\n",
       " {'brand': 'Nike', 'color': 'black', 'size': '35'},\n",
       " {'brand': 'Adidas', 'color': 'black', 'size': '41'},\n",
       " {'brand': 'New Balance', 'color': 'pink', 'size': '40'},\n",
       " {'brand': 'Adidas', 'color': 'white', 'size': '35'},\n",
       " {'brand': 'New Balance', 'color': 'pink', 'size': '41'},\n",
       " {'brand': 'New Balance', 'color': 'orange', 'size': '41'},\n",
       " {'brand': 'Adidas', 'color': 'orange', 'size': '40'},\n",
       " {'brand': 'New Balance', 'color': 'orange', 'size': '40'},\n",
       " {'brand': 'New Balance', 'color': 'white', 'size': '44'},\n",
       " {'brand': 'New Balance', 'color': 'pink', 'size': '40'},\n",
       " {'brand': 'Nike', 'color': 'black', 'size': '43'},\n",
       " {'brand': 'Nike', 'color': 'pink', 'size': '36'},\n",
       " {'brand': 'New Balance', 'color': 'white', 'size': '39'},\n",
       " {'brand': 'Nike', 'color': 'black', 'size': '42'},\n",
       " {'brand': 'Adidas', 'color': 'black', 'size': '41'},\n",
       " {'brand': 'New Balance', 'color': 'orange', 'size': '40'},\n",
       " {'brand': 'New Balance', 'color': 'black', 'size': '40'},\n",
       " {'brand': 'Nike', 'color': 'white', 'size': '37'},\n",
       " {'brand': 'Adidas', 'color': 'black', 'size': '39'},\n",
       " {'brand': 'Adidas', 'color': 'black', 'size': '40'},\n",
       " {'brand': 'Adidas', 'color': 'orange', 'size': '38'},\n",
       " {'brand': 'New Balance', 'color': 'orange', 'size': '39'},\n",
       " {'brand': 'Nike', 'color': 'black', 'size': '35'},\n",
       " {'brand': 'Adidas', 'color': 'white', 'size': '39'},\n",
       " {'brand': 'Nike', 'color': 'white', 'size': '37'},\n",
       " {'brand': 'Adidas', 'color': 'orange', 'size': '37'},\n",
       " {'brand': 'Adidas', 'color': 'pink', 'size': '35'},\n",
       " {'brand': 'New Balance', 'color': 'orange', 'size': '41'},\n",
       " {'brand': 'Nike', 'color': 'pink', 'size': '44'},\n",
       " {'brand': 'Nike', 'color': 'pink', 'size': '38'},\n",
       " {'brand': 'Adidas', 'color': 'black', 'size': '39'},\n",
       " {'brand': 'New Balance', 'color': 'white', 'size': '35'},\n",
       " {'brand': 'Nike', 'color': 'pink', 'size': '40'},\n",
       " {'brand': 'Nike', 'color': 'white', 'size': '44'},\n",
       " {'brand': 'Nike', 'color': 'orange', 'size': '38'},\n",
       " {'brand': 'Adidas', 'color': 'orange', 'size': '42'},\n",
       " {'brand': 'New Balance', 'color': 'orange', 'size': '43'},\n",
       " {'brand': 'Adidas', 'color': 'pink', 'size': '39'},\n",
       " {'brand': 'Adidas', 'color': 'pink', 'size': '41'},\n",
       " {'brand': 'Adidas', 'color': 'pink', 'size': '39'},\n",
       " {'brand': 'Nike', 'color': 'white', 'size': '37'},\n",
       " {'brand': 'Nike', 'color': 'orange', 'size': '38'},\n",
       " {'brand': 'Adidas', 'color': 'orange', 'size': '39'},\n",
       " {'brand': 'Nike', 'color': 'pink', 'size': '40'},\n",
       " {'brand': 'Adidas', 'color': 'white', 'size': '36'},\n",
       " {'brand': 'Nike', 'color': 'orange', 'size': '40'},\n",
       " {'brand': 'New Balance', 'color': 'pink', 'size': '40'},\n",
       " {'brand': 'New Balance', 'color': 'black', 'size': '40'},\n",
       " {'brand': 'New Balance', 'color': 'pink', 'size': '40'},\n",
       " {'brand': 'Adidas', 'color': 'pink', 'size': '41'},\n",
       " {'brand': 'Nike', 'color': 'pink', 'size': '40'},\n",
       " {'brand': 'Nike', 'color': 'black', 'size': '41'},\n",
       " {'brand': 'Nike', 'color': 'black', 'size': '39'},\n",
       " {'brand': 'New Balance', 'color': 'white', 'size': '38'},\n",
       " {'brand': 'Adidas', 'color': 'black', 'size': '41'},\n",
       " {'brand': 'Nike', 'color': 'orange', 'size': '36'},\n",
       " {'brand': 'Nike', 'color': 'black', 'size': '38'},\n",
       " {'brand': 'New Balance', 'color': 'black', 'size': '40'},\n",
       " {'brand': 'New Balance', 'color': 'pink', 'size': '40'},\n",
       " {'brand': 'Adidas', 'color': 'black', 'size': '42'},\n",
       " {'brand': 'Adidas', 'color': 'white', 'size': '40'},\n",
       " {'brand': 'New Balance', 'color': 'orange', 'size': '38'},\n",
       " {'brand': 'Nike', 'color': 'pink', 'size': '41'},\n",
       " {'brand': 'Adidas', 'color': 'orange', 'size': '37'},\n",
       " {'brand': 'Nike', 'color': 'black', 'size': '44'},\n",
       " {'brand': 'Adidas', 'color': 'pink', 'size': '36'},\n",
       " {'brand': 'Adidas', 'color': 'white', 'size': '35'},\n",
       " {'brand': 'Nike', 'color': 'black', 'size': '38'},\n",
       " {'brand': 'Nike', 'color': 'pink', 'size': '42'},\n",
       " {'brand': 'New Balance', 'color': 'black', 'size': '43'},\n",
       " {'brand': 'Nike', 'color': 'white', 'size': '38'},\n",
       " {'brand': 'New Balance', 'color': 'pink', 'size': '39'},\n",
       " {'brand': 'Nike', 'color': 'orange', 'size': '39'},\n",
       " {'brand': 'New Balance', 'color': 'orange', 'size': '40'},\n",
       " {'brand': 'New Balance', 'color': 'white', 'size': '44'},\n",
       " {'brand': 'Adidas', 'color': 'black', 'size': '42'},\n",
       " {'brand': 'Nike', 'color': 'black', 'size': '35'}]"
      ]
     },
     "execution_count": 67,
     "metadata": {},
     "output_type": "execute_result"
    }
   ],
   "source": [
    "def line_to_dict(s):\n",
    "    brand, color, size = s.strip().split('\\t')\n",
    "    \n",
    "    return {'brand':brand,\n",
    "           'color':color,\n",
    "           'size':size}\n",
    "\n",
    "[line_to_dict(one_line)\n",
    " for one_line in open('shoe-data.txt')]"
   ]
  },
  {
   "cell_type": "code",
   "execution_count": null,
   "id": "474342d2",
   "metadata": {},
   "outputs": [],
   "source": [
    "def line_to_dict(s):\n",
    "    return dict(zip(['brand', 'color', 'size'],\n",
    "                   s.strip().split('\\t')))\n",
    "\n",
    "[line_to_dict(one_line)\n",
    " for one_line in open('shoe-data.txt')]"
   ]
  },
  {
   "cell_type": "code",
   "execution_count": 69,
   "id": "d5f25b78",
   "metadata": {},
   "outputs": [
    {
     "data": {
      "text/plain": [
       "{'a': 100, 'b': 200, 'c': 300}"
      ]
     },
     "execution_count": 69,
     "metadata": {},
     "output_type": "execute_result"
    }
   ],
   "source": [
    "# dict() creates a dict based on a list of tuples\n",
    "\n",
    "dict(zip(['a', 'b', 'c'],\n",
    "         [100, 200, 300]))"
   ]
  },
  {
   "cell_type": "markdown",
   "id": "19d72b2a",
   "metadata": {},
   "source": [
    "# Sum unique numbers\n",
    "\n"
   ]
  },
  {
   "cell_type": "code",
   "execution_count": 70,
   "id": "6f561c5e",
   "metadata": {},
   "outputs": [
    {
     "name": "stdout",
     "output_type": "stream",
     "text": [
      "Enter numbers: 10 20 30 40\n",
      "100\n"
     ]
    }
   ],
   "source": [
    "s = input('Enter numbers: ').strip()\n",
    "\n",
    "print(sum([int(one_number)\n",
    "          for one_number in s.split()]))"
   ]
  },
  {
   "cell_type": "code",
   "execution_count": 71,
   "id": "f47ccdec",
   "metadata": {},
   "outputs": [
    {
     "name": "stdout",
     "output_type": "stream",
     "text": [
      "Enter numbers: 10 20 30 10 20 30\n",
      "120\n"
     ]
    }
   ],
   "source": [
    "# what if I want to sum the different/unique numbers?\n",
    "\n",
    "s = input('Enter numbers: ').strip()\n",
    "\n",
    "print(sum([int(one_number)\n",
    "          for one_number in s.split()]))"
   ]
  },
  {
   "cell_type": "code",
   "execution_count": 72,
   "id": "c9becd72",
   "metadata": {},
   "outputs": [
    {
     "name": "stdout",
     "output_type": "stream",
     "text": [
      "60\n"
     ]
    }
   ],
   "source": [
    "# sets are a great way to get the unique values from a list!\n",
    "\n",
    "print(sum(set([int(one_number)\n",
    "          for one_number in s.split()])))"
   ]
  },
  {
   "cell_type": "code",
   "execution_count": 73,
   "id": "db1ff585",
   "metadata": {},
   "outputs": [
    {
     "data": {
      "text/plain": [
       "{10, 20, 30}"
      ]
     },
     "execution_count": 73,
     "metadata": {},
     "output_type": "execute_result"
    }
   ],
   "source": [
    "set([int(one_number)\n",
    "          for one_number in s.split()])"
   ]
  },
  {
   "cell_type": "markdown",
   "id": "ee1ff13f",
   "metadata": {},
   "source": [
    "# Set comprehension\n",
    "\n",
    "Just like a list comprehension, except:\n",
    "- Use `{}` around the comprehension\n",
    "- The result is a set, not a list\n",
    "- The result from each iteration must be hashable/immutable"
   ]
  },
  {
   "cell_type": "code",
   "execution_count": 74,
   "id": "de0f5a39",
   "metadata": {},
   "outputs": [
    {
     "name": "stdout",
     "output_type": "stream",
     "text": [
      "60\n"
     ]
    }
   ],
   "source": [
    "print(sum({int(one_number)\n",
    "          for one_number in s.split()}))"
   ]
  },
  {
   "cell_type": "markdown",
   "id": "3f5a30e2",
   "metadata": {},
   "source": [
    "# Exercise: Login shells\n",
    "\n",
    "What are the different shells in `linux-etc-passwd.txt`?"
   ]
  },
  {
   "cell_type": "code",
   "execution_count": 75,
   "id": "adea3b45",
   "metadata": {},
   "outputs": [
    {
     "name": "stdout",
     "output_type": "stream",
     "text": [
      "# This is a comment\r\n",
      "# You should ignore me\r\n",
      "root:x:0:0:root:/root:/bin/bash\r\n",
      "daemon:x:1:1:daemon:/usr/sbin:/usr/sbin/nologin\r\n",
      "bin:x:2:2:bin:/bin:/usr/sbin/nologin\r\n",
      "sys:x:3:3:sys:/dev:/usr/sbin/nologin\r\n",
      "sync:x:4:65534:sync:/bin:/bin/sync\r\n",
      "games:x:5:60:games:/usr/games:/usr/sbin/nologin\r\n",
      "man:x:6:12:man:/var/cache/man:/usr/sbin/nologin\r\n",
      "lp:x:7:7:lp:/var/spool/lpd:/usr/sbin/nologin\r\n",
      "mail:x:8:8:mail:/var/mail:/usr/sbin/nologin\r\n",
      "\r\n",
      "\r\n",
      "\r\n",
      "news:x:9:9:news:/var/spool/news:/usr/sbin/nologin\r\n",
      "uucp:x:10:10:uucp:/var/spool/uucp:/usr/sbin/nologin\r\n",
      "proxy:x:13:13:proxy:/bin:/usr/sbin/nologin\r\n",
      "www-data:x:33:33:www-data:/var/www:/usr/sbin/nologin\r\n",
      "backup:x:34:34:backup:/var/backups:/usr/sbin/nologin\r\n",
      "list:x:38:38:Mailing List Manager:/var/list:/usr/sbin/nologin\r\n",
      "irc:x:39:39:ircd:/var/run/ircd:/usr/sbin/nologin\r\n",
      "gnats:x:41:41:Gnats Bug-Reporting System (admin):/var/lib/gnats:/usr/sbin/nologin\r\n",
      "\r\n",
      "nobody:x:65534:65534:nobody:/nonexistent:/usr/sbin/nologin\r\n",
      "syslog:x:101:104::/home/syslog:/bin/false\r\n",
      "messagebus:x:102:106::/var/run/dbus:/bin/false\r\n",
      "landscape:x:103:109::/var/lib/landscape:/bin/false\r\n",
      "jci:x:955:955::/home/jci:/bin/bash\r\n",
      "sshd:x:104:65534::/var/run/sshd:/usr/sbin/nologin\r\n",
      "user:x:1000:1000:user,,,:/home/user:/bin/bash\r\n",
      "reuven:x:1001:1001:Reuven M. Lerner,,,:/home/reuven:/bin/bash\r\n",
      "postfix:x:105:113::/var/spool/postfix:/bin/false\r\n",
      "colord:x:106:116:colord colour management daemon,,,:/var/lib/colord:/bin/false\r\n",
      "postgres:x:107:117:PostgreSQL administrator,,,:/var/lib/postgresql:/bin/bash\r\n",
      "dovecot:x:108:119:Dovecot mail server,,,:/usr/lib/dovecot:/bin/false\r\n",
      "dovenull:x:109:120:Dovecot login user,,,:/nonexistent:/bin/false\r\n",
      "postgrey:x:110:121::/var/lib/postgrey:/bin/false\r\n",
      "debian-spamd:x:111:122::/var/lib/spamassassin:/bin/sh\r\n",
      "memcache:x:113:124:Memcached,,,:/nonexistent:/bin/false\r\n",
      "genadi:x:1002:1003:Genadi Reznichenko,,,:/home/genadi:/bin/bash\r\n",
      "shira:x:1003:1004:Shira Friedman,,,:/home/shira:/bin/bash\r\n",
      "atara:x:1004:1005:Atara Lerner-Friedman,,,:/home/atara:/bin/bash\r\n",
      "shikma:x:1005:1006:Shikma Lerner-Friedman,,,:/home/shikma:/bin/bash\r\n",
      "amotz:x:1006:1007:Amotz Lerner-Friedman,,,:/home/amotz:/bin/bash\r\n",
      "mysql:x:114:125:MySQL Server,,,:/nonexistent:/bin/false\r\n",
      "clamav:x:115:126::/var/lib/clamav:/bin/false\r\n",
      "amavis:x:116:127:AMaViS system user,,,:/var/lib/amavis:/bin/sh\r\n",
      "opendkim:x:117:128::/var/run/opendkim:/bin/false\r\n",
      "gitlab-redis:x:999:1009::/var/opt/gitlab/redis:/bin/nologin\r\n",
      "gitlab-psql:x:998:1010::/var/opt/gitlab/postgresql:/bin/sh\r\n",
      "git:x:1007:1008:GitLab,,,:/home/git:/bin/bash\r\n",
      "opendmarc:x:118:129::/var/run/opendmarc:/bin/false\r\n",
      "dkim-milter-python:x:119:130::/var/run/dkim-milter-python:/bin/false\r\n",
      "deploy:x:1008:1011:Deploy,,,:/home/deploy:/bin/bash\r\n",
      "redis:x:112:123:redis server,,,:/var/lib/redis:/bin/false\r\n"
     ]
    }
   ],
   "source": [
    "!cat linux-etc-passwd.txt"
   ]
  },
  {
   "cell_type": "code",
   "execution_count": 79,
   "id": "7447ef35",
   "metadata": {},
   "outputs": [
    {
     "data": {
      "text/plain": [
       "['root:x:0:0:root:/root:/bin/bash\\n',\n",
       " 'daemon:x:1:1:daemon:/usr/sbin:/usr/sbin/nologin\\n',\n",
       " 'bin:x:2:2:bin:/bin:/usr/sbin/nologin\\n',\n",
       " 'sys:x:3:3:sys:/dev:/usr/sbin/nologin\\n',\n",
       " 'sync:x:4:65534:sync:/bin:/bin/sync\\n',\n",
       " 'games:x:5:60:games:/usr/games:/usr/sbin/nologin\\n',\n",
       " 'man:x:6:12:man:/var/cache/man:/usr/sbin/nologin\\n',\n",
       " 'lp:x:7:7:lp:/var/spool/lpd:/usr/sbin/nologin\\n',\n",
       " 'mail:x:8:8:mail:/var/mail:/usr/sbin/nologin\\n',\n",
       " 'news:x:9:9:news:/var/spool/news:/usr/sbin/nologin\\n',\n",
       " 'uucp:x:10:10:uucp:/var/spool/uucp:/usr/sbin/nologin\\n',\n",
       " 'proxy:x:13:13:proxy:/bin:/usr/sbin/nologin\\n',\n",
       " 'www-data:x:33:33:www-data:/var/www:/usr/sbin/nologin\\n',\n",
       " 'backup:x:34:34:backup:/var/backups:/usr/sbin/nologin\\n',\n",
       " 'list:x:38:38:Mailing List Manager:/var/list:/usr/sbin/nologin\\n',\n",
       " 'irc:x:39:39:ircd:/var/run/ircd:/usr/sbin/nologin\\n',\n",
       " 'gnats:x:41:41:Gnats Bug-Reporting System (admin):/var/lib/gnats:/usr/sbin/nologin\\n',\n",
       " 'nobody:x:65534:65534:nobody:/nonexistent:/usr/sbin/nologin\\n',\n",
       " 'syslog:x:101:104::/home/syslog:/bin/false\\n',\n",
       " 'messagebus:x:102:106::/var/run/dbus:/bin/false\\n',\n",
       " 'landscape:x:103:109::/var/lib/landscape:/bin/false\\n',\n",
       " 'jci:x:955:955::/home/jci:/bin/bash\\n',\n",
       " 'sshd:x:104:65534::/var/run/sshd:/usr/sbin/nologin\\n',\n",
       " 'user:x:1000:1000:user,,,:/home/user:/bin/bash\\n',\n",
       " 'reuven:x:1001:1001:Reuven M. Lerner,,,:/home/reuven:/bin/bash\\n',\n",
       " 'postfix:x:105:113::/var/spool/postfix:/bin/false\\n',\n",
       " 'colord:x:106:116:colord colour management daemon,,,:/var/lib/colord:/bin/false\\n',\n",
       " 'postgres:x:107:117:PostgreSQL administrator,,,:/var/lib/postgresql:/bin/bash\\n',\n",
       " 'dovecot:x:108:119:Dovecot mail server,,,:/usr/lib/dovecot:/bin/false\\n',\n",
       " 'dovenull:x:109:120:Dovecot login user,,,:/nonexistent:/bin/false\\n',\n",
       " 'postgrey:x:110:121::/var/lib/postgrey:/bin/false\\n',\n",
       " 'debian-spamd:x:111:122::/var/lib/spamassassin:/bin/sh\\n',\n",
       " 'memcache:x:113:124:Memcached,,,:/nonexistent:/bin/false\\n',\n",
       " 'genadi:x:1002:1003:Genadi Reznichenko,,,:/home/genadi:/bin/bash\\n',\n",
       " 'shira:x:1003:1004:Shira Friedman,,,:/home/shira:/bin/bash\\n',\n",
       " 'atara:x:1004:1005:Atara Lerner-Friedman,,,:/home/atara:/bin/bash\\n',\n",
       " 'shikma:x:1005:1006:Shikma Lerner-Friedman,,,:/home/shikma:/bin/bash\\n',\n",
       " 'amotz:x:1006:1007:Amotz Lerner-Friedman,,,:/home/amotz:/bin/bash\\n',\n",
       " 'mysql:x:114:125:MySQL Server,,,:/nonexistent:/bin/false\\n',\n",
       " 'clamav:x:115:126::/var/lib/clamav:/bin/false\\n',\n",
       " 'amavis:x:116:127:AMaViS system user,,,:/var/lib/amavis:/bin/sh\\n',\n",
       " 'opendkim:x:117:128::/var/run/opendkim:/bin/false\\n',\n",
       " 'gitlab-redis:x:999:1009::/var/opt/gitlab/redis:/bin/nologin\\n',\n",
       " 'gitlab-psql:x:998:1010::/var/opt/gitlab/postgresql:/bin/sh\\n',\n",
       " 'git:x:1007:1008:GitLab,,,:/home/git:/bin/bash\\n',\n",
       " 'opendmarc:x:118:129::/var/run/opendmarc:/bin/false\\n',\n",
       " 'dkim-milter-python:x:119:130::/var/run/dkim-milter-python:/bin/false\\n',\n",
       " 'deploy:x:1008:1011:Deploy,,,:/home/deploy:/bin/bash\\n',\n",
       " 'redis:x:112:123:redis server,,,:/var/lib/redis:/bin/false\\n']"
      ]
     },
     "execution_count": 79,
     "metadata": {},
     "output_type": "execute_result"
    }
   ],
   "source": [
    "[one_line\n",
    " for one_line in open('linux-etc-passwd.txt')\n",
    " if not one_line.startswith('#') \n",
    " if not one_line.startswith('\\n')]"
   ]
  },
  {
   "cell_type": "code",
   "execution_count": 84,
   "id": "ec1a0b2e",
   "metadata": {},
   "outputs": [
    {
     "data": {
      "text/plain": [
       "{'/bin/bash',\n",
       " '/bin/false',\n",
       " '/bin/nologin',\n",
       " '/bin/sh',\n",
       " '/bin/sync',\n",
       " '/usr/sbin/nologin'}"
      ]
     },
     "execution_count": 84,
     "metadata": {},
     "output_type": "execute_result"
    }
   ],
   "source": [
    "{one_line.split(':')[-1].strip()\n",
    " for one_line in open('linux-etc-passwd.txt')\n",
    " if not one_line.startswith(('#', '\\n'))}"
   ]
  },
  {
   "cell_type": "markdown",
   "id": "bf3aacc9",
   "metadata": {},
   "source": [
    "# Next up\n",
    "\n",
    "1. Comprehensions\n",
    "    1. Dict comprehension\n",
    "    2. Comprehensions and `Counter`\n",
    "    3. Nested comprehensions\n",
    "2. Sorting and functions as arguments\n",
    "    - `lambda`\n",
    "\n",
    "Resume at :25"
   ]
  },
  {
   "cell_type": "code",
   "execution_count": 86,
   "id": "0fcc7656",
   "metadata": {},
   "outputs": [],
   "source": [
    "# list comprehension -- create 1 new list\n",
    "# set comprehension -- create 1 new set\n",
    "\n",
    "# dict comprehension -- create 1 new dict"
   ]
  },
  {
   "cell_type": "code",
   "execution_count": 88,
   "id": "5fc28f14",
   "metadata": {},
   "outputs": [
    {
     "data": {
      "text/plain": [
       "{'this': 4, 'is': 2, 'a': 1, 'bunch': 5, 'of': 2, 'words': 5}"
      ]
     },
     "execution_count": 88,
     "metadata": {},
     "output_type": "execute_result"
    }
   ],
   "source": [
    "words = 'this is a bunch of words'.split()\n",
    "\n",
    "# dict with words as keys, and their lengths as values\n",
    "\n",
    "{\n",
    "  one_word : len(one_word)\n",
    "  for one_word in words  \n",
    "}"
   ]
  },
  {
   "cell_type": "code",
   "execution_count": 89,
   "id": "706ebc6c",
   "metadata": {},
   "outputs": [
    {
     "data": {
      "text/plain": [
       "{1: 'a', 2: 'b', 3: 'c'}"
      ]
     },
     "execution_count": 89,
     "metadata": {},
     "output_type": "execute_result"
    }
   ],
   "source": [
    "d = {'a':1, 'b':2, 'c':3}\n",
    "\n",
    "# let's switch keys and values in d\n",
    "\n",
    "{\n",
    "    value : key\n",
    "    for key, value in d.items()\n",
    "}"
   ]
  },
  {
   "cell_type": "code",
   "execution_count": 90,
   "id": "f3e95a49",
   "metadata": {},
   "outputs": [
    {
     "data": {
      "text/plain": [
       "{1: 'a', 2: 'b', 3: 'd'}"
      ]
     },
     "execution_count": 90,
     "metadata": {},
     "output_type": "execute_result"
    }
   ],
   "source": [
    "d = {'a':1, 'b':2, 'c':3, 'd':3}\n",
    "\n",
    "{\n",
    "    value : key\n",
    "    for key, value in d.items()\n",
    "}"
   ]
  },
  {
   "cell_type": "code",
   "execution_count": 91,
   "id": "a7f41028",
   "metadata": {},
   "outputs": [
    {
     "name": "stdout",
     "output_type": "stream",
     "text": [
      "# This is a comment\r\n",
      "# You should ignore me\r\n",
      "root:x:0:0:root:/root:/bin/bash\r\n",
      "daemon:x:1:1:daemon:/usr/sbin:/usr/sbin/nologin\r\n",
      "bin:x:2:2:bin:/bin:/usr/sbin/nologin\r\n",
      "sys:x:3:3:sys:/dev:/usr/sbin/nologin\r\n",
      "sync:x:4:65534:sync:/bin:/bin/sync\r\n",
      "games:x:5:60:games:/usr/games:/usr/sbin/nologin\r\n",
      "man:x:6:12:man:/var/cache/man:/usr/sbin/nologin\r\n",
      "lp:x:7:7:lp:/var/spool/lpd:/usr/sbin/nologin\r\n"
     ]
    }
   ],
   "source": [
    "!head linux-etc-passwd.txt"
   ]
  },
  {
   "cell_type": "markdown",
   "id": "96bfaf04",
   "metadata": {},
   "source": [
    "# Exercise: Usernames and shells\n",
    "\n",
    "Using a dict comprehension and `linux-etc-passwd.txt`, create a dict in which the keys are the usernames and the values are the shells for each user in the file.\n",
    "\n",
    "- Username: First field (index 0) in each line\n",
    "- Shell: Final field (index -1) in each line"
   ]
  },
  {
   "cell_type": "code",
   "execution_count": 92,
   "id": "bb353e3f",
   "metadata": {},
   "outputs": [
    {
     "data": {
      "text/plain": [
       "'a    b  c'"
      ]
     },
     "execution_count": 92,
     "metadata": {},
     "output_type": "execute_result"
    }
   ],
   "source": [
    "s = '   a    b  c   '\n",
    "s.strip()"
   ]
  },
  {
   "cell_type": "code",
   "execution_count": 93,
   "id": "4f880936",
   "metadata": {},
   "outputs": [
    {
     "data": {
      "text/plain": [
       "'abc'"
      ]
     },
     "execution_count": 93,
     "metadata": {},
     "output_type": "execute_result"
    }
   ],
   "source": [
    "s.replace(' ', '')"
   ]
  },
  {
   "cell_type": "code",
   "execution_count": 97,
   "id": "95a9f0ef",
   "metadata": {},
   "outputs": [
    {
     "data": {
      "text/plain": [
       "{'root': '/bin/bash',\n",
       " 'daemon': '/usr/sbin/nologin',\n",
       " 'bin': '/usr/sbin/nologin',\n",
       " 'sys': '/usr/sbin/nologin',\n",
       " 'sync': '/bin/sync',\n",
       " 'games': '/usr/sbin/nologin',\n",
       " 'man': '/usr/sbin/nologin',\n",
       " 'lp': '/usr/sbin/nologin',\n",
       " 'mail': '/usr/sbin/nologin',\n",
       " 'news': '/usr/sbin/nologin',\n",
       " 'uucp': '/usr/sbin/nologin',\n",
       " 'proxy': '/usr/sbin/nologin',\n",
       " 'www-data': '/usr/sbin/nologin',\n",
       " 'backup': '/usr/sbin/nologin',\n",
       " 'list': '/usr/sbin/nologin',\n",
       " 'irc': '/usr/sbin/nologin',\n",
       " 'gnats': '/usr/sbin/nologin',\n",
       " 'nobody': '/usr/sbin/nologin',\n",
       " 'syslog': '/bin/false',\n",
       " 'messagebus': '/bin/false',\n",
       " 'landscape': '/bin/false',\n",
       " 'jci': '/bin/bash',\n",
       " 'sshd': '/usr/sbin/nologin',\n",
       " 'user': '/bin/bash',\n",
       " 'reuven': '/bin/bash',\n",
       " 'postfix': '/bin/false',\n",
       " 'colord': '/bin/false',\n",
       " 'postgres': '/bin/bash',\n",
       " 'dovecot': '/bin/false',\n",
       " 'dovenull': '/bin/false',\n",
       " 'postgrey': '/bin/false',\n",
       " 'debian-spamd': '/bin/sh',\n",
       " 'memcache': '/bin/false',\n",
       " 'genadi': '/bin/bash',\n",
       " 'shira': '/bin/bash',\n",
       " 'atara': '/bin/bash',\n",
       " 'shikma': '/bin/bash',\n",
       " 'amotz': '/bin/bash',\n",
       " 'mysql': '/bin/false',\n",
       " 'clamav': '/bin/false',\n",
       " 'amavis': '/bin/sh',\n",
       " 'opendkim': '/bin/false',\n",
       " 'gitlab-redis': '/bin/nologin',\n",
       " 'gitlab-psql': '/bin/sh',\n",
       " 'git': '/bin/bash',\n",
       " 'opendmarc': '/bin/false',\n",
       " 'dkim-milter-python': '/bin/false',\n",
       " 'deploy': '/bin/bash',\n",
       " 'redis': '/bin/false'}"
      ]
     },
     "execution_count": 97,
     "metadata": {},
     "output_type": "execute_result"
    }
   ],
   "source": [
    "{ one_line.split(':')[0]   :   one_line.split(':')[-1].strip()\n",
    "for one_line in open('linux-etc-passwd.txt')\n",
    "if not one_line.startswith(('#', '\\n'))}"
   ]
  },
  {
   "cell_type": "code",
   "execution_count": 98,
   "id": "ff58da52",
   "metadata": {},
   "outputs": [
    {
     "name": "stdout",
     "output_type": "stream",
     "text": [
      "Enter your name: Reuven\n",
      "Hello, Reuven!\n",
      "Enter your name: world\n",
      "Hello, world!\n",
      "Enter your name: asdfadfafa\n",
      "Hello, asdfadfafa!\n",
      "Enter your name: \n"
     ]
    }
   ],
   "source": [
    "while True:\n",
    "    name = input('Enter your name: ').strip()\n",
    "    \n",
    "    if not name:\n",
    "        break\n",
    "        \n",
    "    print(f'Hello, {name}!')"
   ]
  },
  {
   "cell_type": "code",
   "execution_count": 99,
   "id": "11a36dc0",
   "metadata": {},
   "outputs": [
    {
     "name": "stdout",
     "output_type": "stream",
     "text": [
      "Enter your name: asdfa\n",
      "Hello, asdfa!\n",
      "Enter your name: asdfgafaf\n",
      "Hello, asdfgafaf!\n",
      "Enter your name: \n"
     ]
    }
   ],
   "source": [
    "# As of Python 3.8, we can use the \"walrus\" operator (aka assignment expression)\n",
    "\n",
    "while name := input('Enter your name: ').strip():\n",
    "        \n",
    "    print(f'Hello, {name}!')"
   ]
  },
  {
   "cell_type": "code",
   "execution_count": 101,
   "id": "da4ebc13",
   "metadata": {},
   "outputs": [
    {
     "data": {
      "text/plain": [
       "{'root': '/bin/bash',\n",
       " 'daemon': '/usr/sbin/nologin',\n",
       " 'bin': '/usr/sbin/nologin',\n",
       " 'sys': '/usr/sbin/nologin',\n",
       " 'sync': '/bin/sync',\n",
       " 'games': '/usr/sbin/nologin',\n",
       " 'man': '/usr/sbin/nologin',\n",
       " 'lp': '/usr/sbin/nologin',\n",
       " 'mail': '/usr/sbin/nologin',\n",
       " 'news': '/usr/sbin/nologin',\n",
       " 'uucp': '/usr/sbin/nologin',\n",
       " 'proxy': '/usr/sbin/nologin',\n",
       " 'www-data': '/usr/sbin/nologin',\n",
       " 'backup': '/usr/sbin/nologin',\n",
       " 'list': '/usr/sbin/nologin',\n",
       " 'irc': '/usr/sbin/nologin',\n",
       " 'gnats': '/usr/sbin/nologin',\n",
       " 'nobody': '/usr/sbin/nologin',\n",
       " 'syslog': '/bin/false',\n",
       " 'messagebus': '/bin/false',\n",
       " 'landscape': '/bin/false',\n",
       " 'jci': '/bin/bash',\n",
       " 'sshd': '/usr/sbin/nologin',\n",
       " 'user': '/bin/bash',\n",
       " 'reuven': '/bin/bash',\n",
       " 'postfix': '/bin/false',\n",
       " 'colord': '/bin/false',\n",
       " 'postgres': '/bin/bash',\n",
       " 'dovecot': '/bin/false',\n",
       " 'dovenull': '/bin/false',\n",
       " 'postgrey': '/bin/false',\n",
       " 'debian-spamd': '/bin/sh',\n",
       " 'memcache': '/bin/false',\n",
       " 'genadi': '/bin/bash',\n",
       " 'shira': '/bin/bash',\n",
       " 'atara': '/bin/bash',\n",
       " 'shikma': '/bin/bash',\n",
       " 'amotz': '/bin/bash',\n",
       " 'mysql': '/bin/false',\n",
       " 'clamav': '/bin/false',\n",
       " 'amavis': '/bin/sh',\n",
       " 'opendkim': '/bin/false',\n",
       " 'gitlab-redis': '/bin/nologin',\n",
       " 'gitlab-psql': '/bin/sh',\n",
       " 'git': '/bin/bash',\n",
       " 'opendmarc': '/bin/false',\n",
       " 'dkim-milter-python': '/bin/false',\n",
       " 'deploy': '/bin/bash',\n",
       " 'redis': '/bin/false'}"
      ]
     },
     "execution_count": 101,
     "metadata": {},
     "output_type": "execute_result"
    }
   ],
   "source": [
    "# we can use the walrus here\n",
    "\n",
    "{ fields[0]   :   fields[-1].strip()\n",
    "  for one_line in open('linux-etc-passwd.txt')\n",
    "  if not one_line.startswith(('#', '\\n'))\n",
    "  if (fields := one_line.split(':'))\n",
    " }"
   ]
  },
  {
   "cell_type": "code",
   "execution_count": 104,
   "id": "e06a4049",
   "metadata": {},
   "outputs": [],
   "source": [
    "# get our shells in a list\n",
    "\n",
    "from collections import Counter\n",
    "\n",
    "c = Counter([one_line.split(':')[-1].strip()\n",
    " for one_line in open('linux-etc-passwd.txt')\n",
    " if not one_line.startswith(('#', '\\n'))])"
   ]
  },
  {
   "cell_type": "code",
   "execution_count": 105,
   "id": "35f08914",
   "metadata": {},
   "outputs": [
    {
     "data": {
      "text/plain": [
       "[('/usr/sbin/nologin', 17),\n",
       " ('/bin/false', 15),\n",
       " ('/bin/bash', 12),\n",
       " ('/bin/sh', 3),\n",
       " ('/bin/sync', 1),\n",
       " ('/bin/nologin', 1)]"
      ]
     },
     "execution_count": 105,
     "metadata": {},
     "output_type": "execute_result"
    }
   ],
   "source": [
    "c.most_common()"
   ]
  },
  {
   "cell_type": "code",
   "execution_count": 106,
   "id": "fb3bdb83",
   "metadata": {},
   "outputs": [
    {
     "data": {
      "text/plain": [
       "[('/usr/sbin/nologin', 17), ('/bin/false', 15), ('/bin/bash', 12)]"
      ]
     },
     "execution_count": 106,
     "metadata": {},
     "output_type": "execute_result"
    }
   ],
   "source": [
    "c.most_common(3)"
   ]
  },
  {
   "cell_type": "markdown",
   "id": "6c8425a5",
   "metadata": {},
   "source": [
    "# Nested comprehensions"
   ]
  },
  {
   "cell_type": "code",
   "execution_count": 107,
   "id": "4aed40a5",
   "metadata": {},
   "outputs": [],
   "source": [
    "mylist = [[10, 20, 30], [40, 50, 55, 60, 65, 70], [80, 90, 100, 110], [120, 125, 130]]\n",
    "\n",
    "# how can I get a flat list from all of the inner lists\n",
    "\n"
   ]
  },
  {
   "cell_type": "code",
   "execution_count": 108,
   "id": "ea86f82e",
   "metadata": {},
   "outputs": [
    {
     "data": {
      "text/plain": [
       "[[10, 20, 30], [40, 50, 55, 60, 65, 70], [80, 90, 100, 110], [120, 125, 130]]"
      ]
     },
     "execution_count": 108,
     "metadata": {},
     "output_type": "execute_result"
    }
   ],
   "source": [
    "[one_list\n",
    "for one_list in mylist]"
   ]
  },
  {
   "cell_type": "code",
   "execution_count": 109,
   "id": "76b5123f",
   "metadata": {},
   "outputs": [
    {
     "data": {
      "text/plain": [
       "[10, 20, 30, 40, 50, 55, 60, 65, 70, 80, 90, 100, 110, 120, 125, 130]"
      ]
     },
     "execution_count": 109,
     "metadata": {},
     "output_type": "execute_result"
    }
   ],
   "source": [
    "[ one_number\n",
    "    for one_list in mylist\n",
    "    for one_number in one_list\n",
    "]"
   ]
  },
  {
   "cell_type": "code",
   "execution_count": 110,
   "id": "4cf0571d",
   "metadata": {},
   "outputs": [
    {
     "data": {
      "text/plain": [
       "[40, 50, 55, 60, 65, 70, 80, 90, 100, 110]"
      ]
     },
     "execution_count": 110,
     "metadata": {},
     "output_type": "execute_result"
    }
   ],
   "source": [
    "[ one_number\n",
    "    for one_list in mylist\n",
    "    if len(one_list) > 3\n",
    "    for one_number in one_list\n",
    "]"
   ]
  },
  {
   "cell_type": "code",
   "execution_count": 115,
   "id": "755a2bd4",
   "metadata": {},
   "outputs": [
    {
     "data": {
      "text/plain": [
       "[[55, 55, 55], [65, 65, 65]]"
      ]
     },
     "execution_count": 115,
     "metadata": {},
     "output_type": "execute_result"
    }
   ],
   "source": [
    "[ [one_number] * 3\n",
    "    for one_list in mylist\n",
    "    if len(one_list) > 3\n",
    "    for one_number in one_list\n",
    "    if one_number % 2\n",
    "]"
   ]
  },
  {
   "cell_type": "code",
   "execution_count": 116,
   "id": "efd63d45",
   "metadata": {},
   "outputs": [
    {
     "data": {
      "text/plain": [
       "[(0, 0),\n",
       " (0, 1),\n",
       " (0, 2),\n",
       " (0, 3),\n",
       " (0, 4),\n",
       " (1, 0),\n",
       " (1, 1),\n",
       " (1, 2),\n",
       " (1, 3),\n",
       " (1, 4),\n",
       " (2, 0),\n",
       " (2, 1),\n",
       " (2, 2),\n",
       " (2, 3),\n",
       " (2, 4),\n",
       " (3, 0),\n",
       " (3, 1),\n",
       " (3, 2),\n",
       " (3, 3),\n",
       " (3, 4),\n",
       " (4, 0),\n",
       " (4, 1),\n",
       " (4, 2),\n",
       " (4, 3),\n",
       " (4, 4)]"
      ]
     },
     "execution_count": 116,
     "metadata": {},
     "output_type": "execute_result"
    }
   ],
   "source": [
    "[(x,y)\n",
    " for x in range(5)\n",
    " for y in range(5)]"
   ]
  },
  {
   "cell_type": "code",
   "execution_count": 117,
   "id": "56fa14d2",
   "metadata": {},
   "outputs": [
    {
     "name": "stdout",
     "output_type": "stream",
     "text": [
      "1::Toy Story (1995)::Animation|Children's|Comedy\r\n",
      "2::Jumanji (1995)::Adventure|Children's|Fantasy\r\n",
      "3::Grumpier Old Men (1995)::Comedy|Romance\r\n",
      "4::Waiting to Exhale (1995)::Comedy|Drama\r\n",
      "5::Father of the Bride Part II (1995)::Comedy\r\n",
      "6::Heat (1995)::Action|Crime|Thriller\r\n",
      "7::Sabrina (1995)::Comedy|Romance\r\n",
      "8::Tom and Huck (1995)::Adventure|Children's\r\n",
      "9::Sudden Death (1995)::Action\r\n",
      "10::GoldenEye (1995)::Action|Adventure|Thriller\r\n"
     ]
    }
   ],
   "source": [
    "!head movies.dat"
   ]
  },
  {
   "cell_type": "markdown",
   "id": "cc17d5f7",
   "metadata": {},
   "source": [
    "# Exercise: Movie categories\n",
    "\n",
    "Find the 3 most common categories for movies in `movies.dat`."
   ]
  },
  {
   "cell_type": "code",
   "execution_count": 119,
   "id": "42487f55",
   "metadata": {},
   "outputs": [
    {
     "data": {
      "text/plain": [
       "['1',\n",
       " 'Toy Story (1995)',\n",
       " \"Animation|Children's|Comedy\\n\",\n",
       " '2',\n",
       " 'Jumanji (1995)',\n",
       " \"Adventure|Children's|Fantasy\\n\",\n",
       " '3',\n",
       " 'Grumpier Old Men (1995)',\n",
       " 'Comedy|Romance\\n',\n",
       " '4',\n",
       " 'Waiting to Exhale (1995)',\n",
       " 'Comedy|Drama\\n',\n",
       " '5',\n",
       " 'Father of the Bride Part II (1995)',\n",
       " 'Comedy\\n',\n",
       " '6',\n",
       " 'Heat (1995)',\n",
       " 'Action|Crime|Thriller\\n',\n",
       " '7',\n",
       " 'Sabrina (1995)',\n",
       " 'Comedy|Romance\\n',\n",
       " '8',\n",
       " 'Tom and Huck (1995)',\n",
       " \"Adventure|Children's\\n\",\n",
       " '9',\n",
       " 'Sudden Death (1995)',\n",
       " 'Action\\n',\n",
       " '10',\n",
       " 'GoldenEye (1995)',\n",
       " 'Action|Adventure|Thriller\\n',\n",
       " '11',\n",
       " 'American President, The (1995)',\n",
       " 'Comedy|Drama|Romance\\n',\n",
       " '12',\n",
       " 'Dracula: Dead and Loving It (1995)',\n",
       " 'Comedy|Horror\\n',\n",
       " '13',\n",
       " 'Balto (1995)',\n",
       " \"Animation|Children's\\n\",\n",
       " '14',\n",
       " 'Nixon (1995)',\n",
       " 'Drama\\n',\n",
       " '15',\n",
       " 'Cutthroat Island (1995)',\n",
       " 'Action|Adventure|Romance\\n',\n",
       " '16',\n",
       " 'Casino (1995)',\n",
       " 'Drama|Thriller\\n',\n",
       " '17',\n",
       " 'Sense and Sensibility (1995)',\n",
       " 'Drama|Romance\\n',\n",
       " '18',\n",
       " 'Four Rooms (1995)',\n",
       " 'Thriller\\n',\n",
       " '19',\n",
       " 'Ace Ventura: When Nature Calls (1995)',\n",
       " 'Comedy\\n',\n",
       " '20',\n",
       " 'Money Train (1995)',\n",
       " 'Action\\n',\n",
       " '21',\n",
       " 'Get Shorty (1995)',\n",
       " 'Action|Comedy|Drama\\n',\n",
       " '22',\n",
       " 'Copycat (1995)',\n",
       " 'Crime|Drama|Thriller\\n',\n",
       " '23',\n",
       " 'Assassins (1995)',\n",
       " 'Thriller\\n',\n",
       " '24',\n",
       " 'Powder (1995)',\n",
       " 'Drama|Sci-Fi\\n',\n",
       " '25',\n",
       " 'Leaving Las Vegas (1995)',\n",
       " 'Drama|Romance\\n',\n",
       " '26',\n",
       " 'Othello (1995)',\n",
       " 'Drama\\n',\n",
       " '27',\n",
       " 'Now and Then (1995)',\n",
       " 'Drama\\n',\n",
       " '28',\n",
       " 'Persuasion (1995)',\n",
       " 'Romance\\n',\n",
       " '29',\n",
       " 'City of Lost Children, The (1995)',\n",
       " 'Adventure|Sci-Fi\\n',\n",
       " '30',\n",
       " 'Shanghai Triad (Yao a yao yao dao waipo qiao) (1995)',\n",
       " 'Drama\\n',\n",
       " '31',\n",
       " 'Dangerous Minds (1995)',\n",
       " 'Drama\\n',\n",
       " '32',\n",
       " 'Twelve Monkeys (1995)',\n",
       " 'Drama|Sci-Fi\\n',\n",
       " '33',\n",
       " 'Wings of Courage (1995)',\n",
       " 'Adventure|Romance\\n',\n",
       " '34',\n",
       " 'Babe (1995)',\n",
       " \"Children's|Comedy|Drama\\n\",\n",
       " '35',\n",
       " 'Carrington (1995)',\n",
       " 'Drama|Romance\\n',\n",
       " '36',\n",
       " 'Dead Man Walking (1995)',\n",
       " 'Drama\\n',\n",
       " '37',\n",
       " 'Across the Sea of Time (1995)',\n",
       " 'Documentary\\n',\n",
       " '38',\n",
       " 'It Takes Two (1995)',\n",
       " 'Comedy\\n',\n",
       " '39',\n",
       " 'Clueless (1995)',\n",
       " 'Comedy|Romance\\n',\n",
       " '40',\n",
       " 'Cry, the Beloved Country (1995)',\n",
       " 'Drama\\n',\n",
       " '41',\n",
       " 'Richard III (1995)',\n",
       " 'Drama|War\\n',\n",
       " '42',\n",
       " 'Dead Presidents (1995)',\n",
       " 'Action|Crime|Drama\\n',\n",
       " '43',\n",
       " 'Restoration (1995)',\n",
       " 'Drama\\n',\n",
       " '44',\n",
       " 'Mortal Kombat (1995)',\n",
       " 'Action|Adventure\\n',\n",
       " '45',\n",
       " 'To Die For (1995)',\n",
       " 'Comedy|Drama\\n',\n",
       " '46',\n",
       " 'How to Make an American Quilt (1995)',\n",
       " 'Drama|Romance\\n',\n",
       " '47',\n",
       " 'Seven (Se7en) (1995)',\n",
       " 'Crime|Thriller\\n',\n",
       " '48',\n",
       " 'Pocahontas (1995)',\n",
       " \"Animation|Children's|Musical|Romance\\n\",\n",
       " '49',\n",
       " 'When Night Is Falling (1995)',\n",
       " 'Drama|Romance\\n',\n",
       " '50',\n",
       " 'Usual Suspects, The (1995)',\n",
       " 'Crime|Thriller\\n',\n",
       " '51',\n",
       " 'Guardian Angel (1994)',\n",
       " 'Action|Drama|Thriller\\n',\n",
       " '52',\n",
       " 'Mighty Aphrodite (1995)',\n",
       " 'Comedy\\n',\n",
       " '53',\n",
       " 'Lamerica (1994)',\n",
       " 'Drama\\n',\n",
       " '54',\n",
       " 'Big Green, The (1995)',\n",
       " \"Children's|Comedy\\n\",\n",
       " '55',\n",
       " 'Georgia (1995)',\n",
       " 'Drama\\n',\n",
       " '56',\n",
       " 'Kids of the Round Table (1995)',\n",
       " \"Adventure|Children's|Fantasy\\n\",\n",
       " '57',\n",
       " 'Home for the Holidays (1995)',\n",
       " 'Drama\\n',\n",
       " '58',\n",
       " 'Postino, Il (The Postman) (1994)',\n",
       " 'Drama|Romance\\n',\n",
       " '59',\n",
       " 'Confessional, The (Le Confessionnal) (1995)',\n",
       " 'Drama|Mystery\\n',\n",
       " '60',\n",
       " 'Indian in the Cupboard, The (1995)',\n",
       " \"Adventure|Children's|Fantasy\\n\",\n",
       " '61',\n",
       " 'Eye for an Eye (1996)',\n",
       " 'Drama|Thriller\\n',\n",
       " '62',\n",
       " \"Mr. Holland's Opus (1995)\",\n",
       " 'Drama\\n',\n",
       " '63',\n",
       " \"Don't Be a Menace to South Central While Drinking Your Juice in the Hood (1996)\",\n",
       " 'Comedy\\n',\n",
       " '64',\n",
       " 'Two if by Sea (1996)',\n",
       " 'Comedy|Romance\\n',\n",
       " '65',\n",
       " 'Bio-Dome (1996)',\n",
       " 'Comedy\\n',\n",
       " '66',\n",
       " 'Lawnmower Man 2: Beyond Cyberspace (1996)',\n",
       " 'Sci-Fi|Thriller\\n',\n",
       " '67',\n",
       " 'Two Bits (1995)',\n",
       " 'Drama\\n',\n",
       " '68',\n",
       " 'French Twist (Gazon maudit) (1995)',\n",
       " 'Comedy|Romance\\n',\n",
       " '69',\n",
       " 'Friday (1995)',\n",
       " 'Comedy\\n',\n",
       " '70',\n",
       " 'From Dusk Till Dawn (1996)',\n",
       " 'Action|Comedy|Crime|Horror|Thriller\\n',\n",
       " '71',\n",
       " 'Fair Game (1995)',\n",
       " 'Action\\n',\n",
       " '72',\n",
       " 'Kicking and Screaming (1995)',\n",
       " 'Comedy|Drama\\n',\n",
       " '73',\n",
       " 'Misérables, Les (1995)',\n",
       " 'Drama|Musical\\n',\n",
       " '74',\n",
       " 'Bed of Roses (1996)',\n",
       " 'Drama|Romance\\n',\n",
       " '75',\n",
       " 'Big Bully (1996)',\n",
       " 'Comedy|Drama\\n',\n",
       " '76',\n",
       " 'Screamers (1995)',\n",
       " 'Sci-Fi|Thriller\\n',\n",
       " '77',\n",
       " 'Nico Icon (1995)',\n",
       " 'Documentary\\n',\n",
       " '78',\n",
       " 'Crossing Guard, The (1995)',\n",
       " 'Drama\\n',\n",
       " '79',\n",
       " 'Juror, The (1996)',\n",
       " 'Drama|Thriller\\n',\n",
       " '80',\n",
       " 'White Balloon, The (Badkonake Sefid ) (1995)',\n",
       " 'Drama\\n',\n",
       " '81',\n",
       " \"Things to Do in Denver when You're Dead (1995)\",\n",
       " 'Crime|Drama|Romance\\n',\n",
       " '82',\n",
       " \"Antonia's Line (Antonia) (1995)\",\n",
       " 'Drama\\n',\n",
       " '83',\n",
       " 'Once Upon a Time... When We Were Colored (1995)',\n",
       " 'Drama\\n',\n",
       " '84',\n",
       " 'Last Summer in the Hamptons (1995)',\n",
       " 'Comedy|Drama\\n',\n",
       " '85',\n",
       " 'Angels and Insects (1995)',\n",
       " 'Drama|Romance\\n',\n",
       " '86',\n",
       " 'White Squall (1996)',\n",
       " 'Adventure|Drama\\n',\n",
       " '87',\n",
       " 'Dunston Checks In (1996)',\n",
       " \"Children's|Comedy\\n\",\n",
       " '88',\n",
       " 'Black Sheep (1996)',\n",
       " 'Comedy\\n',\n",
       " '89',\n",
       " 'Nick of Time (1995)',\n",
       " 'Action|Thriller\\n',\n",
       " '90',\n",
       " 'Journey of August King, The (1995)',\n",
       " 'Drama\\n',\n",
       " '92',\n",
       " 'Mary Reilly (1996)',\n",
       " 'Drama|Thriller\\n',\n",
       " '93',\n",
       " 'Vampire in Brooklyn (1995)',\n",
       " 'Comedy|Romance\\n',\n",
       " '94',\n",
       " 'Beautiful Girls (1996)',\n",
       " 'Drama\\n',\n",
       " '95',\n",
       " 'Broken Arrow (1996)',\n",
       " 'Action|Thriller\\n',\n",
       " '96',\n",
       " 'In the Bleak Midwinter (1995)',\n",
       " 'Comedy\\n',\n",
       " '97',\n",
       " 'Hate (Haine, La) (1995)',\n",
       " 'Drama\\n',\n",
       " '98',\n",
       " 'Shopping (1994)',\n",
       " 'Action|Thriller\\n',\n",
       " '99',\n",
       " 'Heidi Fleiss: Hollywood Madam (1995)',\n",
       " 'Documentary\\n',\n",
       " '100',\n",
       " 'City Hall (1996)',\n",
       " 'Drama|Thriller\\n',\n",
       " '101',\n",
       " 'Bottle Rocket (1996)',\n",
       " 'Comedy\\n',\n",
       " '102',\n",
       " 'Mr. Wrong (1996)',\n",
       " 'Comedy\\n',\n",
       " '103',\n",
       " 'Unforgettable (1996)',\n",
       " 'Thriller\\n',\n",
       " '104',\n",
       " 'Happy Gilmore (1996)',\n",
       " 'Comedy\\n',\n",
       " '105',\n",
       " 'Bridges of Madison County, The (1995)',\n",
       " 'Drama|Romance\\n',\n",
       " '106',\n",
       " 'Nobody Loves Me (Keiner liebt mich) (1994)',\n",
       " 'Comedy|Drama\\n',\n",
       " '107',\n",
       " 'Muppet Treasure Island (1996)',\n",
       " \"Adventure|Children's|Comedy|Musical\\n\",\n",
       " '108',\n",
       " 'Catwalk (1995)',\n",
       " 'Documentary\\n',\n",
       " '109',\n",
       " 'Headless Body in Topless Bar (1995)',\n",
       " 'Comedy\\n',\n",
       " '110',\n",
       " 'Braveheart (1995)',\n",
       " 'Action|Drama|War\\n',\n",
       " '111',\n",
       " 'Taxi Driver (1976)',\n",
       " 'Drama|Thriller\\n',\n",
       " '112',\n",
       " 'Rumble in the Bronx (1995)',\n",
       " 'Action|Adventure|Crime\\n',\n",
       " '113',\n",
       " 'Before and After (1996)',\n",
       " 'Drama|Mystery\\n',\n",
       " '114',\n",
       " \"Margaret's Museum (1995)\",\n",
       " 'Drama\\n',\n",
       " '115',\n",
       " 'Happiness Is in the Field (1995)',\n",
       " 'Comedy\\n',\n",
       " '116',\n",
       " 'Anne Frank Remembered (1995)',\n",
       " 'Documentary\\n',\n",
       " '117',\n",
       " \"Young Poisoner's Handbook, The (1995)\",\n",
       " 'Crime\\n',\n",
       " '118',\n",
       " 'If Lucy Fell (1996)',\n",
       " 'Comedy|Romance\\n',\n",
       " '119',\n",
       " 'Steal Big, Steal Little (1995)',\n",
       " 'Comedy\\n',\n",
       " '120',\n",
       " 'Race the Sun (1996)',\n",
       " 'Drama\\n',\n",
       " '121',\n",
       " 'Boys of St. Vincent, The (1993)',\n",
       " 'Drama\\n',\n",
       " '122',\n",
       " 'Boomerang (1992)',\n",
       " 'Comedy|Romance\\n',\n",
       " '123',\n",
       " 'Chungking Express (1994)',\n",
       " 'Drama|Mystery|Romance\\n',\n",
       " '124',\n",
       " \"Star Maker, The (Uomo delle stelle, L') (1995)\",\n",
       " 'Drama\\n',\n",
       " '125',\n",
       " 'Flirting With Disaster (1996)',\n",
       " 'Comedy\\n',\n",
       " '126',\n",
       " 'NeverEnding Story III, The (1994)',\n",
       " \"Adventure|Children's|Fantasy\\n\",\n",
       " '127',\n",
       " 'Silence of the Palace, The (Saimt el Qusur) (1994)',\n",
       " 'Drama\\n',\n",
       " '128',\n",
       " \"Jupiter's Wife (1994)\",\n",
       " 'Documentary\\n',\n",
       " '129',\n",
       " 'Pie in the Sky (1995)',\n",
       " 'Comedy|Romance\\n',\n",
       " '130',\n",
       " 'Angela (1995)',\n",
       " 'Drama\\n',\n",
       " '131',\n",
       " 'Frankie Starlight (1995)',\n",
       " 'Drama|Romance\\n',\n",
       " '132',\n",
       " 'Jade (1995)',\n",
       " 'Thriller\\n',\n",
       " '133',\n",
       " 'Nueba Yol (1995)',\n",
       " 'Comedy|Drama\\n',\n",
       " '134',\n",
       " 'Sonic Outlaws (1995)',\n",
       " 'Documentary\\n',\n",
       " '135',\n",
       " 'Down Periscope (1996)',\n",
       " 'Comedy\\n',\n",
       " '136',\n",
       " 'From the Journals of Jean Seberg (1995)',\n",
       " 'Documentary\\n',\n",
       " '137',\n",
       " 'Man of the Year (1995)',\n",
       " 'Documentary\\n',\n",
       " '138',\n",
       " 'Neon Bible, The (1995)',\n",
       " 'Drama\\n',\n",
       " '139',\n",
       " 'Target (1995)',\n",
       " 'Action|Drama\\n',\n",
       " '140',\n",
       " 'Up Close and Personal (1996)',\n",
       " 'Drama|Romance\\n',\n",
       " '141',\n",
       " 'Birdcage, The (1996)',\n",
       " 'Comedy\\n',\n",
       " '142',\n",
       " 'Shadows (Cienie) (1988)',\n",
       " 'Drama\\n',\n",
       " '143',\n",
       " 'Gospa (1995)',\n",
       " 'Drama\\n',\n",
       " '144',\n",
       " 'Brothers McMullen, The (1995)',\n",
       " 'Comedy\\n',\n",
       " '145',\n",
       " 'Bad Boys (1995)',\n",
       " 'Action\\n',\n",
       " '146',\n",
       " 'Amazing Panda Adventure, The (1995)',\n",
       " \"Adventure|Children's\\n\",\n",
       " '147',\n",
       " 'Basketball Diaries, The (1995)',\n",
       " 'Drama\\n',\n",
       " '148',\n",
       " 'Awfully Big Adventure, An (1995)',\n",
       " 'Drama\\n',\n",
       " '149',\n",
       " 'Amateur (1994)',\n",
       " 'Crime|Drama|Thriller\\n',\n",
       " '150',\n",
       " 'Apollo 13 (1995)',\n",
       " 'Drama\\n',\n",
       " '151',\n",
       " 'Rob Roy (1995)',\n",
       " 'Drama|Romance|War\\n',\n",
       " '152',\n",
       " 'Addiction, The (1995)',\n",
       " 'Horror\\n',\n",
       " '153',\n",
       " 'Batman Forever (1995)',\n",
       " 'Action|Adventure|Comedy|Crime\\n',\n",
       " '154',\n",
       " 'Belle de jour (1967)',\n",
       " 'Drama\\n',\n",
       " '155',\n",
       " 'Beyond Rangoon (1995)',\n",
       " 'Drama|War\\n',\n",
       " '156',\n",
       " 'Blue in the Face (1995)',\n",
       " 'Comedy\\n',\n",
       " '157',\n",
       " 'Canadian Bacon (1994)',\n",
       " 'Comedy|War\\n',\n",
       " '158',\n",
       " 'Casper (1995)',\n",
       " \"Adventure|Children's\\n\",\n",
       " '159',\n",
       " 'Clockers (1995)',\n",
       " 'Drama\\n',\n",
       " '160',\n",
       " 'Congo (1995)',\n",
       " 'Action|Adventure|Mystery|Sci-Fi\\n',\n",
       " '161',\n",
       " 'Crimson Tide (1995)',\n",
       " 'Drama|Thriller|War\\n',\n",
       " '162',\n",
       " 'Crumb (1994)',\n",
       " 'Documentary\\n',\n",
       " '163',\n",
       " 'Desperado (1995)',\n",
       " 'Action|Romance|Thriller\\n',\n",
       " '164',\n",
       " 'Devil in a Blue Dress (1995)',\n",
       " 'Crime|Film-Noir|Mystery|Thriller\\n',\n",
       " '165',\n",
       " 'Die Hard: With a Vengeance (1995)',\n",
       " 'Action|Thriller\\n',\n",
       " '166',\n",
       " 'Doom Generation, The (1995)',\n",
       " 'Comedy|Drama\\n',\n",
       " '167',\n",
       " 'Feast of July (1995)',\n",
       " 'Drama\\n',\n",
       " '168',\n",
       " 'First Knight (1995)',\n",
       " 'Action|Adventure|Drama|Romance\\n',\n",
       " '169',\n",
       " 'Free Willy 2: The Adventure Home (1995)',\n",
       " \"Adventure|Children's|Drama\\n\",\n",
       " '170',\n",
       " 'Hackers (1995)',\n",
       " 'Action|Crime|Thriller\\n',\n",
       " '171',\n",
       " 'Jeffrey (1995)',\n",
       " 'Comedy\\n',\n",
       " '172',\n",
       " 'Johnny Mnemonic (1995)',\n",
       " 'Action|Sci-Fi|Thriller\\n',\n",
       " '173',\n",
       " 'Judge Dredd (1995)',\n",
       " 'Action|Adventure|Sci-Fi\\n',\n",
       " '174',\n",
       " 'Jury Duty (1995)',\n",
       " 'Comedy\\n',\n",
       " '175',\n",
       " 'Kids (1995)',\n",
       " 'Drama\\n',\n",
       " '176',\n",
       " 'Living in Oblivion (1995)',\n",
       " 'Comedy\\n',\n",
       " '177',\n",
       " 'Lord of Illusions (1995)',\n",
       " 'Horror\\n',\n",
       " '178',\n",
       " 'Love & Human Remains (1993)',\n",
       " 'Comedy\\n',\n",
       " '179',\n",
       " 'Mad Love (1995)',\n",
       " 'Drama|Romance\\n',\n",
       " '180',\n",
       " 'Mallrats (1995)',\n",
       " 'Comedy\\n',\n",
       " '181',\n",
       " 'Mighty Morphin Power Rangers: The Movie (1995)',\n",
       " \"Action|Children's\\n\",\n",
       " '182',\n",
       " 'Moonlight and Valentino (1995)',\n",
       " 'Drama|Romance\\n',\n",
       " '183',\n",
       " 'Mute Witness (1994)',\n",
       " 'Thriller\\n',\n",
       " '184',\n",
       " 'Nadja (1994)',\n",
       " 'Drama\\n',\n",
       " '185',\n",
       " 'Net, The (1995)',\n",
       " 'Sci-Fi|Thriller\\n',\n",
       " '186',\n",
       " 'Nine Months (1995)',\n",
       " 'Comedy\\n',\n",
       " '187',\n",
       " 'Party Girl (1995)',\n",
       " 'Comedy\\n',\n",
       " '188',\n",
       " 'Prophecy, The (1995)',\n",
       " 'Horror\\n',\n",
       " '189',\n",
       " 'Reckless (1995)',\n",
       " 'Comedy\\n',\n",
       " '190',\n",
       " 'Safe (1995)',\n",
       " 'Thriller\\n',\n",
       " '191',\n",
       " 'Scarlet Letter, The (1995)',\n",
       " 'Drama\\n',\n",
       " '192',\n",
       " 'Show, The (1995)',\n",
       " 'Documentary\\n',\n",
       " '193',\n",
       " 'Showgirls (1995)',\n",
       " 'Drama\\n',\n",
       " '194',\n",
       " 'Smoke (1995)',\n",
       " 'Drama\\n',\n",
       " '195',\n",
       " 'Something to Talk About (1995)',\n",
       " 'Comedy|Drama|Romance\\n',\n",
       " '196',\n",
       " 'Species (1995)',\n",
       " 'Horror|Sci-Fi\\n',\n",
       " '197',\n",
       " 'Stars Fell on Henrietta, The (1995)',\n",
       " 'Drama\\n',\n",
       " '198',\n",
       " 'Strange Days (1995)',\n",
       " 'Action|Crime|Sci-Fi\\n',\n",
       " '199',\n",
       " 'Umbrellas of Cherbourg, The (Parapluies de Cherbourg, Les) (1964)',\n",
       " 'Drama|Musical\\n',\n",
       " '200',\n",
       " 'Tie That Binds, The (1995)',\n",
       " 'Thriller\\n',\n",
       " '201',\n",
       " 'Three Wishes (1995)',\n",
       " 'Drama\\n',\n",
       " '202',\n",
       " 'Total Eclipse (1995)',\n",
       " 'Drama|Romance\\n',\n",
       " '203',\n",
       " 'To Wong Foo, Thanks for Everything! Julie Newmar (1995)',\n",
       " 'Comedy\\n',\n",
       " '204',\n",
       " 'Under Siege 2: Dark Territory (1995)',\n",
       " 'Action\\n',\n",
       " '205',\n",
       " 'Unstrung Heroes (1995)',\n",
       " 'Comedy|Drama\\n',\n",
       " '206',\n",
       " 'Unzipped (1995)',\n",
       " 'Documentary\\n',\n",
       " '207',\n",
       " 'Walk in the Clouds, A (1995)',\n",
       " 'Drama|Romance\\n',\n",
       " '208',\n",
       " 'Waterworld (1995)',\n",
       " 'Action|Adventure\\n',\n",
       " '209',\n",
       " \"White Man's Burden (1995)\",\n",
       " 'Drama\\n',\n",
       " '210',\n",
       " 'Wild Bill (1995)',\n",
       " 'Western\\n',\n",
       " '211',\n",
       " 'Browning Version, The (1994)',\n",
       " 'Drama\\n',\n",
       " '212',\n",
       " 'Bushwhacked (1995)',\n",
       " 'Comedy\\n',\n",
       " '213',\n",
       " 'Burnt By the Sun (Utomlyonnye solntsem) (1994)',\n",
       " 'Drama\\n',\n",
       " '214',\n",
       " 'Before the Rain (Pred dozhdot) (1994)',\n",
       " 'Drama\\n',\n",
       " '215',\n",
       " 'Before Sunrise (1995)',\n",
       " 'Drama|Romance\\n',\n",
       " '216',\n",
       " 'Billy Madison (1995)',\n",
       " 'Comedy\\n',\n",
       " '217',\n",
       " 'Babysitter, The (1995)',\n",
       " 'Drama|Thriller\\n',\n",
       " '218',\n",
       " 'Boys on the Side (1995)',\n",
       " 'Comedy|Drama\\n',\n",
       " '219',\n",
       " 'Cure, The (1995)',\n",
       " 'Drama\\n',\n",
       " '220',\n",
       " 'Castle Freak (1995)',\n",
       " 'Horror\\n',\n",
       " '222',\n",
       " 'Circle of Friends (1995)',\n",
       " 'Drama|Romance\\n',\n",
       " '223',\n",
       " 'Clerks (1994)',\n",
       " 'Comedy\\n',\n",
       " '224',\n",
       " 'Don Juan DeMarco (1995)',\n",
       " 'Comedy|Drama|Romance\\n',\n",
       " '225',\n",
       " 'Disclosure (1994)',\n",
       " 'Drama|Thriller\\n',\n",
       " '226',\n",
       " 'Dream Man (1995)',\n",
       " 'Thriller\\n',\n",
       " '227',\n",
       " 'Drop Zone (1994)',\n",
       " 'Action\\n',\n",
       " '228',\n",
       " 'Destiny Turns on the Radio (1995)',\n",
       " 'Comedy\\n',\n",
       " '229',\n",
       " 'Death and the Maiden (1994)',\n",
       " 'Drama|Thriller\\n',\n",
       " '230',\n",
       " 'Dolores Claiborne (1994)',\n",
       " 'Drama|Thriller\\n',\n",
       " '231',\n",
       " 'Dumb & Dumber (1994)',\n",
       " 'Comedy\\n',\n",
       " '232',\n",
       " 'Eat Drink Man Woman (1994)',\n",
       " 'Comedy|Drama\\n',\n",
       " '233',\n",
       " 'Exotica (1994)',\n",
       " 'Drama\\n',\n",
       " '234',\n",
       " 'Exit to Eden (1994)',\n",
       " 'Comedy\\n',\n",
       " '235',\n",
       " 'Ed Wood (1994)',\n",
       " 'Comedy|Drama\\n',\n",
       " '236',\n",
       " 'French Kiss (1995)',\n",
       " 'Comedy|Romance\\n',\n",
       " '237',\n",
       " 'Forget Paris (1995)',\n",
       " 'Comedy|Romance\\n',\n",
       " '238',\n",
       " 'Far From Home: The Adventures of Yellow Dog (1995)',\n",
       " \"Adventure|Children's\\n\",\n",
       " '239',\n",
       " 'Goofy Movie, A (1995)',\n",
       " \"Animation|Children's|Comedy|Romance\\n\",\n",
       " '240',\n",
       " 'Hideaway (1995)',\n",
       " 'Thriller\\n',\n",
       " '241',\n",
       " 'Fluke (1995)',\n",
       " \"Children's|Drama\\n\",\n",
       " '242',\n",
       " 'Farinelli: il castrato (1994)',\n",
       " 'Drama|Musical\\n',\n",
       " '243',\n",
       " 'Gordy (1995)',\n",
       " 'Comedy\\n',\n",
       " '244',\n",
       " 'Gumby: The Movie (1995)',\n",
       " \"Animation|Children's\\n\",\n",
       " '245',\n",
       " 'Glass Shield, The (1994)',\n",
       " 'Crime|Drama\\n',\n",
       " '246',\n",
       " 'Hoop Dreams (1994)',\n",
       " 'Documentary\\n',\n",
       " '247',\n",
       " 'Heavenly Creatures (1994)',\n",
       " 'Drama|Fantasy|Romance|Thriller\\n',\n",
       " '248',\n",
       " 'Houseguest (1994)',\n",
       " 'Comedy\\n',\n",
       " '249',\n",
       " 'Immortal Beloved (1994)',\n",
       " 'Drama|Romance\\n',\n",
       " '250',\n",
       " 'Heavyweights (1994)',\n",
       " \"Children's|Comedy\\n\",\n",
       " '251',\n",
       " 'Hunted, The (1995)',\n",
       " 'Action\\n',\n",
       " '252',\n",
       " 'I.Q. (1994)',\n",
       " 'Comedy|Romance\\n',\n",
       " '253',\n",
       " 'Interview with the Vampire (1994)',\n",
       " 'Drama|Horror\\n',\n",
       " '254',\n",
       " 'Jefferson in Paris (1995)',\n",
       " 'Drama\\n',\n",
       " '255',\n",
       " 'Jerky Boys, The (1994)',\n",
       " 'Comedy\\n',\n",
       " '256',\n",
       " 'Junior (1994)',\n",
       " 'Comedy|Sci-Fi\\n',\n",
       " '257',\n",
       " 'Just Cause (1995)',\n",
       " 'Mystery|Thriller\\n',\n",
       " '258',\n",
       " \"Kid in King Arthur's Court, A (1995)\",\n",
       " \"Adventure|Children's|Comedy|Fantasy|Romance\\n\",\n",
       " '259',\n",
       " 'Kiss of Death (1995)',\n",
       " 'Crime|Drama|Thriller\\n',\n",
       " '260',\n",
       " 'Star Wars: Episode IV - A New Hope (1977)',\n",
       " 'Action|Adventure|Fantasy|Sci-Fi\\n',\n",
       " '261',\n",
       " 'Little Women (1994)',\n",
       " 'Drama\\n',\n",
       " '262',\n",
       " 'Little Princess, A (1995)',\n",
       " \"Children's|Drama\\n\",\n",
       " '263',\n",
       " 'Ladybird Ladybird (1994)',\n",
       " 'Drama\\n',\n",
       " '264',\n",
       " \"Enfer, L' (1994)\",\n",
       " 'Drama\\n',\n",
       " '265',\n",
       " 'Like Water for Chocolate (Como agua para chocolate) (1992)',\n",
       " 'Drama|Romance\\n',\n",
       " '266',\n",
       " 'Legends of the Fall (1994)',\n",
       " 'Drama|Romance|War|Western\\n',\n",
       " '267',\n",
       " 'Major Payne (1994)',\n",
       " 'Comedy\\n',\n",
       " '268',\n",
       " 'Little Odessa (1994)',\n",
       " 'Drama\\n',\n",
       " '269',\n",
       " 'My Crazy Life (Mi vida loca) (1993)',\n",
       " 'Drama\\n',\n",
       " '270',\n",
       " 'Love Affair (1994)',\n",
       " 'Drama|Romance\\n',\n",
       " '271',\n",
       " 'Losing Isaiah (1995)',\n",
       " 'Drama\\n',\n",
       " '272',\n",
       " 'Madness of King George, The (1994)',\n",
       " 'Drama\\n',\n",
       " '273',\n",
       " \"Mary Shelley's Frankenstein (1994)\",\n",
       " 'Drama|Horror\\n',\n",
       " '274',\n",
       " 'Man of the House (1995)',\n",
       " 'Comedy\\n',\n",
       " '275',\n",
       " 'Mixed Nuts (1994)',\n",
       " 'Comedy\\n',\n",
       " '276',\n",
       " 'Milk Money (1994)',\n",
       " 'Comedy|Romance\\n',\n",
       " '277',\n",
       " 'Miracle on 34th Street (1994)',\n",
       " 'Drama\\n',\n",
       " '278',\n",
       " 'Miami Rhapsody (1995)',\n",
       " 'Comedy\\n',\n",
       " '279',\n",
       " 'My Family (1995)',\n",
       " 'Drama\\n',\n",
       " '280',\n",
       " 'Murder in the First (1995)',\n",
       " 'Drama|Thriller\\n',\n",
       " '281',\n",
       " \"Nobody's Fool (1994)\",\n",
       " 'Drama\\n',\n",
       " '282',\n",
       " 'Nell (1994)',\n",
       " 'Drama\\n',\n",
       " '283',\n",
       " 'New Jersey Drive (1995)',\n",
       " 'Crime|Drama\\n',\n",
       " '284',\n",
       " 'New York Cop (1996)',\n",
       " 'Action|Crime\\n',\n",
       " '285',\n",
       " 'Beyond Bedlam (1993)',\n",
       " 'Drama|Horror\\n',\n",
       " '286',\n",
       " 'Nemesis 2: Nebula (1995)',\n",
       " 'Action|Sci-Fi|Thriller\\n',\n",
       " '287',\n",
       " 'Nina Takes a Lover (1994)',\n",
       " 'Comedy|Romance\\n',\n",
       " '288',\n",
       " 'Natural Born Killers (1994)',\n",
       " 'Action|Thriller\\n',\n",
       " '289',\n",
       " 'Only You (1994)',\n",
       " 'Comedy|Romance\\n',\n",
       " '290',\n",
       " 'Once Were Warriors (1994)',\n",
       " 'Crime|Drama\\n',\n",
       " '291',\n",
       " 'Poison Ivy II (1995)',\n",
       " 'Thriller\\n',\n",
       " '292',\n",
       " 'Outbreak (1995)',\n",
       " 'Action|Drama|Thriller\\n',\n",
       " '293',\n",
       " 'Professional, The (a.k.a. Leon: The Professional) (1994)',\n",
       " 'Crime|Drama|Romance|Thriller\\n',\n",
       " '294',\n",
       " 'Perez Family, The (1995)',\n",
       " 'Comedy|Romance\\n',\n",
       " '295',\n",
       " \"Pyromaniac's Love Story, A (1995)\",\n",
       " 'Comedy|Romance\\n',\n",
       " '296',\n",
       " 'Pulp Fiction (1994)',\n",
       " 'Crime|Drama\\n',\n",
       " '297',\n",
       " 'Panther (1995)',\n",
       " 'Drama\\n',\n",
       " '298',\n",
       " 'Pushing Hands (1992)',\n",
       " 'Comedy\\n',\n",
       " '299',\n",
       " 'Priest (1994)',\n",
       " 'Drama\\n',\n",
       " '300',\n",
       " 'Quiz Show (1994)',\n",
       " 'Drama\\n',\n",
       " '301',\n",
       " 'Picture Bride (1995)',\n",
       " 'Drama|Romance\\n',\n",
       " '302',\n",
       " 'Queen Margot (La Reine Margot) (1994)',\n",
       " 'Drama|Romance\\n',\n",
       " '303',\n",
       " 'Quick and the Dead, The (1995)',\n",
       " 'Action|Adventure|Western\\n',\n",
       " '304',\n",
       " 'Roommates (1995)',\n",
       " 'Comedy|Drama\\n',\n",
       " '305',\n",
       " 'Ready to Wear (Pret-A-Porter) (1994)',\n",
       " 'Comedy\\n',\n",
       " '306',\n",
       " 'Three Colors: Red (1994)',\n",
       " 'Drama\\n',\n",
       " '307',\n",
       " 'Three Colors: Blue (1993)',\n",
       " 'Drama\\n',\n",
       " '308',\n",
       " 'Three Colors: White (1994)',\n",
       " 'Drama\\n',\n",
       " '309',\n",
       " 'Red Firecracker, Green Firecracker (1994)',\n",
       " 'Drama\\n',\n",
       " '310',\n",
       " 'Rent-a-Kid (1995)',\n",
       " 'Comedy\\n',\n",
       " '311',\n",
       " 'Relative Fear (1994)',\n",
       " 'Horror|Thriller\\n',\n",
       " '312',\n",
       " 'Stuart Saves His Family (1995)',\n",
       " 'Comedy\\n',\n",
       " '313',\n",
       " 'Swan Princess, The (1994)',\n",
       " \"Animation|Children's\\n\",\n",
       " '314',\n",
       " 'Secret of Roan Inish, The (1994)',\n",
       " 'Drama\\n',\n",
       " '315',\n",
       " 'Specialist, The (1994)',\n",
       " 'Action\\n',\n",
       " '316',\n",
       " 'Stargate (1994)',\n",
       " 'Action|Adventure|Sci-Fi\\n',\n",
       " '317',\n",
       " 'Santa Clause, The (1994)',\n",
       " \"Children's|Comedy|Fantasy\\n\",\n",
       " '318',\n",
       " 'Shawshank Redemption, The (1994)',\n",
       " 'Drama\\n',\n",
       " '319',\n",
       " 'Shallow Grave (1994)',\n",
       " 'Thriller\\n',\n",
       " '320',\n",
       " 'Suture (1993)',\n",
       " 'Film-Noir|Thriller\\n',\n",
       " '321',\n",
       " 'Strawberry and Chocolate (Fresa y chocolate) (1993)',\n",
       " 'Drama\\n',\n",
       " '322',\n",
       " 'Swimming with Sharks (1995)',\n",
       " 'Comedy|Drama\\n',\n",
       " '324',\n",
       " 'Sum of Us, The (1994)',\n",
       " 'Comedy\\n',\n",
       " '325',\n",
       " \"National Lampoon's Senior Trip (1995)\",\n",
       " 'Comedy\\n',\n",
       " '326',\n",
       " 'To Live (Huozhe) (1994)',\n",
       " 'Drama\\n',\n",
       " '327',\n",
       " 'Tank Girl (1995)',\n",
       " 'Action|Comedy|Musical|Sci-Fi\\n',\n",
       " '328',\n",
       " 'Tales From the Crypt Presents: Demon Knight (1995)',\n",
       " 'Horror\\n',\n",
       " '329',\n",
       " 'Star Trek: Generations (1994)',\n",
       " 'Action|Adventure|Sci-Fi\\n',\n",
       " '330',\n",
       " 'Tales from the Hood (1995)',\n",
       " 'Comedy|Horror\\n',\n",
       " '331',\n",
       " 'Tom & Viv (1994)',\n",
       " 'Drama\\n',\n",
       " '332',\n",
       " 'Village of the Damned (1995)',\n",
       " 'Horror|Sci-Fi\\n',\n",
       " '333',\n",
       " 'Tommy Boy (1995)',\n",
       " 'Comedy\\n',\n",
       " '334',\n",
       " 'Vanya on 42nd Street (1994)',\n",
       " 'Drama\\n',\n",
       " '335',\n",
       " 'Underneath, The (1995)',\n",
       " 'Mystery|Thriller\\n',\n",
       " '336',\n",
       " 'Walking Dead, The (1995)',\n",
       " 'Drama|War\\n',\n",
       " '337',\n",
       " ...]"
      ]
     },
     "execution_count": 119,
     "metadata": {},
     "output_type": "execute_result"
    }
   ],
   "source": [
    "[one_category\n",
    " for one_line in open('movies.dat')\n",
    " for one_category in one_line.split('::')]"
   ]
  },
  {
   "cell_type": "code",
   "execution_count": null,
   "id": "8f533375",
   "metadata": {},
   "outputs": [],
   "source": []
  }
 ],
 "metadata": {
  "kernelspec": {
   "display_name": "Python 3 (ipykernel)",
   "language": "python",
   "name": "python3"
  },
  "language_info": {
   "codemirror_mode": {
    "name": "ipython",
    "version": 3
   },
   "file_extension": ".py",
   "mimetype": "text/x-python",
   "name": "python",
   "nbconvert_exporter": "python",
   "pygments_lexer": "ipython3",
   "version": "3.10.4"
  }
 },
 "nbformat": 4,
 "nbformat_minor": 5
}
