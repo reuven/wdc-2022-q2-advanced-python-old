{
 "cells": [
  {
   "cell_type": "markdown",
   "id": "e54cc98e",
   "metadata": {},
   "source": [
    "# Agenda\n",
    "\n",
    "1. Comprehensions\n",
    "    - List comprehensions\n",
    "    - Set comprehensions\n",
    "    - Dict comprehensions\n",
    "    - Nested comprehensions\n",
    "2. Functions as arguments\n",
    "3. `lambda`\n",
    "4. Nested functions and the `operator` module"
   ]
  },
  {
   "cell_type": "markdown",
   "id": "2ae9f40c",
   "metadata": {},
   "source": [
    "# Parameter types\n",
    "\n",
    "1. Positional-only arguments, before a `/`\n",
    "2. Mandatory parameters (positional or keyword)\n",
    "3. Optional parameters, with defaults (positional or keyword)\n",
    "4. `*args`, a tuple with all leftover positional arguments (or `*` by itself)\n",
    "5. Mandatory keyword-only parameters\n",
    "6. Optional keyword-only parameters (with defaults)\n",
    "7. `**kwargs`, a dict with all leftover keyword arguments"
   ]
  },
  {
   "cell_type": "code",
   "execution_count": 3,
   "id": "e38424f9",
   "metadata": {},
   "outputs": [],
   "source": [
    "def myfunc(a, b, *, c, d=100):\n",
    "    return f'{a=}, {b=}, {c=}, {d=}'"
   ]
  },
  {
   "cell_type": "code",
   "execution_count": 4,
   "id": "95b31827",
   "metadata": {},
   "outputs": [
    {
     "ename": "TypeError",
     "evalue": "myfunc() takes 2 positional arguments but 4 were given",
     "output_type": "error",
     "traceback": [
      "\u001b[0;31m---------------------------------------------------------------------------\u001b[0m",
      "\u001b[0;31mTypeError\u001b[0m                                 Traceback (most recent call last)",
      "\u001b[0;32m/var/folders/rr/0mnyyv811fs5vyp22gf4fxk00000gn/T/ipykernel_88535/1047076926.py\u001b[0m in \u001b[0;36m<module>\u001b[0;34m\u001b[0m\n\u001b[0;32m----> 1\u001b[0;31m \u001b[0mmyfunc\u001b[0m\u001b[0;34m(\u001b[0m\u001b[0;36m10\u001b[0m\u001b[0;34m,\u001b[0m \u001b[0;36m20\u001b[0m\u001b[0;34m,\u001b[0m \u001b[0;36m30\u001b[0m\u001b[0;34m,\u001b[0m \u001b[0;36m40\u001b[0m\u001b[0;34m)\u001b[0m\u001b[0;34m\u001b[0m\u001b[0;34m\u001b[0m\u001b[0m\n\u001b[0m",
      "\u001b[0;31mTypeError\u001b[0m: myfunc() takes 2 positional arguments but 4 were given"
     ]
    }
   ],
   "source": [
    "# parameters: a    b   c    d\n",
    "# arguments: 10    20  \n",
    "\n",
    "myfunc(10, 20, 30, 40)  # 4 positional arguments "
   ]
  },
  {
   "cell_type": "code",
   "execution_count": 6,
   "id": "2d25210b",
   "metadata": {},
   "outputs": [
    {
     "data": {
      "text/plain": [
       "'a=10, b=20, c=30, d=40'"
      ]
     },
     "execution_count": 6,
     "metadata": {},
     "output_type": "execute_result"
    }
   ],
   "source": [
    "# parameters:   a   b   c   d \n",
    "# arguments:   10  20   30  40\n",
    "\n",
    "myfunc(10, 20, c=30, d=40)"
   ]
  },
  {
   "cell_type": "code",
   "execution_count": 7,
   "id": "b66993f4",
   "metadata": {},
   "outputs": [
    {
     "data": {
      "text/plain": [
       "'a=10, b=20, c=40, d=30'"
      ]
     },
     "execution_count": 7,
     "metadata": {},
     "output_type": "execute_result"
    }
   ],
   "source": [
    "myfunc(10, 20, d=30, c=40)"
   ]
  },
  {
   "cell_type": "code",
   "execution_count": 8,
   "id": "0e98a29a",
   "metadata": {},
   "outputs": [
    {
     "data": {
      "text/plain": [
       "'a=10, b=20, c=30, d=100'"
      ]
     },
     "execution_count": 8,
     "metadata": {},
     "output_type": "execute_result"
    }
   ],
   "source": [
    "myfunc(10, 20, c=30)"
   ]
  },
  {
   "cell_type": "code",
   "execution_count": 9,
   "id": "f6d750b1",
   "metadata": {},
   "outputs": [
    {
     "data": {
      "text/plain": [
       "'a=10, b=20, c=30, d=100'"
      ]
     },
     "execution_count": 9,
     "metadata": {},
     "output_type": "execute_result"
    }
   ],
   "source": [
    "myfunc(a=10, b=20, c=30)"
   ]
  },
  {
   "cell_type": "code",
   "execution_count": 10,
   "id": "448211e6",
   "metadata": {},
   "outputs": [],
   "source": [
    "# / slash\n",
    "# \\ backslash"
   ]
  },
  {
   "cell_type": "code",
   "execution_count": 11,
   "id": "c2b9dc81",
   "metadata": {},
   "outputs": [],
   "source": [
    "def myfunc(a, /, b, *, c):\n",
    "    return f'{a=}, {b=}, {c=}'"
   ]
  },
  {
   "cell_type": "code",
   "execution_count": 12,
   "id": "11a3c23f",
   "metadata": {},
   "outputs": [
    {
     "ename": "TypeError",
     "evalue": "myfunc() takes 2 positional arguments but 3 were given",
     "output_type": "error",
     "traceback": [
      "\u001b[0;31m---------------------------------------------------------------------------\u001b[0m",
      "\u001b[0;31mTypeError\u001b[0m                                 Traceback (most recent call last)",
      "\u001b[0;32m/var/folders/rr/0mnyyv811fs5vyp22gf4fxk00000gn/T/ipykernel_88535/885864022.py\u001b[0m in \u001b[0;36m<module>\u001b[0;34m\u001b[0m\n\u001b[0;32m----> 1\u001b[0;31m \u001b[0mmyfunc\u001b[0m\u001b[0;34m(\u001b[0m\u001b[0;36m10\u001b[0m\u001b[0;34m,\u001b[0m \u001b[0;36m20\u001b[0m\u001b[0;34m,\u001b[0m \u001b[0;36m30\u001b[0m\u001b[0;34m)\u001b[0m\u001b[0;34m\u001b[0m\u001b[0;34m\u001b[0m\u001b[0m\n\u001b[0m",
      "\u001b[0;31mTypeError\u001b[0m: myfunc() takes 2 positional arguments but 3 were given"
     ]
    }
   ],
   "source": [
    "myfunc(10, 20, 30)"
   ]
  },
  {
   "cell_type": "code",
   "execution_count": 13,
   "id": "664cec63",
   "metadata": {},
   "outputs": [
    {
     "ename": "TypeError",
     "evalue": "myfunc() got some positional-only arguments passed as keyword arguments: 'a'",
     "output_type": "error",
     "traceback": [
      "\u001b[0;31m---------------------------------------------------------------------------\u001b[0m",
      "\u001b[0;31mTypeError\u001b[0m                                 Traceback (most recent call last)",
      "\u001b[0;32m/var/folders/rr/0mnyyv811fs5vyp22gf4fxk00000gn/T/ipykernel_88535/2067321119.py\u001b[0m in \u001b[0;36m<module>\u001b[0;34m\u001b[0m\n\u001b[0;32m----> 1\u001b[0;31m \u001b[0mmyfunc\u001b[0m\u001b[0;34m(\u001b[0m\u001b[0ma\u001b[0m\u001b[0;34m=\u001b[0m\u001b[0;36m10\u001b[0m\u001b[0;34m,\u001b[0m \u001b[0mb\u001b[0m\u001b[0;34m=\u001b[0m\u001b[0;36m20\u001b[0m\u001b[0;34m,\u001b[0m \u001b[0mc\u001b[0m\u001b[0;34m=\u001b[0m\u001b[0;36m30\u001b[0m\u001b[0;34m)\u001b[0m\u001b[0;34m\u001b[0m\u001b[0;34m\u001b[0m\u001b[0m\n\u001b[0m",
      "\u001b[0;31mTypeError\u001b[0m: myfunc() got some positional-only arguments passed as keyword arguments: 'a'"
     ]
    }
   ],
   "source": [
    "myfunc(a=10, b=20, c=30)"
   ]
  },
  {
   "cell_type": "code",
   "execution_count": 15,
   "id": "397cbb13",
   "metadata": {},
   "outputs": [
    {
     "ename": "SyntaxError",
     "evalue": "invalid syntax (3892846933.py, line 1)",
     "output_type": "error",
     "traceback": [
      "\u001b[0;36m  File \u001b[0;32m\"/var/folders/rr/0mnyyv811fs5vyp22gf4fxk00000gn/T/ipykernel_88535/3892846933.py\"\u001b[0;36m, line \u001b[0;32m1\u001b[0m\n\u001b[0;31m    def myfunc(a, *, b, /, c):\u001b[0m\n\u001b[0m                        ^\u001b[0m\n\u001b[0;31mSyntaxError\u001b[0m\u001b[0;31m:\u001b[0m invalid syntax\n"
     ]
    }
   ],
   "source": [
    "def myfunc(a, *, b, /, c):\n",
    "    pass"
   ]
  },
  {
   "cell_type": "markdown",
   "id": "e299e93d",
   "metadata": {},
   "source": [
    "# Comprehensions\n",
    "\n"
   ]
  },
  {
   "cell_type": "code",
   "execution_count": 16,
   "id": "50d8c98c",
   "metadata": {},
   "outputs": [
    {
     "data": {
      "text/plain": [
       "[0, 1, 4, 9, 16, 25, 36, 49, 64, 81]"
      ]
     },
     "execution_count": 16,
     "metadata": {},
     "output_type": "execute_result"
    }
   ],
   "source": [
    "numbers = list(range(10))\n",
    "\n",
    "# we want a list of these numbers to the 2nd power (** 2)\n",
    "\n",
    "output = []\n",
    "\n",
    "for one_number in numbers:\n",
    "    output.append(one_number ** 2)\n",
    "    \n",
    "output"
   ]
  },
  {
   "cell_type": "code",
   "execution_count": 17,
   "id": "8a979ed9",
   "metadata": {},
   "outputs": [
    {
     "data": {
      "text/plain": [
       "[0, 1, 4, 9, 16, 25, 36, 49, 64, 81]"
      ]
     },
     "execution_count": 17,
     "metadata": {},
     "output_type": "execute_result"
    }
   ],
   "source": [
    "# list comprehension\n",
    "[one_number ** 2 \n",
    " for one_number in numbers]"
   ]
  },
  {
   "cell_type": "code",
   "execution_count": 18,
   "id": "4880b006",
   "metadata": {},
   "outputs": [
    {
     "name": "stdout",
     "output_type": "stream",
     "text": [
      "0\n",
      "1\n",
      "4\n",
      "9\n",
      "16\n",
      "25\n",
      "36\n",
      "49\n",
      "64\n",
      "81\n"
     ]
    },
    {
     "data": {
      "text/plain": [
       "[None, None, None, None, None, None, None, None, None, None]"
      ]
     },
     "execution_count": 18,
     "metadata": {},
     "output_type": "execute_result"
    }
   ],
   "source": [
    "[print(one_number**2)\n",
    " for one_number in numbers]"
   ]
  },
  {
   "cell_type": "code",
   "execution_count": 20,
   "id": "fc3ace63",
   "metadata": {},
   "outputs": [
    {
     "name": "stdout",
     "output_type": "stream",
     "text": [
      "\tNow calculating 0 * 2\n",
      "\tNow calculating 1 * 2\n",
      "\tNow calculating 2 * 2\n",
      "\tNow calculating 3 * 2\n",
      "\tNow calculating 4 * 2\n",
      "\tNow calculating 5 * 2\n",
      "\tNow calculating 6 * 2\n",
      "\tNow calculating 7 * 2\n",
      "\tNow calculating 8 * 2\n",
      "\tNow calculating 9 * 2\n"
     ]
    },
    {
     "data": {
      "text/plain": [
       "[0, 2, 4, 6, 8, 10, 12, 14, 16, 18]"
      ]
     },
     "execution_count": 20,
     "metadata": {},
     "output_type": "execute_result"
    }
   ],
   "source": [
    "def times_2(x):\n",
    "    print(f'\\tNow calculating {x} * 2')\n",
    "    return x * 2\n",
    "\n",
    "\n",
    "[times_2(one_number)         # SELECT\n",
    "for one_number in numbers]   # FROM "
   ]
  },
  {
   "cell_type": "code",
   "execution_count": 21,
   "id": "a7f8fc2e",
   "metadata": {},
   "outputs": [
    {
     "data": {
      "text/plain": [
       "['even', 'odd', 'even', 'odd', 'even', 'odd', 'even', 'odd', 'even', 'odd']"
      ]
     },
     "execution_count": 21,
     "metadata": {},
     "output_type": "execute_result"
    }
   ],
   "source": [
    "# don't use this!\n",
    "['odd' if one_number % 2 else 'even'\n",
    " for one_number in numbers    \n",
    "]"
   ]
  },
  {
   "cell_type": "markdown",
   "id": "34cf6a9c",
   "metadata": {},
   "source": [
    "# Exercises: Comprehensions\n",
    "\n",
    "1. Ask the user to enter a string with numbers, separated by spaces (`'10 20 30 40'`).  Add all of these numbers together.\n",
    "2. Ask the user to enter a sentence.  Calculate how many non-whitespace characters are in the sentence.\n",
    "3. Ask the user to enter a sentence.  Return a new string, based on the user's sentence, in which every word starts with a capital letter.  (The result should be the same as running `str.title`, but without actually running it.)"
   ]
  },
  {
   "cell_type": "code",
   "execution_count": 22,
   "id": "865ab7a9",
   "metadata": {},
   "outputs": [
    {
     "name": "stdout",
     "output_type": "stream",
     "text": [
      "Enter numbers: 10 20 30 40\n"
     ]
    }
   ],
   "source": [
    "s = input('Enter numbers: ')\n",
    "\n"
   ]
  },
  {
   "cell_type": "code",
   "execution_count": 27,
   "id": "276fd993",
   "metadata": {},
   "outputs": [
    {
     "data": {
      "text/plain": [
       "100"
      ]
     },
     "execution_count": 27,
     "metadata": {},
     "output_type": "execute_result"
    }
   ],
   "source": [
    "sum([int(one_number)\n",
    "     for one_number in s.split()])"
   ]
  },
  {
   "cell_type": "code",
   "execution_count": 28,
   "id": "815a301b",
   "metadata": {},
   "outputs": [
    {
     "name": "stdout",
     "output_type": "stream",
     "text": [
      "Enter a sentence: this is a test sentence\n"
     ]
    }
   ],
   "source": [
    "s = input('Enter a sentence: ').strip()"
   ]
  },
  {
   "cell_type": "code",
   "execution_count": 29,
   "id": "69d0d888",
   "metadata": {},
   "outputs": [
    {
     "data": {
      "text/plain": [
       "23"
      ]
     },
     "execution_count": 29,
     "metadata": {},
     "output_type": "execute_result"
    }
   ],
   "source": [
    "len(s)"
   ]
  },
  {
   "cell_type": "code",
   "execution_count": 30,
   "id": "07a9d389",
   "metadata": {},
   "outputs": [
    {
     "data": {
      "text/plain": [
       "19"
      ]
     },
     "execution_count": 30,
     "metadata": {},
     "output_type": "execute_result"
    }
   ],
   "source": [
    "len(s) - s.count(' ')"
   ]
  },
  {
   "cell_type": "code",
   "execution_count": 32,
   "id": "fcefb01a",
   "metadata": {},
   "outputs": [
    {
     "data": {
      "text/plain": [
       "19"
      ]
     },
     "execution_count": 32,
     "metadata": {},
     "output_type": "execute_result"
    }
   ],
   "source": [
    "sum([len(one_word)\n",
    " for one_word in s.split()])"
   ]
  },
  {
   "cell_type": "code",
   "execution_count": 33,
   "id": "bad3ae69",
   "metadata": {},
   "outputs": [
    {
     "data": {
      "text/plain": [
       "'this is a test sentence'"
      ]
     },
     "execution_count": 33,
     "metadata": {},
     "output_type": "execute_result"
    }
   ],
   "source": [
    "s"
   ]
  },
  {
   "cell_type": "code",
   "execution_count": 34,
   "id": "04bfd504",
   "metadata": {},
   "outputs": [
    {
     "data": {
      "text/plain": [
       "'This Is A Test Sentence'"
      ]
     },
     "execution_count": 34,
     "metadata": {},
     "output_type": "execute_result"
    }
   ],
   "source": [
    "s.title()"
   ]
  },
  {
   "cell_type": "code",
   "execution_count": 39,
   "id": "57696fb7",
   "metadata": {},
   "outputs": [
    {
     "data": {
      "text/plain": [
       "'This Is A Test Sentence'"
      ]
     },
     "execution_count": 39,
     "metadata": {},
     "output_type": "execute_result"
    }
   ],
   "source": [
    "' '.join([one_word.capitalize()\n",
    " for one_word in s.split()])"
   ]
  },
  {
   "cell_type": "code",
   "execution_count": 40,
   "id": "bd8406ac",
   "metadata": {},
   "outputs": [],
   "source": [
    "def sum_string_numbers(s):\n",
    "    return sum([int(one_number)\n",
    "                 for one_number in s.split()])"
   ]
  },
  {
   "cell_type": "code",
   "execution_count": 41,
   "id": "2ce3d4f8",
   "metadata": {},
   "outputs": [
    {
     "data": {
      "text/plain": [
       "60"
      ]
     },
     "execution_count": 41,
     "metadata": {},
     "output_type": "execute_result"
    }
   ],
   "source": [
    "sum_string_numbers('10 20 30')"
   ]
  },
  {
   "cell_type": "code",
   "execution_count": 42,
   "id": "3ac17927",
   "metadata": {},
   "outputs": [
    {
     "name": "stdout",
     "output_type": "stream",
     "text": [
      "  2           0 LOAD_GLOBAL              0 (sum)\n",
      "              2 LOAD_CONST               1 (<code object <listcomp> at 0x10f55bb50, file \"/var/folders/rr/0mnyyv811fs5vyp22gf4fxk00000gn/T/ipykernel_88535/998994435.py\", line 2>)\n",
      "              4 LOAD_CONST               2 ('sum_string_numbers.<locals>.<listcomp>')\n",
      "              6 MAKE_FUNCTION            0\n",
      "\n",
      "  3           8 LOAD_FAST                0 (s)\n",
      "             10 LOAD_METHOD              1 (split)\n",
      "             12 CALL_METHOD              0\n",
      "\n",
      "  2          14 GET_ITER\n",
      "             16 CALL_FUNCTION            1\n",
      "             18 CALL_FUNCTION            1\n",
      "             20 RETURN_VALUE\n",
      "\n",
      "Disassembly of <code object <listcomp> at 0x10f55bb50, file \"/var/folders/rr/0mnyyv811fs5vyp22gf4fxk00000gn/T/ipykernel_88535/998994435.py\", line 2>:\n",
      "  2           0 BUILD_LIST               0\n",
      "              2 LOAD_FAST                0 (.0)\n",
      "        >>    4 FOR_ITER                 6 (to 18)\n",
      "\n",
      "  3           6 STORE_FAST               1 (one_number)\n",
      "\n",
      "  2           8 LOAD_GLOBAL              0 (int)\n",
      "             10 LOAD_FAST                1 (one_number)\n",
      "             12 CALL_FUNCTION            1\n",
      "             14 LIST_APPEND              2\n",
      "             16 JUMP_ABSOLUTE            2 (to 4)\n",
      "        >>   18 RETURN_VALUE\n"
     ]
    }
   ],
   "source": [
    "import dis\n",
    "dis.dis(sum_string_numbers)"
   ]
  },
  {
   "cell_type": "code",
   "execution_count": null,
   "id": "cea29cd2",
   "metadata": {},
   "outputs": [],
   "source": [
    "[one_line\n",
    " for one_line in open('/etc/passwd')]"
   ]
  }
 ],
 "metadata": {
  "kernelspec": {
   "display_name": "Python 3 (ipykernel)",
   "language": "python",
   "name": "python3"
  },
  "language_info": {
   "codemirror_mode": {
    "name": "ipython",
    "version": 3
   },
   "file_extension": ".py",
   "mimetype": "text/x-python",
   "name": "python",
   "nbconvert_exporter": "python",
   "pygments_lexer": "ipython3",
   "version": "3.10.4"
  }
 },
 "nbformat": 4,
 "nbformat_minor": 5
}
